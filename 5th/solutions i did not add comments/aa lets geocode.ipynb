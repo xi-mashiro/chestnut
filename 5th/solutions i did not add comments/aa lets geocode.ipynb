{
 "cells": [
  {
   "cell_type": "code",
   "execution_count": 36,
   "metadata": {},
   "outputs": [],
   "source": [
    "import pandas as pd\n",
    "import numpy as np"
   ]
  },
  {
   "cell_type": "code",
   "execution_count": 37,
   "metadata": {},
   "outputs": [],
   "source": [
    "data = pd.read_csv('geocode.csv')"
   ]
  },
  {
   "cell_type": "code",
   "execution_count": 38,
   "metadata": {},
   "outputs": [
    {
     "data": {
      "text/html": [
       "<div>\n",
       "<style scoped>\n",
       "    .dataframe tbody tr th:only-of-type {\n",
       "        vertical-align: middle;\n",
       "    }\n",
       "\n",
       "    .dataframe tbody tr th {\n",
       "        vertical-align: top;\n",
       "    }\n",
       "\n",
       "    .dataframe thead th {\n",
       "        text-align: right;\n",
       "    }\n",
       "</style>\n",
       "<table border=\"1\" class=\"dataframe\">\n",
       "  <thead>\n",
       "    <tr style=\"text-align: right;\">\n",
       "      <th></th>\n",
       "      <th>Latitude</th>\n",
       "      <th>Longitude</th>\n",
       "      <th>address</th>\n",
       "    </tr>\n",
       "  </thead>\n",
       "  <tbody>\n",
       "    <tr>\n",
       "      <th>0</th>\n",
       "      <td>-4.460442</td>\n",
       "      <td>29.811396</td>\n",
       "      <td>Manyovu, Kasulu, Kigoma, Western Zone, Tanzania</td>\n",
       "    </tr>\n",
       "    <tr>\n",
       "      <th>1</th>\n",
       "      <td>-6.176438</td>\n",
       "      <td>39.244871</td>\n",
       "      <td>Mombasa, Zanzibar City, Unguja Mjini Magharibi...</td>\n",
       "    </tr>\n",
       "    <tr>\n",
       "      <th>2</th>\n",
       "      <td>-6.825702</td>\n",
       "      <td>37.652798</td>\n",
       "      <td>Forest Hill, Morogoro, Coastal Zone, 6284, Tan...</td>\n",
       "    </tr>\n",
       "    <tr>\n",
       "      <th>3</th>\n",
       "      <td>-3.372049</td>\n",
       "      <td>35.808307</td>\n",
       "      <td>Mto wa Mbu, Karatu, Arusha, Northern Zone, Tan...</td>\n",
       "    </tr>\n",
       "    <tr>\n",
       "      <th>4</th>\n",
       "      <td>-7.179645</td>\n",
       "      <td>31.039095</td>\n",
       "      <td>R549, Kizi, Nkasi, Katavi, Western Zone, Tanzania</td>\n",
       "    </tr>\n",
       "  </tbody>\n",
       "</table>\n",
       "</div>"
      ],
      "text/plain": [
       "   Latitude  Longitude                                            address\n",
       "0 -4.460442  29.811396    Manyovu, Kasulu, Kigoma, Western Zone, Tanzania\n",
       "1 -6.176438  39.244871  Mombasa, Zanzibar City, Unguja Mjini Magharibi...\n",
       "2 -6.825702  37.652798  Forest Hill, Morogoro, Coastal Zone, 6284, Tan...\n",
       "3 -3.372049  35.808307  Mto wa Mbu, Karatu, Arusha, Northern Zone, Tan...\n",
       "4 -7.179645  31.039095  R549, Kizi, Nkasi, Katavi, Western Zone, Tanzania"
      ]
     },
     "execution_count": 38,
     "metadata": {},
     "output_type": "execute_result"
    }
   ],
   "source": [
    "data.head()"
   ]
  },
  {
   "cell_type": "code",
   "execution_count": 39,
   "metadata": {},
   "outputs": [
    {
     "data": {
      "text/plain": [
       "Latitude     float64\n",
       "Longitude    float64\n",
       "address       object\n",
       "dtype: object"
      ]
     },
     "execution_count": 39,
     "metadata": {},
     "output_type": "execute_result"
    }
   ],
   "source": [
    "data.dtypes"
   ]
  },
  {
   "cell_type": "code",
   "execution_count": 40,
   "metadata": {},
   "outputs": [],
   "source": [
    "data['hehe'] = data.address.astype('str')"
   ]
  },
  {
   "cell_type": "code",
   "execution_count": 41,
   "metadata": {},
   "outputs": [
    {
     "data": {
      "text/plain": [
       "Latitude     float64\n",
       "Longitude    float64\n",
       "address       object\n",
       "hehe          object\n",
       "dtype: object"
      ]
     },
     "execution_count": 41,
     "metadata": {},
     "output_type": "execute_result"
    }
   ],
   "source": [
    "data.dtypes"
   ]
  },
  {
   "cell_type": "code",
   "execution_count": 42,
   "metadata": {},
   "outputs": [
    {
     "data": {
      "text/html": [
       "<div>\n",
       "<style scoped>\n",
       "    .dataframe tbody tr th:only-of-type {\n",
       "        vertical-align: middle;\n",
       "    }\n",
       "\n",
       "    .dataframe tbody tr th {\n",
       "        vertical-align: top;\n",
       "    }\n",
       "\n",
       "    .dataframe thead th {\n",
       "        text-align: right;\n",
       "    }\n",
       "</style>\n",
       "<table border=\"1\" class=\"dataframe\">\n",
       "  <thead>\n",
       "    <tr style=\"text-align: right;\">\n",
       "      <th></th>\n",
       "      <th>Latitude</th>\n",
       "      <th>Longitude</th>\n",
       "      <th>address</th>\n",
       "      <th>hehe</th>\n",
       "    </tr>\n",
       "  </thead>\n",
       "  <tbody>\n",
       "    <tr>\n",
       "      <th>0</th>\n",
       "      <td>-4.460442</td>\n",
       "      <td>29.811396</td>\n",
       "      <td>Manyovu, Kasulu, Kigoma, Western Zone, Tanzania</td>\n",
       "      <td>Manyovu, Kasulu, Kigoma, Western Zone, Tanzania</td>\n",
       "    </tr>\n",
       "    <tr>\n",
       "      <th>1</th>\n",
       "      <td>-6.176438</td>\n",
       "      <td>39.244871</td>\n",
       "      <td>Mombasa, Zanzibar City, Unguja Mjini Magharibi...</td>\n",
       "      <td>Mombasa, Zanzibar City, Unguja Mjini Magharibi...</td>\n",
       "    </tr>\n",
       "    <tr>\n",
       "      <th>2</th>\n",
       "      <td>-6.825702</td>\n",
       "      <td>37.652798</td>\n",
       "      <td>Forest Hill, Morogoro, Coastal Zone, 6284, Tan...</td>\n",
       "      <td>Forest Hill, Morogoro, Coastal Zone, 6284, Tan...</td>\n",
       "    </tr>\n",
       "    <tr>\n",
       "      <th>3</th>\n",
       "      <td>-3.372049</td>\n",
       "      <td>35.808307</td>\n",
       "      <td>Mto wa Mbu, Karatu, Arusha, Northern Zone, Tan...</td>\n",
       "      <td>Mto wa Mbu, Karatu, Arusha, Northern Zone, Tan...</td>\n",
       "    </tr>\n",
       "    <tr>\n",
       "      <th>4</th>\n",
       "      <td>-7.179645</td>\n",
       "      <td>31.039095</td>\n",
       "      <td>R549, Kizi, Nkasi, Katavi, Western Zone, Tanzania</td>\n",
       "      <td>R549, Kizi, Nkasi, Katavi, Western Zone, Tanzania</td>\n",
       "    </tr>\n",
       "  </tbody>\n",
       "</table>\n",
       "</div>"
      ],
      "text/plain": [
       "   Latitude  Longitude                                            address  \\\n",
       "0 -4.460442  29.811396    Manyovu, Kasulu, Kigoma, Western Zone, Tanzania   \n",
       "1 -6.176438  39.244871  Mombasa, Zanzibar City, Unguja Mjini Magharibi...   \n",
       "2 -6.825702  37.652798  Forest Hill, Morogoro, Coastal Zone, 6284, Tan...   \n",
       "3 -3.372049  35.808307  Mto wa Mbu, Karatu, Arusha, Northern Zone, Tan...   \n",
       "4 -7.179645  31.039095  R549, Kizi, Nkasi, Katavi, Western Zone, Tanzania   \n",
       "\n",
       "                                                hehe  \n",
       "0    Manyovu, Kasulu, Kigoma, Western Zone, Tanzania  \n",
       "1  Mombasa, Zanzibar City, Unguja Mjini Magharibi...  \n",
       "2  Forest Hill, Morogoro, Coastal Zone, 6284, Tan...  \n",
       "3  Mto wa Mbu, Karatu, Arusha, Northern Zone, Tan...  \n",
       "4  R549, Kizi, Nkasi, Katavi, Western Zone, Tanzania  "
      ]
     },
     "execution_count": 42,
     "metadata": {},
     "output_type": "execute_result"
    }
   ],
   "source": [
    "data.head()"
   ]
  },
  {
   "cell_type": "code",
   "execution_count": null,
   "metadata": {},
   "outputs": [],
   "source": [
    "# # Cabin\n",
    "# data['Cabin_numerical'] = data.Cabin.str.extract('(\\d+)') # extracts number from string\n",
    "# data['Cabin_numerical'] = data['Cabin_numerical'].astype('float') # parses the above variable to float type\n",
    "\n",
    "# #data['Cabin_categorical'] = data['Cabin'].str[0] "
   ]
  },
  {
   "cell_type": "code",
   "execution_count": 48,
   "metadata": {},
   "outputs": [],
   "source": [
    "#data['address'].str[0] "
   ]
  },
  {
   "cell_type": "code",
   "execution_count": 49,
   "metadata": {},
   "outputs": [],
   "source": [
    "data['streetnumber'] = data.address.str.extract('(\\d+)')"
   ]
  },
  {
   "cell_type": "code",
   "execution_count": 50,
   "metadata": {},
   "outputs": [],
   "source": [
    "data.to_csv('streetno.csv',index = False)"
   ]
  },
  {
   "cell_type": "code",
   "execution_count": 33,
   "metadata": {},
   "outputs": [],
   "source": [
    "data['lengthOfData'] = data['address'].astype('str').apply(lambda x: len(x.split(',')))"
   ]
  },
  {
   "cell_type": "code",
   "execution_count": 35,
   "metadata": {},
   "outputs": [],
   "source": [
    "data.to_csv('lenofData.csv',index = False)"
   ]
  },
  {
   "cell_type": "code",
   "execution_count": null,
   "metadata": {},
   "outputs": [],
   "source": []
  },
  {
   "cell_type": "code",
   "execution_count": 34,
   "metadata": {},
   "outputs": [
    {
     "data": {
      "text/plain": [
       "array([ 5,  6,  4,  7,  8,  3,  9, 10,  2], dtype=int64)"
      ]
     },
     "execution_count": 34,
     "metadata": {},
     "output_type": "execute_result"
    }
   ],
   "source": [
    "data.lengthOfData.unique()"
   ]
  },
  {
   "cell_type": "code",
   "execution_count": null,
   "metadata": {},
   "outputs": [],
   "source": []
  },
  {
   "cell_type": "code",
   "execution_count": null,
   "metadata": {},
   "outputs": [],
   "source": []
  },
  {
   "cell_type": "code",
   "execution_count": 41,
   "metadata": {},
   "outputs": [],
   "source": [
    "data['splittedbyZone'] = data['address'].astype('str').apply(lambda x: x.split('Zone')[0])"
   ]
  },
  {
   "cell_type": "code",
   "execution_count": 42,
   "metadata": {},
   "outputs": [
    {
     "data": {
      "text/html": [
       "<div>\n",
       "<style scoped>\n",
       "    .dataframe tbody tr th:only-of-type {\n",
       "        vertical-align: middle;\n",
       "    }\n",
       "\n",
       "    .dataframe tbody tr th {\n",
       "        vertical-align: top;\n",
       "    }\n",
       "\n",
       "    .dataframe thead th {\n",
       "        text-align: right;\n",
       "    }\n",
       "</style>\n",
       "<table border=\"1\" class=\"dataframe\">\n",
       "  <thead>\n",
       "    <tr style=\"text-align: right;\">\n",
       "      <th></th>\n",
       "      <th>Latitude</th>\n",
       "      <th>Longitude</th>\n",
       "      <th>address</th>\n",
       "      <th>hehe</th>\n",
       "      <th>splittedbyZone</th>\n",
       "    </tr>\n",
       "  </thead>\n",
       "  <tbody>\n",
       "    <tr>\n",
       "      <th>0</th>\n",
       "      <td>-4.460442</td>\n",
       "      <td>29.811396</td>\n",
       "      <td>Manyovu, Kasulu, Kigoma, Western Zone, Tanzania</td>\n",
       "      <td>Manyovu, Kasulu, Kigoma, Western Zone, Tanzania</td>\n",
       "      <td>Manyovu, Kasulu, Kigoma, Western</td>\n",
       "    </tr>\n",
       "    <tr>\n",
       "      <th>1</th>\n",
       "      <td>-6.176438</td>\n",
       "      <td>39.244871</td>\n",
       "      <td>Mombasa, Zanzibar City, Unguja Mjini Magharibi...</td>\n",
       "      <td>Mombasa, Zanzibar City, Unguja Mjini Magharibi...</td>\n",
       "      <td>Mombasa, Zanzibar City, Unguja Mjini Magharibi...</td>\n",
       "    </tr>\n",
       "    <tr>\n",
       "      <th>2</th>\n",
       "      <td>-6.825702</td>\n",
       "      <td>37.652798</td>\n",
       "      <td>Forest Hill, Morogoro, Coastal Zone, 6284, Tan...</td>\n",
       "      <td>Forest Hill, Morogoro, Coastal Zone, 6284, Tan...</td>\n",
       "      <td>Forest Hill, Morogoro, Coastal</td>\n",
       "    </tr>\n",
       "    <tr>\n",
       "      <th>3</th>\n",
       "      <td>-3.372049</td>\n",
       "      <td>35.808307</td>\n",
       "      <td>Mto wa Mbu, Karatu, Arusha, Northern Zone, Tan...</td>\n",
       "      <td>Mto wa Mbu, Karatu, Arusha, Northern Zone, Tan...</td>\n",
       "      <td>Mto wa Mbu, Karatu, Arusha, Northern</td>\n",
       "    </tr>\n",
       "    <tr>\n",
       "      <th>4</th>\n",
       "      <td>-7.179645</td>\n",
       "      <td>31.039095</td>\n",
       "      <td>R549, Kizi, Nkasi, Katavi, Western Zone, Tanzania</td>\n",
       "      <td>R549, Kizi, Nkasi, Katavi, Western Zone, Tanzania</td>\n",
       "      <td>R549, Kizi, Nkasi, Katavi, Western</td>\n",
       "    </tr>\n",
       "  </tbody>\n",
       "</table>\n",
       "</div>"
      ],
      "text/plain": [
       "   Latitude  Longitude                                            address  \\\n",
       "0 -4.460442  29.811396    Manyovu, Kasulu, Kigoma, Western Zone, Tanzania   \n",
       "1 -6.176438  39.244871  Mombasa, Zanzibar City, Unguja Mjini Magharibi...   \n",
       "2 -6.825702  37.652798  Forest Hill, Morogoro, Coastal Zone, 6284, Tan...   \n",
       "3 -3.372049  35.808307  Mto wa Mbu, Karatu, Arusha, Northern Zone, Tan...   \n",
       "4 -7.179645  31.039095  R549, Kizi, Nkasi, Katavi, Western Zone, Tanzania   \n",
       "\n",
       "                                                hehe  \\\n",
       "0    Manyovu, Kasulu, Kigoma, Western Zone, Tanzania   \n",
       "1  Mombasa, Zanzibar City, Unguja Mjini Magharibi...   \n",
       "2  Forest Hill, Morogoro, Coastal Zone, 6284, Tan...   \n",
       "3  Mto wa Mbu, Karatu, Arusha, Northern Zone, Tan...   \n",
       "4  R549, Kizi, Nkasi, Katavi, Western Zone, Tanzania   \n",
       "\n",
       "                                      splittedbyZone  \n",
       "0                  Manyovu, Kasulu, Kigoma, Western   \n",
       "1  Mombasa, Zanzibar City, Unguja Mjini Magharibi...  \n",
       "2                    Forest Hill, Morogoro, Coastal   \n",
       "3              Mto wa Mbu, Karatu, Arusha, Northern   \n",
       "4                R549, Kizi, Nkasi, Katavi, Western   "
      ]
     },
     "execution_count": 42,
     "metadata": {},
     "output_type": "execute_result"
    }
   ],
   "source": [
    "data.head()"
   ]
  },
  {
   "cell_type": "code",
   "execution_count": 43,
   "metadata": {},
   "outputs": [],
   "source": [
    "data['real_zone'] = data['splittedbyZone'].astype('str').apply(lambda x: x.split(',')[-1])"
   ]
  },
  {
   "cell_type": "code",
   "execution_count": 45,
   "metadata": {},
   "outputs": [
    {
     "data": {
      "text/plain": [
       " Southern Highlands     2164\n",
       " Lake                   1998\n",
       " Coastal                1788\n",
       " Northern               1358\n",
       " Central                 992\n",
       " Tanzania                651\n",
       " Western                 500\n",
       " Kenya                     6\n",
       " Zambia                    1\n",
       " Malawi                    1\n",
       "Name: real_zone, dtype: int64"
      ]
     },
     "execution_count": 45,
     "metadata": {},
     "output_type": "execute_result"
    }
   ],
   "source": [
    "data.real_zone.value_counts()"
   ]
  },
  {
   "cell_type": "code",
   "execution_count": 46,
   "metadata": {},
   "outputs": [],
   "source": [
    "data.to_csv('real_zone.csv',index = False)"
   ]
  },
  {
   "cell_type": "code",
   "execution_count": 44,
   "metadata": {},
   "outputs": [
    {
     "data": {
      "text/html": [
       "<div>\n",
       "<style scoped>\n",
       "    .dataframe tbody tr th:only-of-type {\n",
       "        vertical-align: middle;\n",
       "    }\n",
       "\n",
       "    .dataframe tbody tr th {\n",
       "        vertical-align: top;\n",
       "    }\n",
       "\n",
       "    .dataframe thead th {\n",
       "        text-align: right;\n",
       "    }\n",
       "</style>\n",
       "<table border=\"1\" class=\"dataframe\">\n",
       "  <thead>\n",
       "    <tr style=\"text-align: right;\">\n",
       "      <th></th>\n",
       "      <th>Latitude</th>\n",
       "      <th>Longitude</th>\n",
       "      <th>address</th>\n",
       "      <th>hehe</th>\n",
       "      <th>splittedbyZone</th>\n",
       "      <th>real_zone</th>\n",
       "    </tr>\n",
       "  </thead>\n",
       "  <tbody>\n",
       "    <tr>\n",
       "      <th>0</th>\n",
       "      <td>-4.460442</td>\n",
       "      <td>29.811396</td>\n",
       "      <td>Manyovu, Kasulu, Kigoma, Western Zone, Tanzania</td>\n",
       "      <td>Manyovu, Kasulu, Kigoma, Western Zone, Tanzania</td>\n",
       "      <td>Manyovu, Kasulu, Kigoma, Western</td>\n",
       "      <td>Western</td>\n",
       "    </tr>\n",
       "    <tr>\n",
       "      <th>1</th>\n",
       "      <td>-6.176438</td>\n",
       "      <td>39.244871</td>\n",
       "      <td>Mombasa, Zanzibar City, Unguja Mjini Magharibi...</td>\n",
       "      <td>Mombasa, Zanzibar City, Unguja Mjini Magharibi...</td>\n",
       "      <td>Mombasa, Zanzibar City, Unguja Mjini Magharibi...</td>\n",
       "      <td>Tanzania</td>\n",
       "    </tr>\n",
       "    <tr>\n",
       "      <th>2</th>\n",
       "      <td>-6.825702</td>\n",
       "      <td>37.652798</td>\n",
       "      <td>Forest Hill, Morogoro, Coastal Zone, 6284, Tan...</td>\n",
       "      <td>Forest Hill, Morogoro, Coastal Zone, 6284, Tan...</td>\n",
       "      <td>Forest Hill, Morogoro, Coastal</td>\n",
       "      <td>Coastal</td>\n",
       "    </tr>\n",
       "    <tr>\n",
       "      <th>3</th>\n",
       "      <td>-3.372049</td>\n",
       "      <td>35.808307</td>\n",
       "      <td>Mto wa Mbu, Karatu, Arusha, Northern Zone, Tan...</td>\n",
       "      <td>Mto wa Mbu, Karatu, Arusha, Northern Zone, Tan...</td>\n",
       "      <td>Mto wa Mbu, Karatu, Arusha, Northern</td>\n",
       "      <td>Northern</td>\n",
       "    </tr>\n",
       "    <tr>\n",
       "      <th>4</th>\n",
       "      <td>-7.179645</td>\n",
       "      <td>31.039095</td>\n",
       "      <td>R549, Kizi, Nkasi, Katavi, Western Zone, Tanzania</td>\n",
       "      <td>R549, Kizi, Nkasi, Katavi, Western Zone, Tanzania</td>\n",
       "      <td>R549, Kizi, Nkasi, Katavi, Western</td>\n",
       "      <td>Western</td>\n",
       "    </tr>\n",
       "  </tbody>\n",
       "</table>\n",
       "</div>"
      ],
      "text/plain": [
       "   Latitude  Longitude                                            address  \\\n",
       "0 -4.460442  29.811396    Manyovu, Kasulu, Kigoma, Western Zone, Tanzania   \n",
       "1 -6.176438  39.244871  Mombasa, Zanzibar City, Unguja Mjini Magharibi...   \n",
       "2 -6.825702  37.652798  Forest Hill, Morogoro, Coastal Zone, 6284, Tan...   \n",
       "3 -3.372049  35.808307  Mto wa Mbu, Karatu, Arusha, Northern Zone, Tan...   \n",
       "4 -7.179645  31.039095  R549, Kizi, Nkasi, Katavi, Western Zone, Tanzania   \n",
       "\n",
       "                                                hehe  \\\n",
       "0    Manyovu, Kasulu, Kigoma, Western Zone, Tanzania   \n",
       "1  Mombasa, Zanzibar City, Unguja Mjini Magharibi...   \n",
       "2  Forest Hill, Morogoro, Coastal Zone, 6284, Tan...   \n",
       "3  Mto wa Mbu, Karatu, Arusha, Northern Zone, Tan...   \n",
       "4  R549, Kizi, Nkasi, Katavi, Western Zone, Tanzania   \n",
       "\n",
       "                                      splittedbyZone   real_zone  \n",
       "0                  Manyovu, Kasulu, Kigoma, Western     Western   \n",
       "1  Mombasa, Zanzibar City, Unguja Mjini Magharibi...    Tanzania  \n",
       "2                    Forest Hill, Morogoro, Coastal     Coastal   \n",
       "3              Mto wa Mbu, Karatu, Arusha, Northern    Northern   \n",
       "4                R549, Kizi, Nkasi, Katavi, Western     Western   "
      ]
     },
     "execution_count": 44,
     "metadata": {},
     "output_type": "execute_result"
    }
   ],
   "source": [
    "data.head()"
   ]
  },
  {
   "cell_type": "code",
   "execution_count": 30,
   "metadata": {},
   "outputs": [
    {
     "data": {
      "text/plain": [
       "0                   Western \n",
       "1                   Tanzania\n",
       "2                   Coastal \n",
       "3                  Northern \n",
       "4                   Western \n",
       "5                   Coastal \n",
       "6        Southern Highlands \n",
       "7        Southern Highlands \n",
       "8                      Lake \n",
       "9        Southern Highlands \n",
       "10                     Lake \n",
       "11       Southern Highlands \n",
       "12       Southern Highlands \n",
       "13       Southern Highlands \n",
       "14                  Tanzania\n",
       "15                     Lake \n",
       "16                  Coastal \n",
       "17                 Northern \n",
       "18                     Lake \n",
       "19       Southern Highlands \n",
       "20                  Western \n",
       "21                     Lake \n",
       "22       Southern Highlands \n",
       "23       Southern Highlands \n",
       "24                 Northern \n",
       "25       Southern Highlands \n",
       "26                  Tanzania\n",
       "27                     Lake \n",
       "28                 Northern \n",
       "29                  Coastal \n",
       "                ...         \n",
       "9429                   Lake \n",
       "9430               Northern \n",
       "9431               Northern \n",
       "9432                Tanzania\n",
       "9433                Tanzania\n",
       "9434                Tanzania\n",
       "9435                Coastal \n",
       "9436                   Lake \n",
       "9437               Northern \n",
       "9438               Northern \n",
       "9439                Western \n",
       "9440                Tanzania\n",
       "9441                   Lake \n",
       "9442                Central \n",
       "9443                Central \n",
       "9444                   Lake \n",
       "9445                   Lake \n",
       "9446                   Lake \n",
       "9447                   Lake \n",
       "9448     Southern Highlands \n",
       "9449     Southern Highlands \n",
       "9450                   Lake \n",
       "9451                   Lake \n",
       "9452     Southern Highlands \n",
       "9453                   Lake \n",
       "9454                   Lake \n",
       "9455                   Lake \n",
       "9456                   Lake \n",
       "9457                   Lake \n",
       "9458                   Lake \n",
       "Name: splittedbyZone, Length: 9459, dtype: object"
      ]
     },
     "execution_count": 30,
     "metadata": {},
     "output_type": "execute_result"
    }
   ],
   "source": []
  },
  {
   "cell_type": "code",
   "execution_count": null,
   "metadata": {},
   "outputs": [],
   "source": []
  },
  {
   "cell_type": "code",
   "execution_count": null,
   "metadata": {},
   "outputs": [],
   "source": []
  },
  {
   "cell_type": "code",
   "execution_count": null,
   "metadata": {},
   "outputs": [],
   "source": []
  },
  {
   "cell_type": "code",
   "execution_count": 12,
   "metadata": {},
   "outputs": [],
   "source": [
    "data['first'] = data['address'].astype('str').apply(lambda x: x.split(',')[0])"
   ]
  },
  {
   "cell_type": "code",
   "execution_count": 16,
   "metadata": {},
   "outputs": [],
   "source": [
    "data['second'] = data['address'].astype('str').apply(lambda x: x.split(',')[1])"
   ]
  },
  {
   "cell_type": "code",
   "execution_count": 21,
   "metadata": {},
   "outputs": [],
   "source": [
    "data['third'] = data['address'].astype('str').apply(lambda x: x.split(',')[-2])"
   ]
  },
  {
   "cell_type": "code",
   "execution_count": 22,
   "metadata": {},
   "outputs": [],
   "source": [
    "data.to_csv('without_sorting_geopy.csv',index = False)"
   ]
  },
  {
   "cell_type": "code",
   "execution_count": null,
   "metadata": {},
   "outputs": [],
   "source": []
  },
  {
   "cell_type": "code",
   "execution_count": null,
   "metadata": {},
   "outputs": [],
   "source": []
  },
  {
   "cell_type": "code",
   "execution_count": null,
   "metadata": {},
   "outputs": [],
   "source": []
  },
  {
   "cell_type": "code",
   "execution_count": 8,
   "metadata": {},
   "outputs": [],
   "source": [
    "data['zone'] = data['address'].astype('str').apply(lambda x: x.split(',')[-2])"
   ]
  },
  {
   "cell_type": "code",
   "execution_count": 9,
   "metadata": {},
   "outputs": [],
   "source": [
    "data['state'] = data['address'].astype('str').apply(lambda x: x.split(',')[-1])"
   ]
  },
  {
   "cell_type": "code",
   "execution_count": 10,
   "metadata": {},
   "outputs": [],
   "source": [
    "data['district'] = data['address'].astype('str').apply(lambda x: x.split(',')[1])"
   ]
  },
  {
   "cell_type": "code",
   "execution_count": 11,
   "metadata": {},
   "outputs": [
    {
     "data": {
      "text/html": [
       "<div>\n",
       "<style scoped>\n",
       "    .dataframe tbody tr th:only-of-type {\n",
       "        vertical-align: middle;\n",
       "    }\n",
       "\n",
       "    .dataframe tbody tr th {\n",
       "        vertical-align: top;\n",
       "    }\n",
       "\n",
       "    .dataframe thead th {\n",
       "        text-align: right;\n",
       "    }\n",
       "</style>\n",
       "<table border=\"1\" class=\"dataframe\">\n",
       "  <thead>\n",
       "    <tr style=\"text-align: right;\">\n",
       "      <th></th>\n",
       "      <th>Latitude</th>\n",
       "      <th>Longitude</th>\n",
       "      <th>address</th>\n",
       "      <th>hehe</th>\n",
       "      <th>zone</th>\n",
       "      <th>state</th>\n",
       "      <th>district</th>\n",
       "    </tr>\n",
       "  </thead>\n",
       "  <tbody>\n",
       "    <tr>\n",
       "      <th>0</th>\n",
       "      <td>-4.460442</td>\n",
       "      <td>29.811396</td>\n",
       "      <td>Manyovu, Kasulu, Kigoma, Western Zone, Tanzania</td>\n",
       "      <td>Manyovu, Kasulu, Kigoma, Western Zone, Tanzania</td>\n",
       "      <td>Western Zone</td>\n",
       "      <td>Tanzania</td>\n",
       "      <td>Kasulu</td>\n",
       "    </tr>\n",
       "    <tr>\n",
       "      <th>1</th>\n",
       "      <td>-6.176438</td>\n",
       "      <td>39.244871</td>\n",
       "      <td>Mombasa, Zanzibar City, Unguja Mjini Magharibi...</td>\n",
       "      <td>Mombasa, Zanzibar City, Unguja Mjini Magharibi...</td>\n",
       "      <td>71201</td>\n",
       "      <td>Tanzania</td>\n",
       "      <td>Zanzibar City</td>\n",
       "    </tr>\n",
       "    <tr>\n",
       "      <th>2</th>\n",
       "      <td>-6.825702</td>\n",
       "      <td>37.652798</td>\n",
       "      <td>Forest Hill, Morogoro, Coastal Zone, 6284, Tan...</td>\n",
       "      <td>Forest Hill, Morogoro, Coastal Zone, 6284, Tan...</td>\n",
       "      <td>6284</td>\n",
       "      <td>Tanzania</td>\n",
       "      <td>Morogoro</td>\n",
       "    </tr>\n",
       "    <tr>\n",
       "      <th>3</th>\n",
       "      <td>-3.372049</td>\n",
       "      <td>35.808307</td>\n",
       "      <td>Mto wa Mbu, Karatu, Arusha, Northern Zone, Tan...</td>\n",
       "      <td>Mto wa Mbu, Karatu, Arusha, Northern Zone, Tan...</td>\n",
       "      <td>Northern Zone</td>\n",
       "      <td>Tanzania</td>\n",
       "      <td>Karatu</td>\n",
       "    </tr>\n",
       "    <tr>\n",
       "      <th>4</th>\n",
       "      <td>-7.179645</td>\n",
       "      <td>31.039095</td>\n",
       "      <td>R549, Kizi, Nkasi, Katavi, Western Zone, Tanzania</td>\n",
       "      <td>R549, Kizi, Nkasi, Katavi, Western Zone, Tanzania</td>\n",
       "      <td>Western Zone</td>\n",
       "      <td>Tanzania</td>\n",
       "      <td>Kizi</td>\n",
       "    </tr>\n",
       "  </tbody>\n",
       "</table>\n",
       "</div>"
      ],
      "text/plain": [
       "   Latitude  Longitude                                            address  \\\n",
       "0 -4.460442  29.811396    Manyovu, Kasulu, Kigoma, Western Zone, Tanzania   \n",
       "1 -6.176438  39.244871  Mombasa, Zanzibar City, Unguja Mjini Magharibi...   \n",
       "2 -6.825702  37.652798  Forest Hill, Morogoro, Coastal Zone, 6284, Tan...   \n",
       "3 -3.372049  35.808307  Mto wa Mbu, Karatu, Arusha, Northern Zone, Tan...   \n",
       "4 -7.179645  31.039095  R549, Kizi, Nkasi, Katavi, Western Zone, Tanzania   \n",
       "\n",
       "                                                hehe            zone  \\\n",
       "0    Manyovu, Kasulu, Kigoma, Western Zone, Tanzania    Western Zone   \n",
       "1  Mombasa, Zanzibar City, Unguja Mjini Magharibi...           71201   \n",
       "2  Forest Hill, Morogoro, Coastal Zone, 6284, Tan...            6284   \n",
       "3  Mto wa Mbu, Karatu, Arusha, Northern Zone, Tan...   Northern Zone   \n",
       "4  R549, Kizi, Nkasi, Katavi, Western Zone, Tanzania    Western Zone   \n",
       "\n",
       "       state        district  \n",
       "0   Tanzania          Kasulu  \n",
       "1   Tanzania   Zanzibar City  \n",
       "2   Tanzania        Morogoro  \n",
       "3   Tanzania          Karatu  \n",
       "4   Tanzania            Kizi  "
      ]
     },
     "execution_count": 11,
     "metadata": {},
     "output_type": "execute_result"
    }
   ],
   "source": [
    "data.head()"
   ]
  },
  {
   "cell_type": "code",
   "execution_count": 12,
   "metadata": {},
   "outputs": [
    {
     "data": {
      "text/plain": [
       " Southern Highlands Zone    2041\n",
       " Lake Zone                  1793\n",
       " Coastal Zone               1375\n",
       " Northern Zone              1203\n",
       " Central Zone                886\n",
       " Western Zone                487\n",
       " Zanzibar                    239\n",
       " 271                         118\n",
       " 850                          95\n",
       " 23210                        88\n",
       " 33102                        68\n",
       " 9452                         63\n",
       " 17503                        59\n",
       " +225                         54\n",
       " 71117                        53\n",
       " 1387                         51\n",
       " 71201                        51\n",
       " 71116                        43\n",
       " 71109                        39\n",
       " 11007                        35\n",
       " KIPUNGUNI B                  31\n",
       " 11000                        30\n",
       " 578                          28\n",
       " 000255                       26\n",
       " -                            26\n",
       " 78492                        24\n",
       " 6284                         24\n",
       " 78570                        23\n",
       " 34588 DSM                    21\n",
       " 20481                        19\n",
       "                            ... \n",
       " 886                           8\n",
       " 1941                          8\n",
       " CV1 4FQ                       7\n",
       " 72103                         7\n",
       " 3918                          6\n",
       " P.O BOX 35103                 6\n",
       " 2555                          6\n",
       " 4023                          6\n",
       " 21493                         6\n",
       " Kajiado                       6\n",
       " 4897                          6\n",
       " DAR ES SALAAM                 5\n",
       " 71102                         5\n",
       " 0078                          4\n",
       " 131                           4\n",
       " 027                           3\n",
       " 59315                         3\n",
       " 72101                         3\n",
       "Ruma Primary School            3\n",
       " 14110                         2\n",
       " 255                           2\n",
       " 5983                          2\n",
       " P.O/ BOX                      2\n",
       " TZA                           2\n",
       " 31537                         1\n",
       " 14 CHAMAKWEZA CHALINZE        1\n",
       " 25195                         1\n",
       " Northern Region               1\n",
       "Northern Province              1\n",
       " 11101                         1\n",
       "Name: zone, Length: 82, dtype: int64"
      ]
     },
     "execution_count": 12,
     "metadata": {},
     "output_type": "execute_result"
    }
   ],
   "source": [
    "data.zone.value_counts()"
   ]
  },
  {
   "cell_type": "code",
   "execution_count": 13,
   "metadata": {},
   "outputs": [
    {
     "data": {
      "text/plain": [
       "array([' Western Zone', ' 71201', ' 6284', ' Northern Zone',\n",
       "       ' Coastal Zone', ' Southern Highlands Zone', ' Lake Zone',\n",
       "       ' 71214', ' 71116', ' 25107', ' Central Zone', ' 17503', ' 578',\n",
       "       ' 71117', ' 271', ' 938', ' 850', ' 78492', ' KIPUNGUNI B',\n",
       "       ' 23601', ' 23210', ' 9452', ' 11000', ' 71101', ' 000255',\n",
       "       ' 71109', ' P.O.BOX 22304', ' 1387', ' 71103', ' Zanzibar',\n",
       "       ' 3003', ' 33102', ' 027', ' KASSAMBYA', ' 0097', ' 53208',\n",
       "       ' 10086', ' 4023', ' DAR ES SALAAM', ' 3918', ' Kilimanjaro',\n",
       "       ' +225', ' 20481', ' 35', ' 59315', ' 34588 DSM', ' 36091',\n",
       "       ' 2555', ' 5983', ' 21493', ' 11007', ' 14129', ' -', ' 72208',\n",
       "       ' 186', ' CV1 4FQ', ' P.O BOX 35103', ' 78570', ' Kajiado', ' 886',\n",
       "       ' 78 KAMACHUMU', ' 21518', ' 72101', ' 1941', ' 1371', ' 25195',\n",
       "       ' 72103', ' 4897', ' 131', ' 0078', ' TZA', ' Dodoma', ' P.O/ BOX',\n",
       "       ' 14110', ' 255', ' 31537', 'Northern Province',\n",
       "       ' Northern Region', 'Ruma Primary School', ' 71102', ' 11101',\n",
       "       ' 14 CHAMAKWEZA CHALINZE'], dtype=object)"
      ]
     },
     "execution_count": 13,
     "metadata": {},
     "output_type": "execute_result"
    }
   ],
   "source": [
    "data.zone.unique()"
   ]
  },
  {
   "cell_type": "code",
   "execution_count": 14,
   "metadata": {},
   "outputs": [
    {
     "data": {
      "text/plain": [
       "579"
      ]
     },
     "execution_count": 14,
     "metadata": {},
     "output_type": "execute_result"
    }
   ],
   "source": [
    "data.district.nunique()"
   ]
  },
  {
   "cell_type": "code",
   "execution_count": 15,
   "metadata": {},
   "outputs": [],
   "source": [
    "data[data.zone == ' 271'] = ' Chake-Chake District'"
   ]
  },
  {
   "cell_type": "code",
   "execution_count": 16,
   "metadata": {},
   "outputs": [],
   "source": [
    "data[data.zone == ' 850']  = ' Southern Highlands Zone'  "
   ]
  },
  {
   "cell_type": "code",
   "execution_count": 17,
   "metadata": {},
   "outputs": [],
   "source": [
    "data[data.zone == ' 23210']  = ' Northern Zone'"
   ]
  },
  {
   "cell_type": "code",
   "execution_count": 18,
   "metadata": {},
   "outputs": [],
   "source": [
    "data[data.zone == ' 33102']  = ' Lake Zone'"
   ]
  },
  {
   "cell_type": "code",
   "execution_count": 19,
   "metadata": {},
   "outputs": [],
   "source": [
    "data[data.zone == ' 9452']  = ' Coastal Zone'"
   ]
  },
  {
   "cell_type": "code",
   "execution_count": 20,
   "metadata": {},
   "outputs": [],
   "source": [
    "data[data.zone == ' 17503']  = ' Coastal Zone'"
   ]
  },
  {
   "cell_type": "code",
   "execution_count": 21,
   "metadata": {},
   "outputs": [],
   "source": [
    "data[data.zone == ' +225']  = ' Lake Zone'"
   ]
  },
  {
   "cell_type": "code",
   "execution_count": 22,
   "metadata": {},
   "outputs": [],
   "source": [
    "data[data.zone == ' 71117']  = ' Zanzibar City'"
   ]
  },
  {
   "cell_type": "code",
   "execution_count": 24,
   "metadata": {},
   "outputs": [],
   "source": [
    "data[data.zone == ' 71201'] =   ' Zanzibar City'\n",
    "data[data.zone == ' 1387']  = ' Central Zone'"
   ]
  },
  {
   "cell_type": "code",
   "execution_count": 25,
   "metadata": {},
   "outputs": [
    {
     "data": {
      "text/html": [
       "<div>\n",
       "<style scoped>\n",
       "    .dataframe tbody tr th:only-of-type {\n",
       "        vertical-align: middle;\n",
       "    }\n",
       "\n",
       "    .dataframe tbody tr th {\n",
       "        vertical-align: top;\n",
       "    }\n",
       "\n",
       "    .dataframe thead th {\n",
       "        text-align: right;\n",
       "    }\n",
       "</style>\n",
       "<table border=\"1\" class=\"dataframe\">\n",
       "  <thead>\n",
       "    <tr style=\"text-align: right;\">\n",
       "      <th></th>\n",
       "      <th>Latitude</th>\n",
       "      <th>Longitude</th>\n",
       "      <th>address</th>\n",
       "      <th>hehe</th>\n",
       "      <th>zone</th>\n",
       "      <th>state</th>\n",
       "      <th>district</th>\n",
       "    </tr>\n",
       "  </thead>\n",
       "  <tbody>\n",
       "    <tr>\n",
       "      <th>0</th>\n",
       "      <td>-4.46044</td>\n",
       "      <td>29.8114</td>\n",
       "      <td>Manyovu, Kasulu, Kigoma, Western Zone, Tanzania</td>\n",
       "      <td>Manyovu, Kasulu, Kigoma, Western Zone, Tanzania</td>\n",
       "      <td>Western Zone</td>\n",
       "      <td>Tanzania</td>\n",
       "      <td>Kasulu</td>\n",
       "    </tr>\n",
       "    <tr>\n",
       "      <th>1</th>\n",
       "      <td>Zanzibar City</td>\n",
       "      <td>Zanzibar City</td>\n",
       "      <td>Zanzibar City</td>\n",
       "      <td>Zanzibar City</td>\n",
       "      <td>Zanzibar City</td>\n",
       "      <td>Zanzibar City</td>\n",
       "      <td>Zanzibar City</td>\n",
       "    </tr>\n",
       "    <tr>\n",
       "      <th>2</th>\n",
       "      <td>-6.8257</td>\n",
       "      <td>37.6528</td>\n",
       "      <td>Forest Hill, Morogoro, Coastal Zone, 6284, Tan...</td>\n",
       "      <td>Forest Hill, Morogoro, Coastal Zone, 6284, Tan...</td>\n",
       "      <td>6284</td>\n",
       "      <td>Tanzania</td>\n",
       "      <td>Morogoro</td>\n",
       "    </tr>\n",
       "    <tr>\n",
       "      <th>3</th>\n",
       "      <td>-3.37205</td>\n",
       "      <td>35.8083</td>\n",
       "      <td>Mto wa Mbu, Karatu, Arusha, Northern Zone, Tan...</td>\n",
       "      <td>Mto wa Mbu, Karatu, Arusha, Northern Zone, Tan...</td>\n",
       "      <td>Northern Zone</td>\n",
       "      <td>Tanzania</td>\n",
       "      <td>Karatu</td>\n",
       "    </tr>\n",
       "    <tr>\n",
       "      <th>4</th>\n",
       "      <td>-7.17965</td>\n",
       "      <td>31.0391</td>\n",
       "      <td>R549, Kizi, Nkasi, Katavi, Western Zone, Tanzania</td>\n",
       "      <td>R549, Kizi, Nkasi, Katavi, Western Zone, Tanzania</td>\n",
       "      <td>Western Zone</td>\n",
       "      <td>Tanzania</td>\n",
       "      <td>Kizi</td>\n",
       "    </tr>\n",
       "  </tbody>\n",
       "</table>\n",
       "</div>"
      ],
      "text/plain": [
       "         Latitude       Longitude  \\\n",
       "0        -4.46044         29.8114   \n",
       "1   Zanzibar City   Zanzibar City   \n",
       "2         -6.8257         37.6528   \n",
       "3        -3.37205         35.8083   \n",
       "4        -7.17965         31.0391   \n",
       "\n",
       "                                             address  \\\n",
       "0    Manyovu, Kasulu, Kigoma, Western Zone, Tanzania   \n",
       "1                                      Zanzibar City   \n",
       "2  Forest Hill, Morogoro, Coastal Zone, 6284, Tan...   \n",
       "3  Mto wa Mbu, Karatu, Arusha, Northern Zone, Tan...   \n",
       "4  R549, Kizi, Nkasi, Katavi, Western Zone, Tanzania   \n",
       "\n",
       "                                                hehe            zone  \\\n",
       "0    Manyovu, Kasulu, Kigoma, Western Zone, Tanzania    Western Zone   \n",
       "1                                      Zanzibar City   Zanzibar City   \n",
       "2  Forest Hill, Morogoro, Coastal Zone, 6284, Tan...            6284   \n",
       "3  Mto wa Mbu, Karatu, Arusha, Northern Zone, Tan...   Northern Zone   \n",
       "4  R549, Kizi, Nkasi, Katavi, Western Zone, Tanzania    Western Zone   \n",
       "\n",
       "            state        district  \n",
       "0        Tanzania          Kasulu  \n",
       "1   Zanzibar City   Zanzibar City  \n",
       "2        Tanzania        Morogoro  \n",
       "3        Tanzania          Karatu  \n",
       "4        Tanzania            Kizi  "
      ]
     },
     "execution_count": 25,
     "metadata": {},
     "output_type": "execute_result"
    }
   ],
   "source": [
    "data.head()"
   ]
  },
  {
   "cell_type": "code",
   "execution_count": 28,
   "metadata": {},
   "outputs": [],
   "source": [
    "data[data.zone == ' 71116']  = ' Zanzibar City'"
   ]
  },
  {
   "cell_type": "code",
   "execution_count": 31,
   "metadata": {},
   "outputs": [],
   "source": [
    "data[data.zone == ' 71109']  = ' Zanzibar City'"
   ]
  },
  {
   "cell_type": "code",
   "execution_count": 34,
   "metadata": {},
   "outputs": [],
   "source": [
    "data[data.zone == ' 11007']  = ' Coastal Zone'"
   ]
  },
  {
   "cell_type": "code",
   "execution_count": 37,
   "metadata": {},
   "outputs": [],
   "source": [
    "data[data.zone == ' 11000']   =' Coastal Zone'"
   ]
  },
  {
   "cell_type": "code",
   "execution_count": 44,
   "metadata": {},
   "outputs": [],
   "source": [
    "data[data.zone == ' 578']   = ' Lake Zone'"
   ]
  },
  {
   "cell_type": "code",
   "execution_count": 48,
   "metadata": {},
   "outputs": [],
   "source": [
    "data[data.zone == ' 000255']    = ' Central Zone'"
   ]
  },
  {
   "cell_type": "code",
   "execution_count": 51,
   "metadata": {},
   "outputs": [],
   "source": [
    "data[data.zone == ' 78492'] = ' Coastal Zone'"
   ]
  },
  {
   "cell_type": "code",
   "execution_count": 53,
   "metadata": {},
   "outputs": [
    {
     "data": {
      "text/plain": [
       "67"
      ]
     },
     "execution_count": 53,
     "metadata": {},
     "output_type": "execute_result"
    }
   ],
   "source": [
    "data.zone.nunique()"
   ]
  },
  {
   "cell_type": "code",
   "execution_count": 54,
   "metadata": {},
   "outputs": [
    {
     "data": {
      "text/html": [
       "<div>\n",
       "<style scoped>\n",
       "    .dataframe tbody tr th:only-of-type {\n",
       "        vertical-align: middle;\n",
       "    }\n",
       "\n",
       "    .dataframe tbody tr th {\n",
       "        vertical-align: top;\n",
       "    }\n",
       "\n",
       "    .dataframe thead th {\n",
       "        text-align: right;\n",
       "    }\n",
       "</style>\n",
       "<table border=\"1\" class=\"dataframe\">\n",
       "  <thead>\n",
       "    <tr style=\"text-align: right;\">\n",
       "      <th></th>\n",
       "      <th>Latitude</th>\n",
       "      <th>Longitude</th>\n",
       "      <th>address</th>\n",
       "      <th>hehe</th>\n",
       "      <th>zone</th>\n",
       "      <th>state</th>\n",
       "      <th>district</th>\n",
       "    </tr>\n",
       "  </thead>\n",
       "  <tbody>\n",
       "    <tr>\n",
       "      <th>0</th>\n",
       "      <td>-4.46044</td>\n",
       "      <td>29.8114</td>\n",
       "      <td>Manyovu, Kasulu, Kigoma, Western Zone, Tanzania</td>\n",
       "      <td>Manyovu, Kasulu, Kigoma, Western Zone, Tanzania</td>\n",
       "      <td>Western Zone</td>\n",
       "      <td>Tanzania</td>\n",
       "      <td>Kasulu</td>\n",
       "    </tr>\n",
       "    <tr>\n",
       "      <th>1</th>\n",
       "      <td>Zanzibar City</td>\n",
       "      <td>Zanzibar City</td>\n",
       "      <td>Zanzibar City</td>\n",
       "      <td>Zanzibar City</td>\n",
       "      <td>Zanzibar City</td>\n",
       "      <td>Zanzibar City</td>\n",
       "      <td>Zanzibar City</td>\n",
       "    </tr>\n",
       "    <tr>\n",
       "      <th>2</th>\n",
       "      <td>-6.8257</td>\n",
       "      <td>37.6528</td>\n",
       "      <td>Forest Hill, Morogoro, Coastal Zone, 6284, Tan...</td>\n",
       "      <td>Forest Hill, Morogoro, Coastal Zone, 6284, Tan...</td>\n",
       "      <td>6284</td>\n",
       "      <td>Tanzania</td>\n",
       "      <td>Morogoro</td>\n",
       "    </tr>\n",
       "    <tr>\n",
       "      <th>3</th>\n",
       "      <td>-3.37205</td>\n",
       "      <td>35.8083</td>\n",
       "      <td>Mto wa Mbu, Karatu, Arusha, Northern Zone, Tan...</td>\n",
       "      <td>Mto wa Mbu, Karatu, Arusha, Northern Zone, Tan...</td>\n",
       "      <td>Northern Zone</td>\n",
       "      <td>Tanzania</td>\n",
       "      <td>Karatu</td>\n",
       "    </tr>\n",
       "    <tr>\n",
       "      <th>4</th>\n",
       "      <td>-7.17965</td>\n",
       "      <td>31.0391</td>\n",
       "      <td>R549, Kizi, Nkasi, Katavi, Western Zone, Tanzania</td>\n",
       "      <td>R549, Kizi, Nkasi, Katavi, Western Zone, Tanzania</td>\n",
       "      <td>Western Zone</td>\n",
       "      <td>Tanzania</td>\n",
       "      <td>Kizi</td>\n",
       "    </tr>\n",
       "  </tbody>\n",
       "</table>\n",
       "</div>"
      ],
      "text/plain": [
       "         Latitude       Longitude  \\\n",
       "0        -4.46044         29.8114   \n",
       "1   Zanzibar City   Zanzibar City   \n",
       "2         -6.8257         37.6528   \n",
       "3        -3.37205         35.8083   \n",
       "4        -7.17965         31.0391   \n",
       "\n",
       "                                             address  \\\n",
       "0    Manyovu, Kasulu, Kigoma, Western Zone, Tanzania   \n",
       "1                                      Zanzibar City   \n",
       "2  Forest Hill, Morogoro, Coastal Zone, 6284, Tan...   \n",
       "3  Mto wa Mbu, Karatu, Arusha, Northern Zone, Tan...   \n",
       "4  R549, Kizi, Nkasi, Katavi, Western Zone, Tanzania   \n",
       "\n",
       "                                                hehe            zone  \\\n",
       "0    Manyovu, Kasulu, Kigoma, Western Zone, Tanzania    Western Zone   \n",
       "1                                      Zanzibar City   Zanzibar City   \n",
       "2  Forest Hill, Morogoro, Coastal Zone, 6284, Tan...            6284   \n",
       "3  Mto wa Mbu, Karatu, Arusha, Northern Zone, Tan...   Northern Zone   \n",
       "4  R549, Kizi, Nkasi, Katavi, Western Zone, Tanzania    Western Zone   \n",
       "\n",
       "            state        district  \n",
       "0        Tanzania          Kasulu  \n",
       "1   Zanzibar City   Zanzibar City  \n",
       "2        Tanzania        Morogoro  \n",
       "3        Tanzania          Karatu  \n",
       "4        Tanzania            Kizi  "
      ]
     },
     "execution_count": 54,
     "metadata": {},
     "output_type": "execute_result"
    }
   ],
   "source": [
    "data.head()"
   ]
  },
  {
   "cell_type": "code",
   "execution_count": 56,
   "metadata": {},
   "outputs": [
    {
     "data": {
      "text/plain": [
       "array([' Tanzania', ' Zanzibar City', ' Coastal Zone', ' Lake Zone',\n",
       "       ' Chake-Chake District', ' Southern Highlands Zone',\n",
       "       ' Northern Zone', ' Central Zone', ' Kenya', ' Zambia', ' Malawi'],\n",
       "      dtype=object)"
      ]
     },
     "execution_count": 56,
     "metadata": {},
     "output_type": "execute_result"
    }
   ],
   "source": [
    "data.state.unique()"
   ]
  },
  {
   "cell_type": "code",
   "execution_count": 59,
   "metadata": {},
   "outputs": [
    {
     "data": {
      "text/plain": [
       "67"
      ]
     },
     "execution_count": 59,
     "metadata": {},
     "output_type": "execute_result"
    }
   ],
   "source": [
    "data.zone.nunique()\n"
   ]
  },
  {
   "cell_type": "code",
   "execution_count": 60,
   "metadata": {},
   "outputs": [],
   "source": [
    "data.to_csv('zone.csv',index = False)"
   ]
  },
  {
   "cell_type": "code",
   "execution_count": null,
   "metadata": {},
   "outputs": [],
   "source": []
  },
  {
   "cell_type": "code",
   "execution_count": 52,
   "metadata": {},
   "outputs": [
    {
     "data": {
      "text/plain": [
       " Southern Highlands Zone    2136\n",
       " Lake Zone                  1943\n",
       " Coastal Zone               1586\n",
       " Northern Zone              1291\n",
       " Central Zone                963\n",
       " Western Zone                487\n",
       " Zanzibar                    239\n",
       " Zanzibar City               186\n",
       " Chake-Chake District        118\n",
       " KIPUNGUNI B                  31\n",
       " -                            26\n",
       " 6284                         24\n",
       " 78570                        23\n",
       " 34588 DSM                    21\n",
       " 20481                        19\n",
       " 71103                        16\n",
       " P.O.BOX 22304                16\n",
       " 23601                        15\n",
       " 53208                        15\n",
       " 0097                         14\n",
       " 35                           13\n",
       " 938                          12\n",
       " Dodoma                       11\n",
       " 21518                        11\n",
       " KASSAMBYA                    11\n",
       " 78 KAMACHUMU                 10\n",
       " 1371                         10\n",
       " 71214                        10\n",
       " 36091                        10\n",
       " 72208                        10\n",
       "                            ... \n",
       " 3003                          8\n",
       " 14129                         8\n",
       " CV1 4FQ                       7\n",
       " 72103                         7\n",
       " Kajiado                       6\n",
       " 3918                          6\n",
       " 4023                          6\n",
       " 21493                         6\n",
       " 2555                          6\n",
       " 4897                          6\n",
       " P.O BOX 35103                 6\n",
       " DAR ES SALAAM                 5\n",
       " 71102                         5\n",
       " 131                           4\n",
       " 0078                          4\n",
       "Ruma Primary School            3\n",
       " 59315                         3\n",
       " 72101                         3\n",
       " 027                           3\n",
       " 5983                          2\n",
       " P.O/ BOX                      2\n",
       " 255                           2\n",
       " TZA                           2\n",
       " 14110                         2\n",
       " 31537                         1\n",
       " 14 CHAMAKWEZA CHALINZE        1\n",
       " 25195                         1\n",
       "Northern Province              1\n",
       " Northern Region               1\n",
       " 11101                         1\n",
       "Name: zone, Length: 67, dtype: int64"
      ]
     },
     "execution_count": 52,
     "metadata": {},
     "output_type": "execute_result"
    }
   ],
   "source": [
    "data.zone.value_counts()"
   ]
  },
  {
   "cell_type": "code",
   "execution_count": 42,
   "metadata": {},
   "outputs": [
    {
     "data": {
      "text/plain": [
       "array([' Western Zone', ' Zanzibar City', ' 6284', ' Northern Zone',\n",
       "       ' Coastal Zone', ' Southern Highlands Zone', ' Lake Zone',\n",
       "       ' 71214', ' 25107', ' Central Zone', ' 578',\n",
       "       ' Chake-Chake District', ' 938', ' 78492', ' KIPUNGUNI B',\n",
       "       ' 23601', ' 71101', ' 000255', ' P.O.BOX 22304', ' 71103',\n",
       "       ' Zanzibar', ' 3003', ' 027', ' KASSAMBYA', ' 0097', ' 53208',\n",
       "       ' 10086', ' 4023', ' DAR ES SALAAM', ' 3918', ' Kilimanjaro',\n",
       "       ' 20481', ' 35', ' 59315', ' 34588 DSM', ' 36091', ' 2555',\n",
       "       ' 5983', ' 21493', ' 14129', ' -', ' 72208', ' 186', ' CV1 4FQ',\n",
       "       ' P.O BOX 35103', ' 78570', ' Kajiado', ' 886', ' 78 KAMACHUMU',\n",
       "       ' 21518', ' 72101', ' 1941', ' 1371', ' 25195', ' 72103', ' 4897',\n",
       "       ' 131', ' 0078', ' TZA', ' Dodoma', ' P.O/ BOX', ' 14110', ' 255',\n",
       "       ' 31537', 'Northern Province', ' Northern Region',\n",
       "       'Ruma Primary School', ' 71102', ' 11101',\n",
       "       ' 14 CHAMAKWEZA CHALINZE'], dtype=object)"
      ]
     },
     "execution_count": 42,
     "metadata": {},
     "output_type": "execute_result"
    }
   ],
   "source": [
    "data.zone.unique()"
   ]
  },
  {
   "cell_type": "code",
   "execution_count": null,
   "metadata": {},
   "outputs": [],
   "source": []
  },
  {
   "cell_type": "code",
   "execution_count": 41,
   "metadata": {},
   "outputs": [
    {
     "data": {
      "text/html": [
       "<div>\n",
       "<style scoped>\n",
       "    .dataframe tbody tr th:only-of-type {\n",
       "        vertical-align: middle;\n",
       "    }\n",
       "\n",
       "    .dataframe tbody tr th {\n",
       "        vertical-align: top;\n",
       "    }\n",
       "\n",
       "    .dataframe thead th {\n",
       "        text-align: right;\n",
       "    }\n",
       "</style>\n",
       "<table border=\"1\" class=\"dataframe\">\n",
       "  <thead>\n",
       "    <tr style=\"text-align: right;\">\n",
       "      <th></th>\n",
       "      <th>Latitude</th>\n",
       "      <th>Longitude</th>\n",
       "      <th>address</th>\n",
       "      <th>hehe</th>\n",
       "      <th>zone</th>\n",
       "      <th>state</th>\n",
       "      <th>district</th>\n",
       "    </tr>\n",
       "  </thead>\n",
       "  <tbody>\n",
       "    <tr>\n",
       "      <th>115</th>\n",
       "      <td>-6.88544</td>\n",
       "      <td>39.1549</td>\n",
       "      <td>Ukonga, Mikongeni township - Gongolamboto, Dar...</td>\n",
       "      <td>Ukonga, Mikongeni township - Gongolamboto, Dar...</td>\n",
       "      <td>KIPUNGUNI B</td>\n",
       "      <td>Tanzania</td>\n",
       "      <td>Mikongeni township - Gongolamboto</td>\n",
       "    </tr>\n",
       "    <tr>\n",
       "      <th>141</th>\n",
       "      <td>-6.90786</td>\n",
       "      <td>39.1689</td>\n",
       "      <td>Ukonga, Mikongeni township - Gongolamboto, Dar...</td>\n",
       "      <td>Ukonga, Mikongeni township - Gongolamboto, Dar...</td>\n",
       "      <td>KIPUNGUNI B</td>\n",
       "      <td>Tanzania</td>\n",
       "      <td>Mikongeni township - Gongolamboto</td>\n",
       "    </tr>\n",
       "    <tr>\n",
       "      <th>619</th>\n",
       "      <td>-6.8737</td>\n",
       "      <td>39.1748</td>\n",
       "      <td>Ukonga, Mikongeni township - Gongolamboto, Dar...</td>\n",
       "      <td>Ukonga, Mikongeni township - Gongolamboto, Dar...</td>\n",
       "      <td>KIPUNGUNI B</td>\n",
       "      <td>Tanzania</td>\n",
       "      <td>Mikongeni township - Gongolamboto</td>\n",
       "    </tr>\n",
       "    <tr>\n",
       "      <th>1169</th>\n",
       "      <td>-6.90874</td>\n",
       "      <td>39.1704</td>\n",
       "      <td>Apple pharmacy, Machimbo Road, Ukonga, Dar es ...</td>\n",
       "      <td>Apple pharmacy, Machimbo Road, Ukonga, Dar es ...</td>\n",
       "      <td>KIPUNGUNI B</td>\n",
       "      <td>Tanzania</td>\n",
       "      <td>Machimbo Road</td>\n",
       "    </tr>\n",
       "    <tr>\n",
       "      <th>1310</th>\n",
       "      <td>-6.88523</td>\n",
       "      <td>39.1552</td>\n",
       "      <td>Ukonga, Mikongeni township - Gongolamboto, Dar...</td>\n",
       "      <td>Ukonga, Mikongeni township - Gongolamboto, Dar...</td>\n",
       "      <td>KIPUNGUNI B</td>\n",
       "      <td>Tanzania</td>\n",
       "      <td>Mikongeni township - Gongolamboto</td>\n",
       "    </tr>\n",
       "    <tr>\n",
       "      <th>1528</th>\n",
       "      <td>-6.88847</td>\n",
       "      <td>39.1612</td>\n",
       "      <td>Ukonga, Mikongeni township - Gongolamboto, Dar...</td>\n",
       "      <td>Ukonga, Mikongeni township - Gongolamboto, Dar...</td>\n",
       "      <td>KIPUNGUNI B</td>\n",
       "      <td>Tanzania</td>\n",
       "      <td>Mikongeni township - Gongolamboto</td>\n",
       "    </tr>\n",
       "    <tr>\n",
       "      <th>1832</th>\n",
       "      <td>-6.88496</td>\n",
       "      <td>39.1552</td>\n",
       "      <td>Ukonga, Mikongeni township - Gongolamboto, Dar...</td>\n",
       "      <td>Ukonga, Mikongeni township - Gongolamboto, Dar...</td>\n",
       "      <td>KIPUNGUNI B</td>\n",
       "      <td>Tanzania</td>\n",
       "      <td>Mikongeni township - Gongolamboto</td>\n",
       "    </tr>\n",
       "    <tr>\n",
       "      <th>1951</th>\n",
       "      <td>-6.88814</td>\n",
       "      <td>39.1606</td>\n",
       "      <td>Ukonga, Mikongeni township - Gongolamboto, Dar...</td>\n",
       "      <td>Ukonga, Mikongeni township - Gongolamboto, Dar...</td>\n",
       "      <td>KIPUNGUNI B</td>\n",
       "      <td>Tanzania</td>\n",
       "      <td>Mikongeni township - Gongolamboto</td>\n",
       "    </tr>\n",
       "    <tr>\n",
       "      <th>2252</th>\n",
       "      <td>-6.88523</td>\n",
       "      <td>39.1555</td>\n",
       "      <td>Ukonga, Mikongeni township - Gongolamboto, Dar...</td>\n",
       "      <td>Ukonga, Mikongeni township - Gongolamboto, Dar...</td>\n",
       "      <td>KIPUNGUNI B</td>\n",
       "      <td>Tanzania</td>\n",
       "      <td>Mikongeni township - Gongolamboto</td>\n",
       "    </tr>\n",
       "    <tr>\n",
       "      <th>2386</th>\n",
       "      <td>-6.88534</td>\n",
       "      <td>39.1553</td>\n",
       "      <td>Ukonga, Mikongeni township - Gongolamboto, Dar...</td>\n",
       "      <td>Ukonga, Mikongeni township - Gongolamboto, Dar...</td>\n",
       "      <td>KIPUNGUNI B</td>\n",
       "      <td>Tanzania</td>\n",
       "      <td>Mikongeni township - Gongolamboto</td>\n",
       "    </tr>\n",
       "    <tr>\n",
       "      <th>2400</th>\n",
       "      <td>-6.88853</td>\n",
       "      <td>39.1609</td>\n",
       "      <td>Ukonga, Mikongeni township - Gongolamboto, Dar...</td>\n",
       "      <td>Ukonga, Mikongeni township - Gongolamboto, Dar...</td>\n",
       "      <td>KIPUNGUNI B</td>\n",
       "      <td>Tanzania</td>\n",
       "      <td>Mikongeni township - Gongolamboto</td>\n",
       "    </tr>\n",
       "    <tr>\n",
       "      <th>2508</th>\n",
       "      <td>-6.88487</td>\n",
       "      <td>39.1555</td>\n",
       "      <td>Ukonga, Mikongeni township - Gongolamboto, Dar...</td>\n",
       "      <td>Ukonga, Mikongeni township - Gongolamboto, Dar...</td>\n",
       "      <td>KIPUNGUNI B</td>\n",
       "      <td>Tanzania</td>\n",
       "      <td>Mikongeni township - Gongolamboto</td>\n",
       "    </tr>\n",
       "    <tr>\n",
       "      <th>2743</th>\n",
       "      <td>-6.90486</td>\n",
       "      <td>39.1699</td>\n",
       "      <td>Ukonga, Mikongeni township - Gongolamboto, Dar...</td>\n",
       "      <td>Ukonga, Mikongeni township - Gongolamboto, Dar...</td>\n",
       "      <td>KIPUNGUNI B</td>\n",
       "      <td>Tanzania</td>\n",
       "      <td>Mikongeni township - Gongolamboto</td>\n",
       "    </tr>\n",
       "    <tr>\n",
       "      <th>2842</th>\n",
       "      <td>-6.88834</td>\n",
       "      <td>39.1615</td>\n",
       "      <td>Ukonga, Mikongeni township - Gongolamboto, Dar...</td>\n",
       "      <td>Ukonga, Mikongeni township - Gongolamboto, Dar...</td>\n",
       "      <td>KIPUNGUNI B</td>\n",
       "      <td>Tanzania</td>\n",
       "      <td>Mikongeni township - Gongolamboto</td>\n",
       "    </tr>\n",
       "    <tr>\n",
       "      <th>2940</th>\n",
       "      <td>-6.90755</td>\n",
       "      <td>39.1694</td>\n",
       "      <td>Ukonga, Mikongeni township - Gongolamboto, Dar...</td>\n",
       "      <td>Ukonga, Mikongeni township - Gongolamboto, Dar...</td>\n",
       "      <td>KIPUNGUNI B</td>\n",
       "      <td>Tanzania</td>\n",
       "      <td>Mikongeni township - Gongolamboto</td>\n",
       "    </tr>\n",
       "    <tr>\n",
       "      <th>3308</th>\n",
       "      <td>-6.88866</td>\n",
       "      <td>39.1609</td>\n",
       "      <td>Ukonga, Mikongeni township - Gongolamboto, Dar...</td>\n",
       "      <td>Ukonga, Mikongeni township - Gongolamboto, Dar...</td>\n",
       "      <td>KIPUNGUNI B</td>\n",
       "      <td>Tanzania</td>\n",
       "      <td>Mikongeni township - Gongolamboto</td>\n",
       "    </tr>\n",
       "    <tr>\n",
       "      <th>3326</th>\n",
       "      <td>-6.87384</td>\n",
       "      <td>39.1749</td>\n",
       "      <td>Ukonga, Mikongeni township - Gongolamboto, Dar...</td>\n",
       "      <td>Ukonga, Mikongeni township - Gongolamboto, Dar...</td>\n",
       "      <td>KIPUNGUNI B</td>\n",
       "      <td>Tanzania</td>\n",
       "      <td>Mikongeni township - Gongolamboto</td>\n",
       "    </tr>\n",
       "    <tr>\n",
       "      <th>3714</th>\n",
       "      <td>-6.88492</td>\n",
       "      <td>39.1556</td>\n",
       "      <td>Ukonga, Mikongeni township - Gongolamboto, Dar...</td>\n",
       "      <td>Ukonga, Mikongeni township - Gongolamboto, Dar...</td>\n",
       "      <td>KIPUNGUNI B</td>\n",
       "      <td>Tanzania</td>\n",
       "      <td>Mikongeni township - Gongolamboto</td>\n",
       "    </tr>\n",
       "    <tr>\n",
       "      <th>5004</th>\n",
       "      <td>-6.8853</td>\n",
       "      <td>39.155</td>\n",
       "      <td>Ukonga, Mikongeni township - Gongolamboto, Dar...</td>\n",
       "      <td>Ukonga, Mikongeni township - Gongolamboto, Dar...</td>\n",
       "      <td>KIPUNGUNI B</td>\n",
       "      <td>Tanzania</td>\n",
       "      <td>Mikongeni township - Gongolamboto</td>\n",
       "    </tr>\n",
       "    <tr>\n",
       "      <th>5411</th>\n",
       "      <td>-6.87824</td>\n",
       "      <td>39.1513</td>\n",
       "      <td>Ukonga, Mikongeni, Dar es Salaam, Coastal Zone...</td>\n",
       "      <td>Ukonga, Mikongeni, Dar es Salaam, Coastal Zone...</td>\n",
       "      <td>KIPUNGUNI B</td>\n",
       "      <td>Tanzania</td>\n",
       "      <td>Mikongeni</td>\n",
       "    </tr>\n",
       "    <tr>\n",
       "      <th>5498</th>\n",
       "      <td>-6.88523</td>\n",
       "      <td>39.1546</td>\n",
       "      <td>Ukonga, Mikongeni township - Gongolamboto, Dar...</td>\n",
       "      <td>Ukonga, Mikongeni township - Gongolamboto, Dar...</td>\n",
       "      <td>KIPUNGUNI B</td>\n",
       "      <td>Tanzania</td>\n",
       "      <td>Mikongeni township - Gongolamboto</td>\n",
       "    </tr>\n",
       "    <tr>\n",
       "      <th>5537</th>\n",
       "      <td>-6.88868</td>\n",
       "      <td>39.1607</td>\n",
       "      <td>Ukonga, Mikongeni township - Gongolamboto, Dar...</td>\n",
       "      <td>Ukonga, Mikongeni township - Gongolamboto, Dar...</td>\n",
       "      <td>KIPUNGUNI B</td>\n",
       "      <td>Tanzania</td>\n",
       "      <td>Mikongeni township - Gongolamboto</td>\n",
       "    </tr>\n",
       "    <tr>\n",
       "      <th>5590</th>\n",
       "      <td>-6.90551</td>\n",
       "      <td>39.1696</td>\n",
       "      <td>Ukonga, Mikongeni township - Gongolamboto, Dar...</td>\n",
       "      <td>Ukonga, Mikongeni township - Gongolamboto, Dar...</td>\n",
       "      <td>KIPUNGUNI B</td>\n",
       "      <td>Tanzania</td>\n",
       "      <td>Mikongeni township - Gongolamboto</td>\n",
       "    </tr>\n",
       "    <tr>\n",
       "      <th>6145</th>\n",
       "      <td>-6.88808</td>\n",
       "      <td>39.161</td>\n",
       "      <td>Ukonga, Mikongeni township - Gongolamboto, Dar...</td>\n",
       "      <td>Ukonga, Mikongeni township - Gongolamboto, Dar...</td>\n",
       "      <td>KIPUNGUNI B</td>\n",
       "      <td>Tanzania</td>\n",
       "      <td>Mikongeni township - Gongolamboto</td>\n",
       "    </tr>\n",
       "    <tr>\n",
       "      <th>6187</th>\n",
       "      <td>-6.88524</td>\n",
       "      <td>39.1551</td>\n",
       "      <td>Ukonga, Mikongeni township - Gongolamboto, Dar...</td>\n",
       "      <td>Ukonga, Mikongeni township - Gongolamboto, Dar...</td>\n",
       "      <td>KIPUNGUNI B</td>\n",
       "      <td>Tanzania</td>\n",
       "      <td>Mikongeni township - Gongolamboto</td>\n",
       "    </tr>\n",
       "    <tr>\n",
       "      <th>6669</th>\n",
       "      <td>-6.90549</td>\n",
       "      <td>39.1702</td>\n",
       "      <td>Ukonga, Mikongeni township - Gongolamboto, Dar...</td>\n",
       "      <td>Ukonga, Mikongeni township - Gongolamboto, Dar...</td>\n",
       "      <td>KIPUNGUNI B</td>\n",
       "      <td>Tanzania</td>\n",
       "      <td>Mikongeni township - Gongolamboto</td>\n",
       "    </tr>\n",
       "    <tr>\n",
       "      <th>7292</th>\n",
       "      <td>-6.88872</td>\n",
       "      <td>39.1609</td>\n",
       "      <td>Ukonga, Mikongeni township - Gongolamboto, Dar...</td>\n",
       "      <td>Ukonga, Mikongeni township - Gongolamboto, Dar...</td>\n",
       "      <td>KIPUNGUNI B</td>\n",
       "      <td>Tanzania</td>\n",
       "      <td>Mikongeni township - Gongolamboto</td>\n",
       "    </tr>\n",
       "    <tr>\n",
       "      <th>7479</th>\n",
       "      <td>-6.90893</td>\n",
       "      <td>39.17</td>\n",
       "      <td>Ukonga, Mikongeni township - Gongolamboto, Dar...</td>\n",
       "      <td>Ukonga, Mikongeni township - Gongolamboto, Dar...</td>\n",
       "      <td>KIPUNGUNI B</td>\n",
       "      <td>Tanzania</td>\n",
       "      <td>Mikongeni township - Gongolamboto</td>\n",
       "    </tr>\n",
       "    <tr>\n",
       "      <th>7772</th>\n",
       "      <td>-6.90742</td>\n",
       "      <td>39.1699</td>\n",
       "      <td>Ukonga, Mikongeni township - Gongolamboto, Dar...</td>\n",
       "      <td>Ukonga, Mikongeni township - Gongolamboto, Dar...</td>\n",
       "      <td>KIPUNGUNI B</td>\n",
       "      <td>Tanzania</td>\n",
       "      <td>Mikongeni township - Gongolamboto</td>\n",
       "    </tr>\n",
       "    <tr>\n",
       "      <th>7993</th>\n",
       "      <td>-6.90808</td>\n",
       "      <td>39.1696</td>\n",
       "      <td>Ukonga, Mikongeni township - Gongolamboto, Dar...</td>\n",
       "      <td>Ukonga, Mikongeni township - Gongolamboto, Dar...</td>\n",
       "      <td>KIPUNGUNI B</td>\n",
       "      <td>Tanzania</td>\n",
       "      <td>Mikongeni township - Gongolamboto</td>\n",
       "    </tr>\n",
       "    <tr>\n",
       "      <th>8395</th>\n",
       "      <td>-6.88788</td>\n",
       "      <td>39.1607</td>\n",
       "      <td>Ukonga, Mikongeni township - Gongolamboto, Dar...</td>\n",
       "      <td>Ukonga, Mikongeni township - Gongolamboto, Dar...</td>\n",
       "      <td>KIPUNGUNI B</td>\n",
       "      <td>Tanzania</td>\n",
       "      <td>Mikongeni township - Gongolamboto</td>\n",
       "    </tr>\n",
       "  </tbody>\n",
       "</table>\n",
       "</div>"
      ],
      "text/plain": [
       "     Latitude Longitude                                            address  \\\n",
       "115  -6.88544   39.1549  Ukonga, Mikongeni township - Gongolamboto, Dar...   \n",
       "141  -6.90786   39.1689  Ukonga, Mikongeni township - Gongolamboto, Dar...   \n",
       "619   -6.8737   39.1748  Ukonga, Mikongeni township - Gongolamboto, Dar...   \n",
       "1169 -6.90874   39.1704  Apple pharmacy, Machimbo Road, Ukonga, Dar es ...   \n",
       "1310 -6.88523   39.1552  Ukonga, Mikongeni township - Gongolamboto, Dar...   \n",
       "1528 -6.88847   39.1612  Ukonga, Mikongeni township - Gongolamboto, Dar...   \n",
       "1832 -6.88496   39.1552  Ukonga, Mikongeni township - Gongolamboto, Dar...   \n",
       "1951 -6.88814   39.1606  Ukonga, Mikongeni township - Gongolamboto, Dar...   \n",
       "2252 -6.88523   39.1555  Ukonga, Mikongeni township - Gongolamboto, Dar...   \n",
       "2386 -6.88534   39.1553  Ukonga, Mikongeni township - Gongolamboto, Dar...   \n",
       "2400 -6.88853   39.1609  Ukonga, Mikongeni township - Gongolamboto, Dar...   \n",
       "2508 -6.88487   39.1555  Ukonga, Mikongeni township - Gongolamboto, Dar...   \n",
       "2743 -6.90486   39.1699  Ukonga, Mikongeni township - Gongolamboto, Dar...   \n",
       "2842 -6.88834   39.1615  Ukonga, Mikongeni township - Gongolamboto, Dar...   \n",
       "2940 -6.90755   39.1694  Ukonga, Mikongeni township - Gongolamboto, Dar...   \n",
       "3308 -6.88866   39.1609  Ukonga, Mikongeni township - Gongolamboto, Dar...   \n",
       "3326 -6.87384   39.1749  Ukonga, Mikongeni township - Gongolamboto, Dar...   \n",
       "3714 -6.88492   39.1556  Ukonga, Mikongeni township - Gongolamboto, Dar...   \n",
       "5004  -6.8853    39.155  Ukonga, Mikongeni township - Gongolamboto, Dar...   \n",
       "5411 -6.87824   39.1513  Ukonga, Mikongeni, Dar es Salaam, Coastal Zone...   \n",
       "5498 -6.88523   39.1546  Ukonga, Mikongeni township - Gongolamboto, Dar...   \n",
       "5537 -6.88868   39.1607  Ukonga, Mikongeni township - Gongolamboto, Dar...   \n",
       "5590 -6.90551   39.1696  Ukonga, Mikongeni township - Gongolamboto, Dar...   \n",
       "6145 -6.88808    39.161  Ukonga, Mikongeni township - Gongolamboto, Dar...   \n",
       "6187 -6.88524   39.1551  Ukonga, Mikongeni township - Gongolamboto, Dar...   \n",
       "6669 -6.90549   39.1702  Ukonga, Mikongeni township - Gongolamboto, Dar...   \n",
       "7292 -6.88872   39.1609  Ukonga, Mikongeni township - Gongolamboto, Dar...   \n",
       "7479 -6.90893     39.17  Ukonga, Mikongeni township - Gongolamboto, Dar...   \n",
       "7772 -6.90742   39.1699  Ukonga, Mikongeni township - Gongolamboto, Dar...   \n",
       "7993 -6.90808   39.1696  Ukonga, Mikongeni township - Gongolamboto, Dar...   \n",
       "8395 -6.88788   39.1607  Ukonga, Mikongeni township - Gongolamboto, Dar...   \n",
       "\n",
       "                                                   hehe          zone  \\\n",
       "115   Ukonga, Mikongeni township - Gongolamboto, Dar...   KIPUNGUNI B   \n",
       "141   Ukonga, Mikongeni township - Gongolamboto, Dar...   KIPUNGUNI B   \n",
       "619   Ukonga, Mikongeni township - Gongolamboto, Dar...   KIPUNGUNI B   \n",
       "1169  Apple pharmacy, Machimbo Road, Ukonga, Dar es ...   KIPUNGUNI B   \n",
       "1310  Ukonga, Mikongeni township - Gongolamboto, Dar...   KIPUNGUNI B   \n",
       "1528  Ukonga, Mikongeni township - Gongolamboto, Dar...   KIPUNGUNI B   \n",
       "1832  Ukonga, Mikongeni township - Gongolamboto, Dar...   KIPUNGUNI B   \n",
       "1951  Ukonga, Mikongeni township - Gongolamboto, Dar...   KIPUNGUNI B   \n",
       "2252  Ukonga, Mikongeni township - Gongolamboto, Dar...   KIPUNGUNI B   \n",
       "2386  Ukonga, Mikongeni township - Gongolamboto, Dar...   KIPUNGUNI B   \n",
       "2400  Ukonga, Mikongeni township - Gongolamboto, Dar...   KIPUNGUNI B   \n",
       "2508  Ukonga, Mikongeni township - Gongolamboto, Dar...   KIPUNGUNI B   \n",
       "2743  Ukonga, Mikongeni township - Gongolamboto, Dar...   KIPUNGUNI B   \n",
       "2842  Ukonga, Mikongeni township - Gongolamboto, Dar...   KIPUNGUNI B   \n",
       "2940  Ukonga, Mikongeni township - Gongolamboto, Dar...   KIPUNGUNI B   \n",
       "3308  Ukonga, Mikongeni township - Gongolamboto, Dar...   KIPUNGUNI B   \n",
       "3326  Ukonga, Mikongeni township - Gongolamboto, Dar...   KIPUNGUNI B   \n",
       "3714  Ukonga, Mikongeni township - Gongolamboto, Dar...   KIPUNGUNI B   \n",
       "5004  Ukonga, Mikongeni township - Gongolamboto, Dar...   KIPUNGUNI B   \n",
       "5411  Ukonga, Mikongeni, Dar es Salaam, Coastal Zone...   KIPUNGUNI B   \n",
       "5498  Ukonga, Mikongeni township - Gongolamboto, Dar...   KIPUNGUNI B   \n",
       "5537  Ukonga, Mikongeni township - Gongolamboto, Dar...   KIPUNGUNI B   \n",
       "5590  Ukonga, Mikongeni township - Gongolamboto, Dar...   KIPUNGUNI B   \n",
       "6145  Ukonga, Mikongeni township - Gongolamboto, Dar...   KIPUNGUNI B   \n",
       "6187  Ukonga, Mikongeni township - Gongolamboto, Dar...   KIPUNGUNI B   \n",
       "6669  Ukonga, Mikongeni township - Gongolamboto, Dar...   KIPUNGUNI B   \n",
       "7292  Ukonga, Mikongeni township - Gongolamboto, Dar...   KIPUNGUNI B   \n",
       "7479  Ukonga, Mikongeni township - Gongolamboto, Dar...   KIPUNGUNI B   \n",
       "7772  Ukonga, Mikongeni township - Gongolamboto, Dar...   KIPUNGUNI B   \n",
       "7993  Ukonga, Mikongeni township - Gongolamboto, Dar...   KIPUNGUNI B   \n",
       "8395  Ukonga, Mikongeni township - Gongolamboto, Dar...   KIPUNGUNI B   \n",
       "\n",
       "          state                            district  \n",
       "115    Tanzania   Mikongeni township - Gongolamboto  \n",
       "141    Tanzania   Mikongeni township - Gongolamboto  \n",
       "619    Tanzania   Mikongeni township - Gongolamboto  \n",
       "1169   Tanzania                       Machimbo Road  \n",
       "1310   Tanzania   Mikongeni township - Gongolamboto  \n",
       "1528   Tanzania   Mikongeni township - Gongolamboto  \n",
       "1832   Tanzania   Mikongeni township - Gongolamboto  \n",
       "1951   Tanzania   Mikongeni township - Gongolamboto  \n",
       "2252   Tanzania   Mikongeni township - Gongolamboto  \n",
       "2386   Tanzania   Mikongeni township - Gongolamboto  \n",
       "2400   Tanzania   Mikongeni township - Gongolamboto  \n",
       "2508   Tanzania   Mikongeni township - Gongolamboto  \n",
       "2743   Tanzania   Mikongeni township - Gongolamboto  \n",
       "2842   Tanzania   Mikongeni township - Gongolamboto  \n",
       "2940   Tanzania   Mikongeni township - Gongolamboto  \n",
       "3308   Tanzania   Mikongeni township - Gongolamboto  \n",
       "3326   Tanzania   Mikongeni township - Gongolamboto  \n",
       "3714   Tanzania   Mikongeni township - Gongolamboto  \n",
       "5004   Tanzania   Mikongeni township - Gongolamboto  \n",
       "5411   Tanzania                           Mikongeni  \n",
       "5498   Tanzania   Mikongeni township - Gongolamboto  \n",
       "5537   Tanzania   Mikongeni township - Gongolamboto  \n",
       "5590   Tanzania   Mikongeni township - Gongolamboto  \n",
       "6145   Tanzania   Mikongeni township - Gongolamboto  \n",
       "6187   Tanzania   Mikongeni township - Gongolamboto  \n",
       "6669   Tanzania   Mikongeni township - Gongolamboto  \n",
       "7292   Tanzania   Mikongeni township - Gongolamboto  \n",
       "7479   Tanzania   Mikongeni township - Gongolamboto  \n",
       "7772   Tanzania   Mikongeni township - Gongolamboto  \n",
       "7993   Tanzania   Mikongeni township - Gongolamboto  \n",
       "8395   Tanzania   Mikongeni township - Gongolamboto  "
      ]
     },
     "execution_count": 41,
     "metadata": {},
     "output_type": "execute_result"
    }
   ],
   "source": [
    "data[data.zone == ' KIPUNGUNI B']  "
   ]
  },
  {
   "cell_type": "code",
   "execution_count": null,
   "metadata": {},
   "outputs": [],
   "source": [
    "data[data.zone == ' 850']  "
   ]
  },
  {
   "cell_type": "code",
   "execution_count": null,
   "metadata": {},
   "outputs": [],
   "source": [
    "data[data.zone == ' 850']  "
   ]
  },
  {
   "cell_type": "code",
   "execution_count": null,
   "metadata": {},
   "outputs": [],
   "source": [
    "data[data.zone == ' 850']  "
   ]
  },
  {
   "cell_type": "code",
   "execution_count": null,
   "metadata": {},
   "outputs": [],
   "source": [
    "data[data.zone == ' 850']  "
   ]
  },
  {
   "cell_type": "code",
   "execution_count": null,
   "metadata": {},
   "outputs": [],
   "source": [
    "23210                        "
   ]
  },
  {
   "cell_type": "code",
   "execution_count": 62,
   "metadata": {},
   "outputs": [],
   "source": [
    "#(data.zone == ' Kilimanjaro') = (data.state == ' Northern Zone')"
   ]
  },
  {
   "cell_type": "code",
   "execution_count": 63,
   "metadata": {},
   "outputs": [
    {
     "name": "stderr",
     "output_type": "stream",
     "text": [
      "C:\\Users\\OLALEYE ENIOLA\\Anaconda3\\lib\\site-packages\\ipykernel_launcher.py:1: SettingWithCopyWarning: \n",
      "A value is trying to be set on a copy of a slice from a DataFrame\n",
      "\n",
      "See the caveats in the documentation: http://pandas.pydata.org/pandas-docs/stable/indexing.html#indexing-view-versus-copy\n",
      "  \"\"\"Entry point for launching an IPython kernel.\n",
      "C:\\Users\\OLALEYE ENIOLA\\Anaconda3\\lib\\site-packages\\ipykernel_launcher.py:2: SettingWithCopyWarning: \n",
      "A value is trying to be set on a copy of a slice from a DataFrame\n",
      "\n",
      "See the caveats in the documentation: http://pandas.pydata.org/pandas-docs/stable/indexing.html#indexing-view-versus-copy\n",
      "  \n",
      "C:\\Users\\OLALEYE ENIOLA\\Anaconda3\\lib\\site-packages\\ipykernel_launcher.py:3: SettingWithCopyWarning: \n",
      "A value is trying to be set on a copy of a slice from a DataFrame\n",
      "\n",
      "See the caveats in the documentation: http://pandas.pydata.org/pandas-docs/stable/indexing.html#indexing-view-versus-copy\n",
      "  This is separate from the ipykernel package so we can avoid doing imports until\n",
      "C:\\Users\\OLALEYE ENIOLA\\Anaconda3\\lib\\site-packages\\ipykernel_launcher.py:4: SettingWithCopyWarning: \n",
      "A value is trying to be set on a copy of a slice from a DataFrame\n",
      "\n",
      "See the caveats in the documentation: http://pandas.pydata.org/pandas-docs/stable/indexing.html#indexing-view-versus-copy\n",
      "  after removing the cwd from sys.path.\n",
      "C:\\Users\\OLALEYE ENIOLA\\Anaconda3\\lib\\site-packages\\ipykernel_launcher.py:5: SettingWithCopyWarning: \n",
      "A value is trying to be set on a copy of a slice from a DataFrame\n",
      "\n",
      "See the caveats in the documentation: http://pandas.pydata.org/pandas-docs/stable/indexing.html#indexing-view-versus-copy\n",
      "  \"\"\"\n",
      "C:\\Users\\OLALEYE ENIOLA\\Anaconda3\\lib\\site-packages\\ipykernel_launcher.py:6: SettingWithCopyWarning: \n",
      "A value is trying to be set on a copy of a slice from a DataFrame\n",
      "\n",
      "See the caveats in the documentation: http://pandas.pydata.org/pandas-docs/stable/indexing.html#indexing-view-versus-copy\n",
      "  \n",
      "C:\\Users\\OLALEYE ENIOLA\\Anaconda3\\lib\\site-packages\\ipykernel_launcher.py:7: SettingWithCopyWarning: \n",
      "A value is trying to be set on a copy of a slice from a DataFrame\n",
      "\n",
      "See the caveats in the documentation: http://pandas.pydata.org/pandas-docs/stable/indexing.html#indexing-view-versus-copy\n",
      "  import sys\n",
      "C:\\Users\\OLALEYE ENIOLA\\Anaconda3\\lib\\site-packages\\ipykernel_launcher.py:8: SettingWithCopyWarning: \n",
      "A value is trying to be set on a copy of a slice from a DataFrame\n",
      "\n",
      "See the caveats in the documentation: http://pandas.pydata.org/pandas-docs/stable/indexing.html#indexing-view-versus-copy\n",
      "  \n",
      "C:\\Users\\OLALEYE ENIOLA\\Anaconda3\\lib\\site-packages\\ipykernel_launcher.py:9: SettingWithCopyWarning: \n",
      "A value is trying to be set on a copy of a slice from a DataFrame\n",
      "\n",
      "See the caveats in the documentation: http://pandas.pydata.org/pandas-docs/stable/indexing.html#indexing-view-versus-copy\n",
      "  if __name__ == '__main__':\n",
      "C:\\Users\\OLALEYE ENIOLA\\Anaconda3\\lib\\site-packages\\ipykernel_launcher.py:10: SettingWithCopyWarning: \n",
      "A value is trying to be set on a copy of a slice from a DataFrame\n",
      "\n",
      "See the caveats in the documentation: http://pandas.pydata.org/pandas-docs/stable/indexing.html#indexing-view-versus-copy\n",
      "  # Remove the CWD from sys.path while we load stuff.\n"
     ]
    }
   ],
   "source": [
    "data.zone[506:507] = ' Northern Zone'\n",
    "data.zone[1405:1406] = ' Northern Zone'\n",
    "data.zone[1991:1992] = ' Northern Zone'\n",
    "data.zone[2550:2551] = ' Northern Zone'\n",
    "data.zone[4031:4032] = ' Northern Zone'\n",
    "data.zone[4378:4379] = ' Northern Zone'\n",
    "data.zone[5957:5958] = ' Northern Zone'\n",
    "data.zone[6529:6530] = ' Northern Zone'\n",
    "data.zone[7603:7604] = ' Northern Zone'\n",
    "data.zone[8952:8953] = ' Northern Zone'\n"
   ]
  },
  {
   "cell_type": "code",
   "execution_count": 52,
   "metadata": {},
   "outputs": [
    {
     "ename": "SyntaxError",
     "evalue": "invalid syntax (<ipython-input-52-947b01b1f3cf>, line 1)",
     "output_type": "error",
     "traceback": [
      "\u001b[1;36m  File \u001b[1;32m\"<ipython-input-52-947b01b1f3cf>\"\u001b[1;36m, line \u001b[1;32m1\u001b[0m\n\u001b[1;33m    data.zone.apply(lambda x: if x == ' Kilimanjaro' return ' Northern Zone')\u001b[0m\n\u001b[1;37m                               ^\u001b[0m\n\u001b[1;31mSyntaxError\u001b[0m\u001b[1;31m:\u001b[0m invalid syntax\n"
     ]
    }
   ],
   "source": [
    "#data.zone.apply(lambda x: if x == ' Kilimanjaro' return ' Northern Zone')\n",
    "    "
   ]
  },
  {
   "cell_type": "code",
   "execution_count": 37,
   "metadata": {},
   "outputs": [
    {
     "data": {
      "text/html": [
       "<div>\n",
       "<style scoped>\n",
       "    .dataframe tbody tr th:only-of-type {\n",
       "        vertical-align: middle;\n",
       "    }\n",
       "\n",
       "    .dataframe tbody tr th {\n",
       "        vertical-align: top;\n",
       "    }\n",
       "\n",
       "    .dataframe thead th {\n",
       "        text-align: right;\n",
       "    }\n",
       "</style>\n",
       "<table border=\"1\" class=\"dataframe\">\n",
       "  <thead>\n",
       "    <tr style=\"text-align: right;\">\n",
       "      <th></th>\n",
       "      <th>Latitude</th>\n",
       "      <th>Longitude</th>\n",
       "      <th>address</th>\n",
       "      <th>hehe</th>\n",
       "      <th>district</th>\n",
       "      <th>zone</th>\n",
       "      <th>state</th>\n",
       "    </tr>\n",
       "  </thead>\n",
       "  <tbody>\n",
       "    <tr>\n",
       "      <th>1405</th>\n",
       "      <td>-2.878944</td>\n",
       "      <td>37.366773</td>\n",
       "      <td>Rombo, Kilimanjaro, Northern Zone</td>\n",
       "      <td>Rombo, Kilimanjaro, Northern Zone</td>\n",
       "      <td>Kilimanjaro</td>\n",
       "      <td>Kilimanjaro</td>\n",
       "      <td>Northern Zone</td>\n",
       "    </tr>\n",
       "  </tbody>\n",
       "</table>\n",
       "</div>"
      ],
      "text/plain": [
       "      Latitude  Longitude                            address  \\\n",
       "1405 -2.878944  37.366773  Rombo, Kilimanjaro, Northern Zone   \n",
       "\n",
       "                                   hehe      district          zone  \\\n",
       "1405  Rombo, Kilimanjaro, Northern Zone   Kilimanjaro   Kilimanjaro   \n",
       "\n",
       "               state  \n",
       "1405   Northern Zone  "
      ]
     },
     "execution_count": 37,
     "metadata": {},
     "output_type": "execute_result"
    }
   ],
   "source": [
    "data[data.Longitude == 37.366773]"
   ]
  },
  {
   "cell_type": "code",
   "execution_count": 39,
   "metadata": {},
   "outputs": [
    {
     "data": {
      "text/plain": [
       "array([' Western Zone', ' 71201', ' 6284', ' Northern Zone',\n",
       "       ' Coastal Zone', ' Southern Highlands Zone', ' Lake Zone',\n",
       "       ' 71214', ' 71116', ' 25107', ' Central Zone', ' 17503', ' 578',\n",
       "       ' 71117', ' 271', ' 938', ' 850', ' 78492', ' KIPUNGUNI B',\n",
       "       ' 23601', ' 23210', ' 9452', ' 11000', ' 71101', ' 000255',\n",
       "       ' 71109', ' P.O.BOX 22304', ' 1387', ' 71103', ' Zanzibar',\n",
       "       ' 3003', ' 33102', ' 027', ' KASSAMBYA', ' 0097', ' 53208',\n",
       "       ' 10086', ' 4023', ' DAR ES SALAAM', ' 3918', ' Kilimanjaro',\n",
       "       ' +225', ' 20481', ' 35', ' 59315', ' 34588 DSM', ' 36091',\n",
       "       ' 2555', ' 5983', ' 21493', ' 11007', ' 14129', ' -', ' 72208',\n",
       "       ' 186', ' CV1 4FQ', ' P.O BOX 35103', ' 78570', ' Kajiado', ' 886',\n",
       "       ' 78 KAMACHUMU', ' 21518', ' 72101', ' 1941', ' 1371', ' 25195',\n",
       "       ' 72103', ' 4897', ' 131', ' 0078', ' TZA', ' Dodoma', ' P.O/ BOX',\n",
       "       ' 14110', ' 255', ' 31537', 'Northern Province',\n",
       "       ' Northern Region', 'Ruma Primary School', ' 71102', ' 11101',\n",
       "       ' 14 CHAMAKWEZA CHALINZE'], dtype=object)"
      ]
     },
     "execution_count": 39,
     "metadata": {},
     "output_type": "execute_result"
    }
   ],
   "source": [
    "data.zone.unique()"
   ]
  },
  {
   "cell_type": "code",
   "execution_count": null,
   "metadata": {},
   "outputs": [],
   "source": []
  }
 ],
 "metadata": {
  "kernelspec": {
   "display_name": "Python 3",
   "language": "python",
   "name": "python3"
  },
  "language_info": {
   "codemirror_mode": {
    "name": "ipython",
    "version": 3
   },
   "file_extension": ".py",
   "mimetype": "text/x-python",
   "name": "python",
   "nbconvert_exporter": "python",
   "pygments_lexer": "ipython3",
   "version": "3.7.1"
  }
 },
 "nbformat": 4,
 "nbformat_minor": 2
}
