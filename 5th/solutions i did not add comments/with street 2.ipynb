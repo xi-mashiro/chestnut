{
 "cells": [
  {
   "cell_type": "code",
   "execution_count": 267,
   "metadata": {},
   "outputs": [],
   "source": [
    "import numpy as np\n",
    "import pandas as pd\n",
    "import matplotlib.pyplot as plt\n",
    "import pandas as pd\n",
    "import numpy as np\n",
    "import seaborn as sns\n",
    "import matplotlib.pyplot as plt\n",
    "#% matplotlib inline\n",
    "\n",
    "import pylab \n",
    "import scipy.stats as stats"
   ]
  },
  {
   "cell_type": "code",
   "execution_count": 268,
   "metadata": {},
   "outputs": [],
   "source": [
    "data = pd.read_csv(\"training.csv\")\n",
    "test = pd.read_csv(\"test.csv\")"
   ]
  },
  {
   "cell_type": "code",
   "execution_count": 269,
   "metadata": {},
   "outputs": [
    {
     "data": {
      "text/html": [
       "<div>\n",
       "<style scoped>\n",
       "    .dataframe tbody tr th:only-of-type {\n",
       "        vertical-align: middle;\n",
       "    }\n",
       "\n",
       "    .dataframe tbody tr th {\n",
       "        vertical-align: top;\n",
       "    }\n",
       "\n",
       "    .dataframe thead th {\n",
       "        text-align: right;\n",
       "    }\n",
       "</style>\n",
       "<table border=\"1\" class=\"dataframe\">\n",
       "  <thead>\n",
       "    <tr style=\"text-align: right;\">\n",
       "      <th></th>\n",
       "      <th>ID</th>\n",
       "      <th>Q1</th>\n",
       "      <th>Q2</th>\n",
       "      <th>Q3</th>\n",
       "      <th>Q4</th>\n",
       "      <th>Q5</th>\n",
       "      <th>Q6</th>\n",
       "      <th>Q7</th>\n",
       "      <th>Q8_1</th>\n",
       "      <th>Q8_2</th>\n",
       "      <th>...</th>\n",
       "      <th>Q17</th>\n",
       "      <th>Q18</th>\n",
       "      <th>Q19</th>\n",
       "      <th>Latitude</th>\n",
       "      <th>Longitude</th>\n",
       "      <th>mobile_money</th>\n",
       "      <th>savings</th>\n",
       "      <th>borrowing</th>\n",
       "      <th>insurance</th>\n",
       "      <th>mobile_money_classification</th>\n",
       "    </tr>\n",
       "  </thead>\n",
       "  <tbody>\n",
       "    <tr>\n",
       "      <th>0</th>\n",
       "      <td>5086</td>\n",
       "      <td>98</td>\n",
       "      <td>2</td>\n",
       "      <td>3</td>\n",
       "      <td>1</td>\n",
       "      <td>1</td>\n",
       "      <td>2</td>\n",
       "      <td>2</td>\n",
       "      <td>0</td>\n",
       "      <td>0</td>\n",
       "      <td>...</td>\n",
       "      <td>-1</td>\n",
       "      <td>4</td>\n",
       "      <td>4</td>\n",
       "      <td>-4.460442</td>\n",
       "      <td>29.811396</td>\n",
       "      <td>0</td>\n",
       "      <td>0</td>\n",
       "      <td>0</td>\n",
       "      <td>0</td>\n",
       "      <td>0</td>\n",
       "    </tr>\n",
       "    <tr>\n",
       "      <th>1</th>\n",
       "      <td>1258</td>\n",
       "      <td>40</td>\n",
       "      <td>1</td>\n",
       "      <td>1</td>\n",
       "      <td>3</td>\n",
       "      <td>5</td>\n",
       "      <td>1</td>\n",
       "      <td>1</td>\n",
       "      <td>1</td>\n",
       "      <td>0</td>\n",
       "      <td>...</td>\n",
       "      <td>4</td>\n",
       "      <td>1</td>\n",
       "      <td>4</td>\n",
       "      <td>-6.176438</td>\n",
       "      <td>39.244871</td>\n",
       "      <td>1</td>\n",
       "      <td>1</td>\n",
       "      <td>1</td>\n",
       "      <td>0</td>\n",
       "      <td>3</td>\n",
       "    </tr>\n",
       "    <tr>\n",
       "      <th>2</th>\n",
       "      <td>331</td>\n",
       "      <td>18</td>\n",
       "      <td>2</td>\n",
       "      <td>4</td>\n",
       "      <td>6</td>\n",
       "      <td>3</td>\n",
       "      <td>2</td>\n",
       "      <td>1</td>\n",
       "      <td>0</td>\n",
       "      <td>0</td>\n",
       "      <td>...</td>\n",
       "      <td>-1</td>\n",
       "      <td>1</td>\n",
       "      <td>1</td>\n",
       "      <td>-6.825702</td>\n",
       "      <td>37.652798</td>\n",
       "      <td>1</td>\n",
       "      <td>0</td>\n",
       "      <td>0</td>\n",
       "      <td>0</td>\n",
       "      <td>2</td>\n",
       "    </tr>\n",
       "    <tr>\n",
       "      <th>3</th>\n",
       "      <td>6729</td>\n",
       "      <td>50</td>\n",
       "      <td>1</td>\n",
       "      <td>1</td>\n",
       "      <td>3</td>\n",
       "      <td>1</td>\n",
       "      <td>1</td>\n",
       "      <td>1</td>\n",
       "      <td>0</td>\n",
       "      <td>0</td>\n",
       "      <td>...</td>\n",
       "      <td>-1</td>\n",
       "      <td>1</td>\n",
       "      <td>4</td>\n",
       "      <td>-3.372049</td>\n",
       "      <td>35.808307</td>\n",
       "      <td>1</td>\n",
       "      <td>0</td>\n",
       "      <td>1</td>\n",
       "      <td>0</td>\n",
       "      <td>3</td>\n",
       "    </tr>\n",
       "    <tr>\n",
       "      <th>4</th>\n",
       "      <td>8671</td>\n",
       "      <td>34</td>\n",
       "      <td>1</td>\n",
       "      <td>1</td>\n",
       "      <td>1</td>\n",
       "      <td>1</td>\n",
       "      <td>2</td>\n",
       "      <td>1</td>\n",
       "      <td>0</td>\n",
       "      <td>1</td>\n",
       "      <td>...</td>\n",
       "      <td>-1</td>\n",
       "      <td>1</td>\n",
       "      <td>4</td>\n",
       "      <td>-7.179645</td>\n",
       "      <td>31.039095</td>\n",
       "      <td>1</td>\n",
       "      <td>1</td>\n",
       "      <td>0</td>\n",
       "      <td>1</td>\n",
       "      <td>3</td>\n",
       "    </tr>\n",
       "  </tbody>\n",
       "</table>\n",
       "<p>5 rows × 37 columns</p>\n",
       "</div>"
      ],
      "text/plain": [
       "     ID  Q1  Q2  Q3  Q4  Q5  Q6  Q7  Q8_1  Q8_2             ...               \\\n",
       "0  5086  98   2   3   1   1   2   2     0     0             ...                \n",
       "1  1258  40   1   1   3   5   1   1     1     0             ...                \n",
       "2   331  18   2   4   6   3   2   1     0     0             ...                \n",
       "3  6729  50   1   1   3   1   1   1     0     0             ...                \n",
       "4  8671  34   1   1   1   1   2   1     0     1             ...                \n",
       "\n",
       "   Q17  Q18  Q19  Latitude  Longitude  mobile_money  savings  borrowing  \\\n",
       "0   -1    4    4 -4.460442  29.811396             0        0          0   \n",
       "1    4    1    4 -6.176438  39.244871             1        1          1   \n",
       "2   -1    1    1 -6.825702  37.652798             1        0          0   \n",
       "3   -1    1    4 -3.372049  35.808307             1        0          1   \n",
       "4   -1    1    4 -7.179645  31.039095             1        1          0   \n",
       "\n",
       "   insurance  mobile_money_classification  \n",
       "0          0                            0  \n",
       "1          0                            3  \n",
       "2          0                            2  \n",
       "3          0                            3  \n",
       "4          1                            3  \n",
       "\n",
       "[5 rows x 37 columns]"
      ]
     },
     "execution_count": 269,
     "metadata": {},
     "output_type": "execute_result"
    }
   ],
   "source": [
    "data.head()"
   ]
  },
  {
   "cell_type": "code",
   "execution_count": 270,
   "metadata": {},
   "outputs": [],
   "source": [
    "c = pd.read_csv('Eniola_train.csv')\n",
    "d = pd.read_csv('Eniola_test.csv')\n",
    "data  = pd.merge(data,c ,on=['ID'],how='left')\n",
    "test  = pd.merge(test,d ,on=['ID'],how='left')"
   ]
  },
  {
   "cell_type": "code",
   "execution_count": 271,
   "metadata": {},
   "outputs": [
    {
     "data": {
      "text/html": [
       "<div>\n",
       "<style scoped>\n",
       "    .dataframe tbody tr th:only-of-type {\n",
       "        vertical-align: middle;\n",
       "    }\n",
       "\n",
       "    .dataframe tbody tr th {\n",
       "        vertical-align: top;\n",
       "    }\n",
       "\n",
       "    .dataframe thead th {\n",
       "        text-align: right;\n",
       "    }\n",
       "</style>\n",
       "<table border=\"1\" class=\"dataframe\">\n",
       "  <thead>\n",
       "    <tr style=\"text-align: right;\">\n",
       "      <th></th>\n",
       "      <th>ID</th>\n",
       "      <th>Q1</th>\n",
       "      <th>Q2</th>\n",
       "      <th>Q3</th>\n",
       "      <th>Q4</th>\n",
       "      <th>Q5</th>\n",
       "      <th>Q6</th>\n",
       "      <th>Q7</th>\n",
       "      <th>Q8_1</th>\n",
       "      <th>Q8_2</th>\n",
       "      <th>...</th>\n",
       "      <th>Q19</th>\n",
       "      <th>Latitude</th>\n",
       "      <th>Longitude</th>\n",
       "      <th>mobile_money</th>\n",
       "      <th>savings</th>\n",
       "      <th>borrowing</th>\n",
       "      <th>insurance</th>\n",
       "      <th>mobile_money_classification</th>\n",
       "      <th>district</th>\n",
       "      <th>region</th>\n",
       "    </tr>\n",
       "  </thead>\n",
       "  <tbody>\n",
       "    <tr>\n",
       "      <th>0</th>\n",
       "      <td>5086</td>\n",
       "      <td>98</td>\n",
       "      <td>2</td>\n",
       "      <td>3</td>\n",
       "      <td>1</td>\n",
       "      <td>1</td>\n",
       "      <td>2</td>\n",
       "      <td>2</td>\n",
       "      <td>0</td>\n",
       "      <td>0</td>\n",
       "      <td>...</td>\n",
       "      <td>4</td>\n",
       "      <td>-4.460442</td>\n",
       "      <td>29.811396</td>\n",
       "      <td>0</td>\n",
       "      <td>0</td>\n",
       "      <td>0</td>\n",
       "      <td>0</td>\n",
       "      <td>0</td>\n",
       "      <td>Kasulu</td>\n",
       "      <td>Kigoma</td>\n",
       "    </tr>\n",
       "    <tr>\n",
       "      <th>1</th>\n",
       "      <td>1258</td>\n",
       "      <td>40</td>\n",
       "      <td>1</td>\n",
       "      <td>1</td>\n",
       "      <td>3</td>\n",
       "      <td>5</td>\n",
       "      <td>1</td>\n",
       "      <td>1</td>\n",
       "      <td>1</td>\n",
       "      <td>0</td>\n",
       "      <td>...</td>\n",
       "      <td>4</td>\n",
       "      <td>-6.176438</td>\n",
       "      <td>39.244871</td>\n",
       "      <td>1</td>\n",
       "      <td>1</td>\n",
       "      <td>1</td>\n",
       "      <td>0</td>\n",
       "      <td>3</td>\n",
       "      <td>Zanzibar</td>\n",
       "      <td>Zanzibar</td>\n",
       "    </tr>\n",
       "    <tr>\n",
       "      <th>2</th>\n",
       "      <td>331</td>\n",
       "      <td>18</td>\n",
       "      <td>2</td>\n",
       "      <td>4</td>\n",
       "      <td>6</td>\n",
       "      <td>3</td>\n",
       "      <td>2</td>\n",
       "      <td>1</td>\n",
       "      <td>0</td>\n",
       "      <td>0</td>\n",
       "      <td>...</td>\n",
       "      <td>1</td>\n",
       "      <td>-6.825702</td>\n",
       "      <td>37.652798</td>\n",
       "      <td>1</td>\n",
       "      <td>0</td>\n",
       "      <td>0</td>\n",
       "      <td>0</td>\n",
       "      <td>2</td>\n",
       "      <td>Morogoro Urban</td>\n",
       "      <td>Morogoro</td>\n",
       "    </tr>\n",
       "    <tr>\n",
       "      <th>3</th>\n",
       "      <td>6729</td>\n",
       "      <td>50</td>\n",
       "      <td>1</td>\n",
       "      <td>1</td>\n",
       "      <td>3</td>\n",
       "      <td>1</td>\n",
       "      <td>1</td>\n",
       "      <td>1</td>\n",
       "      <td>0</td>\n",
       "      <td>0</td>\n",
       "      <td>...</td>\n",
       "      <td>4</td>\n",
       "      <td>-3.372049</td>\n",
       "      <td>35.808307</td>\n",
       "      <td>1</td>\n",
       "      <td>0</td>\n",
       "      <td>1</td>\n",
       "      <td>0</td>\n",
       "      <td>3</td>\n",
       "      <td>Karatu</td>\n",
       "      <td>Arusha</td>\n",
       "    </tr>\n",
       "    <tr>\n",
       "      <th>4</th>\n",
       "      <td>8671</td>\n",
       "      <td>34</td>\n",
       "      <td>1</td>\n",
       "      <td>1</td>\n",
       "      <td>1</td>\n",
       "      <td>1</td>\n",
       "      <td>2</td>\n",
       "      <td>1</td>\n",
       "      <td>0</td>\n",
       "      <td>1</td>\n",
       "      <td>...</td>\n",
       "      <td>4</td>\n",
       "      <td>-7.179645</td>\n",
       "      <td>31.039095</td>\n",
       "      <td>1</td>\n",
       "      <td>1</td>\n",
       "      <td>0</td>\n",
       "      <td>1</td>\n",
       "      <td>3</td>\n",
       "      <td>Mpanda</td>\n",
       "      <td>Rukwa</td>\n",
       "    </tr>\n",
       "  </tbody>\n",
       "</table>\n",
       "<p>5 rows × 39 columns</p>\n",
       "</div>"
      ],
      "text/plain": [
       "     ID  Q1  Q2  Q3  Q4  Q5  Q6  Q7  Q8_1  Q8_2    ...     Q19  Latitude  \\\n",
       "0  5086  98   2   3   1   1   2   2     0     0    ...       4 -4.460442   \n",
       "1  1258  40   1   1   3   5   1   1     1     0    ...       4 -6.176438   \n",
       "2   331  18   2   4   6   3   2   1     0     0    ...       1 -6.825702   \n",
       "3  6729  50   1   1   3   1   1   1     0     0    ...       4 -3.372049   \n",
       "4  8671  34   1   1   1   1   2   1     0     1    ...       4 -7.179645   \n",
       "\n",
       "   Longitude  mobile_money  savings  borrowing  insurance  \\\n",
       "0  29.811396             0        0          0          0   \n",
       "1  39.244871             1        1          1          0   \n",
       "2  37.652798             1        0          0          0   \n",
       "3  35.808307             1        0          1          0   \n",
       "4  31.039095             1        1          0          1   \n",
       "\n",
       "   mobile_money_classification        district    region  \n",
       "0                            0          Kasulu    Kigoma  \n",
       "1                            3        Zanzibar  Zanzibar  \n",
       "2                            2  Morogoro Urban  Morogoro  \n",
       "3                            3          Karatu    Arusha  \n",
       "4                            3          Mpanda     Rukwa  \n",
       "\n",
       "[5 rows x 39 columns]"
      ]
     },
     "execution_count": 271,
     "metadata": {},
     "output_type": "execute_result"
    }
   ],
   "source": [
    "#data.to_csv('fadtrain.csv',index = False)\n",
    "#test.to_csv('fadtest.csv',index = False)\n",
    "data.head()"
   ]
  },
  {
   "cell_type": "code",
   "execution_count": 272,
   "metadata": {},
   "outputs": [],
   "source": [
    "a = pd.read_csv('lat2dat.csv')\n",
    "b = pd.read_csv('lat2test.csv')"
   ]
  },
  {
   "cell_type": "code",
   "execution_count": 273,
   "metadata": {},
   "outputs": [],
   "source": [
    "data.drop(['mobile_money', 'savings', 'borrowing', 'insurance'], axis = 1,inplace = True)\n",
    "\n",
    "#distest = pd.read_csv(\"districttest.csv\")\n",
    "#distrain= pd.read_csv('districttrain.csv')\n",
    "#trreg = pd.read_csv('trainregion.csv')\n",
    "#testreg = pd.read_csv('testregion.csv')\n",
    "#distrain.drop('region',axis =1 ,inplace = True)\n",
    "#data = pd.concat([data,distrain,trreg,a], axis = 1)\n",
    "#test = pd.concat([test,distest,testreg,b], axis = 1)\n",
    "\n",
    "data = pd.concat([data,a], axis = 1)\n",
    "\n",
    "test = pd.concat([test,b], axis = 1)\n",
    "\n"
   ]
  },
  {
   "cell_type": "code",
   "execution_count": 274,
   "metadata": {},
   "outputs": [
    {
     "name": "stdout",
     "output_type": "stream",
     "text": [
      "all_data size is : (9459, 37)\n"
     ]
    },
    {
     "name": "stderr",
     "output_type": "stream",
     "text": [
      "C:\\Users\\OLALEYE ENIOLA\\Anaconda3\\lib\\site-packages\\ipykernel_launcher.py:4: FutureWarning: Sorting because non-concatenation axis is not aligned. A future version\n",
      "of pandas will change to not sort by default.\n",
      "\n",
      "To accept the future behavior, pass 'sort=False'.\n",
      "\n",
      "To retain the current behavior and silence the warning, pass 'sort=True'.\n",
      "\n",
      "  after removing the cwd from sys.path.\n"
     ]
    }
   ],
   "source": [
    "ntrain = data.shape[0]\n",
    "ntest = test.shape[0]\n",
    "\n",
    "all_data = pd.concat((data, test)).reset_index(drop=True)\n",
    "print(\"all_data size is : {}\".format(all_data.shape))"
   ]
  },
  {
   "cell_type": "code",
   "execution_count": 275,
   "metadata": {},
   "outputs": [],
   "source": [
    "ad = pd.read_csv('streetno.csv')\n",
    "ad.drop(['Latitude', 'Longitude', 'address', 'hehe'],axis = 1,inplace = True)"
   ]
  },
  {
   "cell_type": "code",
   "execution_count": 276,
   "metadata": {},
   "outputs": [],
   "source": [
    "ad = ad.fillna(0)"
   ]
  },
  {
   "cell_type": "code",
   "execution_count": 277,
   "metadata": {},
   "outputs": [],
   "source": [
    "def check(ad):\n",
    "    if ad['streetnumber'] == 0:\n",
    "        return 0\n",
    "    else:\n",
    "        return 1"
   ]
  },
  {
   "cell_type": "code",
   "execution_count": 278,
   "metadata": {},
   "outputs": [
    {
     "data": {
      "text/html": [
       "<div>\n",
       "<style scoped>\n",
       "    .dataframe tbody tr th:only-of-type {\n",
       "        vertical-align: middle;\n",
       "    }\n",
       "\n",
       "    .dataframe tbody tr th {\n",
       "        vertical-align: top;\n",
       "    }\n",
       "\n",
       "    .dataframe thead th {\n",
       "        text-align: right;\n",
       "    }\n",
       "</style>\n",
       "<table border=\"1\" class=\"dataframe\">\n",
       "  <thead>\n",
       "    <tr style=\"text-align: right;\">\n",
       "      <th></th>\n",
       "      <th>streetnumber</th>\n",
       "      <th>streetno</th>\n",
       "    </tr>\n",
       "  </thead>\n",
       "  <tbody>\n",
       "    <tr>\n",
       "      <th>0</th>\n",
       "      <td>0.0</td>\n",
       "      <td>0</td>\n",
       "    </tr>\n",
       "    <tr>\n",
       "      <th>1</th>\n",
       "      <td>71201.0</td>\n",
       "      <td>1</td>\n",
       "    </tr>\n",
       "    <tr>\n",
       "      <th>2</th>\n",
       "      <td>6284.0</td>\n",
       "      <td>1</td>\n",
       "    </tr>\n",
       "    <tr>\n",
       "      <th>3</th>\n",
       "      <td>0.0</td>\n",
       "      <td>0</td>\n",
       "    </tr>\n",
       "    <tr>\n",
       "      <th>4</th>\n",
       "      <td>549.0</td>\n",
       "      <td>1</td>\n",
       "    </tr>\n",
       "  </tbody>\n",
       "</table>\n",
       "</div>"
      ],
      "text/plain": [
       "   streetnumber  streetno\n",
       "0           0.0         0\n",
       "1       71201.0         1\n",
       "2        6284.0         1\n",
       "3           0.0         0\n",
       "4         549.0         1"
      ]
     },
     "execution_count": 278,
     "metadata": {},
     "output_type": "execute_result"
    }
   ],
   "source": [
    "ad['streetno'] = ad.apply(check, axis=1)\n",
    "ad.head()"
   ]
  },
  {
   "cell_type": "code",
   "execution_count": 279,
   "metadata": {},
   "outputs": [],
   "source": [
    "ad.drop('streetnumber', axis = 1,inplace = True)"
   ]
  },
  {
   "cell_type": "code",
   "execution_count": 280,
   "metadata": {},
   "outputs": [],
   "source": [
    "all_data = pd.concat([all_data,ad],axis =1)"
   ]
  },
  {
   "cell_type": "code",
   "execution_count": 281,
   "metadata": {},
   "outputs": [
    {
     "data": {
      "text/html": [
       "<div>\n",
       "<style scoped>\n",
       "    .dataframe tbody tr th:only-of-type {\n",
       "        vertical-align: middle;\n",
       "    }\n",
       "\n",
       "    .dataframe tbody tr th {\n",
       "        vertical-align: top;\n",
       "    }\n",
       "\n",
       "    .dataframe thead th {\n",
       "        text-align: right;\n",
       "    }\n",
       "</style>\n",
       "<table border=\"1\" class=\"dataframe\">\n",
       "  <thead>\n",
       "    <tr style=\"text-align: right;\">\n",
       "      <th></th>\n",
       "      <th>ID</th>\n",
       "      <th>Latitude</th>\n",
       "      <th>Longitude</th>\n",
       "      <th>Q1</th>\n",
       "      <th>Q10</th>\n",
       "      <th>Q11</th>\n",
       "      <th>Q12</th>\n",
       "      <th>Q13</th>\n",
       "      <th>Q14</th>\n",
       "      <th>Q15</th>\n",
       "      <th>...</th>\n",
       "      <th>Q8_7</th>\n",
       "      <th>Q8_8</th>\n",
       "      <th>Q8_9</th>\n",
       "      <th>Q9</th>\n",
       "      <th>district</th>\n",
       "      <th>latitude2</th>\n",
       "      <th>longitude</th>\n",
       "      <th>mobile_money_classification</th>\n",
       "      <th>region</th>\n",
       "      <th>streetno</th>\n",
       "    </tr>\n",
       "  </thead>\n",
       "  <tbody>\n",
       "    <tr>\n",
       "      <th>0</th>\n",
       "      <td>5086</td>\n",
       "      <td>-4.460442</td>\n",
       "      <td>29.811396</td>\n",
       "      <td>98</td>\n",
       "      <td>-1</td>\n",
       "      <td>-1</td>\n",
       "      <td>2</td>\n",
       "      <td>-1</td>\n",
       "      <td>2</td>\n",
       "      <td>-1</td>\n",
       "      <td>...</td>\n",
       "      <td>0</td>\n",
       "      <td>0</td>\n",
       "      <td>1</td>\n",
       "      <td>-1</td>\n",
       "      <td>Kasulu</td>\n",
       "      <td>-4.57268</td>\n",
       "      <td>30.11092</td>\n",
       "      <td>0.0</td>\n",
       "      <td>Kigoma</td>\n",
       "      <td>0</td>\n",
       "    </tr>\n",
       "    <tr>\n",
       "      <th>1</th>\n",
       "      <td>1258</td>\n",
       "      <td>-6.176438</td>\n",
       "      <td>39.244871</td>\n",
       "      <td>40</td>\n",
       "      <td>-1</td>\n",
       "      <td>-1</td>\n",
       "      <td>1</td>\n",
       "      <td>4</td>\n",
       "      <td>1</td>\n",
       "      <td>5</td>\n",
       "      <td>...</td>\n",
       "      <td>0</td>\n",
       "      <td>0</td>\n",
       "      <td>0</td>\n",
       "      <td>1</td>\n",
       "      <td>Zanzibar</td>\n",
       "      <td>-6.16875</td>\n",
       "      <td>39.20243</td>\n",
       "      <td>3.0</td>\n",
       "      <td>Zanzibar</td>\n",
       "      <td>1</td>\n",
       "    </tr>\n",
       "    <tr>\n",
       "      <th>2</th>\n",
       "      <td>331</td>\n",
       "      <td>-6.825702</td>\n",
       "      <td>37.652798</td>\n",
       "      <td>18</td>\n",
       "      <td>-1</td>\n",
       "      <td>-1</td>\n",
       "      <td>2</td>\n",
       "      <td>-1</td>\n",
       "      <td>2</td>\n",
       "      <td>-1</td>\n",
       "      <td>...</td>\n",
       "      <td>0</td>\n",
       "      <td>0</td>\n",
       "      <td>1</td>\n",
       "      <td>-1</td>\n",
       "      <td>Morogoro Urban</td>\n",
       "      <td>-6.82282</td>\n",
       "      <td>37.67290</td>\n",
       "      <td>2.0</td>\n",
       "      <td>Morogoro</td>\n",
       "      <td>1</td>\n",
       "    </tr>\n",
       "    <tr>\n",
       "      <th>3</th>\n",
       "      <td>6729</td>\n",
       "      <td>-3.372049</td>\n",
       "      <td>35.808307</td>\n",
       "      <td>50</td>\n",
       "      <td>-1</td>\n",
       "      <td>-1</td>\n",
       "      <td>1</td>\n",
       "      <td>2</td>\n",
       "      <td>2</td>\n",
       "      <td>-1</td>\n",
       "      <td>...</td>\n",
       "      <td>0</td>\n",
       "      <td>0</td>\n",
       "      <td>0</td>\n",
       "      <td>-1</td>\n",
       "      <td>Karatu</td>\n",
       "      <td>-3.33868</td>\n",
       "      <td>35.67410</td>\n",
       "      <td>3.0</td>\n",
       "      <td>Arusha</td>\n",
       "      <td>0</td>\n",
       "    </tr>\n",
       "    <tr>\n",
       "      <th>4</th>\n",
       "      <td>8671</td>\n",
       "      <td>-7.179645</td>\n",
       "      <td>31.039095</td>\n",
       "      <td>34</td>\n",
       "      <td>1</td>\n",
       "      <td>-1</td>\n",
       "      <td>2</td>\n",
       "      <td>-1</td>\n",
       "      <td>1</td>\n",
       "      <td>1</td>\n",
       "      <td>...</td>\n",
       "      <td>0</td>\n",
       "      <td>0</td>\n",
       "      <td>0</td>\n",
       "      <td>-1</td>\n",
       "      <td>Mpanda</td>\n",
       "      <td>-7.50237</td>\n",
       "      <td>31.03970</td>\n",
       "      <td>3.0</td>\n",
       "      <td>Rukwa</td>\n",
       "      <td>1</td>\n",
       "    </tr>\n",
       "  </tbody>\n",
       "</table>\n",
       "<p>5 rows × 38 columns</p>\n",
       "</div>"
      ],
      "text/plain": [
       "     ID  Latitude  Longitude  Q1  Q10  Q11  Q12  Q13  Q14  Q15    ...     \\\n",
       "0  5086 -4.460442  29.811396  98   -1   -1    2   -1    2   -1    ...      \n",
       "1  1258 -6.176438  39.244871  40   -1   -1    1    4    1    5    ...      \n",
       "2   331 -6.825702  37.652798  18   -1   -1    2   -1    2   -1    ...      \n",
       "3  6729 -3.372049  35.808307  50   -1   -1    1    2    2   -1    ...      \n",
       "4  8671 -7.179645  31.039095  34    1   -1    2   -1    1    1    ...      \n",
       "\n",
       "   Q8_7  Q8_8  Q8_9  Q9        district  latitude2  longitude  \\\n",
       "0     0     0     1  -1          Kasulu   -4.57268   30.11092   \n",
       "1     0     0     0   1        Zanzibar   -6.16875   39.20243   \n",
       "2     0     0     1  -1  Morogoro Urban   -6.82282   37.67290   \n",
       "3     0     0     0  -1          Karatu   -3.33868   35.67410   \n",
       "4     0     0     0  -1          Mpanda   -7.50237   31.03970   \n",
       "\n",
       "   mobile_money_classification    region  streetno  \n",
       "0                          0.0    Kigoma         0  \n",
       "1                          3.0  Zanzibar         1  \n",
       "2                          2.0  Morogoro         1  \n",
       "3                          3.0    Arusha         0  \n",
       "4                          3.0     Rukwa         1  \n",
       "\n",
       "[5 rows x 38 columns]"
      ]
     },
     "execution_count": 281,
     "metadata": {},
     "output_type": "execute_result"
    }
   ],
   "source": [
    "all_data.head()"
   ]
  },
  {
   "cell_type": "code",
   "execution_count": 282,
   "metadata": {},
   "outputs": [
    {
     "data": {
      "text/plain": [
       "<matplotlib.axes._subplots.AxesSubplot at 0x1a19dcea668>"
      ]
     },
     "execution_count": 282,
     "metadata": {},
     "output_type": "execute_result"
    },
    {
     "data": {
      "image/png": "[encoded data removed]",
      "text/plain": [
       "<Figure size 1080x360 with 1 Axes>"
      ]
     },
     "metadata": {
      "needs_background": "light"
     },
     "output_type": "display_data"
    }
   ],
   "source": [
    "all_data.Q1.hist()"
   ]
  },
  {
   "cell_type": "code",
   "execution_count": 283,
   "metadata": {},
   "outputs": [
    {
     "data": {
      "text/plain": [
       "100"
      ]
     },
     "execution_count": 283,
     "metadata": {},
     "output_type": "execute_result"
    }
   ],
   "source": [
    "all_data.Q1.max()"
   ]
  },
  {
   "cell_type": "code",
   "execution_count": 284,
   "metadata": {},
   "outputs": [
    {
     "data": {
      "text/plain": [
       "<matplotlib.collections.PathCollection at 0x1a19549e048>"
      ]
     },
     "execution_count": 284,
     "metadata": {},
     "output_type": "execute_result"
    },
    {
     "data": {
      "image/png": "[encoded data removed]",
      "text/plain": [
       "<Figure size 1080x360 with 1 Axes>"
      ]
     },
     "metadata": {
      "needs_background": "light"
     },
     "output_type": "display_data"
    }
   ],
   "source": [
    "plt.scatter(x = all_data.Q1,y = all_data.mobile_money_classification)"
   ]
  },
  {
   "cell_type": "code",
   "execution_count": 285,
   "metadata": {},
   "outputs": [
    {
     "name": "stderr",
     "output_type": "stream",
     "text": [
      "C:\\Users\\OLALEYE ENIOLA\\Anaconda3\\lib\\site-packages\\seaborn\\categorical.py:3666: UserWarning: The `factorplot` function has been renamed to `catplot`. The original name will be removed in a future release. Please update your code. Note that the default `kind` in `factorplot` (`'point'`) has changed `'strip'` in `catplot`.\n",
      "  warnings.warn(msg)\n",
      "C:\\Users\\OLALEYE ENIOLA\\Anaconda3\\lib\\site-packages\\scipy\\stats\\stats.py:1713: FutureWarning: Using a non-tuple sequence for multidimensional indexing is deprecated; use `arr[tuple(seq)]` instead of `arr[seq]`. In the future this will be interpreted as an array index, `arr[np.array(seq)]`, which will result either in an error or a different result.\n",
      "  return np.add.reduce(sorted[indexer] * weights, axis=axis) / sumval\n"
     ]
    },
    {
     "data": {
      "text/plain": [
       "<seaborn.axisgrid.FacetGrid at 0x1a19d97c6a0>"
      ]
     },
     "execution_count": 285,
     "metadata": {},
     "output_type": "execute_result"
    },
    {
     "data": {
      "image/png": "[encoded data removed]",
      "text/plain": [
       "<Figure size 360x360 with 1 Axes>"
      ]
     },
     "metadata": {
      "needs_background": "light"
     },
     "output_type": "display_data"
    }
   ],
   "source": [
    "sns.factorplot(x='Q1',y='mobile_money_classification',data=all_data,kind='bar')"
   ]
  },
  {
   "cell_type": "code",
   "execution_count": 286,
   "metadata": {},
   "outputs": [
    {
     "data": {
      "text/html": [
       "<div>\n",
       "<style scoped>\n",
       "    .dataframe tbody tr th:only-of-type {\n",
       "        vertical-align: middle;\n",
       "    }\n",
       "\n",
       "    .dataframe tbody tr th {\n",
       "        vertical-align: top;\n",
       "    }\n",
       "\n",
       "    .dataframe thead th {\n",
       "        text-align: right;\n",
       "    }\n",
       "</style>\n",
       "<table border=\"1\" class=\"dataframe\">\n",
       "  <thead>\n",
       "    <tr style=\"text-align: right;\">\n",
       "      <th></th>\n",
       "      <th>ID</th>\n",
       "      <th>Latitude</th>\n",
       "      <th>Longitude</th>\n",
       "      <th>Q1</th>\n",
       "      <th>Q10</th>\n",
       "      <th>Q11</th>\n",
       "      <th>Q12</th>\n",
       "      <th>Q13</th>\n",
       "      <th>Q14</th>\n",
       "      <th>Q15</th>\n",
       "      <th>...</th>\n",
       "      <th>Q8_7</th>\n",
       "      <th>Q8_8</th>\n",
       "      <th>Q8_9</th>\n",
       "      <th>Q9</th>\n",
       "      <th>district</th>\n",
       "      <th>latitude2</th>\n",
       "      <th>longitude</th>\n",
       "      <th>mobile_money_classification</th>\n",
       "      <th>region</th>\n",
       "      <th>streetno</th>\n",
       "    </tr>\n",
       "  </thead>\n",
       "  <tbody>\n",
       "    <tr>\n",
       "      <th>0</th>\n",
       "      <td>5086</td>\n",
       "      <td>-4.460442</td>\n",
       "      <td>29.811396</td>\n",
       "      <td>98</td>\n",
       "      <td>-1</td>\n",
       "      <td>-1</td>\n",
       "      <td>2</td>\n",
       "      <td>-1</td>\n",
       "      <td>2</td>\n",
       "      <td>-1</td>\n",
       "      <td>...</td>\n",
       "      <td>0</td>\n",
       "      <td>0</td>\n",
       "      <td>1</td>\n",
       "      <td>-1</td>\n",
       "      <td>Kasulu</td>\n",
       "      <td>-4.57268</td>\n",
       "      <td>30.11092</td>\n",
       "      <td>0.0</td>\n",
       "      <td>Kigoma</td>\n",
       "      <td>0</td>\n",
       "    </tr>\n",
       "    <tr>\n",
       "      <th>1</th>\n",
       "      <td>1258</td>\n",
       "      <td>-6.176438</td>\n",
       "      <td>39.244871</td>\n",
       "      <td>40</td>\n",
       "      <td>-1</td>\n",
       "      <td>-1</td>\n",
       "      <td>1</td>\n",
       "      <td>4</td>\n",
       "      <td>1</td>\n",
       "      <td>5</td>\n",
       "      <td>...</td>\n",
       "      <td>0</td>\n",
       "      <td>0</td>\n",
       "      <td>0</td>\n",
       "      <td>1</td>\n",
       "      <td>Zanzibar</td>\n",
       "      <td>-6.16875</td>\n",
       "      <td>39.20243</td>\n",
       "      <td>3.0</td>\n",
       "      <td>Zanzibar</td>\n",
       "      <td>1</td>\n",
       "    </tr>\n",
       "    <tr>\n",
       "      <th>2</th>\n",
       "      <td>331</td>\n",
       "      <td>-6.825702</td>\n",
       "      <td>37.652798</td>\n",
       "      <td>18</td>\n",
       "      <td>-1</td>\n",
       "      <td>-1</td>\n",
       "      <td>2</td>\n",
       "      <td>-1</td>\n",
       "      <td>2</td>\n",
       "      <td>-1</td>\n",
       "      <td>...</td>\n",
       "      <td>0</td>\n",
       "      <td>0</td>\n",
       "      <td>1</td>\n",
       "      <td>-1</td>\n",
       "      <td>Morogoro Urban</td>\n",
       "      <td>-6.82282</td>\n",
       "      <td>37.67290</td>\n",
       "      <td>2.0</td>\n",
       "      <td>Morogoro</td>\n",
       "      <td>1</td>\n",
       "    </tr>\n",
       "    <tr>\n",
       "      <th>3</th>\n",
       "      <td>6729</td>\n",
       "      <td>-3.372049</td>\n",
       "      <td>35.808307</td>\n",
       "      <td>50</td>\n",
       "      <td>-1</td>\n",
       "      <td>-1</td>\n",
       "      <td>1</td>\n",
       "      <td>2</td>\n",
       "      <td>2</td>\n",
       "      <td>-1</td>\n",
       "      <td>...</td>\n",
       "      <td>0</td>\n",
       "      <td>0</td>\n",
       "      <td>0</td>\n",
       "      <td>-1</td>\n",
       "      <td>Karatu</td>\n",
       "      <td>-3.33868</td>\n",
       "      <td>35.67410</td>\n",
       "      <td>3.0</td>\n",
       "      <td>Arusha</td>\n",
       "      <td>0</td>\n",
       "    </tr>\n",
       "    <tr>\n",
       "      <th>4</th>\n",
       "      <td>8671</td>\n",
       "      <td>-7.179645</td>\n",
       "      <td>31.039095</td>\n",
       "      <td>34</td>\n",
       "      <td>1</td>\n",
       "      <td>-1</td>\n",
       "      <td>2</td>\n",
       "      <td>-1</td>\n",
       "      <td>1</td>\n",
       "      <td>1</td>\n",
       "      <td>...</td>\n",
       "      <td>0</td>\n",
       "      <td>0</td>\n",
       "      <td>0</td>\n",
       "      <td>-1</td>\n",
       "      <td>Mpanda</td>\n",
       "      <td>-7.50237</td>\n",
       "      <td>31.03970</td>\n",
       "      <td>3.0</td>\n",
       "      <td>Rukwa</td>\n",
       "      <td>1</td>\n",
       "    </tr>\n",
       "  </tbody>\n",
       "</table>\n",
       "<p>5 rows × 38 columns</p>\n",
       "</div>"
      ],
      "text/plain": [
       "     ID  Latitude  Longitude  Q1  Q10  Q11  Q12  Q13  Q14  Q15    ...     \\\n",
       "0  5086 -4.460442  29.811396  98   -1   -1    2   -1    2   -1    ...      \n",
       "1  1258 -6.176438  39.244871  40   -1   -1    1    4    1    5    ...      \n",
       "2   331 -6.825702  37.652798  18   -1   -1    2   -1    2   -1    ...      \n",
       "3  6729 -3.372049  35.808307  50   -1   -1    1    2    2   -1    ...      \n",
       "4  8671 -7.179645  31.039095  34    1   -1    2   -1    1    1    ...      \n",
       "\n",
       "   Q8_7  Q8_8  Q8_9  Q9        district  latitude2  longitude  \\\n",
       "0     0     0     1  -1          Kasulu   -4.57268   30.11092   \n",
       "1     0     0     0   1        Zanzibar   -6.16875   39.20243   \n",
       "2     0     0     1  -1  Morogoro Urban   -6.82282   37.67290   \n",
       "3     0     0     0  -1          Karatu   -3.33868   35.67410   \n",
       "4     0     0     0  -1          Mpanda   -7.50237   31.03970   \n",
       "\n",
       "   mobile_money_classification    region  streetno  \n",
       "0                          0.0    Kigoma         0  \n",
       "1                          3.0  Zanzibar         1  \n",
       "2                          2.0  Morogoro         1  \n",
       "3                          3.0    Arusha         0  \n",
       "4                          3.0     Rukwa         1  \n",
       "\n",
       "[5 rows x 38 columns]"
      ]
     },
     "execution_count": 286,
     "metadata": {},
     "output_type": "execute_result"
    }
   ],
   "source": [
    "all_data.head()"
   ]
  },
  {
   "cell_type": "code",
   "execution_count": 287,
   "metadata": {},
   "outputs": [],
   "source": [
    "cols_to_use = data.columns"
   ]
  },
  {
   "cell_type": "code",
   "execution_count": 288,
   "metadata": {},
   "outputs": [],
   "source": [
    "# let's plot the histograms to have an impression of the distribution of the numerical variables\n",
    "#for col in cols_to_use:\n",
    " #   fig = all_data[col].hist(bins=50)\n",
    "  #  fig.set_xlabel(col)\n",
    "   # fig.set_label('fin inclusion')\n",
    "    #plt.show() ''''\n",
    "    \n",
    "    # plot the numerical columns vs the output SalePrice to visualise the (linear) relationship\n",
    "\n",
    "#for col in cols_to_use[:-3]:\n",
    " #   data.plot.scatter(x=col, y='mobile_money_classification', ylim=(0,4))\n",
    "  #  plt.show()"
   ]
  },
  {
   "cell_type": "code",
   "execution_count": 289,
   "metadata": {},
   "outputs": [],
   "source": [
    "all_data = all_data.replace(-1,0)"
   ]
  },
  {
   "cell_type": "code",
   "execution_count": 290,
   "metadata": {},
   "outputs": [
    {
     "data": {
      "text/html": [
       "<div>\n",
       "<style scoped>\n",
       "    .dataframe tbody tr th:only-of-type {\n",
       "        vertical-align: middle;\n",
       "    }\n",
       "\n",
       "    .dataframe tbody tr th {\n",
       "        vertical-align: top;\n",
       "    }\n",
       "\n",
       "    .dataframe thead th {\n",
       "        text-align: right;\n",
       "    }\n",
       "</style>\n",
       "<table border=\"1\" class=\"dataframe\">\n",
       "  <thead>\n",
       "    <tr style=\"text-align: right;\">\n",
       "      <th></th>\n",
       "      <th>ID</th>\n",
       "      <th>Latitude</th>\n",
       "      <th>Longitude</th>\n",
       "      <th>Q1</th>\n",
       "      <th>Q10</th>\n",
       "      <th>Q11</th>\n",
       "      <th>Q12</th>\n",
       "      <th>Q13</th>\n",
       "      <th>Q14</th>\n",
       "      <th>Q15</th>\n",
       "      <th>...</th>\n",
       "      <th>Q8_7</th>\n",
       "      <th>Q8_8</th>\n",
       "      <th>Q8_9</th>\n",
       "      <th>Q9</th>\n",
       "      <th>district</th>\n",
       "      <th>latitude2</th>\n",
       "      <th>longitude</th>\n",
       "      <th>mobile_money_classification</th>\n",
       "      <th>region</th>\n",
       "      <th>streetno</th>\n",
       "    </tr>\n",
       "  </thead>\n",
       "  <tbody>\n",
       "    <tr>\n",
       "      <th>0</th>\n",
       "      <td>5086</td>\n",
       "      <td>-4.460442</td>\n",
       "      <td>29.811396</td>\n",
       "      <td>98</td>\n",
       "      <td>0</td>\n",
       "      <td>0</td>\n",
       "      <td>2</td>\n",
       "      <td>0</td>\n",
       "      <td>2</td>\n",
       "      <td>0</td>\n",
       "      <td>...</td>\n",
       "      <td>0</td>\n",
       "      <td>0</td>\n",
       "      <td>1</td>\n",
       "      <td>0</td>\n",
       "      <td>Kasulu</td>\n",
       "      <td>-4.57268</td>\n",
       "      <td>30.11092</td>\n",
       "      <td>0.0</td>\n",
       "      <td>Kigoma</td>\n",
       "      <td>0</td>\n",
       "    </tr>\n",
       "    <tr>\n",
       "      <th>1</th>\n",
       "      <td>1258</td>\n",
       "      <td>-6.176438</td>\n",
       "      <td>39.244871</td>\n",
       "      <td>40</td>\n",
       "      <td>0</td>\n",
       "      <td>0</td>\n",
       "      <td>1</td>\n",
       "      <td>4</td>\n",
       "      <td>1</td>\n",
       "      <td>5</td>\n",
       "      <td>...</td>\n",
       "      <td>0</td>\n",
       "      <td>0</td>\n",
       "      <td>0</td>\n",
       "      <td>1</td>\n",
       "      <td>Zanzibar</td>\n",
       "      <td>-6.16875</td>\n",
       "      <td>39.20243</td>\n",
       "      <td>3.0</td>\n",
       "      <td>Zanzibar</td>\n",
       "      <td>1</td>\n",
       "    </tr>\n",
       "    <tr>\n",
       "      <th>2</th>\n",
       "      <td>331</td>\n",
       "      <td>-6.825702</td>\n",
       "      <td>37.652798</td>\n",
       "      <td>18</td>\n",
       "      <td>0</td>\n",
       "      <td>0</td>\n",
       "      <td>2</td>\n",
       "      <td>0</td>\n",
       "      <td>2</td>\n",
       "      <td>0</td>\n",
       "      <td>...</td>\n",
       "      <td>0</td>\n",
       "      <td>0</td>\n",
       "      <td>1</td>\n",
       "      <td>0</td>\n",
       "      <td>Morogoro Urban</td>\n",
       "      <td>-6.82282</td>\n",
       "      <td>37.67290</td>\n",
       "      <td>2.0</td>\n",
       "      <td>Morogoro</td>\n",
       "      <td>1</td>\n",
       "    </tr>\n",
       "    <tr>\n",
       "      <th>3</th>\n",
       "      <td>6729</td>\n",
       "      <td>-3.372049</td>\n",
       "      <td>35.808307</td>\n",
       "      <td>50</td>\n",
       "      <td>0</td>\n",
       "      <td>0</td>\n",
       "      <td>1</td>\n",
       "      <td>2</td>\n",
       "      <td>2</td>\n",
       "      <td>0</td>\n",
       "      <td>...</td>\n",
       "      <td>0</td>\n",
       "      <td>0</td>\n",
       "      <td>0</td>\n",
       "      <td>0</td>\n",
       "      <td>Karatu</td>\n",
       "      <td>-3.33868</td>\n",
       "      <td>35.67410</td>\n",
       "      <td>3.0</td>\n",
       "      <td>Arusha</td>\n",
       "      <td>0</td>\n",
       "    </tr>\n",
       "    <tr>\n",
       "      <th>4</th>\n",
       "      <td>8671</td>\n",
       "      <td>-7.179645</td>\n",
       "      <td>31.039095</td>\n",
       "      <td>34</td>\n",
       "      <td>1</td>\n",
       "      <td>0</td>\n",
       "      <td>2</td>\n",
       "      <td>0</td>\n",
       "      <td>1</td>\n",
       "      <td>1</td>\n",
       "      <td>...</td>\n",
       "      <td>0</td>\n",
       "      <td>0</td>\n",
       "      <td>0</td>\n",
       "      <td>0</td>\n",
       "      <td>Mpanda</td>\n",
       "      <td>-7.50237</td>\n",
       "      <td>31.03970</td>\n",
       "      <td>3.0</td>\n",
       "      <td>Rukwa</td>\n",
       "      <td>1</td>\n",
       "    </tr>\n",
       "  </tbody>\n",
       "</table>\n",
       "<p>5 rows × 38 columns</p>\n",
       "</div>"
      ],
      "text/plain": [
       "     ID  Latitude  Longitude  Q1  Q10  Q11  Q12  Q13  Q14  Q15    ...     \\\n",
       "0  5086 -4.460442  29.811396  98    0    0    2    0    2    0    ...      \n",
       "1  1258 -6.176438  39.244871  40    0    0    1    4    1    5    ...      \n",
       "2   331 -6.825702  37.652798  18    0    0    2    0    2    0    ...      \n",
       "3  6729 -3.372049  35.808307  50    0    0    1    2    2    0    ...      \n",
       "4  8671 -7.179645  31.039095  34    1    0    2    0    1    1    ...      \n",
       "\n",
       "   Q8_7  Q8_8  Q8_9  Q9        district  latitude2  longitude  \\\n",
       "0     0     0     1   0          Kasulu   -4.57268   30.11092   \n",
       "1     0     0     0   1        Zanzibar   -6.16875   39.20243   \n",
       "2     0     0     1   0  Morogoro Urban   -6.82282   37.67290   \n",
       "3     0     0     0   0          Karatu   -3.33868   35.67410   \n",
       "4     0     0     0   0          Mpanda   -7.50237   31.03970   \n",
       "\n",
       "   mobile_money_classification    region  streetno  \n",
       "0                          0.0    Kigoma         0  \n",
       "1                          3.0  Zanzibar         1  \n",
       "2                          2.0  Morogoro         1  \n",
       "3                          3.0    Arusha         0  \n",
       "4                          3.0     Rukwa         1  \n",
       "\n",
       "[5 rows x 38 columns]"
      ]
     },
     "execution_count": 290,
     "metadata": {},
     "output_type": "execute_result"
    }
   ],
   "source": [
    "all_data.head()"
   ]
  },
  {
   "cell_type": "code",
   "execution_count": 291,
   "metadata": {},
   "outputs": [
    {
     "data": {
      "text/plain": [
       "array([1, 4, 5, 3, 2], dtype=int64)"
      ]
     },
     "execution_count": 291,
     "metadata": {},
     "output_type": "execute_result"
    }
   ],
   "source": [
    "data.Q16.unique()"
   ]
  },
  {
   "cell_type": "code",
   "execution_count": 292,
   "metadata": {},
   "outputs": [],
   "source": [
    "#all_data['hm'] = all_data['Q1']/all_data['Q16']\n",
    "all_data['hm'] = all_data['Q1']/all_data['Q16']\n"
   ]
  },
  {
   "cell_type": "code",
   "execution_count": 293,
   "metadata": {},
   "outputs": [],
   "source": [
    "\n",
    "#all_data['distance1'] = np.sqrt((data.latitude2 - data.Latitude) ** 2 + (data.longitude - data.Longitude) ** 2)\n",
    "import math"
   ]
  },
  {
   "cell_type": "code",
   "execution_count": 294,
   "metadata": {},
   "outputs": [],
   "source": [
    "#np.radians(data.Latitude)"
   ]
  },
  {
   "cell_type": "code",
   "execution_count": 295,
   "metadata": {},
   "outputs": [],
   "source": [
    "from math import sin, cos, sqrt, atan2\n",
    "def calculate_distance(Latitude, Longitude, latitude2, longitude):\n",
    "    R = 6373.0\n",
    "\n",
    "    Latitude = np.radians(Latitude)\n",
    "    Longitude = np.radians(Longitude)\n",
    "    latitude2 = np.radians(latitude2)\n",
    "    longitude = np.radians(longitude)\n",
    "\n",
    "    dlon = longitude - Longitude\n",
    "    dlat = latitude2 - Latitude\n",
    "\n",
    "    a = np.sin(dlat / 2)**2 + np.cos(Latitude) * np.cos(latitude2) * np.sin(dlon / 2)**2\n",
    "    c = 2 * np.arctan2(np.sqrt(a), np.sqrt(1 - a))\n",
    "\n",
    "    return R * c"
   ]
  },
  {
   "cell_type": "code",
   "execution_count": null,
   "metadata": {},
   "outputs": [],
   "source": []
  },
  {
   "cell_type": "code",
   "execution_count": 296,
   "metadata": {},
   "outputs": [],
   "source": [
    "all_data['distance'] = calculate_distance(**all_data[['Latitude', 'Longitude', 'latitude2', 'longitude']])\n"
   ]
  },
  {
   "cell_type": "code",
   "execution_count": 297,
   "metadata": {},
   "outputs": [],
   "source": [
    "from sklearn.cluster import KMeans"
   ]
  },
  {
   "cell_type": "code",
   "execution_count": 298,
   "metadata": {},
   "outputs": [],
   "source": [
    "km = KMeans(4, init='k-means++') # initialize\n"
   ]
  },
  {
   "cell_type": "code",
   "execution_count": 299,
   "metadata": {},
   "outputs": [
    {
     "data": {
      "text/plain": [
       "KMeans(algorithm='auto', copy_x=True, init='k-means++', max_iter=300,\n",
       "    n_clusters=4, n_init=10, n_jobs=None, precompute_distances='auto',\n",
       "    random_state=None, tol=0.0001, verbose=0)"
      ]
     },
     "execution_count": 299,
     "metadata": {},
     "output_type": "execute_result"
    }
   ],
   "source": [
    "km.fit(all_data.drop(['ID','mobile_money_classification','district','region'], axis = 1))\n",
    "#c = km.predict(X) # classify into three clusters"
   ]
  },
  {
   "cell_type": "code",
   "execution_count": null,
   "metadata": {},
   "outputs": [],
   "source": []
  },
  {
   "cell_type": "code",
   "execution_count": 300,
   "metadata": {},
   "outputs": [
    {
     "data": {
      "text/html": [
       "<div>\n",
       "<style scoped>\n",
       "    .dataframe tbody tr th:only-of-type {\n",
       "        vertical-align: middle;\n",
       "    }\n",
       "\n",
       "    .dataframe tbody tr th {\n",
       "        vertical-align: top;\n",
       "    }\n",
       "\n",
       "    .dataframe thead th {\n",
       "        text-align: right;\n",
       "    }\n",
       "</style>\n",
       "<table border=\"1\" class=\"dataframe\">\n",
       "  <thead>\n",
       "    <tr style=\"text-align: right;\">\n",
       "      <th></th>\n",
       "      <th>clusters</th>\n",
       "    </tr>\n",
       "  </thead>\n",
       "  <tbody>\n",
       "    <tr>\n",
       "      <th>0</th>\n",
       "      <td>3</td>\n",
       "    </tr>\n",
       "    <tr>\n",
       "      <th>1</th>\n",
       "      <td>0</td>\n",
       "    </tr>\n",
       "    <tr>\n",
       "      <th>2</th>\n",
       "      <td>0</td>\n",
       "    </tr>\n",
       "    <tr>\n",
       "      <th>3</th>\n",
       "      <td>0</td>\n",
       "    </tr>\n",
       "    <tr>\n",
       "      <th>4</th>\n",
       "      <td>0</td>\n",
       "    </tr>\n",
       "  </tbody>\n",
       "</table>\n",
       "</div>"
      ],
      "text/plain": [
       "   clusters\n",
       "0         3\n",
       "1         0\n",
       "2         0\n",
       "3         0\n",
       "4         0"
      ]
     },
     "execution_count": 300,
     "metadata": {},
     "output_type": "execute_result"
    }
   ],
   "source": [
    "c = km.predict(all_data.drop(['ID','mobile_money_classification','district','region'], axis =1))\n",
    "c = pd.DataFrame(c)\n",
    "c.columns = ['clusters']\n",
    "c.head()"
   ]
  },
  {
   "cell_type": "code",
   "execution_count": 301,
   "metadata": {},
   "outputs": [],
   "source": [
    "#all_data = pd.concat([all_data,c], axis = 1)"
   ]
  },
  {
   "cell_type": "code",
   "execution_count": null,
   "metadata": {},
   "outputs": [],
   "source": []
  },
  {
   "cell_type": "code",
   "execution_count": 302,
   "metadata": {},
   "outputs": [
    {
     "data": {
      "text/html": [
       "<div>\n",
       "<style scoped>\n",
       "    .dataframe tbody tr th:only-of-type {\n",
       "        vertical-align: middle;\n",
       "    }\n",
       "\n",
       "    .dataframe tbody tr th {\n",
       "        vertical-align: top;\n",
       "    }\n",
       "\n",
       "    .dataframe thead th {\n",
       "        text-align: right;\n",
       "    }\n",
       "</style>\n",
       "<table border=\"1\" class=\"dataframe\">\n",
       "  <thead>\n",
       "    <tr style=\"text-align: right;\">\n",
       "      <th></th>\n",
       "      <th>ID</th>\n",
       "      <th>Latitude</th>\n",
       "      <th>Longitude</th>\n",
       "      <th>Q1</th>\n",
       "      <th>Q10</th>\n",
       "      <th>Q11</th>\n",
       "      <th>Q12</th>\n",
       "      <th>Q13</th>\n",
       "      <th>Q14</th>\n",
       "      <th>Q15</th>\n",
       "      <th>...</th>\n",
       "      <th>Q8_9</th>\n",
       "      <th>Q9</th>\n",
       "      <th>district</th>\n",
       "      <th>latitude2</th>\n",
       "      <th>longitude</th>\n",
       "      <th>mobile_money_classification</th>\n",
       "      <th>region</th>\n",
       "      <th>streetno</th>\n",
       "      <th>hm</th>\n",
       "      <th>distance</th>\n",
       "    </tr>\n",
       "  </thead>\n",
       "  <tbody>\n",
       "    <tr>\n",
       "      <th>0</th>\n",
       "      <td>5086</td>\n",
       "      <td>-4.460442</td>\n",
       "      <td>29.811396</td>\n",
       "      <td>98</td>\n",
       "      <td>0</td>\n",
       "      <td>0</td>\n",
       "      <td>2</td>\n",
       "      <td>0</td>\n",
       "      <td>2</td>\n",
       "      <td>0</td>\n",
       "      <td>...</td>\n",
       "      <td>1</td>\n",
       "      <td>0</td>\n",
       "      <td>Kasulu</td>\n",
       "      <td>-4.57268</td>\n",
       "      <td>30.11092</td>\n",
       "      <td>0.0</td>\n",
       "      <td>Kigoma</td>\n",
       "      <td>0</td>\n",
       "      <td>98.0</td>\n",
       "      <td>35.481343</td>\n",
       "    </tr>\n",
       "    <tr>\n",
       "      <th>1</th>\n",
       "      <td>1258</td>\n",
       "      <td>-6.176438</td>\n",
       "      <td>39.244871</td>\n",
       "      <td>40</td>\n",
       "      <td>0</td>\n",
       "      <td>0</td>\n",
       "      <td>1</td>\n",
       "      <td>4</td>\n",
       "      <td>1</td>\n",
       "      <td>5</td>\n",
       "      <td>...</td>\n",
       "      <td>0</td>\n",
       "      <td>1</td>\n",
       "      <td>Zanzibar</td>\n",
       "      <td>-6.16875</td>\n",
       "      <td>39.20243</td>\n",
       "      <td>3.0</td>\n",
       "      <td>Zanzibar</td>\n",
       "      <td>1</td>\n",
       "      <td>10.0</td>\n",
       "      <td>4.770566</td>\n",
       "    </tr>\n",
       "    <tr>\n",
       "      <th>2</th>\n",
       "      <td>331</td>\n",
       "      <td>-6.825702</td>\n",
       "      <td>37.652798</td>\n",
       "      <td>18</td>\n",
       "      <td>0</td>\n",
       "      <td>0</td>\n",
       "      <td>2</td>\n",
       "      <td>0</td>\n",
       "      <td>2</td>\n",
       "      <td>0</td>\n",
       "      <td>...</td>\n",
       "      <td>1</td>\n",
       "      <td>0</td>\n",
       "      <td>Morogoro Urban</td>\n",
       "      <td>-6.82282</td>\n",
       "      <td>37.67290</td>\n",
       "      <td>2.0</td>\n",
       "      <td>Morogoro</td>\n",
       "      <td>1</td>\n",
       "      <td>18.0</td>\n",
       "      <td>2.243147</td>\n",
       "    </tr>\n",
       "    <tr>\n",
       "      <th>3</th>\n",
       "      <td>6729</td>\n",
       "      <td>-3.372049</td>\n",
       "      <td>35.808307</td>\n",
       "      <td>50</td>\n",
       "      <td>0</td>\n",
       "      <td>0</td>\n",
       "      <td>1</td>\n",
       "      <td>2</td>\n",
       "      <td>2</td>\n",
       "      <td>0</td>\n",
       "      <td>...</td>\n",
       "      <td>0</td>\n",
       "      <td>0</td>\n",
       "      <td>Karatu</td>\n",
       "      <td>-3.33868</td>\n",
       "      <td>35.67410</td>\n",
       "      <td>3.0</td>\n",
       "      <td>Arusha</td>\n",
       "      <td>0</td>\n",
       "      <td>12.5</td>\n",
       "      <td>15.357533</td>\n",
       "    </tr>\n",
       "    <tr>\n",
       "      <th>4</th>\n",
       "      <td>8671</td>\n",
       "      <td>-7.179645</td>\n",
       "      <td>31.039095</td>\n",
       "      <td>34</td>\n",
       "      <td>1</td>\n",
       "      <td>0</td>\n",
       "      <td>2</td>\n",
       "      <td>0</td>\n",
       "      <td>1</td>\n",
       "      <td>1</td>\n",
       "      <td>...</td>\n",
       "      <td>0</td>\n",
       "      <td>0</td>\n",
       "      <td>Mpanda</td>\n",
       "      <td>-7.50237</td>\n",
       "      <td>31.03970</td>\n",
       "      <td>3.0</td>\n",
       "      <td>Rukwa</td>\n",
       "      <td>1</td>\n",
       "      <td>34.0</td>\n",
       "      <td>35.896694</td>\n",
       "    </tr>\n",
       "  </tbody>\n",
       "</table>\n",
       "<p>5 rows × 40 columns</p>\n",
       "</div>"
      ],
      "text/plain": [
       "     ID  Latitude  Longitude  Q1  Q10  Q11  Q12  Q13  Q14  Q15    ...      \\\n",
       "0  5086 -4.460442  29.811396  98    0    0    2    0    2    0    ...       \n",
       "1  1258 -6.176438  39.244871  40    0    0    1    4    1    5    ...       \n",
       "2   331 -6.825702  37.652798  18    0    0    2    0    2    0    ...       \n",
       "3  6729 -3.372049  35.808307  50    0    0    1    2    2    0    ...       \n",
       "4  8671 -7.179645  31.039095  34    1    0    2    0    1    1    ...       \n",
       "\n",
       "   Q8_9  Q9        district  latitude2  longitude  \\\n",
       "0     1   0          Kasulu   -4.57268   30.11092   \n",
       "1     0   1        Zanzibar   -6.16875   39.20243   \n",
       "2     1   0  Morogoro Urban   -6.82282   37.67290   \n",
       "3     0   0          Karatu   -3.33868   35.67410   \n",
       "4     0   0          Mpanda   -7.50237   31.03970   \n",
       "\n",
       "   mobile_money_classification    region  streetno    hm   distance  \n",
       "0                          0.0    Kigoma         0  98.0  35.481343  \n",
       "1                          3.0  Zanzibar         1  10.0   4.770566  \n",
       "2                          2.0  Morogoro         1  18.0   2.243147  \n",
       "3                          3.0    Arusha         0  12.5  15.357533  \n",
       "4                          3.0     Rukwa         1  34.0  35.896694  \n",
       "\n",
       "[5 rows x 40 columns]"
      ]
     },
     "execution_count": 302,
     "metadata": {},
     "output_type": "execute_result"
    }
   ],
   "source": [
    "all_data.head()"
   ]
  },
  {
   "cell_type": "code",
   "execution_count": 303,
   "metadata": {},
   "outputs": [
    {
     "data": {
      "text/plain": [
       "<matplotlib.axes._subplots.AxesSubplot at 0x1a19f0a1160>"
      ]
     },
     "execution_count": 303,
     "metadata": {},
     "output_type": "execute_result"
    },
    {
     "data": {
      "image/png": "[encoded data removed]",
      "text/plain": [
       "<Figure size 1080x360 with 1 Axes>"
      ]
     },
     "metadata": {
      "needs_background": "light"
     },
     "output_type": "display_data"
    }
   ],
   "source": [
    "all_data.distance.hist()"
   ]
  },
  {
   "cell_type": "code",
   "execution_count": 304,
   "metadata": {},
   "outputs": [
    {
     "data": {
      "text/plain": [
       "<matplotlib.axes._subplots.AxesSubplot at 0x1a19f12e630>"
      ]
     },
     "execution_count": 304,
     "metadata": {},
     "output_type": "execute_result"
    },
    {
     "data": {
      "image/png": "[encoded data removed]",
      "text/plain": [
       "<Figure size 1080x360 with 1 Axes>"
      ]
     },
     "metadata": {
      "needs_background": "light"
     },
     "output_type": "display_data"
    }
   ],
   "source": [
    "(all_data.distance**(1/4)).hist()"
   ]
  },
  {
   "cell_type": "code",
   "execution_count": 305,
   "metadata": {},
   "outputs": [
    {
     "data": {
      "image/png": "[encoded data removed]",
      "text/plain": [
       "<Figure size 1080x360 with 1 Axes>"
      ]
     },
     "metadata": {
      "needs_background": "light"
     },
     "output_type": "display_data"
    }
   ],
   "source": [
    "# and the Q-Q plot\n",
    "stats.probplot(all_data.distance, dist=\"norm\", plot=pylab)\n",
    "pylab.show()"
   ]
  },
  {
   "cell_type": "code",
   "execution_count": 306,
   "metadata": {},
   "outputs": [
    {
     "data": {
      "image/png": "[encoded data removed]",
      "text/plain": [
       "<Figure size 1080x360 with 1 Axes>"
      ]
     },
     "metadata": {
      "needs_background": "light"
     },
     "output_type": "display_data"
    }
   ],
   "source": [
    "# and the Q-Q plot\n",
    "stats.probplot((all_data.distance**(1/4)), dist=\"norm\", plot=pylab)\n",
    "pylab.show()"
   ]
  },
  {
   "cell_type": "code",
   "execution_count": 307,
   "metadata": {},
   "outputs": [
    {
     "data": {
      "text/plain": [
       "<matplotlib.axes._subplots.AxesSubplot at 0x1a19f4cf160>"
      ]
     },
     "execution_count": 307,
     "metadata": {},
     "output_type": "execute_result"
    },
    {
     "data": {
      "image/png": "[encoded data removed]",
      "text/plain": [
       "<Figure size 1080x360 with 1 Axes>"
      ]
     },
     "metadata": {
      "needs_background": "light"
     },
     "output_type": "display_data"
    }
   ],
   "source": [
    "all_data.Longitude.hist()"
   ]
  },
  {
   "cell_type": "code",
   "execution_count": 308,
   "metadata": {},
   "outputs": [
    {
     "data": {
      "image/png": "[encoded data removed]",
      "text/plain": [
       "<Figure size 1080x360 with 1 Axes>"
      ]
     },
     "metadata": {
      "needs_background": "light"
     },
     "output_type": "display_data"
    }
   ],
   "source": [
    "# and the Q-Q plot\n",
    "stats.probplot(all_data.Longitude, dist=\"norm\", plot=pylab)\n",
    "pylab.show()"
   ]
  },
  {
   "cell_type": "code",
   "execution_count": 309,
   "metadata": {},
   "outputs": [
    {
     "data": {
      "text/plain": [
       "<matplotlib.axes._subplots.AxesSubplot at 0x1a1a0140ac8>"
      ]
     },
     "execution_count": 309,
     "metadata": {},
     "output_type": "execute_result"
    },
    {
     "data": {
      "image/png": "[encoded data removed]",
      "text/plain": [
       "<Figure size 1080x360 with 1 Axes>"
      ]
     },
     "metadata": {
      "needs_background": "light"
     },
     "output_type": "display_data"
    }
   ],
   "source": [
    "(all_data.Longitude**(1/4)).hist()"
   ]
  },
  {
   "cell_type": "code",
   "execution_count": 310,
   "metadata": {},
   "outputs": [
    {
     "data": {
      "image/png": "[encoded data removed]",
      "text/plain": [
       "<Figure size 1080x360 with 1 Axes>"
      ]
     },
     "metadata": {
      "needs_background": "light"
     },
     "output_type": "display_data"
    }
   ],
   "source": [
    "# and the Q-Q plot\n",
    "stats.probplot((all_data.hm**(1/1.5)), dist=\"norm\", plot=pylab)\n",
    "pylab.show()"
   ]
  },
  {
   "cell_type": "code",
   "execution_count": 311,
   "metadata": {},
   "outputs": [],
   "source": [
    "# let's add the transformed variables to the dataset\n",
    "all_data['distance_transformed'] = all_data.distance**(1/4)\n",
    "#all_data['lon_TRANSFORMED'] = all_data.Longitude**(1/1.5)\n"
   ]
  },
  {
   "cell_type": "code",
   "execution_count": 312,
   "metadata": {},
   "outputs": [],
   "source": [
    "\n",
    "\n",
    "#created features corresponding to alternative coordinate systems\n",
    "#x = xcos + ysin\n",
    "#y = ycos - xsin\n",
    "#all_data[\"rot45X\"] = .707* all_data[\"Longitude\"] + .707* all_data[\"Latitude\"] \n",
    "#all_data[\"rot45Y\"] = .707* all_data[\"Longitude\"] - .707* all_data[\"Latitude\"]\n",
    "\n",
    "#all_data[\"rot30X\"] = (1.732/2)* all_data[\"Latitude\"] + (1./2)* all_data[\"Longitude\"]\n",
    "#all_data[\"rot30Y\"] = (1.732/2)* all_data[\"Longitude\"] - (1./2)* all_data[\"Latitude\"]\n",
    "\n",
    "#all_data[\"rot60X\"] = (1./2)* all_data[\"Latitude\"] + (1.732/2)* all_data[\"Longitude\"] \n",
    "#all_data[\"rot60Y\"] = (1./2)* all_data[\"Longitude\"] - (1.732/2)* all_data[\"Latitude\"]\n",
    "\n",
    "#all_data[\"radial_r\"] = np.sqrt( np.power(all_data[\"Longitude\"],2) + np.power(all_data[\"Latitude\"],2) )"
   ]
  },
  {
   "cell_type": "code",
   "execution_count": 313,
   "metadata": {},
   "outputs": [],
   "source": [
    "#all_data['x'] = np.cos(all_data.Latitude) * np.cos(all_data.Longitude)\n",
    "#all_data['y'] = np.cos(all_data.Latitude) * np.sin(all_data.Longitude) \n",
    "#all_data['z'] = np.sin(all_data.Latitude) \n",
    "#df['ATAN'] = np.arctan(df['SWD']/df['CWD'])\n"
   ]
  },
  {
   "cell_type": "code",
   "execution_count": 314,
   "metadata": {},
   "outputs": [
    {
     "data": {
      "text/plain": [
       "Text(0, 0.5, 'Frequency')"
      ]
     },
     "execution_count": 314,
     "metadata": {},
     "output_type": "execute_result"
    },
    {
     "data": {
      "image/png": "[encoded data removed]",
      "text/plain": [
       "<Figure size 1080x360 with 1 Axes>"
      ]
     },
     "metadata": {
      "needs_background": "light"
     },
     "output_type": "display_data"
    }
   ],
   "source": [
    "\n",
    "\n",
    "\n",
    "fig, ax = plt.subplots()  \n",
    "all_data['Q1'].hist(color='#A9C5D3')  \n",
    "ax.set_title('Developer Age Histogram', fontsize=12)   \n",
    "ax.set_xlabel('Age', fontsize=12)  \n",
    "ax.set_ylabel('Frequency', fontsize=12)\n"
   ]
  },
  {
   "cell_type": "code",
   "execution_count": null,
   "metadata": {},
   "outputs": [],
   "source": []
  },
  {
   "cell_type": "code",
   "execution_count": 315,
   "metadata": {},
   "outputs": [],
   "source": [
    "all_data['Age_bin_round'] = np.array(np.floor(np.array(all_data['Q1']) /10.))"
   ]
  },
  {
   "cell_type": "code",
   "execution_count": 316,
   "metadata": {},
   "outputs": [
    {
     "data": {
      "text/plain": [
       "array([ 9.,  4.,  1.,  5.,  3.,  2.,  7.,  8.,  6., 10.])"
      ]
     },
     "execution_count": 316,
     "metadata": {},
     "output_type": "execute_result"
    }
   ],
   "source": [
    "all_data.Age_bin_round.unique()"
   ]
  },
  {
   "cell_type": "code",
   "execution_count": 317,
   "metadata": {},
   "outputs": [],
   "source": [
    "#all_data['latlong'] = all_data.Longitude + all_data.Latitude"
   ]
  },
  {
   "cell_type": "code",
   "execution_count": 318,
   "metadata": {},
   "outputs": [],
   "source": [
    "all_data['latlong'] = all_data.Longitude + all_data.Latitude"
   ]
  },
  {
   "cell_type": "code",
   "execution_count": 319,
   "metadata": {},
   "outputs": [],
   "source": [
    "#Columns = [  'Q2', 'Q3', 'Q4', 'Q5', 'Q6', 'Q7', 'Q8_1', 'Q8_2', 'Q8_3',\n",
    " #      'Q8_4', 'Q8_5', 'Q8_6', 'Q8_7', 'Q8_8', 'Q8_9', 'Q8_10', 'Q8_11', 'Q9',\n",
    "  #     'Q10', 'Q11', 'Q12', 'Q13', 'Q14', 'Q15', '', 'Q17', 'Q18', 'Q19']"
   ]
  },
  {
   "cell_type": "code",
   "execution_count": 320,
   "metadata": {},
   "outputs": [],
   "source": [
    "#Columns = [ 'Q13',  'Q3']\n",
    "Columns = [  'Q3']"
   ]
  },
  {
   "cell_type": "code",
   "execution_count": 321,
   "metadata": {},
   "outputs": [],
   "source": [
    "all_data[Columns] = all_data[Columns].astype(str)"
   ]
  },
  {
   "cell_type": "code",
   "execution_count": 322,
   "metadata": {},
   "outputs": [],
   "source": [
    "#all_data[Columns] = all_data[Columns].astype(float)"
   ]
  },
  {
   "cell_type": "code",
   "execution_count": 323,
   "metadata": {},
   "outputs": [],
   "source": [
    "#[feat for feat in all_data.columns if all_data[feat].std() == 0 ]"
   ]
  },
  {
   "cell_type": "code",
   "execution_count": 324,
   "metadata": {},
   "outputs": [
    {
     "data": {
      "text/html": [
       "<div>\n",
       "<style scoped>\n",
       "    .dataframe tbody tr th:only-of-type {\n",
       "        vertical-align: middle;\n",
       "    }\n",
       "\n",
       "    .dataframe tbody tr th {\n",
       "        vertical-align: top;\n",
       "    }\n",
       "\n",
       "    .dataframe thead th {\n",
       "        text-align: right;\n",
       "    }\n",
       "</style>\n",
       "<table border=\"1\" class=\"dataframe\">\n",
       "  <thead>\n",
       "    <tr style=\"text-align: right;\">\n",
       "      <th></th>\n",
       "      <th>ID</th>\n",
       "      <th>Latitude</th>\n",
       "      <th>Longitude</th>\n",
       "      <th>Q1</th>\n",
       "      <th>Q10</th>\n",
       "      <th>Q11</th>\n",
       "      <th>Q12</th>\n",
       "      <th>Q13</th>\n",
       "      <th>Q14</th>\n",
       "      <th>Q15</th>\n",
       "      <th>...</th>\n",
       "      <th>latitude2</th>\n",
       "      <th>longitude</th>\n",
       "      <th>mobile_money_classification</th>\n",
       "      <th>region</th>\n",
       "      <th>streetno</th>\n",
       "      <th>hm</th>\n",
       "      <th>distance</th>\n",
       "      <th>distance_transformed</th>\n",
       "      <th>Age_bin_round</th>\n",
       "      <th>latlong</th>\n",
       "    </tr>\n",
       "  </thead>\n",
       "  <tbody>\n",
       "    <tr>\n",
       "      <th>0</th>\n",
       "      <td>5086</td>\n",
       "      <td>-4.460442</td>\n",
       "      <td>29.811396</td>\n",
       "      <td>98</td>\n",
       "      <td>0</td>\n",
       "      <td>0</td>\n",
       "      <td>2</td>\n",
       "      <td>0</td>\n",
       "      <td>2</td>\n",
       "      <td>0</td>\n",
       "      <td>...</td>\n",
       "      <td>-4.57268</td>\n",
       "      <td>30.11092</td>\n",
       "      <td>0.0</td>\n",
       "      <td>Kigoma</td>\n",
       "      <td>0</td>\n",
       "      <td>98.0</td>\n",
       "      <td>35.481343</td>\n",
       "      <td>2.440619</td>\n",
       "      <td>9.0</td>\n",
       "      <td>25.350954</td>\n",
       "    </tr>\n",
       "    <tr>\n",
       "      <th>1</th>\n",
       "      <td>1258</td>\n",
       "      <td>-6.176438</td>\n",
       "      <td>39.244871</td>\n",
       "      <td>40</td>\n",
       "      <td>0</td>\n",
       "      <td>0</td>\n",
       "      <td>1</td>\n",
       "      <td>4</td>\n",
       "      <td>1</td>\n",
       "      <td>5</td>\n",
       "      <td>...</td>\n",
       "      <td>-6.16875</td>\n",
       "      <td>39.20243</td>\n",
       "      <td>3.0</td>\n",
       "      <td>Zanzibar</td>\n",
       "      <td>1</td>\n",
       "      <td>10.0</td>\n",
       "      <td>4.770566</td>\n",
       "      <td>1.477891</td>\n",
       "      <td>4.0</td>\n",
       "      <td>33.068433</td>\n",
       "    </tr>\n",
       "    <tr>\n",
       "      <th>2</th>\n",
       "      <td>331</td>\n",
       "      <td>-6.825702</td>\n",
       "      <td>37.652798</td>\n",
       "      <td>18</td>\n",
       "      <td>0</td>\n",
       "      <td>0</td>\n",
       "      <td>2</td>\n",
       "      <td>0</td>\n",
       "      <td>2</td>\n",
       "      <td>0</td>\n",
       "      <td>...</td>\n",
       "      <td>-6.82282</td>\n",
       "      <td>37.67290</td>\n",
       "      <td>2.0</td>\n",
       "      <td>Morogoro</td>\n",
       "      <td>1</td>\n",
       "      <td>18.0</td>\n",
       "      <td>2.243147</td>\n",
       "      <td>1.223811</td>\n",
       "      <td>1.0</td>\n",
       "      <td>30.827096</td>\n",
       "    </tr>\n",
       "    <tr>\n",
       "      <th>3</th>\n",
       "      <td>6729</td>\n",
       "      <td>-3.372049</td>\n",
       "      <td>35.808307</td>\n",
       "      <td>50</td>\n",
       "      <td>0</td>\n",
       "      <td>0</td>\n",
       "      <td>1</td>\n",
       "      <td>2</td>\n",
       "      <td>2</td>\n",
       "      <td>0</td>\n",
       "      <td>...</td>\n",
       "      <td>-3.33868</td>\n",
       "      <td>35.67410</td>\n",
       "      <td>3.0</td>\n",
       "      <td>Arusha</td>\n",
       "      <td>0</td>\n",
       "      <td>12.5</td>\n",
       "      <td>15.357533</td>\n",
       "      <td>1.979613</td>\n",
       "      <td>5.0</td>\n",
       "      <td>32.436258</td>\n",
       "    </tr>\n",
       "    <tr>\n",
       "      <th>4</th>\n",
       "      <td>8671</td>\n",
       "      <td>-7.179645</td>\n",
       "      <td>31.039095</td>\n",
       "      <td>34</td>\n",
       "      <td>1</td>\n",
       "      <td>0</td>\n",
       "      <td>2</td>\n",
       "      <td>0</td>\n",
       "      <td>1</td>\n",
       "      <td>1</td>\n",
       "      <td>...</td>\n",
       "      <td>-7.50237</td>\n",
       "      <td>31.03970</td>\n",
       "      <td>3.0</td>\n",
       "      <td>Rukwa</td>\n",
       "      <td>1</td>\n",
       "      <td>34.0</td>\n",
       "      <td>35.896694</td>\n",
       "      <td>2.447731</td>\n",
       "      <td>3.0</td>\n",
       "      <td>23.859450</td>\n",
       "    </tr>\n",
       "  </tbody>\n",
       "</table>\n",
       "<p>5 rows × 43 columns</p>\n",
       "</div>"
      ],
      "text/plain": [
       "     ID  Latitude  Longitude  Q1  Q10  Q11  Q12  Q13  Q14  Q15    ...      \\\n",
       "0  5086 -4.460442  29.811396  98    0    0    2    0    2    0    ...       \n",
       "1  1258 -6.176438  39.244871  40    0    0    1    4    1    5    ...       \n",
       "2   331 -6.825702  37.652798  18    0    0    2    0    2    0    ...       \n",
       "3  6729 -3.372049  35.808307  50    0    0    1    2    2    0    ...       \n",
       "4  8671 -7.179645  31.039095  34    1    0    2    0    1    1    ...       \n",
       "\n",
       "   latitude2  longitude  mobile_money_classification    region  streetno  \\\n",
       "0   -4.57268   30.11092                          0.0    Kigoma         0   \n",
       "1   -6.16875   39.20243                          3.0  Zanzibar         1   \n",
       "2   -6.82282   37.67290                          2.0  Morogoro         1   \n",
       "3   -3.33868   35.67410                          3.0    Arusha         0   \n",
       "4   -7.50237   31.03970                          3.0     Rukwa         1   \n",
       "\n",
       "     hm   distance  distance_transformed  Age_bin_round    latlong  \n",
       "0  98.0  35.481343              2.440619            9.0  25.350954  \n",
       "1  10.0   4.770566              1.477891            4.0  33.068433  \n",
       "2  18.0   2.243147              1.223811            1.0  30.827096  \n",
       "3  12.5  15.357533              1.979613            5.0  32.436258  \n",
       "4  34.0  35.896694              2.447731            3.0  23.859450  \n",
       "\n",
       "[5 rows x 43 columns]"
      ]
     },
     "execution_count": 324,
     "metadata": {},
     "output_type": "execute_result"
    }
   ],
   "source": [
    "all_data.head()"
   ]
  },
  {
   "cell_type": "code",
   "execution_count": 325,
   "metadata": {},
   "outputs": [
    {
     "data": {
      "text/plain": [
       "Q3\n",
       "3    1.324484\n",
       "2    1.793304\n",
       "1    1.847625\n",
       "4    1.889077\n",
       "Name: mobile_money_classification, dtype: float64"
      ]
     },
     "execution_count": 325,
     "metadata": {},
     "output_type": "execute_result"
    }
   ],
   "source": [
    "all_data.groupby(['Q3'])['mobile_money_classification'].mean().sort_values()"
   ]
  },
  {
   "cell_type": "code",
   "execution_count": 326,
   "metadata": {},
   "outputs": [
    {
     "data": {
      "text/plain": [
       "Index(['3', '2', '1', '4'], dtype='object', name='Q3')"
      ]
     },
     "execution_count": 326,
     "metadata": {},
     "output_type": "execute_result"
    }
   ],
   "source": [
    "all_data.groupby(['Q3'])['mobile_money_classification'].mean().sort_values().index"
   ]
  },
  {
   "cell_type": "code",
   "execution_count": 327,
   "metadata": {},
   "outputs": [
    {
     "data": {
      "text/plain": [
       "array(['3', '1', '4', '2'], dtype=object)"
      ]
     },
     "execution_count": 327,
     "metadata": {},
     "output_type": "execute_result"
    }
   ],
   "source": [
    "all_data.Q3.unique()"
   ]
  },
  {
   "cell_type": "code",
   "execution_count": 328,
   "metadata": {},
   "outputs": [],
   "source": [
    "ordered_labels = all_data.groupby(['Q3'])['mobile_money_classification'].mean().sort_values().index"
   ]
  },
  {
   "cell_type": "code",
   "execution_count": 329,
   "metadata": {},
   "outputs": [
    {
     "data": {
      "text/plain": [
       "{'3': 0, '2': 1, '1': 2, '4': 3}"
      ]
     },
     "execution_count": 329,
     "metadata": {},
     "output_type": "execute_result"
    }
   ],
   "source": [
    "ordinal_label = {k:i for i, k in enumerate(ordered_labels, 0)} \n",
    "ordinal_label"
   ]
  },
  {
   "cell_type": "code",
   "execution_count": 330,
   "metadata": {},
   "outputs": [],
   "source": [
    "all_data['Q3_ordered'] = all_data.Q3.map(ordinal_label)\n"
   ]
  },
  {
   "cell_type": "code",
   "execution_count": 331,
   "metadata": {},
   "outputs": [],
   "source": [
    "# ordering the cat variables"
   ]
  },
  {
   "cell_type": "code",
   "execution_count": 332,
   "metadata": {},
   "outputs": [
    {
     "data": {
      "text/plain": [
       "Q4\n",
       "1    1.058382\n",
       "2    1.386233\n",
       "5    1.867238\n",
       "3    1.977655\n",
       "4    2.294118\n",
       "6    2.444915\n",
       "8    2.500000\n",
       "7    2.833333\n",
       "Name: mobile_money_classification, dtype: float64"
      ]
     },
     "execution_count": 332,
     "metadata": {},
     "output_type": "execute_result"
    }
   ],
   "source": [
    "all_data.groupby(['Q4'])['mobile_money_classification'].mean().sort_values()"
   ]
  },
  {
   "cell_type": "code",
   "execution_count": 333,
   "metadata": {},
   "outputs": [
    {
     "data": {
      "text/plain": [
       "{1: 0, 2: 1, 5: 2, 3: 3, 4: 4, 6: 5, 8: 6, 7: 7}"
      ]
     },
     "execution_count": 333,
     "metadata": {},
     "output_type": "execute_result"
    }
   ],
   "source": [
    "ordered_labels = all_data.groupby(['Q4'])['mobile_money_classification'].mean().sort_values().index\n",
    "ordinal_label = {k:i for i, k in enumerate(ordered_labels, 0)} \n",
    "ordinal_label"
   ]
  },
  {
   "cell_type": "code",
   "execution_count": 334,
   "metadata": {},
   "outputs": [],
   "source": [
    "all_data['Q4_ordered'] = all_data.Q4.map(ordinal_label)\n"
   ]
  },
  {
   "cell_type": "code",
   "execution_count": null,
   "metadata": {},
   "outputs": [],
   "source": []
  },
  {
   "cell_type": "code",
   "execution_count": 335,
   "metadata": {},
   "outputs": [
    {
     "data": {
      "text/plain": [
       "Text(0, 0.5, 'fin')"
      ]
     },
     "execution_count": 335,
     "metadata": {},
     "output_type": "execute_result"
    },
    {
     "data": {
      "image/png": "[encoded data removed]",
      "text/plain": [
       "<Figure size 1080x360 with 1 Axes>"
      ]
     },
     "metadata": {
      "needs_background": "light"
     },
     "output_type": "display_data"
    }
   ],
   "source": [
    "# let's inspect the newly created monotonic relationship with the target\n",
    "\n",
    "#first we plot the original variable for comparison, there is no monotonic relationship\n",
    "\n",
    "fig = plt.figure()\n",
    "fig = all_data.groupby(['Q3'])['mobile_money_classification'].mean().plot()\n",
    "fig.set_title('Normal relationship between variable and target')\n",
    "fig.set_ylabel('fin')"
   ]
  },
  {
   "cell_type": "code",
   "execution_count": 336,
   "metadata": {},
   "outputs": [],
   "source": [
    "# let's inspect the newly created monotonic relationship with the target\n",
    "\n",
    "#first we plot the original variable for comparison, there is no monotonic relationship\n",
    "\n",
    "#fig = plt.figure()\n",
    "#fig = all_data.groupby(['Q3_ordered'])['mobile_money_classification'].mean().plot()\n",
    "#fig.set_title('Normal relationship between variable and target')\n",
    "#fig.set_ylabel('fin')"
   ]
  },
  {
   "cell_type": "code",
   "execution_count": 337,
   "metadata": {},
   "outputs": [
    {
     "data": {
      "text/plain": [
       "0    1\n",
       "1    3\n",
       "2    6\n",
       "3    3\n",
       "4    1\n",
       "Name: Q4, dtype: int64"
      ]
     },
     "execution_count": 337,
     "metadata": {},
     "output_type": "execute_result"
    }
   ],
   "source": [
    "all_data.Q4.head()"
   ]
  },
  {
   "cell_type": "code",
   "execution_count": 338,
   "metadata": {},
   "outputs": [
    {
     "data": {
      "text/html": [
       "<div>\n",
       "<style scoped>\n",
       "    .dataframe tbody tr th:only-of-type {\n",
       "        vertical-align: middle;\n",
       "    }\n",
       "\n",
       "    .dataframe tbody tr th {\n",
       "        vertical-align: top;\n",
       "    }\n",
       "\n",
       "    .dataframe thead th {\n",
       "        text-align: right;\n",
       "    }\n",
       "</style>\n",
       "<table border=\"1\" class=\"dataframe\">\n",
       "  <thead>\n",
       "    <tr style=\"text-align: right;\">\n",
       "      <th></th>\n",
       "      <th>ID</th>\n",
       "      <th>Latitude</th>\n",
       "      <th>Longitude</th>\n",
       "      <th>Q1</th>\n",
       "      <th>Q10</th>\n",
       "      <th>Q11</th>\n",
       "      <th>Q12</th>\n",
       "      <th>Q13</th>\n",
       "      <th>Q14</th>\n",
       "      <th>Q15</th>\n",
       "      <th>...</th>\n",
       "      <th>mobile_money_classification</th>\n",
       "      <th>region</th>\n",
       "      <th>streetno</th>\n",
       "      <th>hm</th>\n",
       "      <th>distance</th>\n",
       "      <th>distance_transformed</th>\n",
       "      <th>Age_bin_round</th>\n",
       "      <th>latlong</th>\n",
       "      <th>Q3_ordered</th>\n",
       "      <th>Q4_ordered</th>\n",
       "    </tr>\n",
       "  </thead>\n",
       "  <tbody>\n",
       "    <tr>\n",
       "      <th>0</th>\n",
       "      <td>5086</td>\n",
       "      <td>-4.460442</td>\n",
       "      <td>29.811396</td>\n",
       "      <td>98</td>\n",
       "      <td>0</td>\n",
       "      <td>0</td>\n",
       "      <td>2</td>\n",
       "      <td>0</td>\n",
       "      <td>2</td>\n",
       "      <td>0</td>\n",
       "      <td>...</td>\n",
       "      <td>0.0</td>\n",
       "      <td>Kigoma</td>\n",
       "      <td>0</td>\n",
       "      <td>98.0</td>\n",
       "      <td>35.481343</td>\n",
       "      <td>2.440619</td>\n",
       "      <td>9.0</td>\n",
       "      <td>25.350954</td>\n",
       "      <td>0</td>\n",
       "      <td>0</td>\n",
       "    </tr>\n",
       "    <tr>\n",
       "      <th>1</th>\n",
       "      <td>1258</td>\n",
       "      <td>-6.176438</td>\n",
       "      <td>39.244871</td>\n",
       "      <td>40</td>\n",
       "      <td>0</td>\n",
       "      <td>0</td>\n",
       "      <td>1</td>\n",
       "      <td>4</td>\n",
       "      <td>1</td>\n",
       "      <td>5</td>\n",
       "      <td>...</td>\n",
       "      <td>3.0</td>\n",
       "      <td>Zanzibar</td>\n",
       "      <td>1</td>\n",
       "      <td>10.0</td>\n",
       "      <td>4.770566</td>\n",
       "      <td>1.477891</td>\n",
       "      <td>4.0</td>\n",
       "      <td>33.068433</td>\n",
       "      <td>2</td>\n",
       "      <td>3</td>\n",
       "    </tr>\n",
       "    <tr>\n",
       "      <th>2</th>\n",
       "      <td>331</td>\n",
       "      <td>-6.825702</td>\n",
       "      <td>37.652798</td>\n",
       "      <td>18</td>\n",
       "      <td>0</td>\n",
       "      <td>0</td>\n",
       "      <td>2</td>\n",
       "      <td>0</td>\n",
       "      <td>2</td>\n",
       "      <td>0</td>\n",
       "      <td>...</td>\n",
       "      <td>2.0</td>\n",
       "      <td>Morogoro</td>\n",
       "      <td>1</td>\n",
       "      <td>18.0</td>\n",
       "      <td>2.243147</td>\n",
       "      <td>1.223811</td>\n",
       "      <td>1.0</td>\n",
       "      <td>30.827096</td>\n",
       "      <td>3</td>\n",
       "      <td>5</td>\n",
       "    </tr>\n",
       "    <tr>\n",
       "      <th>3</th>\n",
       "      <td>6729</td>\n",
       "      <td>-3.372049</td>\n",
       "      <td>35.808307</td>\n",
       "      <td>50</td>\n",
       "      <td>0</td>\n",
       "      <td>0</td>\n",
       "      <td>1</td>\n",
       "      <td>2</td>\n",
       "      <td>2</td>\n",
       "      <td>0</td>\n",
       "      <td>...</td>\n",
       "      <td>3.0</td>\n",
       "      <td>Arusha</td>\n",
       "      <td>0</td>\n",
       "      <td>12.5</td>\n",
       "      <td>15.357533</td>\n",
       "      <td>1.979613</td>\n",
       "      <td>5.0</td>\n",
       "      <td>32.436258</td>\n",
       "      <td>2</td>\n",
       "      <td>3</td>\n",
       "    </tr>\n",
       "    <tr>\n",
       "      <th>4</th>\n",
       "      <td>8671</td>\n",
       "      <td>-7.179645</td>\n",
       "      <td>31.039095</td>\n",
       "      <td>34</td>\n",
       "      <td>1</td>\n",
       "      <td>0</td>\n",
       "      <td>2</td>\n",
       "      <td>0</td>\n",
       "      <td>1</td>\n",
       "      <td>1</td>\n",
       "      <td>...</td>\n",
       "      <td>3.0</td>\n",
       "      <td>Rukwa</td>\n",
       "      <td>1</td>\n",
       "      <td>34.0</td>\n",
       "      <td>35.896694</td>\n",
       "      <td>2.447731</td>\n",
       "      <td>3.0</td>\n",
       "      <td>23.859450</td>\n",
       "      <td>2</td>\n",
       "      <td>0</td>\n",
       "    </tr>\n",
       "  </tbody>\n",
       "</table>\n",
       "<p>5 rows × 45 columns</p>\n",
       "</div>"
      ],
      "text/plain": [
       "     ID  Latitude  Longitude  Q1  Q10  Q11  Q12  Q13  Q14  Q15     ...      \\\n",
       "0  5086 -4.460442  29.811396  98    0    0    2    0    2    0     ...       \n",
       "1  1258 -6.176438  39.244871  40    0    0    1    4    1    5     ...       \n",
       "2   331 -6.825702  37.652798  18    0    0    2    0    2    0     ...       \n",
       "3  6729 -3.372049  35.808307  50    0    0    1    2    2    0     ...       \n",
       "4  8671 -7.179645  31.039095  34    1    0    2    0    1    1     ...       \n",
       "\n",
       "   mobile_money_classification    region  streetno    hm   distance  \\\n",
       "0                          0.0    Kigoma         0  98.0  35.481343   \n",
       "1                          3.0  Zanzibar         1  10.0   4.770566   \n",
       "2                          2.0  Morogoro         1  18.0   2.243147   \n",
       "3                          3.0    Arusha         0  12.5  15.357533   \n",
       "4                          3.0     Rukwa         1  34.0  35.896694   \n",
       "\n",
       "  distance_transformed  Age_bin_round    latlong  Q3_ordered  Q4_ordered  \n",
       "0             2.440619            9.0  25.350954           0           0  \n",
       "1             1.477891            4.0  33.068433           2           3  \n",
       "2             1.223811            1.0  30.827096           3           5  \n",
       "3             1.979613            5.0  32.436258           2           3  \n",
       "4             2.447731            3.0  23.859450           2           0  \n",
       "\n",
       "[5 rows x 45 columns]"
      ]
     },
     "execution_count": 338,
     "metadata": {},
     "output_type": "execute_result"
    }
   ],
   "source": [
    "all_data.head()"
   ]
  },
  {
   "cell_type": "code",
   "execution_count": 339,
   "metadata": {},
   "outputs": [],
   "source": [
    "all_data.drop(['distance','Q1','ID', 'Latitude',\"Longitude\",'latitude2','longitude'], axis = 1,inplace = True)\n",
    "#all_data.drop(['ID', 'Latitude',\"Longitude\",'latitude2','longitude'], axis = 1,inplace = True)\n",
    "#all_data.drop(['Q1','ID', 'Latitude','latitude2','longitude'], axis = 1,inplace = True)\n"
   ]
  },
  {
   "cell_type": "code",
   "execution_count": 340,
   "metadata": {},
   "outputs": [],
   "source": [
    "#all_data.drop('hm',axis = 1,inplace =True)\n",
    "all_data.drop(['Q4'], axis = 1,inplace = True)"
   ]
  },
  {
   "cell_type": "code",
   "execution_count": 341,
   "metadata": {},
   "outputs": [
    {
     "data": {
      "text/plain": [
       "Index(['Q10', 'Q11', 'Q12', 'Q13', 'Q14', 'Q15', 'Q16', 'Q17', 'Q18', 'Q19',\n",
       "       'Q2', 'Q3', 'Q5', 'Q6', 'Q7', 'Q8_1', 'Q8_10', 'Q8_11', 'Q8_2', 'Q8_3',\n",
       "       'Q8_4', 'Q8_5', 'Q8_6', 'Q8_7', 'Q8_8', 'Q8_9', 'Q9', 'district',\n",
       "       'mobile_money_classification', 'region', 'streetno', 'hm',\n",
       "       'distance_transformed', 'Age_bin_round', 'latlong', 'Q3_ordered',\n",
       "       'Q4_ordered'],\n",
       "      dtype='object')"
      ]
     },
     "execution_count": 341,
     "metadata": {},
     "output_type": "execute_result"
    }
   ],
   "source": [
    "all_data.columns"
   ]
  },
  {
   "cell_type": "code",
   "execution_count": 342,
   "metadata": {},
   "outputs": [],
   "source": [
    "#all_data[\"std\"] = all_data.std(axis=1)"
   ]
  },
  {
   "cell_type": "code",
   "execution_count": 343,
   "metadata": {},
   "outputs": [],
   "source": [
    "#all_data[\"Mean\"] = all_data.mean(axis =1)"
   ]
  },
  {
   "cell_type": "code",
   "execution_count": 344,
   "metadata": {},
   "outputs": [],
   "source": [
    "#all_data.isnull().sum()\n",
    "#all_data[\"sum\"] = all_data.sum(axis  =1)"
   ]
  },
  {
   "cell_type": "code",
   "execution_count": 345,
   "metadata": {},
   "outputs": [],
   "source": [
    "#from pygeocoder import Geocoder"
   ]
  },
  {
   "cell_type": "code",
   "execution_count": 346,
   "metadata": {},
   "outputs": [
    {
     "data": {
      "text/html": [
       "<div>\n",
       "<style scoped>\n",
       "    .dataframe tbody tr th:only-of-type {\n",
       "        vertical-align: middle;\n",
       "    }\n",
       "\n",
       "    .dataframe tbody tr th {\n",
       "        vertical-align: top;\n",
       "    }\n",
       "\n",
       "    .dataframe thead th {\n",
       "        text-align: right;\n",
       "    }\n",
       "</style>\n",
       "<table border=\"1\" class=\"dataframe\">\n",
       "  <thead>\n",
       "    <tr style=\"text-align: right;\">\n",
       "      <th></th>\n",
       "      <th>Q10</th>\n",
       "      <th>Q11</th>\n",
       "      <th>Q12</th>\n",
       "      <th>Q13</th>\n",
       "      <th>Q14</th>\n",
       "      <th>Q15</th>\n",
       "      <th>Q16</th>\n",
       "      <th>Q17</th>\n",
       "      <th>Q18</th>\n",
       "      <th>Q19</th>\n",
       "      <th>...</th>\n",
       "      <th>district</th>\n",
       "      <th>mobile_money_classification</th>\n",
       "      <th>region</th>\n",
       "      <th>streetno</th>\n",
       "      <th>hm</th>\n",
       "      <th>distance_transformed</th>\n",
       "      <th>Age_bin_round</th>\n",
       "      <th>latlong</th>\n",
       "      <th>Q3_ordered</th>\n",
       "      <th>Q4_ordered</th>\n",
       "    </tr>\n",
       "  </thead>\n",
       "  <tbody>\n",
       "    <tr>\n",
       "      <th>0</th>\n",
       "      <td>0</td>\n",
       "      <td>0</td>\n",
       "      <td>2</td>\n",
       "      <td>0</td>\n",
       "      <td>2</td>\n",
       "      <td>0</td>\n",
       "      <td>1</td>\n",
       "      <td>0</td>\n",
       "      <td>4</td>\n",
       "      <td>4</td>\n",
       "      <td>...</td>\n",
       "      <td>Kasulu</td>\n",
       "      <td>0.0</td>\n",
       "      <td>Kigoma</td>\n",
       "      <td>0</td>\n",
       "      <td>98.0</td>\n",
       "      <td>2.440619</td>\n",
       "      <td>9.0</td>\n",
       "      <td>25.350954</td>\n",
       "      <td>0</td>\n",
       "      <td>0</td>\n",
       "    </tr>\n",
       "    <tr>\n",
       "      <th>1</th>\n",
       "      <td>0</td>\n",
       "      <td>0</td>\n",
       "      <td>1</td>\n",
       "      <td>4</td>\n",
       "      <td>1</td>\n",
       "      <td>5</td>\n",
       "      <td>4</td>\n",
       "      <td>4</td>\n",
       "      <td>1</td>\n",
       "      <td>4</td>\n",
       "      <td>...</td>\n",
       "      <td>Zanzibar</td>\n",
       "      <td>3.0</td>\n",
       "      <td>Zanzibar</td>\n",
       "      <td>1</td>\n",
       "      <td>10.0</td>\n",
       "      <td>1.477891</td>\n",
       "      <td>4.0</td>\n",
       "      <td>33.068433</td>\n",
       "      <td>2</td>\n",
       "      <td>3</td>\n",
       "    </tr>\n",
       "    <tr>\n",
       "      <th>2</th>\n",
       "      <td>0</td>\n",
       "      <td>0</td>\n",
       "      <td>2</td>\n",
       "      <td>0</td>\n",
       "      <td>2</td>\n",
       "      <td>0</td>\n",
       "      <td>1</td>\n",
       "      <td>0</td>\n",
       "      <td>1</td>\n",
       "      <td>1</td>\n",
       "      <td>...</td>\n",
       "      <td>Morogoro Urban</td>\n",
       "      <td>2.0</td>\n",
       "      <td>Morogoro</td>\n",
       "      <td>1</td>\n",
       "      <td>18.0</td>\n",
       "      <td>1.223811</td>\n",
       "      <td>1.0</td>\n",
       "      <td>30.827096</td>\n",
       "      <td>3</td>\n",
       "      <td>5</td>\n",
       "    </tr>\n",
       "    <tr>\n",
       "      <th>3</th>\n",
       "      <td>0</td>\n",
       "      <td>0</td>\n",
       "      <td>1</td>\n",
       "      <td>2</td>\n",
       "      <td>2</td>\n",
       "      <td>0</td>\n",
       "      <td>4</td>\n",
       "      <td>0</td>\n",
       "      <td>1</td>\n",
       "      <td>4</td>\n",
       "      <td>...</td>\n",
       "      <td>Karatu</td>\n",
       "      <td>3.0</td>\n",
       "      <td>Arusha</td>\n",
       "      <td>0</td>\n",
       "      <td>12.5</td>\n",
       "      <td>1.979613</td>\n",
       "      <td>5.0</td>\n",
       "      <td>32.436258</td>\n",
       "      <td>2</td>\n",
       "      <td>3</td>\n",
       "    </tr>\n",
       "    <tr>\n",
       "      <th>4</th>\n",
       "      <td>1</td>\n",
       "      <td>0</td>\n",
       "      <td>2</td>\n",
       "      <td>0</td>\n",
       "      <td>1</td>\n",
       "      <td>1</td>\n",
       "      <td>1</td>\n",
       "      <td>0</td>\n",
       "      <td>1</td>\n",
       "      <td>4</td>\n",
       "      <td>...</td>\n",
       "      <td>Mpanda</td>\n",
       "      <td>3.0</td>\n",
       "      <td>Rukwa</td>\n",
       "      <td>1</td>\n",
       "      <td>34.0</td>\n",
       "      <td>2.447731</td>\n",
       "      <td>3.0</td>\n",
       "      <td>23.859450</td>\n",
       "      <td>2</td>\n",
       "      <td>0</td>\n",
       "    </tr>\n",
       "  </tbody>\n",
       "</table>\n",
       "<p>5 rows × 37 columns</p>\n",
       "</div>"
      ],
      "text/plain": [
       "   Q10  Q11  Q12  Q13  Q14  Q15  Q16  Q17  Q18  Q19     ...      \\\n",
       "0    0    0    2    0    2    0    1    0    4    4     ...       \n",
       "1    0    0    1    4    1    5    4    4    1    4     ...       \n",
       "2    0    0    2    0    2    0    1    0    1    1     ...       \n",
       "3    0    0    1    2    2    0    4    0    1    4     ...       \n",
       "4    1    0    2    0    1    1    1    0    1    4     ...       \n",
       "\n",
       "         district mobile_money_classification    region  streetno    hm  \\\n",
       "0          Kasulu                         0.0    Kigoma         0  98.0   \n",
       "1        Zanzibar                         3.0  Zanzibar         1  10.0   \n",
       "2  Morogoro Urban                         2.0  Morogoro         1  18.0   \n",
       "3          Karatu                         3.0    Arusha         0  12.5   \n",
       "4          Mpanda                         3.0     Rukwa         1  34.0   \n",
       "\n",
       "   distance_transformed  Age_bin_round    latlong  Q3_ordered  Q4_ordered  \n",
       "0              2.440619            9.0  25.350954           0           0  \n",
       "1              1.477891            4.0  33.068433           2           3  \n",
       "2              1.223811            1.0  30.827096           3           5  \n",
       "3              1.979613            5.0  32.436258           2           3  \n",
       "4              2.447731            3.0  23.859450           2           0  \n",
       "\n",
       "[5 rows x 37 columns]"
      ]
     },
     "execution_count": 346,
     "metadata": {},
     "output_type": "execute_result"
    }
   ],
   "source": [
    "all_data.head()"
   ]
  },
  {
   "cell_type": "code",
   "execution_count": 347,
   "metadata": {},
   "outputs": [],
   "source": [
    "#import geocoder\n",
    "all_data = pd.get_dummies(all_data)\n",
    "\n"
   ]
  },
  {
   "cell_type": "code",
   "execution_count": 348,
   "metadata": {},
   "outputs": [
    {
     "data": {
      "text/plain": [
       "[]"
      ]
     },
     "execution_count": 348,
     "metadata": {},
     "output_type": "execute_result"
    }
   ],
   "source": [
    "# remove constant features\n",
    "[feat for feat in all_data.columns if all_data[feat].std() == 0]\n"
   ]
  },
  {
   "cell_type": "code",
   "execution_count": null,
   "metadata": {},
   "outputs": [],
   "source": []
  },
  {
   "cell_type": "code",
   "execution_count": 349,
   "metadata": {},
   "outputs": [],
   "source": [
    "\n",
    "#Get the new dataset\n",
    "data = all_data[:ntrain]\n",
    "test = all_data[ntrain:]"
   ]
  },
  {
   "cell_type": "code",
   "execution_count": 350,
   "metadata": {},
   "outputs": [
    {
     "data": {
      "text/html": [
       "<div>\n",
       "<style scoped>\n",
       "    .dataframe tbody tr th:only-of-type {\n",
       "        vertical-align: middle;\n",
       "    }\n",
       "\n",
       "    .dataframe tbody tr th {\n",
       "        vertical-align: top;\n",
       "    }\n",
       "\n",
       "    .dataframe thead th {\n",
       "        text-align: right;\n",
       "    }\n",
       "</style>\n",
       "<table border=\"1\" class=\"dataframe\">\n",
       "  <thead>\n",
       "    <tr style=\"text-align: right;\">\n",
       "      <th></th>\n",
       "      <th>Q10</th>\n",
       "      <th>Q11</th>\n",
       "      <th>Q12</th>\n",
       "      <th>Q13</th>\n",
       "      <th>Q14</th>\n",
       "      <th>Q15</th>\n",
       "      <th>Q16</th>\n",
       "      <th>Q17</th>\n",
       "      <th>Q18</th>\n",
       "      <th>Q19</th>\n",
       "      <th>...</th>\n",
       "      <th>region_Mtwara</th>\n",
       "      <th>region_Mwanza</th>\n",
       "      <th>region_Pwani</th>\n",
       "      <th>region_Rukwa</th>\n",
       "      <th>region_Ruvuma</th>\n",
       "      <th>region_Shinyanga</th>\n",
       "      <th>region_Singida</th>\n",
       "      <th>region_Tabora</th>\n",
       "      <th>region_Tanga</th>\n",
       "      <th>region_Zanzibar</th>\n",
       "    </tr>\n",
       "  </thead>\n",
       "  <tbody>\n",
       "    <tr>\n",
       "      <th>0</th>\n",
       "      <td>0</td>\n",
       "      <td>0</td>\n",
       "      <td>2</td>\n",
       "      <td>0</td>\n",
       "      <td>2</td>\n",
       "      <td>0</td>\n",
       "      <td>1</td>\n",
       "      <td>0</td>\n",
       "      <td>4</td>\n",
       "      <td>4</td>\n",
       "      <td>...</td>\n",
       "      <td>0</td>\n",
       "      <td>0</td>\n",
       "      <td>0</td>\n",
       "      <td>0</td>\n",
       "      <td>0</td>\n",
       "      <td>0</td>\n",
       "      <td>0</td>\n",
       "      <td>0</td>\n",
       "      <td>0</td>\n",
       "      <td>0</td>\n",
       "    </tr>\n",
       "    <tr>\n",
       "      <th>1</th>\n",
       "      <td>0</td>\n",
       "      <td>0</td>\n",
       "      <td>1</td>\n",
       "      <td>4</td>\n",
       "      <td>1</td>\n",
       "      <td>5</td>\n",
       "      <td>4</td>\n",
       "      <td>4</td>\n",
       "      <td>1</td>\n",
       "      <td>4</td>\n",
       "      <td>...</td>\n",
       "      <td>0</td>\n",
       "      <td>0</td>\n",
       "      <td>0</td>\n",
       "      <td>0</td>\n",
       "      <td>0</td>\n",
       "      <td>0</td>\n",
       "      <td>0</td>\n",
       "      <td>0</td>\n",
       "      <td>0</td>\n",
       "      <td>1</td>\n",
       "    </tr>\n",
       "    <tr>\n",
       "      <th>2</th>\n",
       "      <td>0</td>\n",
       "      <td>0</td>\n",
       "      <td>2</td>\n",
       "      <td>0</td>\n",
       "      <td>2</td>\n",
       "      <td>0</td>\n",
       "      <td>1</td>\n",
       "      <td>0</td>\n",
       "      <td>1</td>\n",
       "      <td>1</td>\n",
       "      <td>...</td>\n",
       "      <td>0</td>\n",
       "      <td>0</td>\n",
       "      <td>0</td>\n",
       "      <td>0</td>\n",
       "      <td>0</td>\n",
       "      <td>0</td>\n",
       "      <td>0</td>\n",
       "      <td>0</td>\n",
       "      <td>0</td>\n",
       "      <td>0</td>\n",
       "    </tr>\n",
       "    <tr>\n",
       "      <th>3</th>\n",
       "      <td>0</td>\n",
       "      <td>0</td>\n",
       "      <td>1</td>\n",
       "      <td>2</td>\n",
       "      <td>2</td>\n",
       "      <td>0</td>\n",
       "      <td>4</td>\n",
       "      <td>0</td>\n",
       "      <td>1</td>\n",
       "      <td>4</td>\n",
       "      <td>...</td>\n",
       "      <td>0</td>\n",
       "      <td>0</td>\n",
       "      <td>0</td>\n",
       "      <td>0</td>\n",
       "      <td>0</td>\n",
       "      <td>0</td>\n",
       "      <td>0</td>\n",
       "      <td>0</td>\n",
       "      <td>0</td>\n",
       "      <td>0</td>\n",
       "    </tr>\n",
       "    <tr>\n",
       "      <th>4</th>\n",
       "      <td>1</td>\n",
       "      <td>0</td>\n",
       "      <td>2</td>\n",
       "      <td>0</td>\n",
       "      <td>1</td>\n",
       "      <td>1</td>\n",
       "      <td>1</td>\n",
       "      <td>0</td>\n",
       "      <td>1</td>\n",
       "      <td>4</td>\n",
       "      <td>...</td>\n",
       "      <td>0</td>\n",
       "      <td>0</td>\n",
       "      <td>0</td>\n",
       "      <td>1</td>\n",
       "      <td>0</td>\n",
       "      <td>0</td>\n",
       "      <td>0</td>\n",
       "      <td>0</td>\n",
       "      <td>0</td>\n",
       "      <td>0</td>\n",
       "    </tr>\n",
       "  </tbody>\n",
       "</table>\n",
       "<p>5 rows × 181 columns</p>\n",
       "</div>"
      ],
      "text/plain": [
       "   Q10  Q11  Q12  Q13  Q14  Q15  Q16  Q17  Q18  Q19       ...         \\\n",
       "0    0    0    2    0    2    0    1    0    4    4       ...          \n",
       "1    0    0    1    4    1    5    4    4    1    4       ...          \n",
       "2    0    0    2    0    2    0    1    0    1    1       ...          \n",
       "3    0    0    1    2    2    0    4    0    1    4       ...          \n",
       "4    1    0    2    0    1    1    1    0    1    4       ...          \n",
       "\n",
       "   region_Mtwara  region_Mwanza  region_Pwani  region_Rukwa  region_Ruvuma  \\\n",
       "0              0              0             0             0              0   \n",
       "1              0              0             0             0              0   \n",
       "2              0              0             0             0              0   \n",
       "3              0              0             0             0              0   \n",
       "4              0              0             0             1              0   \n",
       "\n",
       "   region_Shinyanga  region_Singida  region_Tabora  region_Tanga  \\\n",
       "0                 0               0              0             0   \n",
       "1                 0               0              0             0   \n",
       "2                 0               0              0             0   \n",
       "3                 0               0              0             0   \n",
       "4                 0               0              0             0   \n",
       "\n",
       "   region_Zanzibar  \n",
       "0                0  \n",
       "1                1  \n",
       "2                0  \n",
       "3                0  \n",
       "4                0  \n",
       "\n",
       "[5 rows x 181 columns]"
      ]
     },
     "execution_count": 350,
     "metadata": {},
     "output_type": "execute_result"
    }
   ],
   "source": [
    "data.head()"
   ]
  },
  {
   "cell_type": "code",
   "execution_count": 351,
   "metadata": {},
   "outputs": [
    {
     "data": {
      "text/html": [
       "<div>\n",
       "<style scoped>\n",
       "    .dataframe tbody tr th:only-of-type {\n",
       "        vertical-align: middle;\n",
       "    }\n",
       "\n",
       "    .dataframe tbody tr th {\n",
       "        vertical-align: top;\n",
       "    }\n",
       "\n",
       "    .dataframe thead th {\n",
       "        text-align: right;\n",
       "    }\n",
       "</style>\n",
       "<table border=\"1\" class=\"dataframe\">\n",
       "  <thead>\n",
       "    <tr style=\"text-align: right;\">\n",
       "      <th></th>\n",
       "      <th>Q10</th>\n",
       "      <th>Q11</th>\n",
       "      <th>Q12</th>\n",
       "      <th>Q13</th>\n",
       "      <th>Q14</th>\n",
       "      <th>Q15</th>\n",
       "      <th>Q16</th>\n",
       "      <th>Q17</th>\n",
       "      <th>Q18</th>\n",
       "      <th>Q19</th>\n",
       "      <th>...</th>\n",
       "      <th>region_Mtwara</th>\n",
       "      <th>region_Mwanza</th>\n",
       "      <th>region_Pwani</th>\n",
       "      <th>region_Rukwa</th>\n",
       "      <th>region_Ruvuma</th>\n",
       "      <th>region_Shinyanga</th>\n",
       "      <th>region_Singida</th>\n",
       "      <th>region_Tabora</th>\n",
       "      <th>region_Tanga</th>\n",
       "      <th>region_Zanzibar</th>\n",
       "    </tr>\n",
       "  </thead>\n",
       "  <tbody>\n",
       "    <tr>\n",
       "      <th>7094</th>\n",
       "      <td>0</td>\n",
       "      <td>1</td>\n",
       "      <td>1</td>\n",
       "      <td>6</td>\n",
       "      <td>1</td>\n",
       "      <td>4</td>\n",
       "      <td>5</td>\n",
       "      <td>0</td>\n",
       "      <td>1</td>\n",
       "      <td>4</td>\n",
       "      <td>...</td>\n",
       "      <td>0</td>\n",
       "      <td>1</td>\n",
       "      <td>0</td>\n",
       "      <td>0</td>\n",
       "      <td>0</td>\n",
       "      <td>0</td>\n",
       "      <td>0</td>\n",
       "      <td>0</td>\n",
       "      <td>0</td>\n",
       "      <td>0</td>\n",
       "    </tr>\n",
       "    <tr>\n",
       "      <th>7095</th>\n",
       "      <td>1</td>\n",
       "      <td>0</td>\n",
       "      <td>2</td>\n",
       "      <td>0</td>\n",
       "      <td>1</td>\n",
       "      <td>4</td>\n",
       "      <td>1</td>\n",
       "      <td>0</td>\n",
       "      <td>1</td>\n",
       "      <td>4</td>\n",
       "      <td>...</td>\n",
       "      <td>0</td>\n",
       "      <td>0</td>\n",
       "      <td>0</td>\n",
       "      <td>0</td>\n",
       "      <td>0</td>\n",
       "      <td>0</td>\n",
       "      <td>0</td>\n",
       "      <td>0</td>\n",
       "      <td>0</td>\n",
       "      <td>0</td>\n",
       "    </tr>\n",
       "    <tr>\n",
       "      <th>7096</th>\n",
       "      <td>0</td>\n",
       "      <td>0</td>\n",
       "      <td>1</td>\n",
       "      <td>4</td>\n",
       "      <td>1</td>\n",
       "      <td>4</td>\n",
       "      <td>1</td>\n",
       "      <td>0</td>\n",
       "      <td>1</td>\n",
       "      <td>1</td>\n",
       "      <td>...</td>\n",
       "      <td>0</td>\n",
       "      <td>0</td>\n",
       "      <td>0</td>\n",
       "      <td>0</td>\n",
       "      <td>0</td>\n",
       "      <td>0</td>\n",
       "      <td>0</td>\n",
       "      <td>0</td>\n",
       "      <td>0</td>\n",
       "      <td>0</td>\n",
       "    </tr>\n",
       "    <tr>\n",
       "      <th>7097</th>\n",
       "      <td>1</td>\n",
       "      <td>0</td>\n",
       "      <td>2</td>\n",
       "      <td>0</td>\n",
       "      <td>2</td>\n",
       "      <td>0</td>\n",
       "      <td>1</td>\n",
       "      <td>0</td>\n",
       "      <td>1</td>\n",
       "      <td>4</td>\n",
       "      <td>...</td>\n",
       "      <td>0</td>\n",
       "      <td>0</td>\n",
       "      <td>0</td>\n",
       "      <td>0</td>\n",
       "      <td>0</td>\n",
       "      <td>0</td>\n",
       "      <td>0</td>\n",
       "      <td>0</td>\n",
       "      <td>0</td>\n",
       "      <td>0</td>\n",
       "    </tr>\n",
       "    <tr>\n",
       "      <th>7098</th>\n",
       "      <td>0</td>\n",
       "      <td>0</td>\n",
       "      <td>1</td>\n",
       "      <td>4</td>\n",
       "      <td>1</td>\n",
       "      <td>6</td>\n",
       "      <td>4</td>\n",
       "      <td>3</td>\n",
       "      <td>1</td>\n",
       "      <td>2</td>\n",
       "      <td>...</td>\n",
       "      <td>0</td>\n",
       "      <td>0</td>\n",
       "      <td>0</td>\n",
       "      <td>0</td>\n",
       "      <td>0</td>\n",
       "      <td>0</td>\n",
       "      <td>0</td>\n",
       "      <td>0</td>\n",
       "      <td>0</td>\n",
       "      <td>0</td>\n",
       "    </tr>\n",
       "  </tbody>\n",
       "</table>\n",
       "<p>5 rows × 181 columns</p>\n",
       "</div>"
      ],
      "text/plain": [
       "      Q10  Q11  Q12  Q13  Q14  Q15  Q16  Q17  Q18  Q19       ...         \\\n",
       "7094    0    1    1    6    1    4    5    0    1    4       ...          \n",
       "7095    1    0    2    0    1    4    1    0    1    4       ...          \n",
       "7096    0    0    1    4    1    4    1    0    1    1       ...          \n",
       "7097    1    0    2    0    2    0    1    0    1    4       ...          \n",
       "7098    0    0    1    4    1    6    4    3    1    2       ...          \n",
       "\n",
       "      region_Mtwara  region_Mwanza  region_Pwani  region_Rukwa  region_Ruvuma  \\\n",
       "7094              0              1             0             0              0   \n",
       "7095              0              0             0             0              0   \n",
       "7096              0              0             0             0              0   \n",
       "7097              0              0             0             0              0   \n",
       "7098              0              0             0             0              0   \n",
       "\n",
       "      region_Shinyanga  region_Singida  region_Tabora  region_Tanga  \\\n",
       "7094                 0               0              0             0   \n",
       "7095                 0               0              0             0   \n",
       "7096                 0               0              0             0   \n",
       "7097                 0               0              0             0   \n",
       "7098                 0               0              0             0   \n",
       "\n",
       "      region_Zanzibar  \n",
       "7094                0  \n",
       "7095                0  \n",
       "7096                0  \n",
       "7097                0  \n",
       "7098                0  \n",
       "\n",
       "[5 rows x 181 columns]"
      ]
     },
     "execution_count": 351,
     "metadata": {},
     "output_type": "execute_result"
    }
   ],
   "source": [
    "test.head()"
   ]
  },
  {
   "cell_type": "code",
   "execution_count": 352,
   "metadata": {},
   "outputs": [
    {
     "name": "stderr",
     "output_type": "stream",
     "text": [
      "C:\\Users\\OLALEYE ENIOLA\\Anaconda3\\lib\\site-packages\\pandas\\core\\frame.py:3697: SettingWithCopyWarning: \n",
      "A value is trying to be set on a copy of a slice from a DataFrame\n",
      "\n",
      "See the caveats in the documentation: http://pandas.pydata.org/pandas-docs/stable/indexing.html#indexing-view-versus-copy\n",
      "  errors=errors)\n"
     ]
    }
   ],
   "source": [
    "test.drop(\"mobile_money_classification\",axis = 1,inplace = True)"
   ]
  },
  {
   "cell_type": "code",
   "execution_count": 353,
   "metadata": {},
   "outputs": [
    {
     "data": {
      "text/html": [
       "<div>\n",
       "<style scoped>\n",
       "    .dataframe tbody tr th:only-of-type {\n",
       "        vertical-align: middle;\n",
       "    }\n",
       "\n",
       "    .dataframe tbody tr th {\n",
       "        vertical-align: top;\n",
       "    }\n",
       "\n",
       "    .dataframe thead th {\n",
       "        text-align: right;\n",
       "    }\n",
       "</style>\n",
       "<table border=\"1\" class=\"dataframe\">\n",
       "  <thead>\n",
       "    <tr style=\"text-align: right;\">\n",
       "      <th></th>\n",
       "      <th>ID</th>\n",
       "      <th>no_financial_services</th>\n",
       "      <th>other_only</th>\n",
       "      <th>mm_only</th>\n",
       "      <th>mm_plus</th>\n",
       "    </tr>\n",
       "  </thead>\n",
       "  <tbody>\n",
       "    <tr>\n",
       "      <th>0</th>\n",
       "      <td>2352</td>\n",
       "      <td>0.3</td>\n",
       "      <td>0.5</td>\n",
       "      <td>0.1</td>\n",
       "      <td>0.2</td>\n",
       "    </tr>\n",
       "    <tr>\n",
       "      <th>1</th>\n",
       "      <td>8208</td>\n",
       "      <td>0.3</td>\n",
       "      <td>0.5</td>\n",
       "      <td>0.1</td>\n",
       "      <td>0.2</td>\n",
       "    </tr>\n",
       "    <tr>\n",
       "      <th>2</th>\n",
       "      <td>2785</td>\n",
       "      <td>0.3</td>\n",
       "      <td>0.5</td>\n",
       "      <td>0.1</td>\n",
       "      <td>0.2</td>\n",
       "    </tr>\n",
       "    <tr>\n",
       "      <th>3</th>\n",
       "      <td>2967</td>\n",
       "      <td>0.3</td>\n",
       "      <td>0.5</td>\n",
       "      <td>0.1</td>\n",
       "      <td>0.2</td>\n",
       "    </tr>\n",
       "    <tr>\n",
       "      <th>4</th>\n",
       "      <td>1697</td>\n",
       "      <td>0.3</td>\n",
       "      <td>0.5</td>\n",
       "      <td>0.1</td>\n",
       "      <td>0.2</td>\n",
       "    </tr>\n",
       "  </tbody>\n",
       "</table>\n",
       "</div>"
      ],
      "text/plain": [
       "     ID  no_financial_services  other_only  mm_only  mm_plus\n",
       "0  2352                    0.3         0.5      0.1      0.2\n",
       "1  8208                    0.3         0.5      0.1      0.2\n",
       "2  2785                    0.3         0.5      0.1      0.2\n",
       "3  2967                    0.3         0.5      0.1      0.2\n",
       "4  1697                    0.3         0.5      0.1      0.2"
      ]
     },
     "execution_count": 353,
     "metadata": {},
     "output_type": "execute_result"
    }
   ],
   "source": [
    "sample = pd.read_csv(\"sample_submission.csv\")\n",
    "sample.head()"
   ]
  },
  {
   "cell_type": "code",
   "execution_count": 354,
   "metadata": {},
   "outputs": [
    {
     "data": {
      "text/plain": [
       "Index(['Q10', 'Q11', 'Q12', 'Q13', 'Q14', 'Q15', 'Q16', 'Q17', 'Q18', 'Q19',\n",
       "       ...\n",
       "       'region_Mtwara', 'region_Mwanza', 'region_Pwani', 'region_Rukwa',\n",
       "       'region_Ruvuma', 'region_Shinyanga', 'region_Singida', 'region_Tabora',\n",
       "       'region_Tanga', 'region_Zanzibar'],\n",
       "      dtype='object', length=181)"
      ]
     },
     "execution_count": 354,
     "metadata": {},
     "output_type": "execute_result"
    }
   ],
   "source": [
    "data.columns"
   ]
  },
  {
   "cell_type": "code",
   "execution_count": 355,
   "metadata": {},
   "outputs": [],
   "source": [
    "#d = {\"s\": [1,1,1,1,1,1,1,1,1,]}\n",
    "#from mlxtend.feature_selection import SequentialFeatureSelector as SFS"
   ]
  },
  {
   "cell_type": "code",
   "execution_count": 356,
   "metadata": {},
   "outputs": [],
   "source": [
    "#a = pd.DataFrame(d)\n",
    "#a.s.std()"
   ]
  },
  {
   "cell_type": "code",
   "execution_count": 357,
   "metadata": {},
   "outputs": [
    {
     "data": {
      "text/html": [
       "<div>\n",
       "<style scoped>\n",
       "    .dataframe tbody tr th:only-of-type {\n",
       "        vertical-align: middle;\n",
       "    }\n",
       "\n",
       "    .dataframe tbody tr th {\n",
       "        vertical-align: top;\n",
       "    }\n",
       "\n",
       "    .dataframe thead th {\n",
       "        text-align: right;\n",
       "    }\n",
       "</style>\n",
       "<table border=\"1\" class=\"dataframe\">\n",
       "  <thead>\n",
       "    <tr style=\"text-align: right;\">\n",
       "      <th></th>\n",
       "      <th>ID</th>\n",
       "      <th>no_financial_services</th>\n",
       "      <th>other_only</th>\n",
       "      <th>mm_only</th>\n",
       "      <th>mm_plus</th>\n",
       "    </tr>\n",
       "  </thead>\n",
       "  <tbody>\n",
       "    <tr>\n",
       "      <th>0</th>\n",
       "      <td>2352</td>\n",
       "      <td>0.3</td>\n",
       "      <td>0.5</td>\n",
       "      <td>0.1</td>\n",
       "      <td>0.2</td>\n",
       "    </tr>\n",
       "  </tbody>\n",
       "</table>\n",
       "</div>"
      ],
      "text/plain": [
       "     ID  no_financial_services  other_only  mm_only  mm_plus\n",
       "0  2352                    0.3         0.5      0.1      0.2"
      ]
     },
     "execution_count": 357,
     "metadata": {},
     "output_type": "execute_result"
    }
   ],
   "source": [
    "sample.head(1)"
   ]
  },
  {
   "cell_type": "code",
   "execution_count": 358,
   "metadata": {},
   "outputs": [
    {
     "data": {
      "text/plain": [
       "Index(['Q10', 'Q11', 'Q12', 'Q13', 'Q14', 'Q15', 'Q16', 'Q17', 'Q18', 'Q19',\n",
       "       ...\n",
       "       'region_Mtwara', 'region_Mwanza', 'region_Pwani', 'region_Rukwa',\n",
       "       'region_Ruvuma', 'region_Shinyanga', 'region_Singida', 'region_Tabora',\n",
       "       'region_Tanga', 'region_Zanzibar'],\n",
       "      dtype='object', length=181)"
      ]
     },
     "execution_count": 358,
     "metadata": {},
     "output_type": "execute_result"
    }
   ],
   "source": [
    "\n",
    "data.columns"
   ]
  },
  {
   "cell_type": "code",
   "execution_count": 359,
   "metadata": {},
   "outputs": [],
   "source": [
    "\n",
    "#data.to_csv('mytrain.csv',index = False)\n",
    "#test.to_csv('mytest.csv',index = False)"
   ]
  },
  {
   "cell_type": "code",
   "execution_count": 360,
   "metadata": {},
   "outputs": [],
   "source": [
    "#from skmultilearn.problem_transform import ClassifierChain\n"
   ]
  },
  {
   "cell_type": "code",
   "execution_count": 361,
   "metadata": {},
   "outputs": [],
   "source": [
    "from sklearn.linear_model import LogisticRegression"
   ]
  },
  {
   "cell_type": "code",
   "execution_count": 362,
   "metadata": {},
   "outputs": [],
   "source": [
    "from xgboost import XGBClassifier\n",
    "#from tpot import TPOTClassifier"
   ]
  },
  {
   "cell_type": "code",
   "execution_count": 363,
   "metadata": {},
   "outputs": [],
   "source": [
    "#data = pd.read_csv(\"training.csv\")\n",
    "#test = pd.read_csv(\"test.csv\")\n",
    "#data.drop(['mobile_money', 'savings', 'borrowing', 'insurance'], axis = 1,inplace = True)\n",
    "#data.drop(\"ID\", axis = 1,inplace =True)\n",
    "#test.drop(\"ID\", axis = 1,inplace =True)\n"
   ]
  },
  {
   "cell_type": "code",
   "execution_count": 364,
   "metadata": {},
   "outputs": [],
   "source": [
    "\n",
    "X= data.drop( 'mobile_money_classification', axis = 1)\n",
    "y = data[\"mobile_money_classification\"]\n",
    "from sklearn.model_selection import train_test_split\n",
    "X_train, X_test, y_train, y_test = train_test_split(X, y, test_size=0.3, random_state=42)"
   ]
  },
  {
   "cell_type": "code",
   "execution_count": 365,
   "metadata": {},
   "outputs": [
    {
     "data": {
      "text/plain": [
       "3849    3.0\n",
       "307     1.0\n",
       "1278    3.0\n",
       "3142    1.0\n",
       "4706    3.0\n",
       "Name: mobile_money_classification, dtype: float64"
      ]
     },
     "execution_count": 365,
     "metadata": {},
     "output_type": "execute_result"
    }
   ],
   "source": [
    "y_train.head()"
   ]
  },
  {
   "cell_type": "code",
   "execution_count": 366,
   "metadata": {},
   "outputs": [
    {
     "data": {
      "text/plain": [
       "(7094, 181)"
      ]
     },
     "execution_count": 366,
     "metadata": {},
     "output_type": "execute_result"
    }
   ],
   "source": [
    "data.shape"
   ]
  },
  {
   "cell_type": "code",
   "execution_count": 367,
   "metadata": {},
   "outputs": [],
   "source": [
    "#model = BinaryRelevance(LogisticRegression())\n",
    "from sklearn.tree import DecisionTreeClassifier \n",
    "#dtree_model = DecisionTreeClassifier(max_depth = 2)\n",
    "#mod = XGBClassifier(n_estimators= 200, max_depth=5)\n",
    "from lightgbm import LGBMClassifier\n",
    "#model = XGBClassifier(n_estimators= 500,max_depth= 5, gamma=1)\n",
    "#model = XGBClassifier(n_estimators= 200, max_depth=5)\n",
    "#1.33680339327269\n",
    "import xgboost as xgb"
   ]
  },
  {
   "cell_type": "code",
   "execution_count": 368,
   "metadata": {},
   "outputs": [],
   "source": [
    "# from catboost import CatBoostClassifier\n",
    "# params = {'depth':[3,1,2,6,4,5,7,8,9,10],\n",
    "#           'iterations':[250,100,500,1000],\n",
    "#           'learning_rate':[0.03,0.001,0.01,0.1,0.2,0.3], \n",
    "#           'l2_leaf_reg':[3,1,5,10,100],\n",
    "#           'border_count':[32,5,10,20,50,100,200],\n",
    "#           'ctr_border_count':[50,5,10,20,100,200],\n",
    "#           'thread_count':4}\n"
   ]
  },
  {
   "cell_type": "code",
   "execution_count": 369,
   "metadata": {},
   "outputs": [],
   "source": [
    "# classifier = CatBoostClassifier(\n",
    "# iterations = 100,\n",
    "#     learning_rate= 0.2,\n",
    "#               l2_leaf_reg= 5,\n",
    "\n",
    "# loss_function='MultiClass',\n",
    "# thread_count=8,\n",
    "# )\n"
   ]
  },
  {
   "cell_type": "code",
   "execution_count": 370,
   "metadata": {},
   "outputs": [],
   "source": [
    "# classifier = CatBoostClassifier(\n",
    "        \n",
    "# max_depth= 3,\n",
    "#     learning_rate= 0.1,\n",
    "# n_estimators=250,\n",
    "# loss_function='MultiClass')\n"
   ]
  },
  {
   "cell_type": "code",
   "execution_count": 371,
   "metadata": {},
   "outputs": [],
   "source": [
    "#rf = XGBClassifier(max_depth=7, learning_rate=0.1, n_estimators=100, silent=True, objective='binary:logistic', nthread=-1, gamma=0, min_child_weight=1, max_delta_step=0, subsample=1, colsample_bytree=1, colsample_bylevel=1, reg_alpha=0, reg_lambda=1, scale_pos_weight=1, base_score=0.5, seed=0, missing=None)\n"
   ]
  },
  {
   "cell_type": "code",
   "execution_count": 372,
   "metadata": {},
   "outputs": [],
   "source": [
    "model = XGBClassifier(\n",
    "          n_estimators= 250)\n"
   ]
  },
  {
   "cell_type": "code",
   "execution_count": 373,
   "metadata": {},
   "outputs": [],
   "source": [
    "#test[Columns] = test[Columns].astype(str)\n",
    "from sklearn.metrics import log_loss"
   ]
  },
  {
   "cell_type": "code",
   "execution_count": 374,
   "metadata": {},
   "outputs": [
    {
     "data": {
      "text/plain": [
       "XGBClassifier(base_score=0.5, booster='gbtree', colsample_bylevel=1,\n",
       "       colsample_bytree=1, gamma=0, learning_rate=0.1, max_delta_step=0,\n",
       "       max_depth=3, min_child_weight=1, missing=None, n_estimators=250,\n",
       "       n_jobs=1, nthread=None, objective='multi:softprob', random_state=0,\n",
       "       reg_alpha=0, reg_lambda=1, scale_pos_weight=1, seed=None,\n",
       "       silent=True, subsample=1)"
      ]
     },
     "execution_count": 374,
     "metadata": {},
     "output_type": "execute_result"
    }
   ],
   "source": [
    "#\n",
    "model.fit(X_train,y_train)"
   ]
  },
  {
   "cell_type": "code",
   "execution_count": 375,
   "metadata": {},
   "outputs": [
    {
     "data": {
      "text/plain": [
       "0.7438748216102519"
      ]
     },
     "execution_count": 375,
     "metadata": {},
     "output_type": "execute_result"
    }
   ],
   "source": [
    "pred = model.predict_proba(X_test)\n",
    "log_loss(y_test,pred)"
   ]
  },
  {
   "cell_type": "code",
   "execution_count": 376,
   "metadata": {},
   "outputs": [],
   "source": [
    "#pred = model.predict_proba(X_test)\n",
    "#log_loss(y_test,pred)"
   ]
  },
  {
   "cell_type": "code",
   "execution_count": 377,
   "metadata": {},
   "outputs": [],
   "source": [
    "#0.7427861171554968\n",
    "#0.7427861147425446\n"
   ]
  },
  {
   "cell_type": "code",
   "execution_count": 378,
   "metadata": {},
   "outputs": [
    {
     "data": {
      "text/plain": [
       "0.7438748216102519"
      ]
     },
     "execution_count": 378,
     "metadata": {},
     "output_type": "execute_result"
    }
   ],
   "source": [
    "pred = model.predict_proba(X_test)\n",
    "log_loss(y_test,pred)"
   ]
  },
  {
   "cell_type": "code",
   "execution_count": 379,
   "metadata": {},
   "outputs": [
    {
     "data": {
      "image/png": "[encoded data removed]",
      "text/plain": [
       "<Figure size 1080x360 with 1 Axes>"
      ]
     },
     "metadata": {
      "needs_background": "light"
     },
     "output_type": "display_data"
    }
   ],
   "source": [
    "import matplotlib.pyplot as plt\n",
    "xgb.plot_importance(model,max_num_features=10)\n",
    "plt.rcParams['figure.figsize'] = [15, 5]"
   ]
  },
  {
   "cell_type": "code",
   "execution_count": 380,
   "metadata": {},
   "outputs": [
    {
     "data": {
      "text/plain": [
       "XGBClassifier(base_score=0.5, booster='gbtree', colsample_bylevel=1,\n",
       "       colsample_bytree=1, gamma=0, learning_rate=0.1, max_delta_step=0,\n",
       "       max_depth=3, min_child_weight=1, missing=None, n_estimators=250,\n",
       "       n_jobs=1, nthread=None, objective='multi:softprob', random_state=0,\n",
       "       reg_alpha=0, reg_lambda=1, scale_pos_weight=1, seed=None,\n",
       "       silent=True, subsample=1)"
      ]
     },
     "execution_count": 380,
     "metadata": {},
     "output_type": "execute_result"
    }
   ],
   "source": [
    "model.fit(data.drop([\"mobile_money_classification\"], axis =1), data[\"mobile_money_classification\"])"
   ]
  },
  {
   "cell_type": "code",
   "execution_count": 381,
   "metadata": {},
   "outputs": [],
   "source": [
    "#test = pd.get_dummies(test)"
   ]
  },
  {
   "cell_type": "code",
   "execution_count": 382,
   "metadata": {},
   "outputs": [
    {
     "data": {
      "text/plain": [
       "array([3., 3., 3., ..., 1., 1., 0.])"
      ]
     },
     "execution_count": 382,
     "metadata": {},
     "output_type": "execute_result"
    }
   ],
   "source": [
    "model.predict(test)"
   ]
  },
  {
   "cell_type": "code",
   "execution_count": 383,
   "metadata": {},
   "outputs": [
    {
     "data": {
      "text/plain": [
       "Index(['ID', 'no_financial_services', 'other_only', 'mm_only', 'mm_plus'], dtype='object')"
      ]
     },
     "execution_count": 383,
     "metadata": {},
     "output_type": "execute_result"
    }
   ],
   "source": [
    "sample.columns"
   ]
  },
  {
   "cell_type": "code",
   "execution_count": 384,
   "metadata": {},
   "outputs": [
    {
     "data": {
      "text/plain": [
       "array([[6.6540809e-04, 2.6296088e-03, 1.7412457e-01, 8.2258046e-01],\n",
       "       [2.2798181e-02, 4.8551794e-02, 1.6258472e-01, 7.6606530e-01],\n",
       "       [5.2909093e-04, 5.7145637e-03, 1.0845805e-01, 8.8529831e-01],\n",
       "       ...,\n",
       "       [2.9327744e-01, 5.4814315e-01, 2.7463455e-02, 1.3111603e-01],\n",
       "       [3.2895282e-01, 4.1389248e-01, 8.5453175e-02, 1.7170157e-01],\n",
       "       [6.2264413e-01, 3.5160321e-01, 1.4628217e-02, 1.1124417e-02]],\n",
       "      dtype=float32)"
      ]
     },
     "execution_count": 384,
     "metadata": {},
     "output_type": "execute_result"
    }
   ],
   "source": [
    "model.predict_proba(test)"
   ]
  },
  {
   "cell_type": "code",
   "execution_count": 385,
   "metadata": {},
   "outputs": [
    {
     "data": {
      "text/plain": [
       "array([[6.6540809e-04, 2.6296088e-03, 1.7412457e-01, 8.2258046e-01],\n",
       "       [2.2798181e-02, 4.8551794e-02, 1.6258472e-01, 7.6606530e-01],\n",
       "       [5.2909093e-04, 5.7145637e-03, 1.0845805e-01, 8.8529831e-01],\n",
       "       ...,\n",
       "       [2.9327744e-01, 5.4814315e-01, 2.7463455e-02, 1.3111603e-01],\n",
       "       [3.2895282e-01, 4.1389248e-01, 8.5453175e-02, 1.7170157e-01],\n",
       "       [6.2264413e-01, 3.5160321e-01, 1.4628217e-02, 1.1124417e-02]],\n",
       "      dtype=float32)"
      ]
     },
     "execution_count": 385,
     "metadata": {},
     "output_type": "execute_result"
    }
   ],
   "source": [
    "model.predict_proba(test)"
   ]
  },
  {
   "cell_type": "code",
   "execution_count": null,
   "metadata": {},
   "outputs": [],
   "source": []
  },
  {
   "cell_type": "code",
   "execution_count": 386,
   "metadata": {},
   "outputs": [],
   "source": [
    "pred = pd.DataFrame(model.predict_proba(test),columns= [ 'no_financial_services', 'other_only', 'mm_only', 'mm_plus'])"
   ]
  },
  {
   "cell_type": "code",
   "execution_count": 387,
   "metadata": {},
   "outputs": [],
   "source": [
    "pred = pd.concat([sample[\"ID\"], pred], axis =1)"
   ]
  },
  {
   "cell_type": "code",
   "execution_count": 388,
   "metadata": {},
   "outputs": [
    {
     "data": {
      "text/html": [
       "<div>\n",
       "<style scoped>\n",
       "    .dataframe tbody tr th:only-of-type {\n",
       "        vertical-align: middle;\n",
       "    }\n",
       "\n",
       "    .dataframe tbody tr th {\n",
       "        vertical-align: top;\n",
       "    }\n",
       "\n",
       "    .dataframe thead th {\n",
       "        text-align: right;\n",
       "    }\n",
       "</style>\n",
       "<table border=\"1\" class=\"dataframe\">\n",
       "  <thead>\n",
       "    <tr style=\"text-align: right;\">\n",
       "      <th></th>\n",
       "      <th>ID</th>\n",
       "      <th>no_financial_services</th>\n",
       "      <th>other_only</th>\n",
       "      <th>mm_only</th>\n",
       "      <th>mm_plus</th>\n",
       "    </tr>\n",
       "  </thead>\n",
       "  <tbody>\n",
       "    <tr>\n",
       "      <th>0</th>\n",
       "      <td>2352</td>\n",
       "      <td>0.000665</td>\n",
       "      <td>0.002630</td>\n",
       "      <td>0.174125</td>\n",
       "      <td>0.822580</td>\n",
       "    </tr>\n",
       "    <tr>\n",
       "      <th>1</th>\n",
       "      <td>8208</td>\n",
       "      <td>0.022798</td>\n",
       "      <td>0.048552</td>\n",
       "      <td>0.162585</td>\n",
       "      <td>0.766065</td>\n",
       "    </tr>\n",
       "    <tr>\n",
       "      <th>2</th>\n",
       "      <td>2785</td>\n",
       "      <td>0.000529</td>\n",
       "      <td>0.005715</td>\n",
       "      <td>0.108458</td>\n",
       "      <td>0.885298</td>\n",
       "    </tr>\n",
       "    <tr>\n",
       "      <th>3</th>\n",
       "      <td>2967</td>\n",
       "      <td>0.360129</td>\n",
       "      <td>0.572885</td>\n",
       "      <td>0.015681</td>\n",
       "      <td>0.051305</td>\n",
       "    </tr>\n",
       "    <tr>\n",
       "      <th>4</th>\n",
       "      <td>1697</td>\n",
       "      <td>0.000174</td>\n",
       "      <td>0.001766</td>\n",
       "      <td>0.112087</td>\n",
       "      <td>0.885973</td>\n",
       "    </tr>\n",
       "  </tbody>\n",
       "</table>\n",
       "</div>"
      ],
      "text/plain": [
       "     ID  no_financial_services  other_only   mm_only   mm_plus\n",
       "0  2352               0.000665    0.002630  0.174125  0.822580\n",
       "1  8208               0.022798    0.048552  0.162585  0.766065\n",
       "2  2785               0.000529    0.005715  0.108458  0.885298\n",
       "3  2967               0.360129    0.572885  0.015681  0.051305\n",
       "4  1697               0.000174    0.001766  0.112087  0.885973"
      ]
     },
     "execution_count": 388,
     "metadata": {},
     "output_type": "execute_result"
    }
   ],
   "source": [
    "#pred  =np.round(pred,3)\n",
    "pred.head()\n"
   ]
  },
  {
   "cell_type": "code",
   "execution_count": 389,
   "metadata": {},
   "outputs": [
    {
     "data": {
      "text/html": [
       "<div>\n",
       "<style scoped>\n",
       "    .dataframe tbody tr th:only-of-type {\n",
       "        vertical-align: middle;\n",
       "    }\n",
       "\n",
       "    .dataframe tbody tr th {\n",
       "        vertical-align: top;\n",
       "    }\n",
       "\n",
       "    .dataframe thead th {\n",
       "        text-align: right;\n",
       "    }\n",
       "</style>\n",
       "<table border=\"1\" class=\"dataframe\">\n",
       "  <thead>\n",
       "    <tr style=\"text-align: right;\">\n",
       "      <th></th>\n",
       "      <th>ID</th>\n",
       "      <th>no_financial_services</th>\n",
       "      <th>other_only</th>\n",
       "      <th>mm_only</th>\n",
       "      <th>mm_plus</th>\n",
       "    </tr>\n",
       "  </thead>\n",
       "  <tbody>\n",
       "    <tr>\n",
       "      <th>0</th>\n",
       "      <td>2352</td>\n",
       "      <td>0.000665</td>\n",
       "      <td>0.002630</td>\n",
       "      <td>0.174125</td>\n",
       "      <td>0.822580</td>\n",
       "    </tr>\n",
       "    <tr>\n",
       "      <th>1</th>\n",
       "      <td>8208</td>\n",
       "      <td>0.022798</td>\n",
       "      <td>0.048552</td>\n",
       "      <td>0.162585</td>\n",
       "      <td>0.766065</td>\n",
       "    </tr>\n",
       "    <tr>\n",
       "      <th>2</th>\n",
       "      <td>2785</td>\n",
       "      <td>0.000529</td>\n",
       "      <td>0.005715</td>\n",
       "      <td>0.108458</td>\n",
       "      <td>0.885298</td>\n",
       "    </tr>\n",
       "    <tr>\n",
       "      <th>3</th>\n",
       "      <td>2967</td>\n",
       "      <td>0.360129</td>\n",
       "      <td>0.572885</td>\n",
       "      <td>0.015681</td>\n",
       "      <td>0.051305</td>\n",
       "    </tr>\n",
       "    <tr>\n",
       "      <th>4</th>\n",
       "      <td>1697</td>\n",
       "      <td>0.000174</td>\n",
       "      <td>0.001766</td>\n",
       "      <td>0.112087</td>\n",
       "      <td>0.885973</td>\n",
       "    </tr>\n",
       "  </tbody>\n",
       "</table>\n",
       "</div>"
      ],
      "text/plain": [
       "     ID  no_financial_services  other_only   mm_only   mm_plus\n",
       "0  2352               0.000665    0.002630  0.174125  0.822580\n",
       "1  8208               0.022798    0.048552  0.162585  0.766065\n",
       "2  2785               0.000529    0.005715  0.108458  0.885298\n",
       "3  2967               0.360129    0.572885  0.015681  0.051305\n",
       "4  1697               0.000174    0.001766  0.112087  0.885973"
      ]
     },
     "execution_count": 389,
     "metadata": {},
     "output_type": "execute_result"
    }
   ],
   "source": [
    "pred.head()"
   ]
  },
  {
   "cell_type": "code",
   "execution_count": 143,
   "metadata": {},
   "outputs": [],
   "source": [
    "#pred.to_csv(\"strretno1.csv\", index = False)"
   ]
  },
  {
   "cell_type": "code",
   "execution_count": null,
   "metadata": {},
   "outputs": [],
   "source": []
  },
  {
   "cell_type": "code",
   "execution_count": null,
   "metadata": {},
   "outputs": [],
   "source": []
  },
  {
   "cell_type": "code",
   "execution_count": 352,
   "metadata": {},
   "outputs": [],
   "source": [
    "from sklearn.neural_network import MLPClassifier"
   ]
  },
  {
   "cell_type": "code",
   "execution_count": 353,
   "metadata": {},
   "outputs": [],
   "source": [
    "ml = MLPClassifier()"
   ]
  },
  {
   "cell_type": "code",
   "execution_count": 354,
   "metadata": {},
   "outputs": [
    {
     "data": {
      "text/plain": [
       "MLPClassifier(activation='relu', alpha=0.0001, batch_size='auto', beta_1=0.9,\n",
       "       beta_2=0.999, early_stopping=False, epsilon=1e-08,\n",
       "       hidden_layer_sizes=(100,), learning_rate='constant',\n",
       "       learning_rate_init=0.001, max_iter=200, momentum=0.9,\n",
       "       nesterovs_momentum=True, power_t=0.5, random_state=None,\n",
       "       shuffle=True, solver='adam', tol=0.0001, validation_fraction=0.1,\n",
       "       verbose=False, warm_start=False)"
      ]
     },
     "execution_count": 354,
     "metadata": {},
     "output_type": "execute_result"
    }
   ],
   "source": [
    "ml.fit(X_train,y_train)"
   ]
  },
  {
   "cell_type": "code",
   "execution_count": null,
   "metadata": {},
   "outputs": [],
   "source": [
    "pred = m.predict_proba(X_test)\n",
    "log_loss(y_test,pred)"
   ]
  },
  {
   "cell_type": "code",
   "execution_count": null,
   "metadata": {},
   "outputs": [],
   "source": []
  },
  {
   "cell_type": "code",
   "execution_count": 342,
   "metadata": {},
   "outputs": [],
   "source": [
    "from tpot import TPOTClassifier\n",
    "tp = TPOTClassifier()"
   ]
  },
  {
   "cell_type": "code",
   "execution_count": 343,
   "metadata": {},
   "outputs": [
    {
     "data": {
      "text/plain": [
       "TPOTClassifier(config_dict=None, crossover_rate=0.1, cv=5,\n",
       "        disable_update_check=False, early_stop=None, generations=100,\n",
       "        max_eval_time_mins=5, max_time_mins=None, memory=None,\n",
       "        mutation_rate=0.9, n_jobs=1, offspring_size=None,\n",
       "        periodic_checkpoint_folder=None, population_size=100,\n",
       "        random_state=None, scoring=None, subsample=1.0, use_dask=False,\n",
       "        verbosity=0, warm_start=False)"
      ]
     },
     "execution_count": 343,
     "metadata": {},
     "output_type": "execute_result"
    }
   ],
   "source": [
    "tp.fit(X_train,y_train)"
   ]
  },
  {
   "cell_type": "code",
   "execution_count": 345,
   "metadata": {},
   "outputs": [
    {
     "data": {
      "text/plain": [
       "0.8114636634202856"
      ]
     },
     "execution_count": 345,
     "metadata": {},
     "output_type": "execute_result"
    }
   ],
   "source": [
    "pred = tp.predict_proba(X_test)\n",
    "log_loss(y_test,pred)"
   ]
  },
  {
   "cell_type": "code",
   "execution_count": 346,
   "metadata": {},
   "outputs": [
    {
     "data": {
      "text/plain": [
       "array([[2.77013473e-04, 2.60077844e-04, 2.89703502e-01, 7.09759407e-01],\n",
       "       [5.14000743e-02, 1.51701372e-01, 1.60992348e-01, 6.35906206e-01],\n",
       "       [5.05462225e-03, 1.23219108e-02, 1.86014877e-01, 7.96608590e-01],\n",
       "       ...,\n",
       "       [1.63112523e-01, 5.61880361e-01, 5.47784775e-02, 2.20228638e-01],\n",
       "       [3.13169477e-01, 4.10674005e-01, 1.02654679e-01, 1.73501839e-01],\n",
       "       [5.63375996e-01, 3.13851402e-01, 6.37273244e-02, 5.90452781e-02]])"
      ]
     },
     "execution_count": 346,
     "metadata": {},
     "output_type": "execute_result"
    }
   ],
   "source": [
    "tp.predict_proba(test)"
   ]
  },
  {
   "cell_type": "code",
   "execution_count": 348,
   "metadata": {},
   "outputs": [],
   "source": [
    "pred = pd.DataFrame(tp.predict_proba(test),columns= [ 'no_financial_services', 'other_only', 'mm_only', 'mm_plus'])"
   ]
  },
  {
   "cell_type": "code",
   "execution_count": 349,
   "metadata": {},
   "outputs": [],
   "source": [
    "pred = pd.concat([sample[\"ID\"], pred], axis =1)"
   ]
  },
  {
   "cell_type": "code",
   "execution_count": 350,
   "metadata": {},
   "outputs": [
    {
     "data": {
      "text/html": [
       "<div>\n",
       "<style scoped>\n",
       "    .dataframe tbody tr th:only-of-type {\n",
       "        vertical-align: middle;\n",
       "    }\n",
       "\n",
       "    .dataframe tbody tr th {\n",
       "        vertical-align: top;\n",
       "    }\n",
       "\n",
       "    .dataframe thead th {\n",
       "        text-align: right;\n",
       "    }\n",
       "</style>\n",
       "<table border=\"1\" class=\"dataframe\">\n",
       "  <thead>\n",
       "    <tr style=\"text-align: right;\">\n",
       "      <th></th>\n",
       "      <th>ID</th>\n",
       "      <th>no_financial_services</th>\n",
       "      <th>other_only</th>\n",
       "      <th>mm_only</th>\n",
       "      <th>mm_plus</th>\n",
       "    </tr>\n",
       "  </thead>\n",
       "  <tbody>\n",
       "    <tr>\n",
       "      <th>0</th>\n",
       "      <td>2352</td>\n",
       "      <td>0.000277</td>\n",
       "      <td>0.000260</td>\n",
       "      <td>0.289704</td>\n",
       "      <td>0.709759</td>\n",
       "    </tr>\n",
       "    <tr>\n",
       "      <th>1</th>\n",
       "      <td>8208</td>\n",
       "      <td>0.051400</td>\n",
       "      <td>0.151701</td>\n",
       "      <td>0.160992</td>\n",
       "      <td>0.635906</td>\n",
       "    </tr>\n",
       "    <tr>\n",
       "      <th>2</th>\n",
       "      <td>2785</td>\n",
       "      <td>0.005055</td>\n",
       "      <td>0.012322</td>\n",
       "      <td>0.186015</td>\n",
       "      <td>0.796609</td>\n",
       "    </tr>\n",
       "    <tr>\n",
       "      <th>3</th>\n",
       "      <td>2967</td>\n",
       "      <td>0.385924</td>\n",
       "      <td>0.416714</td>\n",
       "      <td>0.069600</td>\n",
       "      <td>0.127762</td>\n",
       "    </tr>\n",
       "    <tr>\n",
       "      <th>4</th>\n",
       "      <td>1697</td>\n",
       "      <td>0.000231</td>\n",
       "      <td>0.000335</td>\n",
       "      <td>0.207640</td>\n",
       "      <td>0.791794</td>\n",
       "    </tr>\n",
       "  </tbody>\n",
       "</table>\n",
       "</div>"
      ],
      "text/plain": [
       "     ID  no_financial_services  other_only   mm_only   mm_plus\n",
       "0  2352               0.000277    0.000260  0.289704  0.709759\n",
       "1  8208               0.051400    0.151701  0.160992  0.635906\n",
       "2  2785               0.005055    0.012322  0.186015  0.796609\n",
       "3  2967               0.385924    0.416714  0.069600  0.127762\n",
       "4  1697               0.000231    0.000335  0.207640  0.791794"
      ]
     },
     "execution_count": 350,
     "metadata": {},
     "output_type": "execute_result"
    }
   ],
   "source": [
    "#pred.to_csv(\"lee1.csv\", index = False).055\n",
    "pred.head()"
   ]
  },
  {
   "cell_type": "code",
   "execution_count": 351,
   "metadata": {},
   "outputs": [],
   "source": [
    "#pred.to_csv('tpot.csv',index = False)"
   ]
  },
  {
   "cell_type": "code",
   "execution_count": 368,
   "metadata": {},
   "outputs": [
    {
     "data": {
      "text/html": [
       "<div>\n",
       "<style scoped>\n",
       "    .dataframe tbody tr th:only-of-type {\n",
       "        vertical-align: middle;\n",
       "    }\n",
       "\n",
       "    .dataframe tbody tr th {\n",
       "        vertical-align: top;\n",
       "    }\n",
       "\n",
       "    .dataframe thead th {\n",
       "        text-align: right;\n",
       "    }\n",
       "</style>\n",
       "<table border=\"1\" class=\"dataframe\">\n",
       "  <thead>\n",
       "    <tr style=\"text-align: right;\">\n",
       "      <th></th>\n",
       "      <th>ID</th>\n",
       "      <th>no_financial_services</th>\n",
       "      <th>other_only</th>\n",
       "      <th>mm_only</th>\n",
       "      <th>mm_plus</th>\n",
       "    </tr>\n",
       "  </thead>\n",
       "  <tbody>\n",
       "    <tr>\n",
       "      <th>0</th>\n",
       "      <td>2352</td>\n",
       "      <td>0.000531</td>\n",
       "      <td>0.002930</td>\n",
       "      <td>0.174186</td>\n",
       "      <td>0.822353</td>\n",
       "    </tr>\n",
       "    <tr>\n",
       "      <th>1</th>\n",
       "      <td>8208</td>\n",
       "      <td>0.018649</td>\n",
       "      <td>0.041809</td>\n",
       "      <td>0.141993</td>\n",
       "      <td>0.797549</td>\n",
       "    </tr>\n",
       "    <tr>\n",
       "      <th>2</th>\n",
       "      <td>2785</td>\n",
       "      <td>0.000644</td>\n",
       "      <td>0.005596</td>\n",
       "      <td>0.099169</td>\n",
       "      <td>0.894591</td>\n",
       "    </tr>\n",
       "    <tr>\n",
       "      <th>3</th>\n",
       "      <td>2967</td>\n",
       "      <td>0.371044</td>\n",
       "      <td>0.563401</td>\n",
       "      <td>0.018079</td>\n",
       "      <td>0.047476</td>\n",
       "    </tr>\n",
       "    <tr>\n",
       "      <th>4</th>\n",
       "      <td>1697</td>\n",
       "      <td>0.000242</td>\n",
       "      <td>0.001635</td>\n",
       "      <td>0.109014</td>\n",
       "      <td>0.889110</td>\n",
       "    </tr>\n",
       "  </tbody>\n",
       "</table>\n",
       "</div>"
      ],
      "text/plain": [
       "     ID  no_financial_services  other_only   mm_only   mm_plus\n",
       "0  2352               0.000531    0.002930  0.174186  0.822353\n",
       "1  8208               0.018649    0.041809  0.141993  0.797549\n",
       "2  2785               0.000644    0.005596  0.099169  0.894591\n",
       "3  2967               0.371044    0.563401  0.018079  0.047476\n",
       "4  1697               0.000242    0.001635  0.109014  0.889110"
      ]
     },
     "execution_count": 368,
     "metadata": {},
     "output_type": "execute_result"
    }
   ],
   "source": [
    "pred.head()"
   ]
  },
  {
   "cell_type": "code",
   "execution_count": 231,
   "metadata": {},
   "outputs": [
    {
     "data": {
      "text/html": [
       "<div>\n",
       "<style scoped>\n",
       "    .dataframe tbody tr th:only-of-type {\n",
       "        vertical-align: middle;\n",
       "    }\n",
       "\n",
       "    .dataframe tbody tr th {\n",
       "        vertical-align: top;\n",
       "    }\n",
       "\n",
       "    .dataframe thead th {\n",
       "        text-align: right;\n",
       "    }\n",
       "</style>\n",
       "<table border=\"1\" class=\"dataframe\">\n",
       "  <thead>\n",
       "    <tr style=\"text-align: right;\">\n",
       "      <th></th>\n",
       "      <th>ID</th>\n",
       "      <th>no_financial_services</th>\n",
       "      <th>other_only</th>\n",
       "      <th>mm_only</th>\n",
       "      <th>mm_plus</th>\n",
       "    </tr>\n",
       "  </thead>\n",
       "  <tbody>\n",
       "    <tr>\n",
       "      <th>0</th>\n",
       "      <td>2352</td>\n",
       "      <td>0.000551</td>\n",
       "      <td>0.002591</td>\n",
       "      <td>0.163596</td>\n",
       "      <td>0.833262</td>\n",
       "    </tr>\n",
       "    <tr>\n",
       "      <th>1</th>\n",
       "      <td>8208</td>\n",
       "      <td>0.019157</td>\n",
       "      <td>0.043448</td>\n",
       "      <td>0.159505</td>\n",
       "      <td>0.777890</td>\n",
       "    </tr>\n",
       "    <tr>\n",
       "      <th>2</th>\n",
       "      <td>2785</td>\n",
       "      <td>0.000644</td>\n",
       "      <td>0.006204</td>\n",
       "      <td>0.100589</td>\n",
       "      <td>0.892563</td>\n",
       "    </tr>\n",
       "    <tr>\n",
       "      <th>3</th>\n",
       "      <td>2967</td>\n",
       "      <td>0.394459</td>\n",
       "      <td>0.547110</td>\n",
       "      <td>0.014608</td>\n",
       "      <td>0.043823</td>\n",
       "    </tr>\n",
       "    <tr>\n",
       "      <th>4</th>\n",
       "      <td>1697</td>\n",
       "      <td>0.000219</td>\n",
       "      <td>0.001188</td>\n",
       "      <td>0.099463</td>\n",
       "      <td>0.899131</td>\n",
       "    </tr>\n",
       "  </tbody>\n",
       "</table>\n",
       "</div>"
      ],
      "text/plain": [
       "     ID  no_financial_services  other_only   mm_only   mm_plus\n",
       "0  2352               0.000551    0.002591  0.163596  0.833262\n",
       "1  8208               0.019157    0.043448  0.159505  0.777890\n",
       "2  2785               0.000644    0.006204  0.100589  0.892563\n",
       "3  2967               0.394459    0.547110  0.014608  0.043823\n",
       "4  1697               0.000219    0.001188  0.099463  0.899131"
      ]
     },
     "execution_count": 231,
     "metadata": {},
     "output_type": "execute_result"
    }
   ],
   "source": [
    "pred.head()"
   ]
  },
  {
   "cell_type": "code",
   "execution_count": null,
   "metadata": {},
   "outputs": [],
   "source": []
  },
  {
   "cell_type": "code",
   "execution_count": null,
   "metadata": {},
   "outputs": [],
   "source": []
  },
  {
   "cell_type": "code",
   "execution_count": 204,
   "metadata": {},
   "outputs": [
    {
     "data": {
      "text/html": [
       "<div>\n",
       "<style scoped>\n",
       "    .dataframe tbody tr th:only-of-type {\n",
       "        vertical-align: middle;\n",
       "    }\n",
       "\n",
       "    .dataframe tbody tr th {\n",
       "        vertical-align: top;\n",
       "    }\n",
       "\n",
       "    .dataframe thead th {\n",
       "        text-align: right;\n",
       "    }\n",
       "</style>\n",
       "<table border=\"1\" class=\"dataframe\">\n",
       "  <thead>\n",
       "    <tr style=\"text-align: right;\">\n",
       "      <th></th>\n",
       "      <th>ID</th>\n",
       "      <th>no_financial_services</th>\n",
       "      <th>other_only</th>\n",
       "      <th>mm_only</th>\n",
       "      <th>mm_plus</th>\n",
       "    </tr>\n",
       "  </thead>\n",
       "  <tbody>\n",
       "    <tr>\n",
       "      <th>0</th>\n",
       "      <td>2352</td>\n",
       "      <td>0.000881</td>\n",
       "      <td>0.002235</td>\n",
       "      <td>0.098616</td>\n",
       "      <td>0.898267</td>\n",
       "    </tr>\n",
       "    <tr>\n",
       "      <th>1</th>\n",
       "      <td>8208</td>\n",
       "      <td>0.017272</td>\n",
       "      <td>0.048528</td>\n",
       "      <td>0.169924</td>\n",
       "      <td>0.764275</td>\n",
       "    </tr>\n",
       "    <tr>\n",
       "      <th>2</th>\n",
       "      <td>2785</td>\n",
       "      <td>0.001374</td>\n",
       "      <td>0.008014</td>\n",
       "      <td>0.116767</td>\n",
       "      <td>0.873845</td>\n",
       "    </tr>\n",
       "    <tr>\n",
       "      <th>3</th>\n",
       "      <td>2967</td>\n",
       "      <td>0.551190</td>\n",
       "      <td>0.380320</td>\n",
       "      <td>0.016913</td>\n",
       "      <td>0.051577</td>\n",
       "    </tr>\n",
       "    <tr>\n",
       "      <th>4</th>\n",
       "      <td>1697</td>\n",
       "      <td>0.001106</td>\n",
       "      <td>0.001920</td>\n",
       "      <td>0.106720</td>\n",
       "      <td>0.890255</td>\n",
       "    </tr>\n",
       "    <tr>\n",
       "      <th>5</th>\n",
       "      <td>4794</td>\n",
       "      <td>0.016891</td>\n",
       "      <td>0.064759</td>\n",
       "      <td>0.154984</td>\n",
       "      <td>0.763366</td>\n",
       "    </tr>\n",
       "    <tr>\n",
       "      <th>6</th>\n",
       "      <td>2675</td>\n",
       "      <td>0.027081</td>\n",
       "      <td>0.061783</td>\n",
       "      <td>0.167354</td>\n",
       "      <td>0.743782</td>\n",
       "    </tr>\n",
       "    <tr>\n",
       "      <th>7</th>\n",
       "      <td>2989</td>\n",
       "      <td>0.000585</td>\n",
       "      <td>0.001976</td>\n",
       "      <td>0.232294</td>\n",
       "      <td>0.765145</td>\n",
       "    </tr>\n",
       "    <tr>\n",
       "      <th>8</th>\n",
       "      <td>1634</td>\n",
       "      <td>0.393930</td>\n",
       "      <td>0.460690</td>\n",
       "      <td>0.073564</td>\n",
       "      <td>0.071817</td>\n",
       "    </tr>\n",
       "    <tr>\n",
       "      <th>9</th>\n",
       "      <td>4147</td>\n",
       "      <td>0.015903</td>\n",
       "      <td>0.069557</td>\n",
       "      <td>0.107325</td>\n",
       "      <td>0.807215</td>\n",
       "    </tr>\n",
       "    <tr>\n",
       "      <th>10</th>\n",
       "      <td>8003</td>\n",
       "      <td>0.037117</td>\n",
       "      <td>0.158619</td>\n",
       "      <td>0.122980</td>\n",
       "      <td>0.681285</td>\n",
       "    </tr>\n",
       "    <tr>\n",
       "      <th>11</th>\n",
       "      <td>1058</td>\n",
       "      <td>0.243561</td>\n",
       "      <td>0.391655</td>\n",
       "      <td>0.063948</td>\n",
       "      <td>0.300837</td>\n",
       "    </tr>\n",
       "    <tr>\n",
       "      <th>12</th>\n",
       "      <td>8172</td>\n",
       "      <td>0.351287</td>\n",
       "      <td>0.579481</td>\n",
       "      <td>0.022235</td>\n",
       "      <td>0.046997</td>\n",
       "    </tr>\n",
       "    <tr>\n",
       "      <th>13</th>\n",
       "      <td>2640</td>\n",
       "      <td>0.418524</td>\n",
       "      <td>0.530248</td>\n",
       "      <td>0.015761</td>\n",
       "      <td>0.035467</td>\n",
       "    </tr>\n",
       "    <tr>\n",
       "      <th>14</th>\n",
       "      <td>1233</td>\n",
       "      <td>0.000684</td>\n",
       "      <td>0.001845</td>\n",
       "      <td>0.018239</td>\n",
       "      <td>0.979231</td>\n",
       "    </tr>\n",
       "    <tr>\n",
       "      <th>15</th>\n",
       "      <td>8632</td>\n",
       "      <td>0.001022</td>\n",
       "      <td>0.002373</td>\n",
       "      <td>0.231188</td>\n",
       "      <td>0.765417</td>\n",
       "    </tr>\n",
       "    <tr>\n",
       "      <th>16</th>\n",
       "      <td>4548</td>\n",
       "      <td>0.039707</td>\n",
       "      <td>0.075393</td>\n",
       "      <td>0.127910</td>\n",
       "      <td>0.756990</td>\n",
       "    </tr>\n",
       "    <tr>\n",
       "      <th>17</th>\n",
       "      <td>1032</td>\n",
       "      <td>0.332920</td>\n",
       "      <td>0.487226</td>\n",
       "      <td>0.047856</td>\n",
       "      <td>0.131998</td>\n",
       "    </tr>\n",
       "    <tr>\n",
       "      <th>18</th>\n",
       "      <td>270</td>\n",
       "      <td>0.001354</td>\n",
       "      <td>0.003575</td>\n",
       "      <td>0.052386</td>\n",
       "      <td>0.942684</td>\n",
       "    </tr>\n",
       "    <tr>\n",
       "      <th>19</th>\n",
       "      <td>5516</td>\n",
       "      <td>0.022743</td>\n",
       "      <td>0.303165</td>\n",
       "      <td>0.080440</td>\n",
       "      <td>0.593652</td>\n",
       "    </tr>\n",
       "    <tr>\n",
       "      <th>20</th>\n",
       "      <td>1289</td>\n",
       "      <td>0.001667</td>\n",
       "      <td>0.001738</td>\n",
       "      <td>0.108326</td>\n",
       "      <td>0.888269</td>\n",
       "    </tr>\n",
       "    <tr>\n",
       "      <th>21</th>\n",
       "      <td>376</td>\n",
       "      <td>0.283494</td>\n",
       "      <td>0.374969</td>\n",
       "      <td>0.084939</td>\n",
       "      <td>0.256598</td>\n",
       "    </tr>\n",
       "    <tr>\n",
       "      <th>22</th>\n",
       "      <td>5856</td>\n",
       "      <td>0.000163</td>\n",
       "      <td>0.000632</td>\n",
       "      <td>0.023358</td>\n",
       "      <td>0.975846</td>\n",
       "    </tr>\n",
       "    <tr>\n",
       "      <th>23</th>\n",
       "      <td>2588</td>\n",
       "      <td>0.000623</td>\n",
       "      <td>0.001524</td>\n",
       "      <td>0.053537</td>\n",
       "      <td>0.944317</td>\n",
       "    </tr>\n",
       "    <tr>\n",
       "      <th>24</th>\n",
       "      <td>1348</td>\n",
       "      <td>0.000577</td>\n",
       "      <td>0.003967</td>\n",
       "      <td>0.090702</td>\n",
       "      <td>0.904753</td>\n",
       "    </tr>\n",
       "    <tr>\n",
       "      <th>25</th>\n",
       "      <td>8391</td>\n",
       "      <td>0.000902</td>\n",
       "      <td>0.002698</td>\n",
       "      <td>0.059112</td>\n",
       "      <td>0.937289</td>\n",
       "    </tr>\n",
       "    <tr>\n",
       "      <th>26</th>\n",
       "      <td>2616</td>\n",
       "      <td>0.387373</td>\n",
       "      <td>0.554875</td>\n",
       "      <td>0.023180</td>\n",
       "      <td>0.034572</td>\n",
       "    </tr>\n",
       "    <tr>\n",
       "      <th>27</th>\n",
       "      <td>5154</td>\n",
       "      <td>0.002227</td>\n",
       "      <td>0.004275</td>\n",
       "      <td>0.275853</td>\n",
       "      <td>0.717645</td>\n",
       "    </tr>\n",
       "    <tr>\n",
       "      <th>28</th>\n",
       "      <td>869</td>\n",
       "      <td>0.194911</td>\n",
       "      <td>0.726306</td>\n",
       "      <td>0.017535</td>\n",
       "      <td>0.061247</td>\n",
       "    </tr>\n",
       "    <tr>\n",
       "      <th>29</th>\n",
       "      <td>6625</td>\n",
       "      <td>0.364625</td>\n",
       "      <td>0.554710</td>\n",
       "      <td>0.016844</td>\n",
       "      <td>0.063821</td>\n",
       "    </tr>\n",
       "    <tr>\n",
       "      <th>...</th>\n",
       "      <td>...</td>\n",
       "      <td>...</td>\n",
       "      <td>...</td>\n",
       "      <td>...</td>\n",
       "      <td>...</td>\n",
       "    </tr>\n",
       "    <tr>\n",
       "      <th>2335</th>\n",
       "      <td>4737</td>\n",
       "      <td>0.002377</td>\n",
       "      <td>0.010414</td>\n",
       "      <td>0.280963</td>\n",
       "      <td>0.706246</td>\n",
       "    </tr>\n",
       "    <tr>\n",
       "      <th>2336</th>\n",
       "      <td>6589</td>\n",
       "      <td>0.648291</td>\n",
       "      <td>0.290164</td>\n",
       "      <td>0.032674</td>\n",
       "      <td>0.028872</td>\n",
       "    </tr>\n",
       "    <tr>\n",
       "      <th>2337</th>\n",
       "      <td>9123</td>\n",
       "      <td>0.001576</td>\n",
       "      <td>0.005571</td>\n",
       "      <td>0.345045</td>\n",
       "      <td>0.647808</td>\n",
       "    </tr>\n",
       "    <tr>\n",
       "      <th>2338</th>\n",
       "      <td>409</td>\n",
       "      <td>0.055371</td>\n",
       "      <td>0.033612</td>\n",
       "      <td>0.559427</td>\n",
       "      <td>0.351590</td>\n",
       "    </tr>\n",
       "    <tr>\n",
       "      <th>2339</th>\n",
       "      <td>1734</td>\n",
       "      <td>0.762352</td>\n",
       "      <td>0.209150</td>\n",
       "      <td>0.020333</td>\n",
       "      <td>0.008164</td>\n",
       "    </tr>\n",
       "    <tr>\n",
       "      <th>2340</th>\n",
       "      <td>1265</td>\n",
       "      <td>0.700714</td>\n",
       "      <td>0.162687</td>\n",
       "      <td>0.107419</td>\n",
       "      <td>0.029181</td>\n",
       "    </tr>\n",
       "    <tr>\n",
       "      <th>2341</th>\n",
       "      <td>1290</td>\n",
       "      <td>0.710401</td>\n",
       "      <td>0.265024</td>\n",
       "      <td>0.010816</td>\n",
       "      <td>0.013759</td>\n",
       "    </tr>\n",
       "    <tr>\n",
       "      <th>2342</th>\n",
       "      <td>6210</td>\n",
       "      <td>0.579684</td>\n",
       "      <td>0.351388</td>\n",
       "      <td>0.027037</td>\n",
       "      <td>0.041891</td>\n",
       "    </tr>\n",
       "    <tr>\n",
       "      <th>2343</th>\n",
       "      <td>6093</td>\n",
       "      <td>0.679365</td>\n",
       "      <td>0.078963</td>\n",
       "      <td>0.152898</td>\n",
       "      <td>0.088775</td>\n",
       "    </tr>\n",
       "    <tr>\n",
       "      <th>2344</th>\n",
       "      <td>4932</td>\n",
       "      <td>0.005366</td>\n",
       "      <td>0.004040</td>\n",
       "      <td>0.722774</td>\n",
       "      <td>0.267820</td>\n",
       "    </tr>\n",
       "    <tr>\n",
       "      <th>2345</th>\n",
       "      <td>2791</td>\n",
       "      <td>0.568236</td>\n",
       "      <td>0.370175</td>\n",
       "      <td>0.031796</td>\n",
       "      <td>0.029794</td>\n",
       "    </tr>\n",
       "    <tr>\n",
       "      <th>2346</th>\n",
       "      <td>4749</td>\n",
       "      <td>0.507168</td>\n",
       "      <td>0.410295</td>\n",
       "      <td>0.046310</td>\n",
       "      <td>0.036227</td>\n",
       "    </tr>\n",
       "    <tr>\n",
       "      <th>2347</th>\n",
       "      <td>1638</td>\n",
       "      <td>0.606503</td>\n",
       "      <td>0.358723</td>\n",
       "      <td>0.015166</td>\n",
       "      <td>0.019608</td>\n",
       "    </tr>\n",
       "    <tr>\n",
       "      <th>2348</th>\n",
       "      <td>7724</td>\n",
       "      <td>0.275506</td>\n",
       "      <td>0.626789</td>\n",
       "      <td>0.028892</td>\n",
       "      <td>0.068813</td>\n",
       "    </tr>\n",
       "    <tr>\n",
       "      <th>2349</th>\n",
       "      <td>4124</td>\n",
       "      <td>0.231529</td>\n",
       "      <td>0.735370</td>\n",
       "      <td>0.008476</td>\n",
       "      <td>0.024626</td>\n",
       "    </tr>\n",
       "    <tr>\n",
       "      <th>2350</th>\n",
       "      <td>4479</td>\n",
       "      <td>0.357115</td>\n",
       "      <td>0.607631</td>\n",
       "      <td>0.008616</td>\n",
       "      <td>0.026637</td>\n",
       "    </tr>\n",
       "    <tr>\n",
       "      <th>2351</th>\n",
       "      <td>7845</td>\n",
       "      <td>0.457825</td>\n",
       "      <td>0.508396</td>\n",
       "      <td>0.007649</td>\n",
       "      <td>0.026130</td>\n",
       "    </tr>\n",
       "    <tr>\n",
       "      <th>2352</th>\n",
       "      <td>3810</td>\n",
       "      <td>0.264482</td>\n",
       "      <td>0.702228</td>\n",
       "      <td>0.011676</td>\n",
       "      <td>0.021614</td>\n",
       "    </tr>\n",
       "    <tr>\n",
       "      <th>2353</th>\n",
       "      <td>7290</td>\n",
       "      <td>0.001190</td>\n",
       "      <td>0.003606</td>\n",
       "      <td>0.167294</td>\n",
       "      <td>0.827910</td>\n",
       "    </tr>\n",
       "    <tr>\n",
       "      <th>2354</th>\n",
       "      <td>4108</td>\n",
       "      <td>0.348917</td>\n",
       "      <td>0.613856</td>\n",
       "      <td>0.013610</td>\n",
       "      <td>0.023617</td>\n",
       "    </tr>\n",
       "    <tr>\n",
       "      <th>2355</th>\n",
       "      <td>6331</td>\n",
       "      <td>0.314702</td>\n",
       "      <td>0.651395</td>\n",
       "      <td>0.013420</td>\n",
       "      <td>0.020482</td>\n",
       "    </tr>\n",
       "    <tr>\n",
       "      <th>2356</th>\n",
       "      <td>7699</td>\n",
       "      <td>0.011268</td>\n",
       "      <td>0.028541</td>\n",
       "      <td>0.162556</td>\n",
       "      <td>0.797635</td>\n",
       "    </tr>\n",
       "    <tr>\n",
       "      <th>2357</th>\n",
       "      <td>5541</td>\n",
       "      <td>0.339771</td>\n",
       "      <td>0.610727</td>\n",
       "      <td>0.011906</td>\n",
       "      <td>0.037596</td>\n",
       "    </tr>\n",
       "    <tr>\n",
       "      <th>2358</th>\n",
       "      <td>3678</td>\n",
       "      <td>0.350340</td>\n",
       "      <td>0.525240</td>\n",
       "      <td>0.073890</td>\n",
       "      <td>0.050530</td>\n",
       "    </tr>\n",
       "    <tr>\n",
       "      <th>2359</th>\n",
       "      <td>6885</td>\n",
       "      <td>0.308029</td>\n",
       "      <td>0.539080</td>\n",
       "      <td>0.058906</td>\n",
       "      <td>0.093985</td>\n",
       "    </tr>\n",
       "    <tr>\n",
       "      <th>2360</th>\n",
       "      <td>2245</td>\n",
       "      <td>0.309379</td>\n",
       "      <td>0.592526</td>\n",
       "      <td>0.031665</td>\n",
       "      <td>0.066429</td>\n",
       "    </tr>\n",
       "    <tr>\n",
       "      <th>2361</th>\n",
       "      <td>5651</td>\n",
       "      <td>0.590184</td>\n",
       "      <td>0.372264</td>\n",
       "      <td>0.008725</td>\n",
       "      <td>0.028827</td>\n",
       "    </tr>\n",
       "    <tr>\n",
       "      <th>2362</th>\n",
       "      <td>6463</td>\n",
       "      <td>0.167162</td>\n",
       "      <td>0.536837</td>\n",
       "      <td>0.066121</td>\n",
       "      <td>0.229880</td>\n",
       "    </tr>\n",
       "    <tr>\n",
       "      <th>2363</th>\n",
       "      <td>1508</td>\n",
       "      <td>0.254834</td>\n",
       "      <td>0.558045</td>\n",
       "      <td>0.068000</td>\n",
       "      <td>0.119121</td>\n",
       "    </tr>\n",
       "    <tr>\n",
       "      <th>2364</th>\n",
       "      <td>8385</td>\n",
       "      <td>0.590344</td>\n",
       "      <td>0.379513</td>\n",
       "      <td>0.015188</td>\n",
       "      <td>0.014955</td>\n",
       "    </tr>\n",
       "  </tbody>\n",
       "</table>\n",
       "<p>2365 rows × 5 columns</p>\n",
       "</div>"
      ],
      "text/plain": [
       "        ID  no_financial_services  other_only   mm_only   mm_plus\n",
       "0     2352               0.000881    0.002235  0.098616  0.898267\n",
       "1     8208               0.017272    0.048528  0.169924  0.764275\n",
       "2     2785               0.001374    0.008014  0.116767  0.873845\n",
       "3     2967               0.551190    0.380320  0.016913  0.051577\n",
       "4     1697               0.001106    0.001920  0.106720  0.890255\n",
       "5     4794               0.016891    0.064759  0.154984  0.763366\n",
       "6     2675               0.027081    0.061783  0.167354  0.743782\n",
       "7     2989               0.000585    0.001976  0.232294  0.765145\n",
       "8     1634               0.393930    0.460690  0.073564  0.071817\n",
       "9     4147               0.015903    0.069557  0.107325  0.807215\n",
       "10    8003               0.037117    0.158619  0.122980  0.681285\n",
       "11    1058               0.243561    0.391655  0.063948  0.300837\n",
       "12    8172               0.351287    0.579481  0.022235  0.046997\n",
       "13    2640               0.418524    0.530248  0.015761  0.035467\n",
       "14    1233               0.000684    0.001845  0.018239  0.979231\n",
       "15    8632               0.001022    0.002373  0.231188  0.765417\n",
       "16    4548               0.039707    0.075393  0.127910  0.756990\n",
       "17    1032               0.332920    0.487226  0.047856  0.131998\n",
       "18     270               0.001354    0.003575  0.052386  0.942684\n",
       "19    5516               0.022743    0.303165  0.080440  0.593652\n",
       "20    1289               0.001667    0.001738  0.108326  0.888269\n",
       "21     376               0.283494    0.374969  0.084939  0.256598\n",
       "22    5856               0.000163    0.000632  0.023358  0.975846\n",
       "23    2588               0.000623    0.001524  0.053537  0.944317\n",
       "24    1348               0.000577    0.003967  0.090702  0.904753\n",
       "25    8391               0.000902    0.002698  0.059112  0.937289\n",
       "26    2616               0.387373    0.554875  0.023180  0.034572\n",
       "27    5154               0.002227    0.004275  0.275853  0.717645\n",
       "28     869               0.194911    0.726306  0.017535  0.061247\n",
       "29    6625               0.364625    0.554710  0.016844  0.063821\n",
       "...    ...                    ...         ...       ...       ...\n",
       "2335  4737               0.002377    0.010414  0.280963  0.706246\n",
       "2336  6589               0.648291    0.290164  0.032674  0.028872\n",
       "2337  9123               0.001576    0.005571  0.345045  0.647808\n",
       "2338   409               0.055371    0.033612  0.559427  0.351590\n",
       "2339  1734               0.762352    0.209150  0.020333  0.008164\n",
       "2340  1265               0.700714    0.162687  0.107419  0.029181\n",
       "2341  1290               0.710401    0.265024  0.010816  0.013759\n",
       "2342  6210               0.579684    0.351388  0.027037  0.041891\n",
       "2343  6093               0.679365    0.078963  0.152898  0.088775\n",
       "2344  4932               0.005366    0.004040  0.722774  0.267820\n",
       "2345  2791               0.568236    0.370175  0.031796  0.029794\n",
       "2346  4749               0.507168    0.410295  0.046310  0.036227\n",
       "2347  1638               0.606503    0.358723  0.015166  0.019608\n",
       "2348  7724               0.275506    0.626789  0.028892  0.068813\n",
       "2349  4124               0.231529    0.735370  0.008476  0.024626\n",
       "2350  4479               0.357115    0.607631  0.008616  0.026637\n",
       "2351  7845               0.457825    0.508396  0.007649  0.026130\n",
       "2352  3810               0.264482    0.702228  0.011676  0.021614\n",
       "2353  7290               0.001190    0.003606  0.167294  0.827910\n",
       "2354  4108               0.348917    0.613856  0.013610  0.023617\n",
       "2355  6331               0.314702    0.651395  0.013420  0.020482\n",
       "2356  7699               0.011268    0.028541  0.162556  0.797635\n",
       "2357  5541               0.339771    0.610727  0.011906  0.037596\n",
       "2358  3678               0.350340    0.525240  0.073890  0.050530\n",
       "2359  6885               0.308029    0.539080  0.058906  0.093985\n",
       "2360  2245               0.309379    0.592526  0.031665  0.066429\n",
       "2361  5651               0.590184    0.372264  0.008725  0.028827\n",
       "2362  6463               0.167162    0.536837  0.066121  0.229880\n",
       "2363  1508               0.254834    0.558045  0.068000  0.119121\n",
       "2364  8385               0.590344    0.379513  0.015188  0.014955\n",
       "\n",
       "[2365 rows x 5 columns]"
      ]
     },
     "execution_count": 204,
     "metadata": {},
     "output_type": "execute_result"
    }
   ],
   "source": [
    "pred"
   ]
  },
  {
   "cell_type": "code",
   "execution_count": null,
   "metadata": {},
   "outputs": [],
   "source": []
  },
  {
   "cell_type": "code",
   "execution_count": null,
   "metadata": {},
   "outputs": [],
   "source": []
  },
  {
   "cell_type": "code",
   "execution_count": null,
   "metadata": {},
   "outputs": [],
   "source": []
  },
  {
   "cell_type": "code",
   "execution_count": null,
   "metadata": {},
   "outputs": [],
   "source": []
  },
  {
   "cell_type": "code",
   "execution_count": null,
   "metadata": {},
   "outputs": [],
   "source": []
  },
  {
   "cell_type": "code",
   "execution_count": null,
   "metadata": {},
   "outputs": [],
   "source": []
  },
  {
   "cell_type": "code",
   "execution_count": null,
   "metadata": {},
   "outputs": [],
   "source": []
  },
  {
   "cell_type": "code",
   "execution_count": 205,
   "metadata": {},
   "outputs": [
    {
     "data": {
      "text/html": [
       "<div>\n",
       "<style scoped>\n",
       "    .dataframe tbody tr th:only-of-type {\n",
       "        vertical-align: middle;\n",
       "    }\n",
       "\n",
       "    .dataframe tbody tr th {\n",
       "        vertical-align: top;\n",
       "    }\n",
       "\n",
       "    .dataframe thead th {\n",
       "        text-align: right;\n",
       "    }\n",
       "</style>\n",
       "<table border=\"1\" class=\"dataframe\">\n",
       "  <thead>\n",
       "    <tr style=\"text-align: right;\">\n",
       "      <th></th>\n",
       "      <th>ID</th>\n",
       "      <th>no_financial_services</th>\n",
       "      <th>other_only</th>\n",
       "      <th>mm_only</th>\n",
       "      <th>mm_plus</th>\n",
       "    </tr>\n",
       "  </thead>\n",
       "  <tbody>\n",
       "    <tr>\n",
       "      <th>0</th>\n",
       "      <td>2352</td>\n",
       "      <td>0.001780</td>\n",
       "      <td>0.003859</td>\n",
       "      <td>0.173364</td>\n",
       "      <td>0.820997</td>\n",
       "    </tr>\n",
       "    <tr>\n",
       "      <th>1</th>\n",
       "      <td>8208</td>\n",
       "      <td>0.023208</td>\n",
       "      <td>0.052196</td>\n",
       "      <td>0.174839</td>\n",
       "      <td>0.749757</td>\n",
       "    </tr>\n",
       "    <tr>\n",
       "      <th>2</th>\n",
       "      <td>2785</td>\n",
       "      <td>0.002796</td>\n",
       "      <td>0.011820</td>\n",
       "      <td>0.086509</td>\n",
       "      <td>0.898875</td>\n",
       "    </tr>\n",
       "    <tr>\n",
       "      <th>3</th>\n",
       "      <td>2967</td>\n",
       "      <td>0.344809</td>\n",
       "      <td>0.563982</td>\n",
       "      <td>0.019978</td>\n",
       "      <td>0.071232</td>\n",
       "    </tr>\n",
       "    <tr>\n",
       "      <th>4</th>\n",
       "      <td>1697</td>\n",
       "      <td>0.001681</td>\n",
       "      <td>0.002970</td>\n",
       "      <td>0.092202</td>\n",
       "      <td>0.903147</td>\n",
       "    </tr>\n",
       "  </tbody>\n",
       "</table>\n",
       "</div>"
      ],
      "text/plain": [
       "     ID  no_financial_services  other_only   mm_only   mm_plus\n",
       "0  2352               0.001780    0.003859  0.173364  0.820997\n",
       "1  8208               0.023208    0.052196  0.174839  0.749757\n",
       "2  2785               0.002796    0.011820  0.086509  0.898875\n",
       "3  2967               0.344809    0.563982  0.019978  0.071232\n",
       "4  1697               0.001681    0.002970  0.092202  0.903147"
      ]
     },
     "execution_count": 205,
     "metadata": {},
     "output_type": "execute_result"
    }
   ],
   "source": [
    "pred.head()"
   ]
  },
  {
   "cell_type": "code",
   "execution_count": 2,
   "metadata": {},
   "outputs": [],
   "source": [
    "import pandas as pd"
   ]
  },
  {
   "cell_type": "code",
   "execution_count": null,
   "metadata": {},
   "outputs": [],
   "source": []
  },
  {
   "cell_type": "code",
   "execution_count": 952,
   "metadata": {},
   "outputs": [],
   "source": [
    "a = pd.read_csv(\"notleastxgb.csv\")\n",
    "b= pd.read_csv('lordOfMercy1.csv')\n",
    "#c = pd.read_csv('engine4.csv')"
   ]
  },
  {
   "cell_type": "code",
   "execution_count": 953,
   "metadata": {},
   "outputs": [
    {
     "data": {
      "text/html": [
       "<div>\n",
       "<style scoped>\n",
       "    .dataframe tbody tr th:only-of-type {\n",
       "        vertical-align: middle;\n",
       "    }\n",
       "\n",
       "    .dataframe tbody tr th {\n",
       "        vertical-align: top;\n",
       "    }\n",
       "\n",
       "    .dataframe thead th {\n",
       "        text-align: right;\n",
       "    }\n",
       "</style>\n",
       "<table border=\"1\" class=\"dataframe\">\n",
       "  <thead>\n",
       "    <tr style=\"text-align: right;\">\n",
       "      <th></th>\n",
       "      <th>ID</th>\n",
       "      <th>no_financial_services</th>\n",
       "      <th>other_only</th>\n",
       "      <th>mm_only</th>\n",
       "      <th>mm_plus</th>\n",
       "    </tr>\n",
       "  </thead>\n",
       "  <tbody>\n",
       "    <tr>\n",
       "      <th>0</th>\n",
       "      <td>2352</td>\n",
       "      <td>0.000531</td>\n",
       "      <td>0.002930</td>\n",
       "      <td>0.174186</td>\n",
       "      <td>0.822353</td>\n",
       "    </tr>\n",
       "    <tr>\n",
       "      <th>1</th>\n",
       "      <td>8208</td>\n",
       "      <td>0.018649</td>\n",
       "      <td>0.041809</td>\n",
       "      <td>0.141993</td>\n",
       "      <td>0.797549</td>\n",
       "    </tr>\n",
       "    <tr>\n",
       "      <th>2</th>\n",
       "      <td>2785</td>\n",
       "      <td>0.000644</td>\n",
       "      <td>0.005596</td>\n",
       "      <td>0.099169</td>\n",
       "      <td>0.894591</td>\n",
       "    </tr>\n",
       "    <tr>\n",
       "      <th>3</th>\n",
       "      <td>2967</td>\n",
       "      <td>0.371044</td>\n",
       "      <td>0.563401</td>\n",
       "      <td>0.018079</td>\n",
       "      <td>0.047476</td>\n",
       "    </tr>\n",
       "    <tr>\n",
       "      <th>4</th>\n",
       "      <td>1697</td>\n",
       "      <td>0.000242</td>\n",
       "      <td>0.001635</td>\n",
       "      <td>0.109014</td>\n",
       "      <td>0.889110</td>\n",
       "    </tr>\n",
       "  </tbody>\n",
       "</table>\n",
       "</div>"
      ],
      "text/plain": [
       "     ID  no_financial_services  other_only   mm_only   mm_plus\n",
       "0  2352               0.000531    0.002930  0.174186  0.822353\n",
       "1  8208               0.018649    0.041809  0.141993  0.797549\n",
       "2  2785               0.000644    0.005596  0.099169  0.894591\n",
       "3  2967               0.371044    0.563401  0.018079  0.047476\n",
       "4  1697               0.000242    0.001635  0.109014  0.889110"
      ]
     },
     "execution_count": 953,
     "metadata": {},
     "output_type": "execute_result"
    }
   ],
   "source": [
    "a.head()"
   ]
  },
  {
   "cell_type": "code",
   "execution_count": 219,
   "metadata": {},
   "outputs": [],
   "source": [
    "#pd.read_csv(\"jago.csv\")"
   ]
  },
  {
   "cell_type": "code",
   "execution_count": 954,
   "metadata": {},
   "outputs": [],
   "source": [
    "pred = (0.3*a+0.7*b)"
   ]
  },
  {
   "cell_type": "code",
   "execution_count": 955,
   "metadata": {},
   "outputs": [
    {
     "data": {
      "text/html": [
       "<div>\n",
       "<style scoped>\n",
       "    .dataframe tbody tr th:only-of-type {\n",
       "        vertical-align: middle;\n",
       "    }\n",
       "\n",
       "    .dataframe tbody tr th {\n",
       "        vertical-align: top;\n",
       "    }\n",
       "\n",
       "    .dataframe thead th {\n",
       "        text-align: right;\n",
       "    }\n",
       "</style>\n",
       "<table border=\"1\" class=\"dataframe\">\n",
       "  <thead>\n",
       "    <tr style=\"text-align: right;\">\n",
       "      <th></th>\n",
       "      <th>ID</th>\n",
       "      <th>no_financial_services</th>\n",
       "      <th>other_only</th>\n",
       "      <th>mm_only</th>\n",
       "      <th>mm_plus</th>\n",
       "    </tr>\n",
       "  </thead>\n",
       "  <tbody>\n",
       "    <tr>\n",
       "      <th>0</th>\n",
       "      <td>2352.0</td>\n",
       "      <td>0.000597</td>\n",
       "      <td>0.002457</td>\n",
       "      <td>0.177988</td>\n",
       "      <td>0.818957</td>\n",
       "    </tr>\n",
       "    <tr>\n",
       "      <th>1</th>\n",
       "      <td>8208.0</td>\n",
       "      <td>0.020782</td>\n",
       "      <td>0.044579</td>\n",
       "      <td>0.150549</td>\n",
       "      <td>0.784090</td>\n",
       "    </tr>\n",
       "    <tr>\n",
       "      <th>2</th>\n",
       "      <td>2785.0</td>\n",
       "      <td>0.000560</td>\n",
       "      <td>0.005506</td>\n",
       "      <td>0.101921</td>\n",
       "      <td>0.892013</td>\n",
       "    </tr>\n",
       "    <tr>\n",
       "      <th>3</th>\n",
       "      <td>2967.0</td>\n",
       "      <td>0.373219</td>\n",
       "      <td>0.561084</td>\n",
       "      <td>0.017132</td>\n",
       "      <td>0.048566</td>\n",
       "    </tr>\n",
       "    <tr>\n",
       "      <th>4</th>\n",
       "      <td>1697.0</td>\n",
       "      <td>0.000166</td>\n",
       "      <td>0.001552</td>\n",
       "      <td>0.101391</td>\n",
       "      <td>0.896891</td>\n",
       "    </tr>\n",
       "  </tbody>\n",
       "</table>\n",
       "</div>"
      ],
      "text/plain": [
       "       ID  no_financial_services  other_only   mm_only   mm_plus\n",
       "0  2352.0               0.000597    0.002457  0.177988  0.818957\n",
       "1  8208.0               0.020782    0.044579  0.150549  0.784090\n",
       "2  2785.0               0.000560    0.005506  0.101921  0.892013\n",
       "3  2967.0               0.373219    0.561084  0.017132  0.048566\n",
       "4  1697.0               0.000166    0.001552  0.101391  0.896891"
      ]
     },
     "execution_count": 955,
     "metadata": {},
     "output_type": "execute_result"
    }
   ],
   "source": [
    "pred.head()"
   ]
  },
  {
   "cell_type": "code",
   "execution_count": 956,
   "metadata": {},
   "outputs": [
    {
     "data": {
      "text/html": [
       "<div>\n",
       "<style scoped>\n",
       "    .dataframe tbody tr th:only-of-type {\n",
       "        vertical-align: middle;\n",
       "    }\n",
       "\n",
       "    .dataframe tbody tr th {\n",
       "        vertical-align: top;\n",
       "    }\n",
       "\n",
       "    .dataframe thead th {\n",
       "        text-align: right;\n",
       "    }\n",
       "</style>\n",
       "<table border=\"1\" class=\"dataframe\">\n",
       "  <thead>\n",
       "    <tr style=\"text-align: right;\">\n",
       "      <th></th>\n",
       "      <th>ID</th>\n",
       "      <th>no_financial_services</th>\n",
       "      <th>other_only</th>\n",
       "      <th>mm_only</th>\n",
       "      <th>mm_plus</th>\n",
       "    </tr>\n",
       "  </thead>\n",
       "  <tbody>\n",
       "    <tr>\n",
       "      <th>0</th>\n",
       "      <td>2352</td>\n",
       "      <td>0.000625</td>\n",
       "      <td>0.002255</td>\n",
       "      <td>0.179618</td>\n",
       "      <td>0.817502</td>\n",
       "    </tr>\n",
       "    <tr>\n",
       "      <th>1</th>\n",
       "      <td>8208</td>\n",
       "      <td>0.021697</td>\n",
       "      <td>0.045766</td>\n",
       "      <td>0.154215</td>\n",
       "      <td>0.778322</td>\n",
       "    </tr>\n",
       "    <tr>\n",
       "      <th>2</th>\n",
       "      <td>2785</td>\n",
       "      <td>0.000524</td>\n",
       "      <td>0.005467</td>\n",
       "      <td>0.103100</td>\n",
       "      <td>0.890908</td>\n",
       "    </tr>\n",
       "    <tr>\n",
       "      <th>3</th>\n",
       "      <td>2967</td>\n",
       "      <td>0.374151</td>\n",
       "      <td>0.560091</td>\n",
       "      <td>0.016726</td>\n",
       "      <td>0.049033</td>\n",
       "    </tr>\n",
       "    <tr>\n",
       "      <th>4</th>\n",
       "      <td>1697</td>\n",
       "      <td>0.000134</td>\n",
       "      <td>0.001516</td>\n",
       "      <td>0.098125</td>\n",
       "      <td>0.900225</td>\n",
       "    </tr>\n",
       "  </tbody>\n",
       "</table>\n",
       "</div>"
      ],
      "text/plain": [
       "     ID  no_financial_services  other_only   mm_only   mm_plus\n",
       "0  2352               0.000625    0.002255  0.179618  0.817502\n",
       "1  8208               0.021697    0.045766  0.154215  0.778322\n",
       "2  2785               0.000524    0.005467  0.103100  0.890908\n",
       "3  2967               0.374151    0.560091  0.016726  0.049033\n",
       "4  1697               0.000134    0.001516  0.098125  0.900225"
      ]
     },
     "execution_count": 956,
     "metadata": {},
     "output_type": "execute_result"
    }
   ],
   "source": [
    "b.head()"
   ]
  },
  {
   "cell_type": "code",
   "execution_count": 957,
   "metadata": {},
   "outputs": [],
   "source": [
    "pred.drop(\"ID\", axis = 1, inplace = True)"
   ]
  },
  {
   "cell_type": "code",
   "execution_count": 958,
   "metadata": {},
   "outputs": [],
   "source": [
    "pred = pd.concat([sample[\"ID\"], pred], axis = 1)"
   ]
  },
  {
   "cell_type": "code",
   "execution_count": 959,
   "metadata": {},
   "outputs": [],
   "source": [
    "pred.to_csv(\"amalar.csv\",index = False)"
   ]
  },
  {
   "cell_type": "code",
   "execution_count": 960,
   "metadata": {},
   "outputs": [
    {
     "data": {
      "text/html": [
       "<div>\n",
       "<style scoped>\n",
       "    .dataframe tbody tr th:only-of-type {\n",
       "        vertical-align: middle;\n",
       "    }\n",
       "\n",
       "    .dataframe tbody tr th {\n",
       "        vertical-align: top;\n",
       "    }\n",
       "\n",
       "    .dataframe thead th {\n",
       "        text-align: right;\n",
       "    }\n",
       "</style>\n",
       "<table border=\"1\" class=\"dataframe\">\n",
       "  <thead>\n",
       "    <tr style=\"text-align: right;\">\n",
       "      <th></th>\n",
       "      <th>ID</th>\n",
       "      <th>no_financial_services</th>\n",
       "      <th>other_only</th>\n",
       "      <th>mm_only</th>\n",
       "      <th>mm_plus</th>\n",
       "    </tr>\n",
       "  </thead>\n",
       "  <tbody>\n",
       "    <tr>\n",
       "      <th>0</th>\n",
       "      <td>2352</td>\n",
       "      <td>0.000597</td>\n",
       "      <td>0.002457</td>\n",
       "      <td>0.177988</td>\n",
       "      <td>0.818957</td>\n",
       "    </tr>\n",
       "    <tr>\n",
       "      <th>1</th>\n",
       "      <td>8208</td>\n",
       "      <td>0.020782</td>\n",
       "      <td>0.044579</td>\n",
       "      <td>0.150549</td>\n",
       "      <td>0.784090</td>\n",
       "    </tr>\n",
       "    <tr>\n",
       "      <th>2</th>\n",
       "      <td>2785</td>\n",
       "      <td>0.000560</td>\n",
       "      <td>0.005506</td>\n",
       "      <td>0.101921</td>\n",
       "      <td>0.892013</td>\n",
       "    </tr>\n",
       "    <tr>\n",
       "      <th>3</th>\n",
       "      <td>2967</td>\n",
       "      <td>0.373219</td>\n",
       "      <td>0.561084</td>\n",
       "      <td>0.017132</td>\n",
       "      <td>0.048566</td>\n",
       "    </tr>\n",
       "    <tr>\n",
       "      <th>4</th>\n",
       "      <td>1697</td>\n",
       "      <td>0.000166</td>\n",
       "      <td>0.001552</td>\n",
       "      <td>0.101391</td>\n",
       "      <td>0.896891</td>\n",
       "    </tr>\n",
       "  </tbody>\n",
       "</table>\n",
       "</div>"
      ],
      "text/plain": [
       "     ID  no_financial_services  other_only   mm_only   mm_plus\n",
       "0  2352               0.000597    0.002457  0.177988  0.818957\n",
       "1  8208               0.020782    0.044579  0.150549  0.784090\n",
       "2  2785               0.000560    0.005506  0.101921  0.892013\n",
       "3  2967               0.373219    0.561084  0.017132  0.048566\n",
       "4  1697               0.000166    0.001552  0.101391  0.896891"
      ]
     },
     "execution_count": 960,
     "metadata": {},
     "output_type": "execute_result"
    }
   ],
   "source": [
    "pred.head()"
   ]
  },
  {
   "cell_type": "code",
   "execution_count": null,
   "metadata": {},
   "outputs": [],
   "source": []
  }
 ],
 "metadata": {
  "kernelspec": {
   "display_name": "Python 3",
   "language": "python",
   "name": "python3"
  },
  "language_info": {
   "codemirror_mode": {
    "name": "ipython",
    "version": 3
   },
   "file_extension": ".py",
   "mimetype": "text/x-python",
   "name": "python",
   "nbconvert_exporter": "python",
   "pygments_lexer": "ipython3",
   "version": "3.7.1"
  }
 },
 "nbformat": 4,
 "nbformat_minor": 2
}
