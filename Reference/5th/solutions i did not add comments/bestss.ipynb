{
 "cells": [
  {
   "cell_type": "code",
   "execution_count": 1,
   "metadata": {},
   "outputs": [],
   "source": [
    "import numpy as np\n",
    "import pandas as pd\n",
    "import matplotlib.pyplot as plt\n",
    "import pandas as pd\n",
    "import numpy as np\n",
    "import seaborn as sns\n",
    "import matplotlib.pyplot as plt\n",
    "#% matplotlib inline\n",
    "\n",
    "import pylab \n",
    "import scipy.stats as stats"
   ]
  },
  {
   "cell_type": "code",
   "execution_count": 2,
   "metadata": {},
   "outputs": [],
   "source": [
    "data = pd.read_csv(\"training.csv\")\n",
    "test = pd.read_csv(\"test.csv\")"
   ]
  },
  {
   "cell_type": "code",
   "execution_count": 3,
   "metadata": {},
   "outputs": [
    {
     "data": {
      "text/html": [
       "<div>\n",
       "<style scoped>\n",
       "    .dataframe tbody tr th:only-of-type {\n",
       "        vertical-align: middle;\n",
       "    }\n",
       "\n",
       "    .dataframe tbody tr th {\n",
       "        vertical-align: top;\n",
       "    }\n",
       "\n",
       "    .dataframe thead th {\n",
       "        text-align: right;\n",
       "    }\n",
       "</style>\n",
       "<table border=\"1\" class=\"dataframe\">\n",
       "  <thead>\n",
       "    <tr style=\"text-align: right;\">\n",
       "      <th></th>\n",
       "      <th>ID</th>\n",
       "      <th>Q1</th>\n",
       "      <th>Q2</th>\n",
       "      <th>Q3</th>\n",
       "      <th>Q4</th>\n",
       "      <th>Q5</th>\n",
       "      <th>Q6</th>\n",
       "      <th>Q7</th>\n",
       "      <th>Q8_1</th>\n",
       "      <th>Q8_2</th>\n",
       "      <th>...</th>\n",
       "      <th>Q17</th>\n",
       "      <th>Q18</th>\n",
       "      <th>Q19</th>\n",
       "      <th>Latitude</th>\n",
       "      <th>Longitude</th>\n",
       "      <th>mobile_money</th>\n",
       "      <th>savings</th>\n",
       "      <th>borrowing</th>\n",
       "      <th>insurance</th>\n",
       "      <th>mobile_money_classification</th>\n",
       "    </tr>\n",
       "  </thead>\n",
       "  <tbody>\n",
       "    <tr>\n",
       "      <th>0</th>\n",
       "      <td>5086</td>\n",
       "      <td>98</td>\n",
       "      <td>2</td>\n",
       "      <td>3</td>\n",
       "      <td>1</td>\n",
       "      <td>1</td>\n",
       "      <td>2</td>\n",
       "      <td>2</td>\n",
       "      <td>0</td>\n",
       "      <td>0</td>\n",
       "      <td>...</td>\n",
       "      <td>-1</td>\n",
       "      <td>4</td>\n",
       "      <td>4</td>\n",
       "      <td>-4.460442</td>\n",
       "      <td>29.811396</td>\n",
       "      <td>0</td>\n",
       "      <td>0</td>\n",
       "      <td>0</td>\n",
       "      <td>0</td>\n",
       "      <td>0</td>\n",
       "    </tr>\n",
       "    <tr>\n",
       "      <th>1</th>\n",
       "      <td>1258</td>\n",
       "      <td>40</td>\n",
       "      <td>1</td>\n",
       "      <td>1</td>\n",
       "      <td>3</td>\n",
       "      <td>5</td>\n",
       "      <td>1</td>\n",
       "      <td>1</td>\n",
       "      <td>1</td>\n",
       "      <td>0</td>\n",
       "      <td>...</td>\n",
       "      <td>4</td>\n",
       "      <td>1</td>\n",
       "      <td>4</td>\n",
       "      <td>-6.176438</td>\n",
       "      <td>39.244871</td>\n",
       "      <td>1</td>\n",
       "      <td>1</td>\n",
       "      <td>1</td>\n",
       "      <td>0</td>\n",
       "      <td>3</td>\n",
       "    </tr>\n",
       "    <tr>\n",
       "      <th>2</th>\n",
       "      <td>331</td>\n",
       "      <td>18</td>\n",
       "      <td>2</td>\n",
       "      <td>4</td>\n",
       "      <td>6</td>\n",
       "      <td>3</td>\n",
       "      <td>2</td>\n",
       "      <td>1</td>\n",
       "      <td>0</td>\n",
       "      <td>0</td>\n",
       "      <td>...</td>\n",
       "      <td>-1</td>\n",
       "      <td>1</td>\n",
       "      <td>1</td>\n",
       "      <td>-6.825702</td>\n",
       "      <td>37.652798</td>\n",
       "      <td>1</td>\n",
       "      <td>0</td>\n",
       "      <td>0</td>\n",
       "      <td>0</td>\n",
       "      <td>2</td>\n",
       "    </tr>\n",
       "    <tr>\n",
       "      <th>3</th>\n",
       "      <td>6729</td>\n",
       "      <td>50</td>\n",
       "      <td>1</td>\n",
       "      <td>1</td>\n",
       "      <td>3</td>\n",
       "      <td>1</td>\n",
       "      <td>1</td>\n",
       "      <td>1</td>\n",
       "      <td>0</td>\n",
       "      <td>0</td>\n",
       "      <td>...</td>\n",
       "      <td>-1</td>\n",
       "      <td>1</td>\n",
       "      <td>4</td>\n",
       "      <td>-3.372049</td>\n",
       "      <td>35.808307</td>\n",
       "      <td>1</td>\n",
       "      <td>0</td>\n",
       "      <td>1</td>\n",
       "      <td>0</td>\n",
       "      <td>3</td>\n",
       "    </tr>\n",
       "    <tr>\n",
       "      <th>4</th>\n",
       "      <td>8671</td>\n",
       "      <td>34</td>\n",
       "      <td>1</td>\n",
       "      <td>1</td>\n",
       "      <td>1</td>\n",
       "      <td>1</td>\n",
       "      <td>2</td>\n",
       "      <td>1</td>\n",
       "      <td>0</td>\n",
       "      <td>1</td>\n",
       "      <td>...</td>\n",
       "      <td>-1</td>\n",
       "      <td>1</td>\n",
       "      <td>4</td>\n",
       "      <td>-7.179645</td>\n",
       "      <td>31.039095</td>\n",
       "      <td>1</td>\n",
       "      <td>1</td>\n",
       "      <td>0</td>\n",
       "      <td>1</td>\n",
       "      <td>3</td>\n",
       "    </tr>\n",
       "  </tbody>\n",
       "</table>\n",
       "<p>5 rows × 37 columns</p>\n",
       "</div>"
      ],
      "text/plain": [
       "     ID  Q1  Q2  Q3  Q4  Q5  Q6  Q7  Q8_1  Q8_2             ...               \\\n",
       "0  5086  98   2   3   1   1   2   2     0     0             ...                \n",
       "1  1258  40   1   1   3   5   1   1     1     0             ...                \n",
       "2   331  18   2   4   6   3   2   1     0     0             ...                \n",
       "3  6729  50   1   1   3   1   1   1     0     0             ...                \n",
       "4  8671  34   1   1   1   1   2   1     0     1             ...                \n",
       "\n",
       "   Q17  Q18  Q19  Latitude  Longitude  mobile_money  savings  borrowing  \\\n",
       "0   -1    4    4 -4.460442  29.811396             0        0          0   \n",
       "1    4    1    4 -6.176438  39.244871             1        1          1   \n",
       "2   -1    1    1 -6.825702  37.652798             1        0          0   \n",
       "3   -1    1    4 -3.372049  35.808307             1        0          1   \n",
       "4   -1    1    4 -7.179645  31.039095             1        1          0   \n",
       "\n",
       "   insurance  mobile_money_classification  \n",
       "0          0                            0  \n",
       "1          0                            3  \n",
       "2          0                            2  \n",
       "3          0                            3  \n",
       "4          1                            3  \n",
       "\n",
       "[5 rows x 37 columns]"
      ]
     },
     "execution_count": 3,
     "metadata": {},
     "output_type": "execute_result"
    }
   ],
   "source": [
    "data.head()"
   ]
  },
  {
   "cell_type": "code",
   "execution_count": 4,
   "metadata": {},
   "outputs": [],
   "source": [
    "c = pd.read_csv('Eniola_train.csv')\n",
    "d = pd.read_csv('Eniola_test.csv')\n",
    "data  = pd.merge(data,c ,on=['ID'],how='left')\n",
    "test  = pd.merge(test,d ,on=['ID'],how='left')"
   ]
  },
  {
   "cell_type": "code",
   "execution_count": 5,
   "metadata": {},
   "outputs": [
    {
     "data": {
      "text/html": [
       "<div>\n",
       "<style scoped>\n",
       "    .dataframe tbody tr th:only-of-type {\n",
       "        vertical-align: middle;\n",
       "    }\n",
       "\n",
       "    .dataframe tbody tr th {\n",
       "        vertical-align: top;\n",
       "    }\n",
       "\n",
       "    .dataframe thead th {\n",
       "        text-align: right;\n",
       "    }\n",
       "</style>\n",
       "<table border=\"1\" class=\"dataframe\">\n",
       "  <thead>\n",
       "    <tr style=\"text-align: right;\">\n",
       "      <th></th>\n",
       "      <th>ID</th>\n",
       "      <th>Q1</th>\n",
       "      <th>Q2</th>\n",
       "      <th>Q3</th>\n",
       "      <th>Q4</th>\n",
       "      <th>Q5</th>\n",
       "      <th>Q6</th>\n",
       "      <th>Q7</th>\n",
       "      <th>Q8_1</th>\n",
       "      <th>Q8_2</th>\n",
       "      <th>...</th>\n",
       "      <th>Q19</th>\n",
       "      <th>Latitude</th>\n",
       "      <th>Longitude</th>\n",
       "      <th>mobile_money</th>\n",
       "      <th>savings</th>\n",
       "      <th>borrowing</th>\n",
       "      <th>insurance</th>\n",
       "      <th>mobile_money_classification</th>\n",
       "      <th>district</th>\n",
       "      <th>region</th>\n",
       "    </tr>\n",
       "  </thead>\n",
       "  <tbody>\n",
       "    <tr>\n",
       "      <th>0</th>\n",
       "      <td>5086</td>\n",
       "      <td>98</td>\n",
       "      <td>2</td>\n",
       "      <td>3</td>\n",
       "      <td>1</td>\n",
       "      <td>1</td>\n",
       "      <td>2</td>\n",
       "      <td>2</td>\n",
       "      <td>0</td>\n",
       "      <td>0</td>\n",
       "      <td>...</td>\n",
       "      <td>4</td>\n",
       "      <td>-4.460442</td>\n",
       "      <td>29.811396</td>\n",
       "      <td>0</td>\n",
       "      <td>0</td>\n",
       "      <td>0</td>\n",
       "      <td>0</td>\n",
       "      <td>0</td>\n",
       "      <td>Kasulu</td>\n",
       "      <td>Kigoma</td>\n",
       "    </tr>\n",
       "    <tr>\n",
       "      <th>1</th>\n",
       "      <td>1258</td>\n",
       "      <td>40</td>\n",
       "      <td>1</td>\n",
       "      <td>1</td>\n",
       "      <td>3</td>\n",
       "      <td>5</td>\n",
       "      <td>1</td>\n",
       "      <td>1</td>\n",
       "      <td>1</td>\n",
       "      <td>0</td>\n",
       "      <td>...</td>\n",
       "      <td>4</td>\n",
       "      <td>-6.176438</td>\n",
       "      <td>39.244871</td>\n",
       "      <td>1</td>\n",
       "      <td>1</td>\n",
       "      <td>1</td>\n",
       "      <td>0</td>\n",
       "      <td>3</td>\n",
       "      <td>Zanzibar</td>\n",
       "      <td>Zanzibar</td>\n",
       "    </tr>\n",
       "    <tr>\n",
       "      <th>2</th>\n",
       "      <td>331</td>\n",
       "      <td>18</td>\n",
       "      <td>2</td>\n",
       "      <td>4</td>\n",
       "      <td>6</td>\n",
       "      <td>3</td>\n",
       "      <td>2</td>\n",
       "      <td>1</td>\n",
       "      <td>0</td>\n",
       "      <td>0</td>\n",
       "      <td>...</td>\n",
       "      <td>1</td>\n",
       "      <td>-6.825702</td>\n",
       "      <td>37.652798</td>\n",
       "      <td>1</td>\n",
       "      <td>0</td>\n",
       "      <td>0</td>\n",
       "      <td>0</td>\n",
       "      <td>2</td>\n",
       "      <td>Morogoro Urban</td>\n",
       "      <td>Morogoro</td>\n",
       "    </tr>\n",
       "    <tr>\n",
       "      <th>3</th>\n",
       "      <td>6729</td>\n",
       "      <td>50</td>\n",
       "      <td>1</td>\n",
       "      <td>1</td>\n",
       "      <td>3</td>\n",
       "      <td>1</td>\n",
       "      <td>1</td>\n",
       "      <td>1</td>\n",
       "      <td>0</td>\n",
       "      <td>0</td>\n",
       "      <td>...</td>\n",
       "      <td>4</td>\n",
       "      <td>-3.372049</td>\n",
       "      <td>35.808307</td>\n",
       "      <td>1</td>\n",
       "      <td>0</td>\n",
       "      <td>1</td>\n",
       "      <td>0</td>\n",
       "      <td>3</td>\n",
       "      <td>Karatu</td>\n",
       "      <td>Arusha</td>\n",
       "    </tr>\n",
       "    <tr>\n",
       "      <th>4</th>\n",
       "      <td>8671</td>\n",
       "      <td>34</td>\n",
       "      <td>1</td>\n",
       "      <td>1</td>\n",
       "      <td>1</td>\n",
       "      <td>1</td>\n",
       "      <td>2</td>\n",
       "      <td>1</td>\n",
       "      <td>0</td>\n",
       "      <td>1</td>\n",
       "      <td>...</td>\n",
       "      <td>4</td>\n",
       "      <td>-7.179645</td>\n",
       "      <td>31.039095</td>\n",
       "      <td>1</td>\n",
       "      <td>1</td>\n",
       "      <td>0</td>\n",
       "      <td>1</td>\n",
       "      <td>3</td>\n",
       "      <td>Mpanda</td>\n",
       "      <td>Rukwa</td>\n",
       "    </tr>\n",
       "  </tbody>\n",
       "</table>\n",
       "<p>5 rows × 39 columns</p>\n",
       "</div>"
      ],
      "text/plain": [
       "     ID  Q1  Q2  Q3  Q4  Q5  Q6  Q7  Q8_1  Q8_2    ...     Q19  Latitude  \\\n",
       "0  5086  98   2   3   1   1   2   2     0     0    ...       4 -4.460442   \n",
       "1  1258  40   1   1   3   5   1   1     1     0    ...       4 -6.176438   \n",
       "2   331  18   2   4   6   3   2   1     0     0    ...       1 -6.825702   \n",
       "3  6729  50   1   1   3   1   1   1     0     0    ...       4 -3.372049   \n",
       "4  8671  34   1   1   1   1   2   1     0     1    ...       4 -7.179645   \n",
       "\n",
       "   Longitude  mobile_money  savings  borrowing  insurance  \\\n",
       "0  29.811396             0        0          0          0   \n",
       "1  39.244871             1        1          1          0   \n",
       "2  37.652798             1        0          0          0   \n",
       "3  35.808307             1        0          1          0   \n",
       "4  31.039095             1        1          0          1   \n",
       "\n",
       "   mobile_money_classification        district    region  \n",
       "0                            0          Kasulu    Kigoma  \n",
       "1                            3        Zanzibar  Zanzibar  \n",
       "2                            2  Morogoro Urban  Morogoro  \n",
       "3                            3          Karatu    Arusha  \n",
       "4                            3          Mpanda     Rukwa  \n",
       "\n",
       "[5 rows x 39 columns]"
      ]
     },
     "execution_count": 5,
     "metadata": {},
     "output_type": "execute_result"
    }
   ],
   "source": [
    "#data.to_csv('fadtrain.csv',index = False)\n",
    "#test.to_csv('fadtest.csv',index = False)\n",
    "data.head()"
   ]
  },
  {
   "cell_type": "code",
   "execution_count": 6,
   "metadata": {},
   "outputs": [],
   "source": [
    "a = pd.read_csv('lat2dat.csv')\n",
    "b = pd.read_csv('lat2test.csv')"
   ]
  },
  {
   "cell_type": "code",
   "execution_count": 7,
   "metadata": {},
   "outputs": [],
   "source": [
    "data.drop(['mobile_money', 'savings', 'borrowing', 'insurance'], axis = 1,inplace = True)\n",
    "\n",
    "#distest = pd.read_csv(\"districttest.csv\")\n",
    "#distrain= pd.read_csv('districttrain.csv')\n",
    "#trreg = pd.read_csv('trainregion.csv')\n",
    "#testreg = pd.read_csv('testregion.csv')\n",
    "#distrain.drop('region',axis =1 ,inplace = True)\n",
    "#data = pd.concat([data,distrain,trreg,a], axis = 1)\n",
    "#test = pd.concat([test,distest,testreg,b], axis = 1)\n",
    "\n",
    "data = pd.concat([data,a], axis = 1)\n",
    "\n",
    "test = pd.concat([test,b], axis = 1)\n",
    "\n"
   ]
  },
  {
   "cell_type": "code",
   "execution_count": 232,
   "metadata": {},
   "outputs": [],
   "source": [
    "e = pd.read_csv('mobilemoney_dist1.csv')\n",
    "f = pd.read_csv('mobilemoney_dist2.csv')"
   ]
  },
  {
   "cell_type": "code",
   "execution_count": 233,
   "metadata": {},
   "outputs": [
    {
     "data": {
      "text/plain": [
       "Index(['Unnamed: 0', 'ID', 'min_dist_mm1k', 'cnt_dist_mm1k'], dtype='object')"
      ]
     },
     "execution_count": 233,
     "metadata": {},
     "output_type": "execute_result"
    }
   ],
   "source": [
    "e.columns"
   ]
  },
  {
   "cell_type": "code",
   "execution_count": 234,
   "metadata": {},
   "outputs": [],
   "source": [
    "e.drop(['Unnamed: 0', 'min_dist_mm1k'],axis = 1,inplace = True)\n",
    "f.drop(['Unnamed: 0', 'min_dist_mm1k'],axis = 1,inplace = True)"
   ]
  },
  {
   "cell_type": "code",
   "execution_count": 235,
   "metadata": {},
   "outputs": [],
   "source": [
    "data  = pd.merge(data,e ,on=['ID'],how='left')\n",
    "test  = pd.merge(test,f ,on=['ID'],how='left')"
   ]
  },
  {
   "cell_type": "code",
   "execution_count": null,
   "metadata": {},
   "outputs": [],
   "source": []
  },
  {
   "cell_type": "code",
   "execution_count": null,
   "metadata": {},
   "outputs": [],
   "source": []
  },
  {
   "cell_type": "code",
   "execution_count": 236,
   "metadata": {},
   "outputs": [],
   "source": [
    "data = data.fillna(1)\n",
    "test = test.fillna(1)"
   ]
  },
  {
   "cell_type": "code",
   "execution_count": 237,
   "metadata": {},
   "outputs": [
    {
     "name": "stdout",
     "output_type": "stream",
     "text": [
      "all_data size is : (9459, 38)\n"
     ]
    },
    {
     "name": "stderr",
     "output_type": "stream",
     "text": [
      "C:\\Users\\OLALEYE ENIOLA\\Anaconda3\\lib\\site-packages\\ipykernel_launcher.py:4: FutureWarning: Sorting because non-concatenation axis is not aligned. A future version\n",
      "of pandas will change to not sort by default.\n",
      "\n",
      "To accept the future behavior, pass 'sort=False'.\n",
      "\n",
      "To retain the current behavior and silence the warning, pass 'sort=True'.\n",
      "\n",
      "  after removing the cwd from sys.path.\n"
     ]
    }
   ],
   "source": [
    "ntrain = data.shape[0]\n",
    "ntest = test.shape[0]\n",
    "\n",
    "all_data = pd.concat((data, test)).reset_index(drop=True)\n",
    "print(\"all_data size is : {}\".format(all_data.shape))"
   ]
  },
  {
   "cell_type": "code",
   "execution_count": 238,
   "metadata": {},
   "outputs": [
    {
     "data": {
      "text/plain": [
       "1.0"
      ]
     },
     "execution_count": 238,
     "metadata": {},
     "output_type": "execute_result"
    }
   ],
   "source": [
    "all_data.cnt_dist_mm1k.min()"
   ]
  },
  {
   "cell_type": "code",
   "execution_count": null,
   "metadata": {},
   "outputs": [],
   "source": []
  },
  {
   "cell_type": "code",
   "execution_count": 239,
   "metadata": {},
   "outputs": [
    {
     "data": {
      "text/plain": [
       "ID                                0\n",
       "Latitude                          0\n",
       "Longitude                         0\n",
       "Q1                                0\n",
       "Q10                               0\n",
       "Q11                               0\n",
       "Q12                               0\n",
       "Q13                               0\n",
       "Q14                               0\n",
       "Q15                               0\n",
       "Q16                               0\n",
       "Q17                               0\n",
       "Q18                               0\n",
       "Q19                               0\n",
       "Q2                                0\n",
       "Q3                                0\n",
       "Q4                                0\n",
       "Q5                                0\n",
       "Q6                                0\n",
       "Q7                                0\n",
       "Q8_1                              0\n",
       "Q8_10                             0\n",
       "Q8_11                             0\n",
       "Q8_2                              0\n",
       "Q8_3                              0\n",
       "Q8_4                              0\n",
       "Q8_5                              0\n",
       "Q8_6                              0\n",
       "Q8_7                              0\n",
       "Q8_8                              0\n",
       "Q8_9                              0\n",
       "Q9                                0\n",
       "cnt_dist_mm1k                     0\n",
       "district                          0\n",
       "latitude2                         0\n",
       "longitude                         0\n",
       "mobile_money_classification    2365\n",
       "region                            0\n",
       "dtype: int64"
      ]
     },
     "execution_count": 239,
     "metadata": {},
     "output_type": "execute_result"
    }
   ],
   "source": [
    "all_data.isnull().sum()"
   ]
  },
  {
   "cell_type": "code",
   "execution_count": 240,
   "metadata": {},
   "outputs": [
    {
     "data": {
      "text/plain": [
       "<matplotlib.axes._subplots.AxesSubplot at 0x1eb99008f28>"
      ]
     },
     "execution_count": 240,
     "metadata": {},
     "output_type": "execute_result"
    },
    {
     "data": {
      "image/png": "[encoded data removed]",
      "text/plain": [
       "<Figure size 1080x360 with 1 Axes>"
      ]
     },
     "metadata": {
      "needs_background": "light"
     },
     "output_type": "display_data"
    }
   ],
   "source": [
    "all_data.cnt_dist_mm1k.hist()"
   ]
  },
  {
   "cell_type": "code",
   "execution_count": 241,
   "metadata": {},
   "outputs": [
    {
     "data": {
      "text/plain": [
       "100"
      ]
     },
     "execution_count": 241,
     "metadata": {},
     "output_type": "execute_result"
    }
   ],
   "source": [
    "all_data.Q1.max()"
   ]
  },
  {
   "cell_type": "code",
   "execution_count": 242,
   "metadata": {},
   "outputs": [
    {
     "data": {
      "text/plain": [
       "<matplotlib.collections.PathCollection at 0x1eb99509a20>"
      ]
     },
     "execution_count": 242,
     "metadata": {},
     "output_type": "execute_result"
    },
    {
     "data": {
      "image/png": "[encoded data removed]",
      "text/plain": [
       "<Figure size 1080x360 with 1 Axes>"
      ]
     },
     "metadata": {
      "needs_background": "light"
     },
     "output_type": "display_data"
    }
   ],
   "source": [
    "plt.scatter(x = all_data.Q1,y = all_data.mobile_money_classification)"
   ]
  },
  {
   "cell_type": "code",
   "execution_count": 243,
   "metadata": {},
   "outputs": [
    {
     "name": "stderr",
     "output_type": "stream",
     "text": [
      "C:\\Users\\OLALEYE ENIOLA\\Anaconda3\\lib\\site-packages\\seaborn\\categorical.py:3666: UserWarning: The `factorplot` function has been renamed to `catplot`. The original name will be removed in a future release. Please update your code. Note that the default `kind` in `factorplot` (`'point'`) has changed `'strip'` in `catplot`.\n",
      "  warnings.warn(msg)\n",
      "C:\\Users\\OLALEYE ENIOLA\\Anaconda3\\lib\\site-packages\\scipy\\stats\\stats.py:1713: FutureWarning: Using a non-tuple sequence for multidimensional indexing is deprecated; use `arr[tuple(seq)]` instead of `arr[seq]`. In the future this will be interpreted as an array index, `arr[np.array(seq)]`, which will result either in an error or a different result.\n",
      "  return np.add.reduce(sorted[indexer] * weights, axis=axis) / sumval\n"
     ]
    },
    {
     "data": {
      "text/plain": [
       "<seaborn.axisgrid.FacetGrid at 0x1eb9900b400>"
      ]
     },
     "execution_count": 243,
     "metadata": {},
     "output_type": "execute_result"
    },
    {
     "data": {
      "image/png": "[encoded data removed]",
      "text/plain": [
       "<Figure size 360x360 with 1 Axes>"
      ]
     },
     "metadata": {
      "needs_background": "light"
     },
     "output_type": "display_data"
    }
   ],
   "source": [
    "sns.factorplot(x='Q1',y='mobile_money_classification',data=all_data,kind='bar')"
   ]
  },
  {
   "cell_type": "code",
   "execution_count": 244,
   "metadata": {},
   "outputs": [
    {
     "data": {
      "text/html": [
       "<div>\n",
       "<style scoped>\n",
       "    .dataframe tbody tr th:only-of-type {\n",
       "        vertical-align: middle;\n",
       "    }\n",
       "\n",
       "    .dataframe tbody tr th {\n",
       "        vertical-align: top;\n",
       "    }\n",
       "\n",
       "    .dataframe thead th {\n",
       "        text-align: right;\n",
       "    }\n",
       "</style>\n",
       "<table border=\"1\" class=\"dataframe\">\n",
       "  <thead>\n",
       "    <tr style=\"text-align: right;\">\n",
       "      <th></th>\n",
       "      <th>ID</th>\n",
       "      <th>Latitude</th>\n",
       "      <th>Longitude</th>\n",
       "      <th>Q1</th>\n",
       "      <th>Q10</th>\n",
       "      <th>Q11</th>\n",
       "      <th>Q12</th>\n",
       "      <th>Q13</th>\n",
       "      <th>Q14</th>\n",
       "      <th>Q15</th>\n",
       "      <th>...</th>\n",
       "      <th>Q8_7</th>\n",
       "      <th>Q8_8</th>\n",
       "      <th>Q8_9</th>\n",
       "      <th>Q9</th>\n",
       "      <th>cnt_dist_mm1k</th>\n",
       "      <th>district</th>\n",
       "      <th>latitude2</th>\n",
       "      <th>longitude</th>\n",
       "      <th>mobile_money_classification</th>\n",
       "      <th>region</th>\n",
       "    </tr>\n",
       "  </thead>\n",
       "  <tbody>\n",
       "    <tr>\n",
       "      <th>0</th>\n",
       "      <td>5086</td>\n",
       "      <td>-4.460442</td>\n",
       "      <td>29.811396</td>\n",
       "      <td>98</td>\n",
       "      <td>-1</td>\n",
       "      <td>-1</td>\n",
       "      <td>2</td>\n",
       "      <td>-1</td>\n",
       "      <td>2</td>\n",
       "      <td>-1</td>\n",
       "      <td>...</td>\n",
       "      <td>0</td>\n",
       "      <td>0</td>\n",
       "      <td>1</td>\n",
       "      <td>-1</td>\n",
       "      <td>12.0</td>\n",
       "      <td>Kasulu</td>\n",
       "      <td>-4.57268</td>\n",
       "      <td>30.11092</td>\n",
       "      <td>0.0</td>\n",
       "      <td>Kigoma</td>\n",
       "    </tr>\n",
       "    <tr>\n",
       "      <th>1</th>\n",
       "      <td>1258</td>\n",
       "      <td>-6.176438</td>\n",
       "      <td>39.244871</td>\n",
       "      <td>40</td>\n",
       "      <td>-1</td>\n",
       "      <td>-1</td>\n",
       "      <td>1</td>\n",
       "      <td>4</td>\n",
       "      <td>1</td>\n",
       "      <td>5</td>\n",
       "      <td>...</td>\n",
       "      <td>0</td>\n",
       "      <td>0</td>\n",
       "      <td>0</td>\n",
       "      <td>1</td>\n",
       "      <td>278.0</td>\n",
       "      <td>Zanzibar</td>\n",
       "      <td>-6.16875</td>\n",
       "      <td>39.20243</td>\n",
       "      <td>3.0</td>\n",
       "      <td>Zanzibar</td>\n",
       "    </tr>\n",
       "    <tr>\n",
       "      <th>2</th>\n",
       "      <td>331</td>\n",
       "      <td>-6.825702</td>\n",
       "      <td>37.652798</td>\n",
       "      <td>18</td>\n",
       "      <td>-1</td>\n",
       "      <td>-1</td>\n",
       "      <td>2</td>\n",
       "      <td>-1</td>\n",
       "      <td>2</td>\n",
       "      <td>-1</td>\n",
       "      <td>...</td>\n",
       "      <td>0</td>\n",
       "      <td>0</td>\n",
       "      <td>1</td>\n",
       "      <td>-1</td>\n",
       "      <td>780.0</td>\n",
       "      <td>Morogoro Urban</td>\n",
       "      <td>-6.82282</td>\n",
       "      <td>37.67290</td>\n",
       "      <td>2.0</td>\n",
       "      <td>Morogoro</td>\n",
       "    </tr>\n",
       "    <tr>\n",
       "      <th>3</th>\n",
       "      <td>6729</td>\n",
       "      <td>-3.372049</td>\n",
       "      <td>35.808307</td>\n",
       "      <td>50</td>\n",
       "      <td>-1</td>\n",
       "      <td>-1</td>\n",
       "      <td>1</td>\n",
       "      <td>2</td>\n",
       "      <td>2</td>\n",
       "      <td>-1</td>\n",
       "      <td>...</td>\n",
       "      <td>0</td>\n",
       "      <td>0</td>\n",
       "      <td>0</td>\n",
       "      <td>-1</td>\n",
       "      <td>54.0</td>\n",
       "      <td>Karatu</td>\n",
       "      <td>-3.33868</td>\n",
       "      <td>35.67410</td>\n",
       "      <td>3.0</td>\n",
       "      <td>Arusha</td>\n",
       "    </tr>\n",
       "    <tr>\n",
       "      <th>4</th>\n",
       "      <td>8671</td>\n",
       "      <td>-7.179645</td>\n",
       "      <td>31.039095</td>\n",
       "      <td>34</td>\n",
       "      <td>1</td>\n",
       "      <td>-1</td>\n",
       "      <td>2</td>\n",
       "      <td>-1</td>\n",
       "      <td>1</td>\n",
       "      <td>1</td>\n",
       "      <td>...</td>\n",
       "      <td>0</td>\n",
       "      <td>0</td>\n",
       "      <td>0</td>\n",
       "      <td>-1</td>\n",
       "      <td>2.0</td>\n",
       "      <td>Mpanda</td>\n",
       "      <td>-7.50237</td>\n",
       "      <td>31.03970</td>\n",
       "      <td>3.0</td>\n",
       "      <td>Rukwa</td>\n",
       "    </tr>\n",
       "  </tbody>\n",
       "</table>\n",
       "<p>5 rows × 38 columns</p>\n",
       "</div>"
      ],
      "text/plain": [
       "     ID  Latitude  Longitude  Q1  Q10  Q11  Q12  Q13  Q14  Q15    ...     \\\n",
       "0  5086 -4.460442  29.811396  98   -1   -1    2   -1    2   -1    ...      \n",
       "1  1258 -6.176438  39.244871  40   -1   -1    1    4    1    5    ...      \n",
       "2   331 -6.825702  37.652798  18   -1   -1    2   -1    2   -1    ...      \n",
       "3  6729 -3.372049  35.808307  50   -1   -1    1    2    2   -1    ...      \n",
       "4  8671 -7.179645  31.039095  34    1   -1    2   -1    1    1    ...      \n",
       "\n",
       "   Q8_7  Q8_8  Q8_9  Q9  cnt_dist_mm1k        district  latitude2  longitude  \\\n",
       "0     0     0     1  -1           12.0          Kasulu   -4.57268   30.11092   \n",
       "1     0     0     0   1          278.0        Zanzibar   -6.16875   39.20243   \n",
       "2     0     0     1  -1          780.0  Morogoro Urban   -6.82282   37.67290   \n",
       "3     0     0     0  -1           54.0          Karatu   -3.33868   35.67410   \n",
       "4     0     0     0  -1            2.0          Mpanda   -7.50237   31.03970   \n",
       "\n",
       "   mobile_money_classification    region  \n",
       "0                          0.0    Kigoma  \n",
       "1                          3.0  Zanzibar  \n",
       "2                          2.0  Morogoro  \n",
       "3                          3.0    Arusha  \n",
       "4                          3.0     Rukwa  \n",
       "\n",
       "[5 rows x 38 columns]"
      ]
     },
     "execution_count": 244,
     "metadata": {},
     "output_type": "execute_result"
    }
   ],
   "source": [
    "all_data.head()"
   ]
  },
  {
   "cell_type": "code",
   "execution_count": 245,
   "metadata": {},
   "outputs": [],
   "source": [
    "cols_to_use = data.columns"
   ]
  },
  {
   "cell_type": "code",
   "execution_count": 246,
   "metadata": {},
   "outputs": [],
   "source": [
    "# let's plot the histograms to have an impression of the distribution of the numerical variables\n",
    "#for col in cols_to_use:\n",
    " #   fig = all_data[col].hist(bins=50)\n",
    "  #  fig.set_xlabel(col)\n",
    "   # fig.set_label('fin inclusion')\n",
    "    #plt.show() ''''\n",
    "    \n",
    "    # plot the numerical columns vs the output SalePrice to visualise the (linear) relationship\n",
    "\n",
    "#for col in cols_to_use[:-3]:\n",
    " #   data.plot.scatter(x=col, y='mobile_money_classification', ylim=(0,4))\n",
    "  #  plt.show()"
   ]
  },
  {
   "cell_type": "code",
   "execution_count": 247,
   "metadata": {},
   "outputs": [],
   "source": [
    "all_data = all_data.replace(-1,0)"
   ]
  },
  {
   "cell_type": "code",
   "execution_count": 248,
   "metadata": {},
   "outputs": [
    {
     "data": {
      "text/html": [
       "<div>\n",
       "<style scoped>\n",
       "    .dataframe tbody tr th:only-of-type {\n",
       "        vertical-align: middle;\n",
       "    }\n",
       "\n",
       "    .dataframe tbody tr th {\n",
       "        vertical-align: top;\n",
       "    }\n",
       "\n",
       "    .dataframe thead th {\n",
       "        text-align: right;\n",
       "    }\n",
       "</style>\n",
       "<table border=\"1\" class=\"dataframe\">\n",
       "  <thead>\n",
       "    <tr style=\"text-align: right;\">\n",
       "      <th></th>\n",
       "      <th>ID</th>\n",
       "      <th>Latitude</th>\n",
       "      <th>Longitude</th>\n",
       "      <th>Q1</th>\n",
       "      <th>Q10</th>\n",
       "      <th>Q11</th>\n",
       "      <th>Q12</th>\n",
       "      <th>Q13</th>\n",
       "      <th>Q14</th>\n",
       "      <th>Q15</th>\n",
       "      <th>...</th>\n",
       "      <th>Q8_7</th>\n",
       "      <th>Q8_8</th>\n",
       "      <th>Q8_9</th>\n",
       "      <th>Q9</th>\n",
       "      <th>cnt_dist_mm1k</th>\n",
       "      <th>district</th>\n",
       "      <th>latitude2</th>\n",
       "      <th>longitude</th>\n",
       "      <th>mobile_money_classification</th>\n",
       "      <th>region</th>\n",
       "    </tr>\n",
       "  </thead>\n",
       "  <tbody>\n",
       "    <tr>\n",
       "      <th>0</th>\n",
       "      <td>5086</td>\n",
       "      <td>-4.460442</td>\n",
       "      <td>29.811396</td>\n",
       "      <td>98</td>\n",
       "      <td>0</td>\n",
       "      <td>0</td>\n",
       "      <td>2</td>\n",
       "      <td>0</td>\n",
       "      <td>2</td>\n",
       "      <td>0</td>\n",
       "      <td>...</td>\n",
       "      <td>0</td>\n",
       "      <td>0</td>\n",
       "      <td>1</td>\n",
       "      <td>0</td>\n",
       "      <td>12.0</td>\n",
       "      <td>Kasulu</td>\n",
       "      <td>-4.57268</td>\n",
       "      <td>30.11092</td>\n",
       "      <td>0.0</td>\n",
       "      <td>Kigoma</td>\n",
       "    </tr>\n",
       "    <tr>\n",
       "      <th>1</th>\n",
       "      <td>1258</td>\n",
       "      <td>-6.176438</td>\n",
       "      <td>39.244871</td>\n",
       "      <td>40</td>\n",
       "      <td>0</td>\n",
       "      <td>0</td>\n",
       "      <td>1</td>\n",
       "      <td>4</td>\n",
       "      <td>1</td>\n",
       "      <td>5</td>\n",
       "      <td>...</td>\n",
       "      <td>0</td>\n",
       "      <td>0</td>\n",
       "      <td>0</td>\n",
       "      <td>1</td>\n",
       "      <td>278.0</td>\n",
       "      <td>Zanzibar</td>\n",
       "      <td>-6.16875</td>\n",
       "      <td>39.20243</td>\n",
       "      <td>3.0</td>\n",
       "      <td>Zanzibar</td>\n",
       "    </tr>\n",
       "    <tr>\n",
       "      <th>2</th>\n",
       "      <td>331</td>\n",
       "      <td>-6.825702</td>\n",
       "      <td>37.652798</td>\n",
       "      <td>18</td>\n",
       "      <td>0</td>\n",
       "      <td>0</td>\n",
       "      <td>2</td>\n",
       "      <td>0</td>\n",
       "      <td>2</td>\n",
       "      <td>0</td>\n",
       "      <td>...</td>\n",
       "      <td>0</td>\n",
       "      <td>0</td>\n",
       "      <td>1</td>\n",
       "      <td>0</td>\n",
       "      <td>780.0</td>\n",
       "      <td>Morogoro Urban</td>\n",
       "      <td>-6.82282</td>\n",
       "      <td>37.67290</td>\n",
       "      <td>2.0</td>\n",
       "      <td>Morogoro</td>\n",
       "    </tr>\n",
       "    <tr>\n",
       "      <th>3</th>\n",
       "      <td>6729</td>\n",
       "      <td>-3.372049</td>\n",
       "      <td>35.808307</td>\n",
       "      <td>50</td>\n",
       "      <td>0</td>\n",
       "      <td>0</td>\n",
       "      <td>1</td>\n",
       "      <td>2</td>\n",
       "      <td>2</td>\n",
       "      <td>0</td>\n",
       "      <td>...</td>\n",
       "      <td>0</td>\n",
       "      <td>0</td>\n",
       "      <td>0</td>\n",
       "      <td>0</td>\n",
       "      <td>54.0</td>\n",
       "      <td>Karatu</td>\n",
       "      <td>-3.33868</td>\n",
       "      <td>35.67410</td>\n",
       "      <td>3.0</td>\n",
       "      <td>Arusha</td>\n",
       "    </tr>\n",
       "    <tr>\n",
       "      <th>4</th>\n",
       "      <td>8671</td>\n",
       "      <td>-7.179645</td>\n",
       "      <td>31.039095</td>\n",
       "      <td>34</td>\n",
       "      <td>1</td>\n",
       "      <td>0</td>\n",
       "      <td>2</td>\n",
       "      <td>0</td>\n",
       "      <td>1</td>\n",
       "      <td>1</td>\n",
       "      <td>...</td>\n",
       "      <td>0</td>\n",
       "      <td>0</td>\n",
       "      <td>0</td>\n",
       "      <td>0</td>\n",
       "      <td>2.0</td>\n",
       "      <td>Mpanda</td>\n",
       "      <td>-7.50237</td>\n",
       "      <td>31.03970</td>\n",
       "      <td>3.0</td>\n",
       "      <td>Rukwa</td>\n",
       "    </tr>\n",
       "  </tbody>\n",
       "</table>\n",
       "<p>5 rows × 38 columns</p>\n",
       "</div>"
      ],
      "text/plain": [
       "     ID  Latitude  Longitude  Q1  Q10  Q11  Q12  Q13  Q14  Q15    ...     \\\n",
       "0  5086 -4.460442  29.811396  98    0    0    2    0    2    0    ...      \n",
       "1  1258 -6.176438  39.244871  40    0    0    1    4    1    5    ...      \n",
       "2   331 -6.825702  37.652798  18    0    0    2    0    2    0    ...      \n",
       "3  6729 -3.372049  35.808307  50    0    0    1    2    2    0    ...      \n",
       "4  8671 -7.179645  31.039095  34    1    0    2    0    1    1    ...      \n",
       "\n",
       "   Q8_7  Q8_8  Q8_9  Q9  cnt_dist_mm1k        district  latitude2  longitude  \\\n",
       "0     0     0     1   0           12.0          Kasulu   -4.57268   30.11092   \n",
       "1     0     0     0   1          278.0        Zanzibar   -6.16875   39.20243   \n",
       "2     0     0     1   0          780.0  Morogoro Urban   -6.82282   37.67290   \n",
       "3     0     0     0   0           54.0          Karatu   -3.33868   35.67410   \n",
       "4     0     0     0   0            2.0          Mpanda   -7.50237   31.03970   \n",
       "\n",
       "   mobile_money_classification    region  \n",
       "0                          0.0    Kigoma  \n",
       "1                          3.0  Zanzibar  \n",
       "2                          2.0  Morogoro  \n",
       "3                          3.0    Arusha  \n",
       "4                          3.0     Rukwa  \n",
       "\n",
       "[5 rows x 38 columns]"
      ]
     },
     "execution_count": 248,
     "metadata": {},
     "output_type": "execute_result"
    }
   ],
   "source": [
    "all_data.head()"
   ]
  },
  {
   "cell_type": "code",
   "execution_count": 249,
   "metadata": {},
   "outputs": [
    {
     "data": {
      "text/plain": [
       "array([1, 4, 5, 3, 2], dtype=int64)"
      ]
     },
     "execution_count": 249,
     "metadata": {},
     "output_type": "execute_result"
    }
   ],
   "source": [
    "data.Q16.unique()"
   ]
  },
  {
   "cell_type": "code",
   "execution_count": 250,
   "metadata": {},
   "outputs": [],
   "source": [
    "#all_data['hm'] = all_data['Q1']/all_data['Q16']\n",
    "all_data['hm'] = all_data['Q1']/all_data['Q16']\n"
   ]
  },
  {
   "cell_type": "code",
   "execution_count": 251,
   "metadata": {},
   "outputs": [],
   "source": [
    "\n",
    "#all_data['distance1'] = np.sqrt((data.latitude2 - data.Latitude) ** 2 + (data.longitude - data.Longitude) ** 2)\n",
    "import math"
   ]
  },
  {
   "cell_type": "code",
   "execution_count": 252,
   "metadata": {},
   "outputs": [],
   "source": [
    "#np.radians(data.Latitude)"
   ]
  },
  {
   "cell_type": "code",
   "execution_count": 253,
   "metadata": {},
   "outputs": [],
   "source": [
    "from math import sin, cos, sqrt, atan2\n",
    "def calculate_distance(Latitude, Longitude, latitude2, longitude):\n",
    "    R = 6373.0\n",
    "\n",
    "    Latitude = np.radians(Latitude)\n",
    "    Longitude = np.radians(Longitude)\n",
    "    latitude2 = np.radians(latitude2)\n",
    "    longitude = np.radians(longitude)\n",
    "\n",
    "    dlon = longitude - Longitude\n",
    "    dlat = latitude2 - Latitude\n",
    "\n",
    "    a = np.sin(dlat / 2)**2 + np.cos(Latitude) * np.cos(latitude2) * np.sin(dlon / 2)**2\n",
    "    c = 2 * np.arctan2(np.sqrt(a), np.sqrt(1 - a))\n",
    "\n",
    "    return R * c"
   ]
  },
  {
   "cell_type": "code",
   "execution_count": null,
   "metadata": {},
   "outputs": [],
   "source": []
  },
  {
   "cell_type": "code",
   "execution_count": 254,
   "metadata": {},
   "outputs": [],
   "source": [
    "all_data['distance'] = calculate_distance(**all_data[['Latitude', 'Longitude', 'latitude2', 'longitude']])\n"
   ]
  },
  {
   "cell_type": "code",
   "execution_count": 255,
   "metadata": {},
   "outputs": [],
   "source": [
    "from sklearn.cluster import KMeans"
   ]
  },
  {
   "cell_type": "code",
   "execution_count": 256,
   "metadata": {},
   "outputs": [],
   "source": [
    "km = KMeans(4, init='k-means++') # initialize\n"
   ]
  },
  {
   "cell_type": "code",
   "execution_count": 257,
   "metadata": {},
   "outputs": [
    {
     "data": {
      "text/plain": [
       "KMeans(algorithm='auto', copy_x=True, init='k-means++', max_iter=300,\n",
       "    n_clusters=4, n_init=10, n_jobs=None, precompute_distances='auto',\n",
       "    random_state=None, tol=0.0001, verbose=0)"
      ]
     },
     "execution_count": 257,
     "metadata": {},
     "output_type": "execute_result"
    }
   ],
   "source": [
    "km.fit(all_data.drop(['ID','mobile_money_classification','district','region'], axis = 1))\n",
    "#c = km.predict(X) # classify into three clusters"
   ]
  },
  {
   "cell_type": "code",
   "execution_count": null,
   "metadata": {},
   "outputs": [],
   "source": []
  },
  {
   "cell_type": "code",
   "execution_count": 258,
   "metadata": {},
   "outputs": [
    {
     "data": {
      "text/html": [
       "<div>\n",
       "<style scoped>\n",
       "    .dataframe tbody tr th:only-of-type {\n",
       "        vertical-align: middle;\n",
       "    }\n",
       "\n",
       "    .dataframe tbody tr th {\n",
       "        vertical-align: top;\n",
       "    }\n",
       "\n",
       "    .dataframe thead th {\n",
       "        text-align: right;\n",
       "    }\n",
       "</style>\n",
       "<table border=\"1\" class=\"dataframe\">\n",
       "  <thead>\n",
       "    <tr style=\"text-align: right;\">\n",
       "      <th></th>\n",
       "      <th>clusters</th>\n",
       "    </tr>\n",
       "  </thead>\n",
       "  <tbody>\n",
       "    <tr>\n",
       "      <th>0</th>\n",
       "      <td>0</td>\n",
       "    </tr>\n",
       "    <tr>\n",
       "      <th>1</th>\n",
       "      <td>0</td>\n",
       "    </tr>\n",
       "    <tr>\n",
       "      <th>2</th>\n",
       "      <td>0</td>\n",
       "    </tr>\n",
       "    <tr>\n",
       "      <th>3</th>\n",
       "      <td>0</td>\n",
       "    </tr>\n",
       "    <tr>\n",
       "      <th>4</th>\n",
       "      <td>0</td>\n",
       "    </tr>\n",
       "  </tbody>\n",
       "</table>\n",
       "</div>"
      ],
      "text/plain": [
       "   clusters\n",
       "0         0\n",
       "1         0\n",
       "2         0\n",
       "3         0\n",
       "4         0"
      ]
     },
     "execution_count": 258,
     "metadata": {},
     "output_type": "execute_result"
    }
   ],
   "source": [
    "c = km.predict(all_data.drop(['ID','mobile_money_classification','district','region'], axis =1))\n",
    "c = pd.DataFrame(c)\n",
    "c.columns = ['clusters']\n",
    "c.head()"
   ]
  },
  {
   "cell_type": "code",
   "execution_count": 259,
   "metadata": {},
   "outputs": [],
   "source": [
    "#all_data = pd.concat([all_data,c], axis = 1)"
   ]
  },
  {
   "cell_type": "code",
   "execution_count": null,
   "metadata": {},
   "outputs": [],
   "source": []
  },
  {
   "cell_type": "code",
   "execution_count": 260,
   "metadata": {},
   "outputs": [
    {
     "data": {
      "text/html": [
       "<div>\n",
       "<style scoped>\n",
       "    .dataframe tbody tr th:only-of-type {\n",
       "        vertical-align: middle;\n",
       "    }\n",
       "\n",
       "    .dataframe tbody tr th {\n",
       "        vertical-align: top;\n",
       "    }\n",
       "\n",
       "    .dataframe thead th {\n",
       "        text-align: right;\n",
       "    }\n",
       "</style>\n",
       "<table border=\"1\" class=\"dataframe\">\n",
       "  <thead>\n",
       "    <tr style=\"text-align: right;\">\n",
       "      <th></th>\n",
       "      <th>ID</th>\n",
       "      <th>Latitude</th>\n",
       "      <th>Longitude</th>\n",
       "      <th>Q1</th>\n",
       "      <th>Q10</th>\n",
       "      <th>Q11</th>\n",
       "      <th>Q12</th>\n",
       "      <th>Q13</th>\n",
       "      <th>Q14</th>\n",
       "      <th>Q15</th>\n",
       "      <th>...</th>\n",
       "      <th>Q8_9</th>\n",
       "      <th>Q9</th>\n",
       "      <th>cnt_dist_mm1k</th>\n",
       "      <th>district</th>\n",
       "      <th>latitude2</th>\n",
       "      <th>longitude</th>\n",
       "      <th>mobile_money_classification</th>\n",
       "      <th>region</th>\n",
       "      <th>hm</th>\n",
       "      <th>distance</th>\n",
       "    </tr>\n",
       "  </thead>\n",
       "  <tbody>\n",
       "    <tr>\n",
       "      <th>0</th>\n",
       "      <td>5086</td>\n",
       "      <td>-4.460442</td>\n",
       "      <td>29.811396</td>\n",
       "      <td>98</td>\n",
       "      <td>0</td>\n",
       "      <td>0</td>\n",
       "      <td>2</td>\n",
       "      <td>0</td>\n",
       "      <td>2</td>\n",
       "      <td>0</td>\n",
       "      <td>...</td>\n",
       "      <td>1</td>\n",
       "      <td>0</td>\n",
       "      <td>12.0</td>\n",
       "      <td>Kasulu</td>\n",
       "      <td>-4.57268</td>\n",
       "      <td>30.11092</td>\n",
       "      <td>0.0</td>\n",
       "      <td>Kigoma</td>\n",
       "      <td>98.0</td>\n",
       "      <td>35.481343</td>\n",
       "    </tr>\n",
       "    <tr>\n",
       "      <th>1</th>\n",
       "      <td>1258</td>\n",
       "      <td>-6.176438</td>\n",
       "      <td>39.244871</td>\n",
       "      <td>40</td>\n",
       "      <td>0</td>\n",
       "      <td>0</td>\n",
       "      <td>1</td>\n",
       "      <td>4</td>\n",
       "      <td>1</td>\n",
       "      <td>5</td>\n",
       "      <td>...</td>\n",
       "      <td>0</td>\n",
       "      <td>1</td>\n",
       "      <td>278.0</td>\n",
       "      <td>Zanzibar</td>\n",
       "      <td>-6.16875</td>\n",
       "      <td>39.20243</td>\n",
       "      <td>3.0</td>\n",
       "      <td>Zanzibar</td>\n",
       "      <td>10.0</td>\n",
       "      <td>4.770566</td>\n",
       "    </tr>\n",
       "    <tr>\n",
       "      <th>2</th>\n",
       "      <td>331</td>\n",
       "      <td>-6.825702</td>\n",
       "      <td>37.652798</td>\n",
       "      <td>18</td>\n",
       "      <td>0</td>\n",
       "      <td>0</td>\n",
       "      <td>2</td>\n",
       "      <td>0</td>\n",
       "      <td>2</td>\n",
       "      <td>0</td>\n",
       "      <td>...</td>\n",
       "      <td>1</td>\n",
       "      <td>0</td>\n",
       "      <td>780.0</td>\n",
       "      <td>Morogoro Urban</td>\n",
       "      <td>-6.82282</td>\n",
       "      <td>37.67290</td>\n",
       "      <td>2.0</td>\n",
       "      <td>Morogoro</td>\n",
       "      <td>18.0</td>\n",
       "      <td>2.243147</td>\n",
       "    </tr>\n",
       "    <tr>\n",
       "      <th>3</th>\n",
       "      <td>6729</td>\n",
       "      <td>-3.372049</td>\n",
       "      <td>35.808307</td>\n",
       "      <td>50</td>\n",
       "      <td>0</td>\n",
       "      <td>0</td>\n",
       "      <td>1</td>\n",
       "      <td>2</td>\n",
       "      <td>2</td>\n",
       "      <td>0</td>\n",
       "      <td>...</td>\n",
       "      <td>0</td>\n",
       "      <td>0</td>\n",
       "      <td>54.0</td>\n",
       "      <td>Karatu</td>\n",
       "      <td>-3.33868</td>\n",
       "      <td>35.67410</td>\n",
       "      <td>3.0</td>\n",
       "      <td>Arusha</td>\n",
       "      <td>12.5</td>\n",
       "      <td>15.357533</td>\n",
       "    </tr>\n",
       "    <tr>\n",
       "      <th>4</th>\n",
       "      <td>8671</td>\n",
       "      <td>-7.179645</td>\n",
       "      <td>31.039095</td>\n",
       "      <td>34</td>\n",
       "      <td>1</td>\n",
       "      <td>0</td>\n",
       "      <td>2</td>\n",
       "      <td>0</td>\n",
       "      <td>1</td>\n",
       "      <td>1</td>\n",
       "      <td>...</td>\n",
       "      <td>0</td>\n",
       "      <td>0</td>\n",
       "      <td>2.0</td>\n",
       "      <td>Mpanda</td>\n",
       "      <td>-7.50237</td>\n",
       "      <td>31.03970</td>\n",
       "      <td>3.0</td>\n",
       "      <td>Rukwa</td>\n",
       "      <td>34.0</td>\n",
       "      <td>35.896694</td>\n",
       "    </tr>\n",
       "  </tbody>\n",
       "</table>\n",
       "<p>5 rows × 40 columns</p>\n",
       "</div>"
      ],
      "text/plain": [
       "     ID  Latitude  Longitude  Q1  Q10  Q11  Q12  Q13  Q14  Q15    ...      \\\n",
       "0  5086 -4.460442  29.811396  98    0    0    2    0    2    0    ...       \n",
       "1  1258 -6.176438  39.244871  40    0    0    1    4    1    5    ...       \n",
       "2   331 -6.825702  37.652798  18    0    0    2    0    2    0    ...       \n",
       "3  6729 -3.372049  35.808307  50    0    0    1    2    2    0    ...       \n",
       "4  8671 -7.179645  31.039095  34    1    0    2    0    1    1    ...       \n",
       "\n",
       "   Q8_9  Q9  cnt_dist_mm1k        district  latitude2  longitude  \\\n",
       "0     1   0           12.0          Kasulu   -4.57268   30.11092   \n",
       "1     0   1          278.0        Zanzibar   -6.16875   39.20243   \n",
       "2     1   0          780.0  Morogoro Urban   -6.82282   37.67290   \n",
       "3     0   0           54.0          Karatu   -3.33868   35.67410   \n",
       "4     0   0            2.0          Mpanda   -7.50237   31.03970   \n",
       "\n",
       "   mobile_money_classification    region    hm   distance  \n",
       "0                          0.0    Kigoma  98.0  35.481343  \n",
       "1                          3.0  Zanzibar  10.0   4.770566  \n",
       "2                          2.0  Morogoro  18.0   2.243147  \n",
       "3                          3.0    Arusha  12.5  15.357533  \n",
       "4                          3.0     Rukwa  34.0  35.896694  \n",
       "\n",
       "[5 rows x 40 columns]"
      ]
     },
     "execution_count": 260,
     "metadata": {},
     "output_type": "execute_result"
    }
   ],
   "source": [
    "all_data.head()"
   ]
  },
  {
   "cell_type": "code",
   "execution_count": 261,
   "metadata": {},
   "outputs": [
    {
     "data": {
      "text/plain": [
       "<matplotlib.axes._subplots.AxesSubplot at 0x1eb9a7e9d68>"
      ]
     },
     "execution_count": 261,
     "metadata": {},
     "output_type": "execute_result"
    },
    {
     "data": {
      "image/png": "[encoded data removed]",
      "text/plain": [
       "<Figure size 1080x360 with 1 Axes>"
      ]
     },
     "metadata": {
      "needs_background": "light"
     },
     "output_type": "display_data"
    }
   ],
   "source": [
    "all_data.distance.hist()"
   ]
  },
  {
   "cell_type": "code",
   "execution_count": 262,
   "metadata": {},
   "outputs": [
    {
     "data": {
      "text/plain": [
       "<matplotlib.axes._subplots.AxesSubplot at 0x1eb9b501550>"
      ]
     },
     "execution_count": 262,
     "metadata": {},
     "output_type": "execute_result"
    },
    {
     "data": {
      "image/png": "[encoded data removed]",
      "text/plain": [
       "<Figure size 1080x360 with 1 Axes>"
      ]
     },
     "metadata": {
      "needs_background": "light"
     },
     "output_type": "display_data"
    }
   ],
   "source": [
    "(all_data.distance**(1/4)).hist()"
   ]
  },
  {
   "cell_type": "code",
   "execution_count": 263,
   "metadata": {},
   "outputs": [
    {
     "data": {
      "image/png": "[encoded data removed]",
      "text/plain": [
       "<Figure size 1080x360 with 1 Axes>"
      ]
     },
     "metadata": {
      "needs_background": "light"
     },
     "output_type": "display_data"
    }
   ],
   "source": [
    "# and the Q-Q plot\n",
    "stats.probplot(all_data.distance, dist=\"norm\", plot=pylab)\n",
    "pylab.show()"
   ]
  },
  {
   "cell_type": "code",
   "execution_count": 264,
   "metadata": {},
   "outputs": [
    {
     "data": {
      "image/png": "[encoded data removed]",
      "text/plain": [
       "<Figure size 1080x360 with 1 Axes>"
      ]
     },
     "metadata": {
      "needs_background": "light"
     },
     "output_type": "display_data"
    }
   ],
   "source": [
    "# and the Q-Q plot\n",
    "stats.probplot((all_data.distance**(1/4)), dist=\"norm\", plot=pylab)\n",
    "pylab.show()"
   ]
  },
  {
   "cell_type": "code",
   "execution_count": 265,
   "metadata": {},
   "outputs": [
    {
     "data": {
      "text/plain": [
       "<matplotlib.axes._subplots.AxesSubplot at 0x1eb9b87e5f8>"
      ]
     },
     "execution_count": 265,
     "metadata": {},
     "output_type": "execute_result"
    },
    {
     "data": {
      "image/png": "[encoded data removed]",
      "text/plain": [
       "<Figure size 1080x360 with 1 Axes>"
      ]
     },
     "metadata": {
      "needs_background": "light"
     },
     "output_type": "display_data"
    }
   ],
   "source": [
    "all_data.Longitude.hist()"
   ]
  },
  {
   "cell_type": "code",
   "execution_count": 266,
   "metadata": {},
   "outputs": [
    {
     "data": {
      "image/png": "[encoded data removed]",
      "text/plain": [
       "<Figure size 1080x360 with 1 Axes>"
      ]
     },
     "metadata": {
      "needs_background": "light"
     },
     "output_type": "display_data"
    }
   ],
   "source": [
    "# and the Q-Q plot\n",
    "stats.probplot(all_data.Longitude, dist=\"norm\", plot=pylab)\n",
    "pylab.show()"
   ]
  },
  {
   "cell_type": "code",
   "execution_count": 267,
   "metadata": {},
   "outputs": [
    {
     "data": {
      "text/plain": [
       "<matplotlib.axes._subplots.AxesSubplot at 0x1eb9bcd22e8>"
      ]
     },
     "execution_count": 267,
     "metadata": {},
     "output_type": "execute_result"
    },
    {
     "data": {
      "image/png": "[encoded data removed]",
      "text/plain": [
       "<Figure size 1080x360 with 1 Axes>"
      ]
     },
     "metadata": {
      "needs_background": "light"
     },
     "output_type": "display_data"
    }
   ],
   "source": [
    "(all_data.Longitude**(1/4)).hist()"
   ]
  },
  {
   "cell_type": "code",
   "execution_count": 268,
   "metadata": {},
   "outputs": [
    {
     "data": {
      "image/png": "[encoded data removed]",
      "text/plain": [
       "<Figure size 1080x360 with 1 Axes>"
      ]
     },
     "metadata": {
      "needs_background": "light"
     },
     "output_type": "display_data"
    }
   ],
   "source": [
    "# and the Q-Q plot\n",
    "stats.probplot((all_data.hm**(1/1.5)), dist=\"norm\", plot=pylab)\n",
    "pylab.show()"
   ]
  },
  {
   "cell_type": "code",
   "execution_count": 269,
   "metadata": {},
   "outputs": [],
   "source": [
    "# let's add the transformed variables to the dataset\n",
    "all_data['distance_transformed'] = all_data.distance**(1/4)\n",
    "#all_data['lon_TRANSFORMED'] = all_data.Longitude**(1/1.5)\n"
   ]
  },
  {
   "cell_type": "code",
   "execution_count": 270,
   "metadata": {},
   "outputs": [],
   "source": [
    "\n",
    "\n",
    "#created features corresponding to alternative coordinate systems\n",
    "#x = xcos + ysin\n",
    "#y = ycos - xsin\n",
    "#all_data[\"rot45X\"] = .707* all_data[\"Longitude\"] + .707* all_data[\"Latitude\"] \n",
    "#all_data[\"rot45Y\"] = .707* all_data[\"Longitude\"] - .707* all_data[\"Latitude\"]\n",
    "\n",
    "#all_data[\"rot30X\"] = (1.732/2)* all_data[\"Latitude\"] + (1./2)* all_data[\"Longitude\"]\n",
    "#all_data[\"rot30Y\"] = (1.732/2)* all_data[\"Longitude\"] - (1./2)* all_data[\"Latitude\"]\n",
    "\n",
    "#all_data[\"rot60X\"] = (1./2)* all_data[\"Latitude\"] + (1.732/2)* all_data[\"Longitude\"] \n",
    "#all_data[\"rot60Y\"] = (1./2)* all_data[\"Longitude\"] - (1.732/2)* all_data[\"Latitude\"]\n",
    "\n",
    "#all_data[\"radial_r\"] = np.sqrt( np.power(all_data[\"Longitude\"],2) + np.power(all_data[\"Latitude\"],2) )"
   ]
  },
  {
   "cell_type": "code",
   "execution_count": 271,
   "metadata": {},
   "outputs": [],
   "source": [
    "#all_data['x'] = np.cos(all_data.Latitude) * np.cos(all_data.Longitude)\n",
    "#all_data['y'] = np.cos(all_data.Latitude) * np.sin(all_data.Longitude) \n",
    "#all_data['z'] = np.sin(all_data.Latitude) \n",
    "#df['ATAN'] = np.arctan(df['SWD']/df['CWD'])\n"
   ]
  },
  {
   "cell_type": "code",
   "execution_count": 272,
   "metadata": {},
   "outputs": [
    {
     "data": {
      "text/plain": [
       "Text(0, 0.5, 'Frequency')"
      ]
     },
     "execution_count": 272,
     "metadata": {},
     "output_type": "execute_result"
    },
    {
     "data": {
      "image/png": "[encoded data removed]",
      "text/plain": [
       "<Figure size 1080x360 with 1 Axes>"
      ]
     },
     "metadata": {
      "needs_background": "light"
     },
     "output_type": "display_data"
    }
   ],
   "source": [
    "\n",
    "\n",
    "\n",
    "fig, ax = plt.subplots()  \n",
    "all_data['Q1'].hist(color='#A9C5D3')  \n",
    "ax.set_title('Developer Age Histogram', fontsize=12)   \n",
    "ax.set_xlabel('Age', fontsize=12)  \n",
    "ax.set_ylabel('Frequency', fontsize=12)\n"
   ]
  },
  {
   "cell_type": "code",
   "execution_count": null,
   "metadata": {},
   "outputs": [],
   "source": []
  },
  {
   "cell_type": "code",
   "execution_count": 273,
   "metadata": {},
   "outputs": [],
   "source": [
    "all_data['Age_bin_round'] = np.array(np.floor(np.array(all_data['Q1']) /10.))"
   ]
  },
  {
   "cell_type": "code",
   "execution_count": 274,
   "metadata": {},
   "outputs": [
    {
     "data": {
      "text/plain": [
       "array([ 9.,  4.,  1.,  5.,  3.,  2.,  7.,  8.,  6., 10.])"
      ]
     },
     "execution_count": 274,
     "metadata": {},
     "output_type": "execute_result"
    }
   ],
   "source": [
    "all_data.Age_bin_round.unique()"
   ]
  },
  {
   "cell_type": "code",
   "execution_count": 275,
   "metadata": {},
   "outputs": [],
   "source": [
    "#all_data['latlong'] = all_data.Longitude + all_data.Latitude"
   ]
  },
  {
   "cell_type": "code",
   "execution_count": 276,
   "metadata": {},
   "outputs": [],
   "source": [
    "all_data['latlong'] = all_data.Longitude + all_data.Latitude"
   ]
  },
  {
   "cell_type": "code",
   "execution_count": 277,
   "metadata": {},
   "outputs": [],
   "source": [
    "#Columns = [  'Q2', 'Q3', 'Q4', 'Q5', 'Q6', 'Q7', 'Q8_1', 'Q8_2', 'Q8_3',\n",
    " #      'Q8_4', 'Q8_5', 'Q8_6', 'Q8_7', 'Q8_8', 'Q8_9', 'Q8_10', 'Q8_11', 'Q9',\n",
    "  #     'Q10', 'Q11', 'Q12', 'Q13', 'Q14', 'Q15', '', 'Q17', 'Q18', 'Q19']"
   ]
  },
  {
   "cell_type": "code",
   "execution_count": 278,
   "metadata": {},
   "outputs": [],
   "source": [
    "#Columns = [ 'Q13',  'Q3']\n",
    "Columns = [  'Q3']"
   ]
  },
  {
   "cell_type": "code",
   "execution_count": 279,
   "metadata": {},
   "outputs": [],
   "source": [
    "all_data[Columns] = all_data[Columns].astype(str)"
   ]
  },
  {
   "cell_type": "code",
   "execution_count": 280,
   "metadata": {},
   "outputs": [],
   "source": [
    "#all_data[Columns] = all_data[Columns].astype(float)"
   ]
  },
  {
   "cell_type": "code",
   "execution_count": 281,
   "metadata": {},
   "outputs": [],
   "source": [
    "#[feat for feat in all_data.columns if all_data[feat].std() == 0 ]"
   ]
  },
  {
   "cell_type": "code",
   "execution_count": 282,
   "metadata": {},
   "outputs": [
    {
     "data": {
      "text/html": [
       "<div>\n",
       "<style scoped>\n",
       "    .dataframe tbody tr th:only-of-type {\n",
       "        vertical-align: middle;\n",
       "    }\n",
       "\n",
       "    .dataframe tbody tr th {\n",
       "        vertical-align: top;\n",
       "    }\n",
       "\n",
       "    .dataframe thead th {\n",
       "        text-align: right;\n",
       "    }\n",
       "</style>\n",
       "<table border=\"1\" class=\"dataframe\">\n",
       "  <thead>\n",
       "    <tr style=\"text-align: right;\">\n",
       "      <th></th>\n",
       "      <th>ID</th>\n",
       "      <th>Latitude</th>\n",
       "      <th>Longitude</th>\n",
       "      <th>Q1</th>\n",
       "      <th>Q10</th>\n",
       "      <th>Q11</th>\n",
       "      <th>Q12</th>\n",
       "      <th>Q13</th>\n",
       "      <th>Q14</th>\n",
       "      <th>Q15</th>\n",
       "      <th>...</th>\n",
       "      <th>district</th>\n",
       "      <th>latitude2</th>\n",
       "      <th>longitude</th>\n",
       "      <th>mobile_money_classification</th>\n",
       "      <th>region</th>\n",
       "      <th>hm</th>\n",
       "      <th>distance</th>\n",
       "      <th>distance_transformed</th>\n",
       "      <th>Age_bin_round</th>\n",
       "      <th>latlong</th>\n",
       "    </tr>\n",
       "  </thead>\n",
       "  <tbody>\n",
       "    <tr>\n",
       "      <th>0</th>\n",
       "      <td>5086</td>\n",
       "      <td>-4.460442</td>\n",
       "      <td>29.811396</td>\n",
       "      <td>98</td>\n",
       "      <td>0</td>\n",
       "      <td>0</td>\n",
       "      <td>2</td>\n",
       "      <td>0</td>\n",
       "      <td>2</td>\n",
       "      <td>0</td>\n",
       "      <td>...</td>\n",
       "      <td>Kasulu</td>\n",
       "      <td>-4.57268</td>\n",
       "      <td>30.11092</td>\n",
       "      <td>0.0</td>\n",
       "      <td>Kigoma</td>\n",
       "      <td>98.0</td>\n",
       "      <td>35.481343</td>\n",
       "      <td>2.440619</td>\n",
       "      <td>9.0</td>\n",
       "      <td>25.350954</td>\n",
       "    </tr>\n",
       "    <tr>\n",
       "      <th>1</th>\n",
       "      <td>1258</td>\n",
       "      <td>-6.176438</td>\n",
       "      <td>39.244871</td>\n",
       "      <td>40</td>\n",
       "      <td>0</td>\n",
       "      <td>0</td>\n",
       "      <td>1</td>\n",
       "      <td>4</td>\n",
       "      <td>1</td>\n",
       "      <td>5</td>\n",
       "      <td>...</td>\n",
       "      <td>Zanzibar</td>\n",
       "      <td>-6.16875</td>\n",
       "      <td>39.20243</td>\n",
       "      <td>3.0</td>\n",
       "      <td>Zanzibar</td>\n",
       "      <td>10.0</td>\n",
       "      <td>4.770566</td>\n",
       "      <td>1.477891</td>\n",
       "      <td>4.0</td>\n",
       "      <td>33.068433</td>\n",
       "    </tr>\n",
       "    <tr>\n",
       "      <th>2</th>\n",
       "      <td>331</td>\n",
       "      <td>-6.825702</td>\n",
       "      <td>37.652798</td>\n",
       "      <td>18</td>\n",
       "      <td>0</td>\n",
       "      <td>0</td>\n",
       "      <td>2</td>\n",
       "      <td>0</td>\n",
       "      <td>2</td>\n",
       "      <td>0</td>\n",
       "      <td>...</td>\n",
       "      <td>Morogoro Urban</td>\n",
       "      <td>-6.82282</td>\n",
       "      <td>37.67290</td>\n",
       "      <td>2.0</td>\n",
       "      <td>Morogoro</td>\n",
       "      <td>18.0</td>\n",
       "      <td>2.243147</td>\n",
       "      <td>1.223811</td>\n",
       "      <td>1.0</td>\n",
       "      <td>30.827096</td>\n",
       "    </tr>\n",
       "    <tr>\n",
       "      <th>3</th>\n",
       "      <td>6729</td>\n",
       "      <td>-3.372049</td>\n",
       "      <td>35.808307</td>\n",
       "      <td>50</td>\n",
       "      <td>0</td>\n",
       "      <td>0</td>\n",
       "      <td>1</td>\n",
       "      <td>2</td>\n",
       "      <td>2</td>\n",
       "      <td>0</td>\n",
       "      <td>...</td>\n",
       "      <td>Karatu</td>\n",
       "      <td>-3.33868</td>\n",
       "      <td>35.67410</td>\n",
       "      <td>3.0</td>\n",
       "      <td>Arusha</td>\n",
       "      <td>12.5</td>\n",
       "      <td>15.357533</td>\n",
       "      <td>1.979613</td>\n",
       "      <td>5.0</td>\n",
       "      <td>32.436258</td>\n",
       "    </tr>\n",
       "    <tr>\n",
       "      <th>4</th>\n",
       "      <td>8671</td>\n",
       "      <td>-7.179645</td>\n",
       "      <td>31.039095</td>\n",
       "      <td>34</td>\n",
       "      <td>1</td>\n",
       "      <td>0</td>\n",
       "      <td>2</td>\n",
       "      <td>0</td>\n",
       "      <td>1</td>\n",
       "      <td>1</td>\n",
       "      <td>...</td>\n",
       "      <td>Mpanda</td>\n",
       "      <td>-7.50237</td>\n",
       "      <td>31.03970</td>\n",
       "      <td>3.0</td>\n",
       "      <td>Rukwa</td>\n",
       "      <td>34.0</td>\n",
       "      <td>35.896694</td>\n",
       "      <td>2.447731</td>\n",
       "      <td>3.0</td>\n",
       "      <td>23.859450</td>\n",
       "    </tr>\n",
       "  </tbody>\n",
       "</table>\n",
       "<p>5 rows × 43 columns</p>\n",
       "</div>"
      ],
      "text/plain": [
       "     ID  Latitude  Longitude  Q1  Q10  Q11  Q12  Q13  Q14  Q15    ...      \\\n",
       "0  5086 -4.460442  29.811396  98    0    0    2    0    2    0    ...       \n",
       "1  1258 -6.176438  39.244871  40    0    0    1    4    1    5    ...       \n",
       "2   331 -6.825702  37.652798  18    0    0    2    0    2    0    ...       \n",
       "3  6729 -3.372049  35.808307  50    0    0    1    2    2    0    ...       \n",
       "4  8671 -7.179645  31.039095  34    1    0    2    0    1    1    ...       \n",
       "\n",
       "         district  latitude2  longitude  mobile_money_classification  \\\n",
       "0          Kasulu   -4.57268   30.11092                          0.0   \n",
       "1        Zanzibar   -6.16875   39.20243                          3.0   \n",
       "2  Morogoro Urban   -6.82282   37.67290                          2.0   \n",
       "3          Karatu   -3.33868   35.67410                          3.0   \n",
       "4          Mpanda   -7.50237   31.03970                          3.0   \n",
       "\n",
       "     region    hm   distance  distance_transformed  Age_bin_round    latlong  \n",
       "0    Kigoma  98.0  35.481343              2.440619            9.0  25.350954  \n",
       "1  Zanzibar  10.0   4.770566              1.477891            4.0  33.068433  \n",
       "2  Morogoro  18.0   2.243147              1.223811            1.0  30.827096  \n",
       "3    Arusha  12.5  15.357533              1.979613            5.0  32.436258  \n",
       "4     Rukwa  34.0  35.896694              2.447731            3.0  23.859450  \n",
       "\n",
       "[5 rows x 43 columns]"
      ]
     },
     "execution_count": 282,
     "metadata": {},
     "output_type": "execute_result"
    }
   ],
   "source": [
    "all_data.head()"
   ]
  },
  {
   "cell_type": "code",
   "execution_count": 283,
   "metadata": {},
   "outputs": [
    {
     "data": {
      "text/plain": [
       "Q3\n",
       "3    1.324484\n",
       "2    1.793304\n",
       "1    1.847625\n",
       "4    1.889077\n",
       "Name: mobile_money_classification, dtype: float64"
      ]
     },
     "execution_count": 283,
     "metadata": {},
     "output_type": "execute_result"
    }
   ],
   "source": [
    "all_data.groupby(['Q3'])['mobile_money_classification'].mean().sort_values()"
   ]
  },
  {
   "cell_type": "code",
   "execution_count": 284,
   "metadata": {},
   "outputs": [
    {
     "data": {
      "text/plain": [
       "Index(['3', '2', '1', '4'], dtype='object', name='Q3')"
      ]
     },
     "execution_count": 284,
     "metadata": {},
     "output_type": "execute_result"
    }
   ],
   "source": [
    "all_data.groupby(['Q3'])['mobile_money_classification'].mean().sort_values().index"
   ]
  },
  {
   "cell_type": "code",
   "execution_count": 285,
   "metadata": {},
   "outputs": [
    {
     "data": {
      "text/plain": [
       "array(['3', '1', '4', '2'], dtype=object)"
      ]
     },
     "execution_count": 285,
     "metadata": {},
     "output_type": "execute_result"
    }
   ],
   "source": [
    "all_data.Q3.unique()"
   ]
  },
  {
   "cell_type": "code",
   "execution_count": 286,
   "metadata": {},
   "outputs": [],
   "source": [
    "ordered_labels = all_data.groupby(['Q3'])['mobile_money_classification'].mean().sort_values().index"
   ]
  },
  {
   "cell_type": "code",
   "execution_count": 287,
   "metadata": {},
   "outputs": [
    {
     "data": {
      "text/plain": [
       "{'3': 0, '2': 1, '1': 2, '4': 3}"
      ]
     },
     "execution_count": 287,
     "metadata": {},
     "output_type": "execute_result"
    }
   ],
   "source": [
    "ordinal_label = {k:i for i, k in enumerate(ordered_labels, 0)} \n",
    "ordinal_label"
   ]
  },
  {
   "cell_type": "code",
   "execution_count": 288,
   "metadata": {},
   "outputs": [],
   "source": [
    "all_data['Q3_ordered'] = all_data.Q3.map(ordinal_label)\n"
   ]
  },
  {
   "cell_type": "code",
   "execution_count": 289,
   "metadata": {},
   "outputs": [],
   "source": [
    "# ordering the cat variables"
   ]
  },
  {
   "cell_type": "code",
   "execution_count": 290,
   "metadata": {},
   "outputs": [
    {
     "data": {
      "text/plain": [
       "Q4\n",
       "1    1.058382\n",
       "2    1.386233\n",
       "5    1.867238\n",
       "3    1.977655\n",
       "4    2.294118\n",
       "6    2.444915\n",
       "8    2.500000\n",
       "7    2.833333\n",
       "Name: mobile_money_classification, dtype: float64"
      ]
     },
     "execution_count": 290,
     "metadata": {},
     "output_type": "execute_result"
    }
   ],
   "source": [
    "all_data.groupby(['Q4'])['mobile_money_classification'].mean().sort_values()"
   ]
  },
  {
   "cell_type": "code",
   "execution_count": 291,
   "metadata": {},
   "outputs": [
    {
     "data": {
      "text/plain": [
       "{1: 0, 2: 1, 5: 2, 3: 3, 4: 4, 6: 5, 8: 6, 7: 7}"
      ]
     },
     "execution_count": 291,
     "metadata": {},
     "output_type": "execute_result"
    }
   ],
   "source": [
    "ordered_labels = all_data.groupby(['Q4'])['mobile_money_classification'].mean().sort_values().index\n",
    "ordinal_label = {k:i for i, k in enumerate(ordered_labels, 0)} \n",
    "ordinal_label"
   ]
  },
  {
   "cell_type": "code",
   "execution_count": 292,
   "metadata": {},
   "outputs": [],
   "source": [
    "all_data['Q4_ordered'] = all_data.Q4.map(ordinal_label)\n"
   ]
  },
  {
   "cell_type": "code",
   "execution_count": null,
   "metadata": {},
   "outputs": [],
   "source": []
  },
  {
   "cell_type": "code",
   "execution_count": 293,
   "metadata": {},
   "outputs": [
    {
     "data": {
      "text/plain": [
       "Text(0, 0.5, 'fin')"
      ]
     },
     "execution_count": 293,
     "metadata": {},
     "output_type": "execute_result"
    },
    {
     "data": {
      "image/png": "[encoded data removed]",
      "text/plain": [
       "<Figure size 1080x360 with 1 Axes>"
      ]
     },
     "metadata": {
      "needs_background": "light"
     },
     "output_type": "display_data"
    }
   ],
   "source": [
    "# let's inspect the newly created monotonic relationship with the target\n",
    "\n",
    "#first we plot the original variable for comparison, there is no monotonic relationship\n",
    "\n",
    "fig = plt.figure()\n",
    "fig = all_data.groupby(['Q3'])['mobile_money_classification'].mean().plot()\n",
    "fig.set_title('Normal relationship between variable and target')\n",
    "fig.set_ylabel('fin')"
   ]
  },
  {
   "cell_type": "code",
   "execution_count": 294,
   "metadata": {},
   "outputs": [],
   "source": [
    "# let's inspect the newly created monotonic relationship with the target\n",
    "\n",
    "#first we plot the original variable for comparison, there is no monotonic relationship\n",
    "\n",
    "#fig = plt.figure()\n",
    "#fig = all_data.groupby(['Q3_ordered'])['mobile_money_classification'].mean().plot()\n",
    "#fig.set_title('Normal relationship between variable and target')\n",
    "#fig.set_ylabel('fin')"
   ]
  },
  {
   "cell_type": "code",
   "execution_count": 295,
   "metadata": {},
   "outputs": [
    {
     "data": {
      "text/plain": [
       "0    1\n",
       "1    3\n",
       "2    6\n",
       "3    3\n",
       "4    1\n",
       "Name: Q4, dtype: int64"
      ]
     },
     "execution_count": 295,
     "metadata": {},
     "output_type": "execute_result"
    }
   ],
   "source": [
    "all_data.Q4.head()"
   ]
  },
  {
   "cell_type": "code",
   "execution_count": 296,
   "metadata": {},
   "outputs": [
    {
     "data": {
      "text/html": [
       "<div>\n",
       "<style scoped>\n",
       "    .dataframe tbody tr th:only-of-type {\n",
       "        vertical-align: middle;\n",
       "    }\n",
       "\n",
       "    .dataframe tbody tr th {\n",
       "        vertical-align: top;\n",
       "    }\n",
       "\n",
       "    .dataframe thead th {\n",
       "        text-align: right;\n",
       "    }\n",
       "</style>\n",
       "<table border=\"1\" class=\"dataframe\">\n",
       "  <thead>\n",
       "    <tr style=\"text-align: right;\">\n",
       "      <th></th>\n",
       "      <th>ID</th>\n",
       "      <th>Latitude</th>\n",
       "      <th>Longitude</th>\n",
       "      <th>Q1</th>\n",
       "      <th>Q10</th>\n",
       "      <th>Q11</th>\n",
       "      <th>Q12</th>\n",
       "      <th>Q13</th>\n",
       "      <th>Q14</th>\n",
       "      <th>Q15</th>\n",
       "      <th>...</th>\n",
       "      <th>longitude</th>\n",
       "      <th>mobile_money_classification</th>\n",
       "      <th>region</th>\n",
       "      <th>hm</th>\n",
       "      <th>distance</th>\n",
       "      <th>distance_transformed</th>\n",
       "      <th>Age_bin_round</th>\n",
       "      <th>latlong</th>\n",
       "      <th>Q3_ordered</th>\n",
       "      <th>Q4_ordered</th>\n",
       "    </tr>\n",
       "  </thead>\n",
       "  <tbody>\n",
       "    <tr>\n",
       "      <th>0</th>\n",
       "      <td>5086</td>\n",
       "      <td>-4.460442</td>\n",
       "      <td>29.811396</td>\n",
       "      <td>98</td>\n",
       "      <td>0</td>\n",
       "      <td>0</td>\n",
       "      <td>2</td>\n",
       "      <td>0</td>\n",
       "      <td>2</td>\n",
       "      <td>0</td>\n",
       "      <td>...</td>\n",
       "      <td>30.11092</td>\n",
       "      <td>0.0</td>\n",
       "      <td>Kigoma</td>\n",
       "      <td>98.0</td>\n",
       "      <td>35.481343</td>\n",
       "      <td>2.440619</td>\n",
       "      <td>9.0</td>\n",
       "      <td>25.350954</td>\n",
       "      <td>0</td>\n",
       "      <td>0</td>\n",
       "    </tr>\n",
       "    <tr>\n",
       "      <th>1</th>\n",
       "      <td>1258</td>\n",
       "      <td>-6.176438</td>\n",
       "      <td>39.244871</td>\n",
       "      <td>40</td>\n",
       "      <td>0</td>\n",
       "      <td>0</td>\n",
       "      <td>1</td>\n",
       "      <td>4</td>\n",
       "      <td>1</td>\n",
       "      <td>5</td>\n",
       "      <td>...</td>\n",
       "      <td>39.20243</td>\n",
       "      <td>3.0</td>\n",
       "      <td>Zanzibar</td>\n",
       "      <td>10.0</td>\n",
       "      <td>4.770566</td>\n",
       "      <td>1.477891</td>\n",
       "      <td>4.0</td>\n",
       "      <td>33.068433</td>\n",
       "      <td>2</td>\n",
       "      <td>3</td>\n",
       "    </tr>\n",
       "    <tr>\n",
       "      <th>2</th>\n",
       "      <td>331</td>\n",
       "      <td>-6.825702</td>\n",
       "      <td>37.652798</td>\n",
       "      <td>18</td>\n",
       "      <td>0</td>\n",
       "      <td>0</td>\n",
       "      <td>2</td>\n",
       "      <td>0</td>\n",
       "      <td>2</td>\n",
       "      <td>0</td>\n",
       "      <td>...</td>\n",
       "      <td>37.67290</td>\n",
       "      <td>2.0</td>\n",
       "      <td>Morogoro</td>\n",
       "      <td>18.0</td>\n",
       "      <td>2.243147</td>\n",
       "      <td>1.223811</td>\n",
       "      <td>1.0</td>\n",
       "      <td>30.827096</td>\n",
       "      <td>3</td>\n",
       "      <td>5</td>\n",
       "    </tr>\n",
       "    <tr>\n",
       "      <th>3</th>\n",
       "      <td>6729</td>\n",
       "      <td>-3.372049</td>\n",
       "      <td>35.808307</td>\n",
       "      <td>50</td>\n",
       "      <td>0</td>\n",
       "      <td>0</td>\n",
       "      <td>1</td>\n",
       "      <td>2</td>\n",
       "      <td>2</td>\n",
       "      <td>0</td>\n",
       "      <td>...</td>\n",
       "      <td>35.67410</td>\n",
       "      <td>3.0</td>\n",
       "      <td>Arusha</td>\n",
       "      <td>12.5</td>\n",
       "      <td>15.357533</td>\n",
       "      <td>1.979613</td>\n",
       "      <td>5.0</td>\n",
       "      <td>32.436258</td>\n",
       "      <td>2</td>\n",
       "      <td>3</td>\n",
       "    </tr>\n",
       "    <tr>\n",
       "      <th>4</th>\n",
       "      <td>8671</td>\n",
       "      <td>-7.179645</td>\n",
       "      <td>31.039095</td>\n",
       "      <td>34</td>\n",
       "      <td>1</td>\n",
       "      <td>0</td>\n",
       "      <td>2</td>\n",
       "      <td>0</td>\n",
       "      <td>1</td>\n",
       "      <td>1</td>\n",
       "      <td>...</td>\n",
       "      <td>31.03970</td>\n",
       "      <td>3.0</td>\n",
       "      <td>Rukwa</td>\n",
       "      <td>34.0</td>\n",
       "      <td>35.896694</td>\n",
       "      <td>2.447731</td>\n",
       "      <td>3.0</td>\n",
       "      <td>23.859450</td>\n",
       "      <td>2</td>\n",
       "      <td>0</td>\n",
       "    </tr>\n",
       "  </tbody>\n",
       "</table>\n",
       "<p>5 rows × 45 columns</p>\n",
       "</div>"
      ],
      "text/plain": [
       "     ID  Latitude  Longitude  Q1  Q10  Q11  Q12  Q13  Q14  Q15     ...      \\\n",
       "0  5086 -4.460442  29.811396  98    0    0    2    0    2    0     ...       \n",
       "1  1258 -6.176438  39.244871  40    0    0    1    4    1    5     ...       \n",
       "2   331 -6.825702  37.652798  18    0    0    2    0    2    0     ...       \n",
       "3  6729 -3.372049  35.808307  50    0    0    1    2    2    0     ...       \n",
       "4  8671 -7.179645  31.039095  34    1    0    2    0    1    1     ...       \n",
       "\n",
       "   longitude  mobile_money_classification    region    hm   distance  \\\n",
       "0   30.11092                          0.0    Kigoma  98.0  35.481343   \n",
       "1   39.20243                          3.0  Zanzibar  10.0   4.770566   \n",
       "2   37.67290                          2.0  Morogoro  18.0   2.243147   \n",
       "3   35.67410                          3.0    Arusha  12.5  15.357533   \n",
       "4   31.03970                          3.0     Rukwa  34.0  35.896694   \n",
       "\n",
       "  distance_transformed  Age_bin_round    latlong  Q3_ordered  Q4_ordered  \n",
       "0             2.440619            9.0  25.350954           0           0  \n",
       "1             1.477891            4.0  33.068433           2           3  \n",
       "2             1.223811            1.0  30.827096           3           5  \n",
       "3             1.979613            5.0  32.436258           2           3  \n",
       "4             2.447731            3.0  23.859450           2           0  \n",
       "\n",
       "[5 rows x 45 columns]"
      ]
     },
     "execution_count": 296,
     "metadata": {},
     "output_type": "execute_result"
    }
   ],
   "source": [
    "all_data.head()"
   ]
  },
  {
   "cell_type": "code",
   "execution_count": 297,
   "metadata": {},
   "outputs": [],
   "source": [
    "all_data.drop(['distance','Q1','ID', 'Latitude',\"Longitude\",'latitude2','longitude'], axis = 1,inplace = True)\n",
    "#all_data.drop(['ID', 'Latitude',\"Longitude\",'latitude2','longitude'], axis = 1,inplace = True)\n",
    "#all_data.drop(['Q1','ID', 'Latitude','latitude2','longitude'], axis = 1,inplace = True)\n"
   ]
  },
  {
   "cell_type": "code",
   "execution_count": 298,
   "metadata": {},
   "outputs": [],
   "source": [
    "#all_data.drop('hm',axis = 1,inplace =True)\n",
    "all_data.drop(['Q4'], axis = 1,inplace = True)"
   ]
  },
  {
   "cell_type": "code",
   "execution_count": 299,
   "metadata": {},
   "outputs": [
    {
     "data": {
      "text/plain": [
       "Index(['Q10', 'Q11', 'Q12', 'Q13', 'Q14', 'Q15', 'Q16', 'Q17', 'Q18', 'Q19',\n",
       "       'Q2', 'Q3', 'Q5', 'Q6', 'Q7', 'Q8_1', 'Q8_10', 'Q8_11', 'Q8_2', 'Q8_3',\n",
       "       'Q8_4', 'Q8_5', 'Q8_6', 'Q8_7', 'Q8_8', 'Q8_9', 'Q9', 'cnt_dist_mm1k',\n",
       "       'district', 'mobile_money_classification', 'region', 'hm',\n",
       "       'distance_transformed', 'Age_bin_round', 'latlong', 'Q3_ordered',\n",
       "       'Q4_ordered'],\n",
       "      dtype='object')"
      ]
     },
     "execution_count": 299,
     "metadata": {},
     "output_type": "execute_result"
    }
   ],
   "source": [
    "all_data.columns"
   ]
  },
  {
   "cell_type": "code",
   "execution_count": 300,
   "metadata": {},
   "outputs": [],
   "source": [
    "#all_data[\"std\"] = all_data.std(axis=1)"
   ]
  },
  {
   "cell_type": "code",
   "execution_count": 301,
   "metadata": {},
   "outputs": [],
   "source": [
    "#all_data[\"Mean\"] = all_data.mean(axis =1)"
   ]
  },
  {
   "cell_type": "code",
   "execution_count": 302,
   "metadata": {},
   "outputs": [],
   "source": [
    "#all_data.isnull().sum()\n",
    "#all_data[\"sum\"] = all_data.sum(axis  =1)"
   ]
  },
  {
   "cell_type": "code",
   "execution_count": 303,
   "metadata": {},
   "outputs": [],
   "source": [
    "#from pygeocoder import Geocoder"
   ]
  },
  {
   "cell_type": "code",
   "execution_count": 304,
   "metadata": {},
   "outputs": [
    {
     "data": {
      "text/html": [
       "<div>\n",
       "<style scoped>\n",
       "    .dataframe tbody tr th:only-of-type {\n",
       "        vertical-align: middle;\n",
       "    }\n",
       "\n",
       "    .dataframe tbody tr th {\n",
       "        vertical-align: top;\n",
       "    }\n",
       "\n",
       "    .dataframe thead th {\n",
       "        text-align: right;\n",
       "    }\n",
       "</style>\n",
       "<table border=\"1\" class=\"dataframe\">\n",
       "  <thead>\n",
       "    <tr style=\"text-align: right;\">\n",
       "      <th></th>\n",
       "      <th>Q10</th>\n",
       "      <th>Q11</th>\n",
       "      <th>Q12</th>\n",
       "      <th>Q13</th>\n",
       "      <th>Q14</th>\n",
       "      <th>Q15</th>\n",
       "      <th>Q16</th>\n",
       "      <th>Q17</th>\n",
       "      <th>Q18</th>\n",
       "      <th>Q19</th>\n",
       "      <th>...</th>\n",
       "      <th>cnt_dist_mm1k</th>\n",
       "      <th>district</th>\n",
       "      <th>mobile_money_classification</th>\n",
       "      <th>region</th>\n",
       "      <th>hm</th>\n",
       "      <th>distance_transformed</th>\n",
       "      <th>Age_bin_round</th>\n",
       "      <th>latlong</th>\n",
       "      <th>Q3_ordered</th>\n",
       "      <th>Q4_ordered</th>\n",
       "    </tr>\n",
       "  </thead>\n",
       "  <tbody>\n",
       "    <tr>\n",
       "      <th>0</th>\n",
       "      <td>0</td>\n",
       "      <td>0</td>\n",
       "      <td>2</td>\n",
       "      <td>0</td>\n",
       "      <td>2</td>\n",
       "      <td>0</td>\n",
       "      <td>1</td>\n",
       "      <td>0</td>\n",
       "      <td>4</td>\n",
       "      <td>4</td>\n",
       "      <td>...</td>\n",
       "      <td>12.0</td>\n",
       "      <td>Kasulu</td>\n",
       "      <td>0.0</td>\n",
       "      <td>Kigoma</td>\n",
       "      <td>98.0</td>\n",
       "      <td>2.440619</td>\n",
       "      <td>9.0</td>\n",
       "      <td>25.350954</td>\n",
       "      <td>0</td>\n",
       "      <td>0</td>\n",
       "    </tr>\n",
       "    <tr>\n",
       "      <th>1</th>\n",
       "      <td>0</td>\n",
       "      <td>0</td>\n",
       "      <td>1</td>\n",
       "      <td>4</td>\n",
       "      <td>1</td>\n",
       "      <td>5</td>\n",
       "      <td>4</td>\n",
       "      <td>4</td>\n",
       "      <td>1</td>\n",
       "      <td>4</td>\n",
       "      <td>...</td>\n",
       "      <td>278.0</td>\n",
       "      <td>Zanzibar</td>\n",
       "      <td>3.0</td>\n",
       "      <td>Zanzibar</td>\n",
       "      <td>10.0</td>\n",
       "      <td>1.477891</td>\n",
       "      <td>4.0</td>\n",
       "      <td>33.068433</td>\n",
       "      <td>2</td>\n",
       "      <td>3</td>\n",
       "    </tr>\n",
       "    <tr>\n",
       "      <th>2</th>\n",
       "      <td>0</td>\n",
       "      <td>0</td>\n",
       "      <td>2</td>\n",
       "      <td>0</td>\n",
       "      <td>2</td>\n",
       "      <td>0</td>\n",
       "      <td>1</td>\n",
       "      <td>0</td>\n",
       "      <td>1</td>\n",
       "      <td>1</td>\n",
       "      <td>...</td>\n",
       "      <td>780.0</td>\n",
       "      <td>Morogoro Urban</td>\n",
       "      <td>2.0</td>\n",
       "      <td>Morogoro</td>\n",
       "      <td>18.0</td>\n",
       "      <td>1.223811</td>\n",
       "      <td>1.0</td>\n",
       "      <td>30.827096</td>\n",
       "      <td>3</td>\n",
       "      <td>5</td>\n",
       "    </tr>\n",
       "    <tr>\n",
       "      <th>3</th>\n",
       "      <td>0</td>\n",
       "      <td>0</td>\n",
       "      <td>1</td>\n",
       "      <td>2</td>\n",
       "      <td>2</td>\n",
       "      <td>0</td>\n",
       "      <td>4</td>\n",
       "      <td>0</td>\n",
       "      <td>1</td>\n",
       "      <td>4</td>\n",
       "      <td>...</td>\n",
       "      <td>54.0</td>\n",
       "      <td>Karatu</td>\n",
       "      <td>3.0</td>\n",
       "      <td>Arusha</td>\n",
       "      <td>12.5</td>\n",
       "      <td>1.979613</td>\n",
       "      <td>5.0</td>\n",
       "      <td>32.436258</td>\n",
       "      <td>2</td>\n",
       "      <td>3</td>\n",
       "    </tr>\n",
       "    <tr>\n",
       "      <th>4</th>\n",
       "      <td>1</td>\n",
       "      <td>0</td>\n",
       "      <td>2</td>\n",
       "      <td>0</td>\n",
       "      <td>1</td>\n",
       "      <td>1</td>\n",
       "      <td>1</td>\n",
       "      <td>0</td>\n",
       "      <td>1</td>\n",
       "      <td>4</td>\n",
       "      <td>...</td>\n",
       "      <td>2.0</td>\n",
       "      <td>Mpanda</td>\n",
       "      <td>3.0</td>\n",
       "      <td>Rukwa</td>\n",
       "      <td>34.0</td>\n",
       "      <td>2.447731</td>\n",
       "      <td>3.0</td>\n",
       "      <td>23.859450</td>\n",
       "      <td>2</td>\n",
       "      <td>0</td>\n",
       "    </tr>\n",
       "  </tbody>\n",
       "</table>\n",
       "<p>5 rows × 37 columns</p>\n",
       "</div>"
      ],
      "text/plain": [
       "   Q10  Q11  Q12  Q13  Q14  Q15  Q16  Q17  Q18  Q19     ...      \\\n",
       "0    0    0    2    0    2    0    1    0    4    4     ...       \n",
       "1    0    0    1    4    1    5    4    4    1    4     ...       \n",
       "2    0    0    2    0    2    0    1    0    1    1     ...       \n",
       "3    0    0    1    2    2    0    4    0    1    4     ...       \n",
       "4    1    0    2    0    1    1    1    0    1    4     ...       \n",
       "\n",
       "   cnt_dist_mm1k        district  mobile_money_classification    region    hm  \\\n",
       "0           12.0          Kasulu                          0.0    Kigoma  98.0   \n",
       "1          278.0        Zanzibar                          3.0  Zanzibar  10.0   \n",
       "2          780.0  Morogoro Urban                          2.0  Morogoro  18.0   \n",
       "3           54.0          Karatu                          3.0    Arusha  12.5   \n",
       "4            2.0          Mpanda                          3.0     Rukwa  34.0   \n",
       "\n",
       "   distance_transformed  Age_bin_round    latlong  Q3_ordered  Q4_ordered  \n",
       "0              2.440619            9.0  25.350954           0           0  \n",
       "1              1.477891            4.0  33.068433           2           3  \n",
       "2              1.223811            1.0  30.827096           3           5  \n",
       "3              1.979613            5.0  32.436258           2           3  \n",
       "4              2.447731            3.0  23.859450           2           0  \n",
       "\n",
       "[5 rows x 37 columns]"
      ]
     },
     "execution_count": 304,
     "metadata": {},
     "output_type": "execute_result"
    }
   ],
   "source": [
    "all_data.head()"
   ]
  },
  {
   "cell_type": "code",
   "execution_count": 305,
   "metadata": {},
   "outputs": [],
   "source": [
    "#import geocoder\n",
    "all_data = pd.get_dummies(all_data)\n",
    "\n"
   ]
  },
  {
   "cell_type": "code",
   "execution_count": 306,
   "metadata": {},
   "outputs": [
    {
     "data": {
      "text/plain": [
       "[]"
      ]
     },
     "execution_count": 306,
     "metadata": {},
     "output_type": "execute_result"
    }
   ],
   "source": [
    "# remove constant features\n",
    "[feat for feat in all_data.columns if all_data[feat].std() == 0]\n"
   ]
  },
  {
   "cell_type": "code",
   "execution_count": null,
   "metadata": {},
   "outputs": [],
   "source": []
  },
  {
   "cell_type": "code",
   "execution_count": 307,
   "metadata": {},
   "outputs": [],
   "source": [
    "\n",
    "#Get the new dataset\n",
    "data = all_data[:ntrain]\n",
    "test = all_data[ntrain:]"
   ]
  },
  {
   "cell_type": "code",
   "execution_count": 308,
   "metadata": {},
   "outputs": [
    {
     "data": {
      "text/html": [
       "<div>\n",
       "<style scoped>\n",
       "    .dataframe tbody tr th:only-of-type {\n",
       "        vertical-align: middle;\n",
       "    }\n",
       "\n",
       "    .dataframe tbody tr th {\n",
       "        vertical-align: top;\n",
       "    }\n",
       "\n",
       "    .dataframe thead th {\n",
       "        text-align: right;\n",
       "    }\n",
       "</style>\n",
       "<table border=\"1\" class=\"dataframe\">\n",
       "  <thead>\n",
       "    <tr style=\"text-align: right;\">\n",
       "      <th></th>\n",
       "      <th>Q10</th>\n",
       "      <th>Q11</th>\n",
       "      <th>Q12</th>\n",
       "      <th>Q13</th>\n",
       "      <th>Q14</th>\n",
       "      <th>Q15</th>\n",
       "      <th>Q16</th>\n",
       "      <th>Q17</th>\n",
       "      <th>Q18</th>\n",
       "      <th>Q19</th>\n",
       "      <th>...</th>\n",
       "      <th>region_Mtwara</th>\n",
       "      <th>region_Mwanza</th>\n",
       "      <th>region_Pwani</th>\n",
       "      <th>region_Rukwa</th>\n",
       "      <th>region_Ruvuma</th>\n",
       "      <th>region_Shinyanga</th>\n",
       "      <th>region_Singida</th>\n",
       "      <th>region_Tabora</th>\n",
       "      <th>region_Tanga</th>\n",
       "      <th>region_Zanzibar</th>\n",
       "    </tr>\n",
       "  </thead>\n",
       "  <tbody>\n",
       "    <tr>\n",
       "      <th>0</th>\n",
       "      <td>0</td>\n",
       "      <td>0</td>\n",
       "      <td>2</td>\n",
       "      <td>0</td>\n",
       "      <td>2</td>\n",
       "      <td>0</td>\n",
       "      <td>1</td>\n",
       "      <td>0</td>\n",
       "      <td>4</td>\n",
       "      <td>4</td>\n",
       "      <td>...</td>\n",
       "      <td>0</td>\n",
       "      <td>0</td>\n",
       "      <td>0</td>\n",
       "      <td>0</td>\n",
       "      <td>0</td>\n",
       "      <td>0</td>\n",
       "      <td>0</td>\n",
       "      <td>0</td>\n",
       "      <td>0</td>\n",
       "      <td>0</td>\n",
       "    </tr>\n",
       "    <tr>\n",
       "      <th>1</th>\n",
       "      <td>0</td>\n",
       "      <td>0</td>\n",
       "      <td>1</td>\n",
       "      <td>4</td>\n",
       "      <td>1</td>\n",
       "      <td>5</td>\n",
       "      <td>4</td>\n",
       "      <td>4</td>\n",
       "      <td>1</td>\n",
       "      <td>4</td>\n",
       "      <td>...</td>\n",
       "      <td>0</td>\n",
       "      <td>0</td>\n",
       "      <td>0</td>\n",
       "      <td>0</td>\n",
       "      <td>0</td>\n",
       "      <td>0</td>\n",
       "      <td>0</td>\n",
       "      <td>0</td>\n",
       "      <td>0</td>\n",
       "      <td>1</td>\n",
       "    </tr>\n",
       "    <tr>\n",
       "      <th>2</th>\n",
       "      <td>0</td>\n",
       "      <td>0</td>\n",
       "      <td>2</td>\n",
       "      <td>0</td>\n",
       "      <td>2</td>\n",
       "      <td>0</td>\n",
       "      <td>1</td>\n",
       "      <td>0</td>\n",
       "      <td>1</td>\n",
       "      <td>1</td>\n",
       "      <td>...</td>\n",
       "      <td>0</td>\n",
       "      <td>0</td>\n",
       "      <td>0</td>\n",
       "      <td>0</td>\n",
       "      <td>0</td>\n",
       "      <td>0</td>\n",
       "      <td>0</td>\n",
       "      <td>0</td>\n",
       "      <td>0</td>\n",
       "      <td>0</td>\n",
       "    </tr>\n",
       "    <tr>\n",
       "      <th>3</th>\n",
       "      <td>0</td>\n",
       "      <td>0</td>\n",
       "      <td>1</td>\n",
       "      <td>2</td>\n",
       "      <td>2</td>\n",
       "      <td>0</td>\n",
       "      <td>4</td>\n",
       "      <td>0</td>\n",
       "      <td>1</td>\n",
       "      <td>4</td>\n",
       "      <td>...</td>\n",
       "      <td>0</td>\n",
       "      <td>0</td>\n",
       "      <td>0</td>\n",
       "      <td>0</td>\n",
       "      <td>0</td>\n",
       "      <td>0</td>\n",
       "      <td>0</td>\n",
       "      <td>0</td>\n",
       "      <td>0</td>\n",
       "      <td>0</td>\n",
       "    </tr>\n",
       "    <tr>\n",
       "      <th>4</th>\n",
       "      <td>1</td>\n",
       "      <td>0</td>\n",
       "      <td>2</td>\n",
       "      <td>0</td>\n",
       "      <td>1</td>\n",
       "      <td>1</td>\n",
       "      <td>1</td>\n",
       "      <td>0</td>\n",
       "      <td>1</td>\n",
       "      <td>4</td>\n",
       "      <td>...</td>\n",
       "      <td>0</td>\n",
       "      <td>0</td>\n",
       "      <td>0</td>\n",
       "      <td>1</td>\n",
       "      <td>0</td>\n",
       "      <td>0</td>\n",
       "      <td>0</td>\n",
       "      <td>0</td>\n",
       "      <td>0</td>\n",
       "      <td>0</td>\n",
       "    </tr>\n",
       "  </tbody>\n",
       "</table>\n",
       "<p>5 rows × 181 columns</p>\n",
       "</div>"
      ],
      "text/plain": [
       "   Q10  Q11  Q12  Q13  Q14  Q15  Q16  Q17  Q18  Q19       ...         \\\n",
       "0    0    0    2    0    2    0    1    0    4    4       ...          \n",
       "1    0    0    1    4    1    5    4    4    1    4       ...          \n",
       "2    0    0    2    0    2    0    1    0    1    1       ...          \n",
       "3    0    0    1    2    2    0    4    0    1    4       ...          \n",
       "4    1    0    2    0    1    1    1    0    1    4       ...          \n",
       "\n",
       "   region_Mtwara  region_Mwanza  region_Pwani  region_Rukwa  region_Ruvuma  \\\n",
       "0              0              0             0             0              0   \n",
       "1              0              0             0             0              0   \n",
       "2              0              0             0             0              0   \n",
       "3              0              0             0             0              0   \n",
       "4              0              0             0             1              0   \n",
       "\n",
       "   region_Shinyanga  region_Singida  region_Tabora  region_Tanga  \\\n",
       "0                 0               0              0             0   \n",
       "1                 0               0              0             0   \n",
       "2                 0               0              0             0   \n",
       "3                 0               0              0             0   \n",
       "4                 0               0              0             0   \n",
       "\n",
       "   region_Zanzibar  \n",
       "0                0  \n",
       "1                1  \n",
       "2                0  \n",
       "3                0  \n",
       "4                0  \n",
       "\n",
       "[5 rows x 181 columns]"
      ]
     },
     "execution_count": 308,
     "metadata": {},
     "output_type": "execute_result"
    }
   ],
   "source": [
    "data.head()"
   ]
  },
  {
   "cell_type": "code",
   "execution_count": 309,
   "metadata": {},
   "outputs": [
    {
     "data": {
      "text/html": [
       "<div>\n",
       "<style scoped>\n",
       "    .dataframe tbody tr th:only-of-type {\n",
       "        vertical-align: middle;\n",
       "    }\n",
       "\n",
       "    .dataframe tbody tr th {\n",
       "        vertical-align: top;\n",
       "    }\n",
       "\n",
       "    .dataframe thead th {\n",
       "        text-align: right;\n",
       "    }\n",
       "</style>\n",
       "<table border=\"1\" class=\"dataframe\">\n",
       "  <thead>\n",
       "    <tr style=\"text-align: right;\">\n",
       "      <th></th>\n",
       "      <th>Q10</th>\n",
       "      <th>Q11</th>\n",
       "      <th>Q12</th>\n",
       "      <th>Q13</th>\n",
       "      <th>Q14</th>\n",
       "      <th>Q15</th>\n",
       "      <th>Q16</th>\n",
       "      <th>Q17</th>\n",
       "      <th>Q18</th>\n",
       "      <th>Q19</th>\n",
       "      <th>...</th>\n",
       "      <th>region_Mtwara</th>\n",
       "      <th>region_Mwanza</th>\n",
       "      <th>region_Pwani</th>\n",
       "      <th>region_Rukwa</th>\n",
       "      <th>region_Ruvuma</th>\n",
       "      <th>region_Shinyanga</th>\n",
       "      <th>region_Singida</th>\n",
       "      <th>region_Tabora</th>\n",
       "      <th>region_Tanga</th>\n",
       "      <th>region_Zanzibar</th>\n",
       "    </tr>\n",
       "  </thead>\n",
       "  <tbody>\n",
       "    <tr>\n",
       "      <th>7094</th>\n",
       "      <td>0</td>\n",
       "      <td>1</td>\n",
       "      <td>1</td>\n",
       "      <td>6</td>\n",
       "      <td>1</td>\n",
       "      <td>4</td>\n",
       "      <td>5</td>\n",
       "      <td>0</td>\n",
       "      <td>1</td>\n",
       "      <td>4</td>\n",
       "      <td>...</td>\n",
       "      <td>0</td>\n",
       "      <td>1</td>\n",
       "      <td>0</td>\n",
       "      <td>0</td>\n",
       "      <td>0</td>\n",
       "      <td>0</td>\n",
       "      <td>0</td>\n",
       "      <td>0</td>\n",
       "      <td>0</td>\n",
       "      <td>0</td>\n",
       "    </tr>\n",
       "    <tr>\n",
       "      <th>7095</th>\n",
       "      <td>1</td>\n",
       "      <td>0</td>\n",
       "      <td>2</td>\n",
       "      <td>0</td>\n",
       "      <td>1</td>\n",
       "      <td>4</td>\n",
       "      <td>1</td>\n",
       "      <td>0</td>\n",
       "      <td>1</td>\n",
       "      <td>4</td>\n",
       "      <td>...</td>\n",
       "      <td>0</td>\n",
       "      <td>0</td>\n",
       "      <td>0</td>\n",
       "      <td>0</td>\n",
       "      <td>0</td>\n",
       "      <td>0</td>\n",
       "      <td>0</td>\n",
       "      <td>0</td>\n",
       "      <td>0</td>\n",
       "      <td>0</td>\n",
       "    </tr>\n",
       "    <tr>\n",
       "      <th>7096</th>\n",
       "      <td>0</td>\n",
       "      <td>0</td>\n",
       "      <td>1</td>\n",
       "      <td>4</td>\n",
       "      <td>1</td>\n",
       "      <td>4</td>\n",
       "      <td>1</td>\n",
       "      <td>0</td>\n",
       "      <td>1</td>\n",
       "      <td>1</td>\n",
       "      <td>...</td>\n",
       "      <td>0</td>\n",
       "      <td>0</td>\n",
       "      <td>0</td>\n",
       "      <td>0</td>\n",
       "      <td>0</td>\n",
       "      <td>0</td>\n",
       "      <td>0</td>\n",
       "      <td>0</td>\n",
       "      <td>0</td>\n",
       "      <td>0</td>\n",
       "    </tr>\n",
       "    <tr>\n",
       "      <th>7097</th>\n",
       "      <td>1</td>\n",
       "      <td>0</td>\n",
       "      <td>2</td>\n",
       "      <td>0</td>\n",
       "      <td>2</td>\n",
       "      <td>0</td>\n",
       "      <td>1</td>\n",
       "      <td>0</td>\n",
       "      <td>1</td>\n",
       "      <td>4</td>\n",
       "      <td>...</td>\n",
       "      <td>0</td>\n",
       "      <td>0</td>\n",
       "      <td>0</td>\n",
       "      <td>0</td>\n",
       "      <td>0</td>\n",
       "      <td>0</td>\n",
       "      <td>0</td>\n",
       "      <td>0</td>\n",
       "      <td>0</td>\n",
       "      <td>0</td>\n",
       "    </tr>\n",
       "    <tr>\n",
       "      <th>7098</th>\n",
       "      <td>0</td>\n",
       "      <td>0</td>\n",
       "      <td>1</td>\n",
       "      <td>4</td>\n",
       "      <td>1</td>\n",
       "      <td>6</td>\n",
       "      <td>4</td>\n",
       "      <td>3</td>\n",
       "      <td>1</td>\n",
       "      <td>2</td>\n",
       "      <td>...</td>\n",
       "      <td>0</td>\n",
       "      <td>0</td>\n",
       "      <td>0</td>\n",
       "      <td>0</td>\n",
       "      <td>0</td>\n",
       "      <td>0</td>\n",
       "      <td>0</td>\n",
       "      <td>0</td>\n",
       "      <td>0</td>\n",
       "      <td>0</td>\n",
       "    </tr>\n",
       "  </tbody>\n",
       "</table>\n",
       "<p>5 rows × 181 columns</p>\n",
       "</div>"
      ],
      "text/plain": [
       "      Q10  Q11  Q12  Q13  Q14  Q15  Q16  Q17  Q18  Q19       ...         \\\n",
       "7094    0    1    1    6    1    4    5    0    1    4       ...          \n",
       "7095    1    0    2    0    1    4    1    0    1    4       ...          \n",
       "7096    0    0    1    4    1    4    1    0    1    1       ...          \n",
       "7097    1    0    2    0    2    0    1    0    1    4       ...          \n",
       "7098    0    0    1    4    1    6    4    3    1    2       ...          \n",
       "\n",
       "      region_Mtwara  region_Mwanza  region_Pwani  region_Rukwa  region_Ruvuma  \\\n",
       "7094              0              1             0             0              0   \n",
       "7095              0              0             0             0              0   \n",
       "7096              0              0             0             0              0   \n",
       "7097              0              0             0             0              0   \n",
       "7098              0              0             0             0              0   \n",
       "\n",
       "      region_Shinyanga  region_Singida  region_Tabora  region_Tanga  \\\n",
       "7094                 0               0              0             0   \n",
       "7095                 0               0              0             0   \n",
       "7096                 0               0              0             0   \n",
       "7097                 0               0              0             0   \n",
       "7098                 0               0              0             0   \n",
       "\n",
       "      region_Zanzibar  \n",
       "7094                0  \n",
       "7095                0  \n",
       "7096                0  \n",
       "7097                0  \n",
       "7098                0  \n",
       "\n",
       "[5 rows x 181 columns]"
      ]
     },
     "execution_count": 309,
     "metadata": {},
     "output_type": "execute_result"
    }
   ],
   "source": [
    "test.head()"
   ]
  },
  {
   "cell_type": "code",
   "execution_count": 310,
   "metadata": {},
   "outputs": [
    {
     "name": "stderr",
     "output_type": "stream",
     "text": [
      "C:\\Users\\OLALEYE ENIOLA\\Anaconda3\\lib\\site-packages\\pandas\\core\\frame.py:3697: SettingWithCopyWarning: \n",
      "A value is trying to be set on a copy of a slice from a DataFrame\n",
      "\n",
      "See the caveats in the documentation: http://pandas.pydata.org/pandas-docs/stable/indexing.html#indexing-view-versus-copy\n",
      "  errors=errors)\n"
     ]
    }
   ],
   "source": [
    "test.drop(\"mobile_money_classification\",axis = 1,inplace = True)"
   ]
  },
  {
   "cell_type": "code",
   "execution_count": 311,
   "metadata": {},
   "outputs": [
    {
     "data": {
      "text/html": [
       "<div>\n",
       "<style scoped>\n",
       "    .dataframe tbody tr th:only-of-type {\n",
       "        vertical-align: middle;\n",
       "    }\n",
       "\n",
       "    .dataframe tbody tr th {\n",
       "        vertical-align: top;\n",
       "    }\n",
       "\n",
       "    .dataframe thead th {\n",
       "        text-align: right;\n",
       "    }\n",
       "</style>\n",
       "<table border=\"1\" class=\"dataframe\">\n",
       "  <thead>\n",
       "    <tr style=\"text-align: right;\">\n",
       "      <th></th>\n",
       "      <th>ID</th>\n",
       "      <th>no_financial_services</th>\n",
       "      <th>other_only</th>\n",
       "      <th>mm_only</th>\n",
       "      <th>mm_plus</th>\n",
       "    </tr>\n",
       "  </thead>\n",
       "  <tbody>\n",
       "    <tr>\n",
       "      <th>0</th>\n",
       "      <td>2352</td>\n",
       "      <td>0.3</td>\n",
       "      <td>0.5</td>\n",
       "      <td>0.1</td>\n",
       "      <td>0.2</td>\n",
       "    </tr>\n",
       "    <tr>\n",
       "      <th>1</th>\n",
       "      <td>8208</td>\n",
       "      <td>0.3</td>\n",
       "      <td>0.5</td>\n",
       "      <td>0.1</td>\n",
       "      <td>0.2</td>\n",
       "    </tr>\n",
       "    <tr>\n",
       "      <th>2</th>\n",
       "      <td>2785</td>\n",
       "      <td>0.3</td>\n",
       "      <td>0.5</td>\n",
       "      <td>0.1</td>\n",
       "      <td>0.2</td>\n",
       "    </tr>\n",
       "    <tr>\n",
       "      <th>3</th>\n",
       "      <td>2967</td>\n",
       "      <td>0.3</td>\n",
       "      <td>0.5</td>\n",
       "      <td>0.1</td>\n",
       "      <td>0.2</td>\n",
       "    </tr>\n",
       "    <tr>\n",
       "      <th>4</th>\n",
       "      <td>1697</td>\n",
       "      <td>0.3</td>\n",
       "      <td>0.5</td>\n",
       "      <td>0.1</td>\n",
       "      <td>0.2</td>\n",
       "    </tr>\n",
       "  </tbody>\n",
       "</table>\n",
       "</div>"
      ],
      "text/plain": [
       "     ID  no_financial_services  other_only  mm_only  mm_plus\n",
       "0  2352                    0.3         0.5      0.1      0.2\n",
       "1  8208                    0.3         0.5      0.1      0.2\n",
       "2  2785                    0.3         0.5      0.1      0.2\n",
       "3  2967                    0.3         0.5      0.1      0.2\n",
       "4  1697                    0.3         0.5      0.1      0.2"
      ]
     },
     "execution_count": 311,
     "metadata": {},
     "output_type": "execute_result"
    }
   ],
   "source": [
    "sample = pd.read_csv(\"sample_submission.csv\")\n",
    "sample.head()"
   ]
  },
  {
   "cell_type": "code",
   "execution_count": 312,
   "metadata": {},
   "outputs": [
    {
     "data": {
      "text/plain": [
       "Index(['Q10', 'Q11', 'Q12', 'Q13', 'Q14', 'Q15', 'Q16', 'Q17', 'Q18', 'Q19',\n",
       "       ...\n",
       "       'region_Mtwara', 'region_Mwanza', 'region_Pwani', 'region_Rukwa',\n",
       "       'region_Ruvuma', 'region_Shinyanga', 'region_Singida', 'region_Tabora',\n",
       "       'region_Tanga', 'region_Zanzibar'],\n",
       "      dtype='object', length=181)"
      ]
     },
     "execution_count": 312,
     "metadata": {},
     "output_type": "execute_result"
    }
   ],
   "source": [
    "data.columns"
   ]
  },
  {
   "cell_type": "code",
   "execution_count": 313,
   "metadata": {},
   "outputs": [],
   "source": [
    "#d = {\"s\": [1,1,1,1,1,1,1,1,1,]}\n",
    "#from mlxtend.feature_selection import SequentialFeatureSelector as SFS"
   ]
  },
  {
   "cell_type": "code",
   "execution_count": 314,
   "metadata": {},
   "outputs": [],
   "source": [
    "#a = pd.DataFrame(d)\n",
    "#a.s.std()"
   ]
  },
  {
   "cell_type": "code",
   "execution_count": 315,
   "metadata": {},
   "outputs": [
    {
     "data": {
      "text/html": [
       "<div>\n",
       "<style scoped>\n",
       "    .dataframe tbody tr th:only-of-type {\n",
       "        vertical-align: middle;\n",
       "    }\n",
       "\n",
       "    .dataframe tbody tr th {\n",
       "        vertical-align: top;\n",
       "    }\n",
       "\n",
       "    .dataframe thead th {\n",
       "        text-align: right;\n",
       "    }\n",
       "</style>\n",
       "<table border=\"1\" class=\"dataframe\">\n",
       "  <thead>\n",
       "    <tr style=\"text-align: right;\">\n",
       "      <th></th>\n",
       "      <th>ID</th>\n",
       "      <th>no_financial_services</th>\n",
       "      <th>other_only</th>\n",
       "      <th>mm_only</th>\n",
       "      <th>mm_plus</th>\n",
       "    </tr>\n",
       "  </thead>\n",
       "  <tbody>\n",
       "    <tr>\n",
       "      <th>0</th>\n",
       "      <td>2352</td>\n",
       "      <td>0.3</td>\n",
       "      <td>0.5</td>\n",
       "      <td>0.1</td>\n",
       "      <td>0.2</td>\n",
       "    </tr>\n",
       "  </tbody>\n",
       "</table>\n",
       "</div>"
      ],
      "text/plain": [
       "     ID  no_financial_services  other_only  mm_only  mm_plus\n",
       "0  2352                    0.3         0.5      0.1      0.2"
      ]
     },
     "execution_count": 315,
     "metadata": {},
     "output_type": "execute_result"
    }
   ],
   "source": [
    "sample.head(1)"
   ]
  },
  {
   "cell_type": "code",
   "execution_count": 316,
   "metadata": {},
   "outputs": [
    {
     "data": {
      "text/plain": [
       "Index(['Q10', 'Q11', 'Q12', 'Q13', 'Q14', 'Q15', 'Q16', 'Q17', 'Q18', 'Q19',\n",
       "       ...\n",
       "       'region_Mtwara', 'region_Mwanza', 'region_Pwani', 'region_Rukwa',\n",
       "       'region_Ruvuma', 'region_Shinyanga', 'region_Singida', 'region_Tabora',\n",
       "       'region_Tanga', 'region_Zanzibar'],\n",
       "      dtype='object', length=181)"
      ]
     },
     "execution_count": 316,
     "metadata": {},
     "output_type": "execute_result"
    }
   ],
   "source": [
    "\n",
    "data.columns"
   ]
  },
  {
   "cell_type": "code",
   "execution_count": 317,
   "metadata": {},
   "outputs": [],
   "source": [
    "\n",
    "#data.to_csv('mytrain.csv',index = False)\n",
    "#test.to_csv('mytest.csv',index = False)"
   ]
  },
  {
   "cell_type": "code",
   "execution_count": 318,
   "metadata": {},
   "outputs": [],
   "source": [
    "#from skmultilearn.problem_transform import ClassifierChain\n"
   ]
  },
  {
   "cell_type": "code",
   "execution_count": 319,
   "metadata": {},
   "outputs": [],
   "source": [
    "from sklearn.linear_model import LogisticRegression"
   ]
  },
  {
   "cell_type": "code",
   "execution_count": 320,
   "metadata": {},
   "outputs": [],
   "source": [
    "from xgboost import XGBClassifier\n",
    "#from tpot import TPOTClassifier"
   ]
  },
  {
   "cell_type": "code",
   "execution_count": 321,
   "metadata": {},
   "outputs": [],
   "source": [
    "#data = pd.read_csv(\"training.csv\")\n",
    "#test = pd.read_csv(\"test.csv\")\n",
    "#data.drop(['mobile_money', 'savings', 'borrowing', 'insurance'], axis = 1,inplace = True)\n",
    "#data.drop(\"ID\", axis = 1,inplace =True)\n",
    "#test.drop(\"ID\", axis = 1,inplace =True)\n"
   ]
  },
  {
   "cell_type": "code",
   "execution_count": 322,
   "metadata": {},
   "outputs": [],
   "source": [
    "\n",
    "X= data.drop( 'mobile_money_classification', axis = 1)\n",
    "y = data[\"mobile_money_classification\"]\n",
    "from sklearn.model_selection import train_test_split\n",
    "X_train, X_test, y_train, y_test = train_test_split(X, y, test_size=0.3, random_state=42)"
   ]
  },
  {
   "cell_type": "code",
   "execution_count": 323,
   "metadata": {},
   "outputs": [
    {
     "data": {
      "text/plain": [
       "3849    3.0\n",
       "307     1.0\n",
       "1278    3.0\n",
       "3142    1.0\n",
       "4706    3.0\n",
       "Name: mobile_money_classification, dtype: float64"
      ]
     },
     "execution_count": 323,
     "metadata": {},
     "output_type": "execute_result"
    }
   ],
   "source": [
    "y_train.head()"
   ]
  },
  {
   "cell_type": "code",
   "execution_count": 324,
   "metadata": {},
   "outputs": [
    {
     "data": {
      "text/plain": [
       "(7094, 181)"
      ]
     },
     "execution_count": 324,
     "metadata": {},
     "output_type": "execute_result"
    }
   ],
   "source": [
    "data.shape"
   ]
  },
  {
   "cell_type": "code",
   "execution_count": 325,
   "metadata": {},
   "outputs": [],
   "source": [
    "#model = BinaryRelevance(LogisticRegression())\n",
    "from sklearn.tree import DecisionTreeClassifier \n",
    "#dtree_model = DecisionTreeClassifier(max_depth = 2)\n",
    "#mod = XGBClassifier(n_estimators= 200, max_depth=5)\n",
    "from lightgbm import LGBMClassifier\n",
    "#model = XGBClassifier(n_estimators= 500,max_depth= 5, gamma=1)\n",
    "#model = XGBClassifier(n_estimators= 200, max_depth=5)\n",
    "#1.33680339327269\n",
    "import xgboost as xgb"
   ]
  },
  {
   "cell_type": "code",
   "execution_count": 326,
   "metadata": {},
   "outputs": [],
   "source": [
    "model = XGBClassifier(\n",
    "          n_estimators= 265)\n"
   ]
  },
  {
   "cell_type": "code",
   "execution_count": 327,
   "metadata": {},
   "outputs": [],
   "source": [
    "#test[Columns] = test[Columns].astype(str)\n",
    "from sklearn.metrics import log_loss"
   ]
  },
  {
   "cell_type": "code",
   "execution_count": 328,
   "metadata": {},
   "outputs": [
    {
     "data": {
      "text/plain": [
       "XGBClassifier(base_score=0.5, booster='gbtree', colsample_bylevel=1,\n",
       "       colsample_bytree=1, gamma=0, learning_rate=0.1, max_delta_step=0,\n",
       "       max_depth=3, min_child_weight=1, missing=None, n_estimators=265,\n",
       "       n_jobs=1, nthread=None, objective='multi:softprob', random_state=0,\n",
       "       reg_alpha=0, reg_lambda=1, scale_pos_weight=1, seed=None,\n",
       "       silent=True, subsample=1)"
      ]
     },
     "execution_count": 328,
     "metadata": {},
     "output_type": "execute_result"
    }
   ],
   "source": [
    "#\n",
    "model.fit(X_train,y_train)"
   ]
  },
  {
   "cell_type": "code",
   "execution_count": 330,
   "metadata": {},
   "outputs": [
    {
     "data": {
      "text/plain": [
       "0.7445376590694821"
      ]
     },
     "execution_count": 330,
     "metadata": {},
     "output_type": "execute_result"
    }
   ],
   "source": [
    "pred = model.predict_proba(X_test)\n",
    "log_loss(y_test,pred)"
   ]
  },
  {
   "cell_type": "code",
   "execution_count": 331,
   "metadata": {},
   "outputs": [],
   "source": [
    "#pred = model.predict_proba(X_test)\n",
    "#log_loss(y_test,pred)"
   ]
  },
  {
   "cell_type": "code",
   "execution_count": 332,
   "metadata": {},
   "outputs": [],
   "source": [
    "#0.7427861171554968\n",
    "#0.7427861147425446\n"
   ]
  },
  {
   "cell_type": "code",
   "execution_count": 333,
   "metadata": {},
   "outputs": [
    {
     "data": {
      "text/plain": [
       "0.7445376590694821"
      ]
     },
     "execution_count": 333,
     "metadata": {},
     "output_type": "execute_result"
    }
   ],
   "source": [
    "pred = model.predict_proba(X_test)\n",
    "log_loss(y_test,pred)"
   ]
  },
  {
   "cell_type": "code",
   "execution_count": 334,
   "metadata": {},
   "outputs": [
    {
     "data": {
      "image/png": "[encoded data removed]",
      "text/plain": [
       "<Figure size 1080x360 with 1 Axes>"
      ]
     },
     "metadata": {
      "needs_background": "light"
     },
     "output_type": "display_data"
    }
   ],
   "source": [
    "import matplotlib.pyplot as plt\n",
    "xgb.plot_importance(model,max_num_features=10)\n",
    "plt.rcParams['figure.figsize'] = [15, 5]"
   ]
  },
  {
   "cell_type": "code",
   "execution_count": 335,
   "metadata": {},
   "outputs": [
    {
     "data": {
      "text/plain": [
       "XGBClassifier(base_score=0.5, booster='gbtree', colsample_bylevel=1,\n",
       "       colsample_bytree=1, gamma=0, learning_rate=0.1, max_delta_step=0,\n",
       "       max_depth=3, min_child_weight=1, missing=None, n_estimators=265,\n",
       "       n_jobs=1, nthread=None, objective='multi:softprob', random_state=0,\n",
       "       reg_alpha=0, reg_lambda=1, scale_pos_weight=1, seed=None,\n",
       "       silent=True, subsample=1)"
      ]
     },
     "execution_count": 335,
     "metadata": {},
     "output_type": "execute_result"
    }
   ],
   "source": [
    "model.fit(data.drop([\"mobile_money_classification\"], axis =1), data[\"mobile_money_classification\"])"
   ]
  },
  {
   "cell_type": "code",
   "execution_count": 336,
   "metadata": {},
   "outputs": [],
   "source": [
    "#test = pd.get_dummies(test)"
   ]
  },
  {
   "cell_type": "code",
   "execution_count": 337,
   "metadata": {},
   "outputs": [
    {
     "data": {
      "text/plain": [
       "array([3., 3., 3., ..., 1., 1., 0.])"
      ]
     },
     "execution_count": 337,
     "metadata": {},
     "output_type": "execute_result"
    }
   ],
   "source": [
    "model.predict(test)"
   ]
  },
  {
   "cell_type": "code",
   "execution_count": 338,
   "metadata": {},
   "outputs": [
    {
     "data": {
      "text/plain": [
       "Index(['ID', 'no_financial_services', 'other_only', 'mm_only', 'mm_plus'], dtype='object')"
      ]
     },
     "execution_count": 338,
     "metadata": {},
     "output_type": "execute_result"
    }
   ],
   "source": [
    "sample.columns"
   ]
  },
  {
   "cell_type": "code",
   "execution_count": 339,
   "metadata": {},
   "outputs": [
    {
     "data": {
      "text/plain": [
       "array([[5.9809664e-04, 2.2784767e-03, 1.7598732e-01, 8.2113606e-01],\n",
       "       [2.3795381e-02, 4.5241900e-02, 1.5056287e-01, 7.8039986e-01],\n",
       "       [4.7032622e-04, 6.1366824e-03, 1.0555291e-01, 8.8784009e-01],\n",
       "       ...,\n",
       "       [2.7557269e-01, 5.7674730e-01, 2.3893932e-02, 1.2378604e-01],\n",
       "       [3.1595409e-01, 4.5519349e-01, 6.6482648e-02, 1.6236979e-01],\n",
       "       [6.3484359e-01, 3.4501970e-01, 1.0632846e-02, 9.5038824e-03]],\n",
       "      dtype=float32)"
      ]
     },
     "execution_count": 339,
     "metadata": {},
     "output_type": "execute_result"
    }
   ],
   "source": [
    "model.predict_proba(test)"
   ]
  },
  {
   "cell_type": "code",
   "execution_count": 340,
   "metadata": {},
   "outputs": [
    {
     "data": {
      "text/plain": [
       "array([[5.9809664e-04, 2.2784767e-03, 1.7598732e-01, 8.2113606e-01],\n",
       "       [2.3795381e-02, 4.5241900e-02, 1.5056287e-01, 7.8039986e-01],\n",
       "       [4.7032622e-04, 6.1366824e-03, 1.0555291e-01, 8.8784009e-01],\n",
       "       ...,\n",
       "       [2.7557269e-01, 5.7674730e-01, 2.3893932e-02, 1.2378604e-01],\n",
       "       [3.1595409e-01, 4.5519349e-01, 6.6482648e-02, 1.6236979e-01],\n",
       "       [6.3484359e-01, 3.4501970e-01, 1.0632846e-02, 9.5038824e-03]],\n",
       "      dtype=float32)"
      ]
     },
     "execution_count": 340,
     "metadata": {},
     "output_type": "execute_result"
    }
   ],
   "source": [
    "model.predict_proba(test)"
   ]
  },
  {
   "cell_type": "code",
   "execution_count": null,
   "metadata": {},
   "outputs": [],
   "source": []
  },
  {
   "cell_type": "code",
   "execution_count": 341,
   "metadata": {},
   "outputs": [],
   "source": [
    "pred = pd.DataFrame(model.predict_proba(test),columns= [ 'no_financial_services', 'other_only', 'mm_only', 'mm_plus'])"
   ]
  },
  {
   "cell_type": "code",
   "execution_count": 342,
   "metadata": {},
   "outputs": [],
   "source": [
    "pred = pd.concat([sample[\"ID\"], pred], axis =1)"
   ]
  },
  {
   "cell_type": "code",
   "execution_count": 343,
   "metadata": {},
   "outputs": [
    {
     "data": {
      "text/html": [
       "<div>\n",
       "<style scoped>\n",
       "    .dataframe tbody tr th:only-of-type {\n",
       "        vertical-align: middle;\n",
       "    }\n",
       "\n",
       "    .dataframe tbody tr th {\n",
       "        vertical-align: top;\n",
       "    }\n",
       "\n",
       "    .dataframe thead th {\n",
       "        text-align: right;\n",
       "    }\n",
       "</style>\n",
       "<table border=\"1\" class=\"dataframe\">\n",
       "  <thead>\n",
       "    <tr style=\"text-align: right;\">\n",
       "      <th></th>\n",
       "      <th>ID</th>\n",
       "      <th>no_financial_services</th>\n",
       "      <th>other_only</th>\n",
       "      <th>mm_only</th>\n",
       "      <th>mm_plus</th>\n",
       "    </tr>\n",
       "  </thead>\n",
       "  <tbody>\n",
       "    <tr>\n",
       "      <th>0</th>\n",
       "      <td>2352</td>\n",
       "      <td>0.000598</td>\n",
       "      <td>0.002278</td>\n",
       "      <td>0.175987</td>\n",
       "      <td>0.821136</td>\n",
       "    </tr>\n",
       "    <tr>\n",
       "      <th>1</th>\n",
       "      <td>8208</td>\n",
       "      <td>0.023795</td>\n",
       "      <td>0.045242</td>\n",
       "      <td>0.150563</td>\n",
       "      <td>0.780400</td>\n",
       "    </tr>\n",
       "    <tr>\n",
       "      <th>2</th>\n",
       "      <td>2785</td>\n",
       "      <td>0.000470</td>\n",
       "      <td>0.006137</td>\n",
       "      <td>0.105553</td>\n",
       "      <td>0.887840</td>\n",
       "    </tr>\n",
       "    <tr>\n",
       "      <th>3</th>\n",
       "      <td>2967</td>\n",
       "      <td>0.372291</td>\n",
       "      <td>0.558102</td>\n",
       "      <td>0.014076</td>\n",
       "      <td>0.055531</td>\n",
       "    </tr>\n",
       "    <tr>\n",
       "      <th>4</th>\n",
       "      <td>1697</td>\n",
       "      <td>0.000148</td>\n",
       "      <td>0.002057</td>\n",
       "      <td>0.119192</td>\n",
       "      <td>0.878603</td>\n",
       "    </tr>\n",
       "  </tbody>\n",
       "</table>\n",
       "</div>"
      ],
      "text/plain": [
       "     ID  no_financial_services  other_only   mm_only   mm_plus\n",
       "0  2352               0.000598    0.002278  0.175987  0.821136\n",
       "1  8208               0.023795    0.045242  0.150563  0.780400\n",
       "2  2785               0.000470    0.006137  0.105553  0.887840\n",
       "3  2967               0.372291    0.558102  0.014076  0.055531\n",
       "4  1697               0.000148    0.002057  0.119192  0.878603"
      ]
     },
     "execution_count": 343,
     "metadata": {},
     "output_type": "execute_result"
    }
   ],
   "source": [
    "#pred  =np.round(pred,3)\n",
    "pred.head()\n"
   ]
  },
  {
   "cell_type": "code",
   "execution_count": 344,
   "metadata": {},
   "outputs": [
    {
     "data": {
      "text/html": [
       "<div>\n",
       "<style scoped>\n",
       "    .dataframe tbody tr th:only-of-type {\n",
       "        vertical-align: middle;\n",
       "    }\n",
       "\n",
       "    .dataframe tbody tr th {\n",
       "        vertical-align: top;\n",
       "    }\n",
       "\n",
       "    .dataframe thead th {\n",
       "        text-align: right;\n",
       "    }\n",
       "</style>\n",
       "<table border=\"1\" class=\"dataframe\">\n",
       "  <thead>\n",
       "    <tr style=\"text-align: right;\">\n",
       "      <th></th>\n",
       "      <th>ID</th>\n",
       "      <th>no_financial_services</th>\n",
       "      <th>other_only</th>\n",
       "      <th>mm_only</th>\n",
       "      <th>mm_plus</th>\n",
       "    </tr>\n",
       "  </thead>\n",
       "  <tbody>\n",
       "    <tr>\n",
       "      <th>0</th>\n",
       "      <td>2352</td>\n",
       "      <td>0.000598</td>\n",
       "      <td>0.002278</td>\n",
       "      <td>0.175987</td>\n",
       "      <td>0.821136</td>\n",
       "    </tr>\n",
       "    <tr>\n",
       "      <th>1</th>\n",
       "      <td>8208</td>\n",
       "      <td>0.023795</td>\n",
       "      <td>0.045242</td>\n",
       "      <td>0.150563</td>\n",
       "      <td>0.780400</td>\n",
       "    </tr>\n",
       "    <tr>\n",
       "      <th>2</th>\n",
       "      <td>2785</td>\n",
       "      <td>0.000470</td>\n",
       "      <td>0.006137</td>\n",
       "      <td>0.105553</td>\n",
       "      <td>0.887840</td>\n",
       "    </tr>\n",
       "    <tr>\n",
       "      <th>3</th>\n",
       "      <td>2967</td>\n",
       "      <td>0.372291</td>\n",
       "      <td>0.558102</td>\n",
       "      <td>0.014076</td>\n",
       "      <td>0.055531</td>\n",
       "    </tr>\n",
       "    <tr>\n",
       "      <th>4</th>\n",
       "      <td>1697</td>\n",
       "      <td>0.000148</td>\n",
       "      <td>0.002057</td>\n",
       "      <td>0.119192</td>\n",
       "      <td>0.878603</td>\n",
       "    </tr>\n",
       "  </tbody>\n",
       "</table>\n",
       "</div>"
      ],
      "text/plain": [
       "     ID  no_financial_services  other_only   mm_only   mm_plus\n",
       "0  2352               0.000598    0.002278  0.175987  0.821136\n",
       "1  8208               0.023795    0.045242  0.150563  0.780400\n",
       "2  2785               0.000470    0.006137  0.105553  0.887840\n",
       "3  2967               0.372291    0.558102  0.014076  0.055531\n",
       "4  1697               0.000148    0.002057  0.119192  0.878603"
      ]
     },
     "execution_count": 344,
     "metadata": {},
     "output_type": "execute_result"
    }
   ],
   "source": [
    "pred.head()"
   ]
  },
  {
   "cell_type": "code",
   "execution_count": 345,
   "metadata": {},
   "outputs": [],
   "source": [
    "pred.to_csv(\"with_countfs2.csv\", index = False)"
   ]
  },
  {
   "cell_type": "code",
   "execution_count": null,
   "metadata": {},
   "outputs": [],
   "source": []
  },
  {
   "cell_type": "code",
   "execution_count": null,
   "metadata": {},
   "outputs": [],
   "source": []
  },
  {
   "cell_type": "code",
   "execution_count": null,
   "metadata": {},
   "outputs": [],
   "source": []
  }
 ],
 "metadata": {
  "kernelspec": {
   "display_name": "Python 3",
   "language": "python",
   "name": "python3"
  },
  "language_info": {
   "codemirror_mode": {
    "name": "ipython",
    "version": 3
   },
   "file_extension": ".py",
   "mimetype": "text/x-python",
   "name": "python",
   "nbconvert_exporter": "python",
   "pygments_lexer": "ipython3",
   "version": "3.7.1"
  }
 },
 "nbformat": 4,
 "nbformat_minor": 2
}
